{
  "nbformat": 4,
  "nbformat_minor": 0,
  "metadata": {
    "colab": {
      "name": "EDA.ipynb",
      "provenance": [],
      "collapsed_sections": [],
      "machine_shape": "hm"
    },
    "kernelspec": {
      "name": "python3",
      "display_name": "Python 3"
    },
    "accelerator": "GPU"
  },
  "cells": [
    {
      "cell_type": "code",
      "metadata": {
        "id": "rRk0ll17v1Vh",
        "outputId": "4592b737-ad3d-4c7a-81d3-a685e5d74283",
        "colab": {
          "base_uri": "https://localhost:8080/",
          "height": 128
        }
      },
      "source": [
        "from google.colab import drive\n",
        "drive.mount('/content/gdrive')"
      ],
      "execution_count": null,
      "outputs": [
        {
          "output_type": "stream",
          "text": [
            "Go to this URL in a browser: https://accounts.google.com/o/oauth2/auth?client_id=947318989803-6bn6qk8qdgf4n4g3pfee6491hc0brc4i.apps.googleusercontent.com&redirect_uri=urn%3Aietf%3Awg%3Aoauth%3A2.0%3Aoob&scope=email%20https%3A%2F%2Fwww.googleapis.com%2Fauth%2Fdocs.test%20https%3A%2F%2Fwww.googleapis.com%2Fauth%2Fdrive%20https%3A%2F%2Fwww.googleapis.com%2Fauth%2Fdrive.photos.readonly%20https%3A%2F%2Fwww.googleapis.com%2Fauth%2Fpeopleapi.readonly&response_type=code\n",
            "\n",
            "Enter your authorization code:\n",
            "··········\n",
            "Mounted at /content/gdrive\n"
          ],
          "name": "stdout"
        }
      ]
    },
    {
      "cell_type": "markdown",
      "metadata": {
        "id": "63rIl1VjQB1V"
      },
      "source": [
        "# I. Text Preprocessing and Exploratory Data Analysis"
      ]
    },
    {
      "cell_type": "code",
      "metadata": {
        "id": "S3efIULnwbVL",
        "outputId": "d303bb8f-24a3-4742-ffe4-e4321392f318",
        "colab": {
          "base_uri": "https://localhost:8080/",
          "height": 195
        }
      },
      "source": [
        "import pandas as pd\n",
        "\n",
        "label_data = pd.read_csv(\"gdrive/Shared drives/FIT5149 A2/labeled_data.csv\")\n",
        "label_data.head()"
      ],
      "execution_count": null,
      "outputs": [
        {
          "output_type": "execute_result",
          "data": {
            "text/html": [
              "<div>\n",
              "<style scoped>\n",
              "    .dataframe tbody tr th:only-of-type {\n",
              "        vertical-align: middle;\n",
              "    }\n",
              "\n",
              "    .dataframe tbody tr th {\n",
              "        vertical-align: top;\n",
              "    }\n",
              "\n",
              "    .dataframe thead th {\n",
              "        text-align: right;\n",
              "    }\n",
              "</style>\n",
              "<table border=\"1\" class=\"dataframe\">\n",
              "  <thead>\n",
              "    <tr style=\"text-align: right;\">\n",
              "      <th></th>\n",
              "      <th>text</th>\n",
              "      <th>label</th>\n",
              "    </tr>\n",
              "  </thead>\n",
              "  <tbody>\n",
              "    <tr>\n",
              "      <th>0</th>\n",
              "      <td>The new rule is - \\r\\nif you are waiting for a...</td>\n",
              "      <td>4</td>\n",
              "    </tr>\n",
              "    <tr>\n",
              "      <th>1</th>\n",
              "      <td>Flirted with giving this two stars, but that's...</td>\n",
              "      <td>3</td>\n",
              "    </tr>\n",
              "    <tr>\n",
              "      <th>2</th>\n",
              "      <td>I was staying at planet Hollywood across the s...</td>\n",
              "      <td>5</td>\n",
              "    </tr>\n",
              "    <tr>\n",
              "      <th>3</th>\n",
              "      <td>Food is good but prices are super expensive.  ...</td>\n",
              "      <td>2</td>\n",
              "    </tr>\n",
              "    <tr>\n",
              "      <th>4</th>\n",
              "      <td>Worse company to deal with they do horrible wo...</td>\n",
              "      <td>1</td>\n",
              "    </tr>\n",
              "  </tbody>\n",
              "</table>\n",
              "</div>"
            ],
            "text/plain": [
              "                                                text  label\n",
              "0  The new rule is - \\r\\nif you are waiting for a...      4\n",
              "1  Flirted with giving this two stars, but that's...      3\n",
              "2  I was staying at planet Hollywood across the s...      5\n",
              "3  Food is good but prices are super expensive.  ...      2\n",
              "4  Worse company to deal with they do horrible wo...      1"
            ]
          },
          "metadata": {
            "tags": []
          },
          "execution_count": 2
        }
      ]
    },
    {
      "cell_type": "code",
      "metadata": {
        "id": "_br7Ubxrwrir",
        "outputId": "a354d661-9855-4b5c-829e-d2014eb0b6ec",
        "colab": {
          "base_uri": "https://localhost:8080/",
          "height": 363
        }
      },
      "source": [
        "# install required packages\n",
        "! pip install contractions\n",
        "! pip install textsearch"
      ],
      "execution_count": null,
      "outputs": [
        {
          "output_type": "stream",
          "text": [
            "Collecting contractions\n",
            "  Downloading https://files.pythonhosted.org/packages/f5/2a/ba0a3812e2a1de2cc4ee0ded0bdb750a7cef1631c13c78a4fc4ab042adec/contractions-0.0.21-py2.py3-none-any.whl\n",
            "Installing collected packages: contractions\n",
            "Successfully installed contractions-0.0.21\n",
            "Collecting textsearch\n",
            "  Downloading https://files.pythonhosted.org/packages/42/a8/03407021f9555043de5492a2bd7a35c56cc03c2510092b5ec018cae1bbf1/textsearch-0.0.17-py2.py3-none-any.whl\n",
            "Collecting Unidecode (from textsearch)\n",
            "\u001b[?25l  Downloading https://files.pythonhosted.org/packages/d0/42/d9edfed04228bacea2d824904cae367ee9efd05e6cce7ceaaedd0b0ad964/Unidecode-1.1.1-py2.py3-none-any.whl (238kB)\n",
            "\u001b[K     |████████████████████████████████| 245kB 4.1MB/s \n",
            "\u001b[?25hCollecting pyahocorasick (from textsearch)\n",
            "\u001b[?25l  Downloading https://files.pythonhosted.org/packages/f4/9f/f0d8e8850e12829eea2e778f1c90e3c53a9a799b7f412082a5d21cd19ae1/pyahocorasick-1.4.0.tar.gz (312kB)\n",
            "\u001b[K     |████████████████████████████████| 317kB 44.4MB/s \n",
            "\u001b[?25hBuilding wheels for collected packages: pyahocorasick\n",
            "  Building wheel for pyahocorasick (setup.py) ... \u001b[?25l\u001b[?25hdone\n",
            "  Created wheel for pyahocorasick: filename=pyahocorasick-1.4.0-cp36-cp36m-linux_x86_64.whl size=81704 sha256=93e4929479e1c13899e339492a377fe6e4a7f689d0b5a148854105c6ac2e7d6b\n",
            "  Stored in directory: /root/.cache/pip/wheels/0a/90/61/87a55f5b459792fbb2b7ba6b31721b06ff5cf6bde541b40994\n",
            "Successfully built pyahocorasick\n",
            "Installing collected packages: Unidecode, pyahocorasick, textsearch\n",
            "Successfully installed Unidecode-1.1.1 pyahocorasick-1.4.0 textsearch-0.0.17\n"
          ],
          "name": "stdout"
        }
      ]
    },
    {
      "cell_type": "code",
      "metadata": {
        "id": "OEfbGZmCwnBT"
      },
      "source": [
        "# imoport library\n",
        "import re, string, unicodedata\n",
        "import nltk\n",
        "import contractions\n",
        "import inflect\n",
        "from nltk import word_tokenize, sent_tokenize\n",
        "from nltk.corpus import stopwords\n",
        "from nltk.stem import LancasterStemmer\n",
        "import numpy as np"
      ],
      "execution_count": null,
      "outputs": []
    },
    {
      "cell_type": "markdown",
      "metadata": {
        "id": "W9KtapvMw46W"
      },
      "source": [
        "## 1. Replace contractions"
      ]
    },
    {
      "cell_type": "code",
      "metadata": {
        "id": "N1_y-RLLw2c8",
        "outputId": "2ea30a74-7a37-4757-d7fa-fcf15ccd5a2e",
        "colab": {
          "base_uri": "https://localhost:8080/",
          "height": 195
        }
      },
      "source": [
        "def replace_contractions(text):\n",
        "    \"\"\"Replace contractions in string of text\"\"\"\n",
        "    return contractions.fix(text)\n",
        "\n",
        "replace_contraction = []\n",
        "\n",
        "for idx,row in label_data.iterrows():\n",
        "  replace_contraction.append(replace_contractions(row['text']))\n",
        "  \n",
        "label_data['new_text'] = replace_contraction\n",
        "label_data.head()"
      ],
      "execution_count": null,
      "outputs": [
        {
          "output_type": "execute_result",
          "data": {
            "text/html": [
              "<div>\n",
              "<style scoped>\n",
              "    .dataframe tbody tr th:only-of-type {\n",
              "        vertical-align: middle;\n",
              "    }\n",
              "\n",
              "    .dataframe tbody tr th {\n",
              "        vertical-align: top;\n",
              "    }\n",
              "\n",
              "    .dataframe thead th {\n",
              "        text-align: right;\n",
              "    }\n",
              "</style>\n",
              "<table border=\"1\" class=\"dataframe\">\n",
              "  <thead>\n",
              "    <tr style=\"text-align: right;\">\n",
              "      <th></th>\n",
              "      <th>text</th>\n",
              "      <th>label</th>\n",
              "      <th>new_text</th>\n",
              "    </tr>\n",
              "  </thead>\n",
              "  <tbody>\n",
              "    <tr>\n",
              "      <th>0</th>\n",
              "      <td>The new rule is - \\r\\nif you are waiting for a...</td>\n",
              "      <td>4</td>\n",
              "      <td>The new rule is - \\r\\nif you are waiting for a...</td>\n",
              "    </tr>\n",
              "    <tr>\n",
              "      <th>1</th>\n",
              "      <td>Flirted with giving this two stars, but that's...</td>\n",
              "      <td>3</td>\n",
              "      <td>Flirted with giving this two stars, but that i...</td>\n",
              "    </tr>\n",
              "    <tr>\n",
              "      <th>2</th>\n",
              "      <td>I was staying at planet Hollywood across the s...</td>\n",
              "      <td>5</td>\n",
              "      <td>I was staying at planet Hollywood across the s...</td>\n",
              "    </tr>\n",
              "    <tr>\n",
              "      <th>3</th>\n",
              "      <td>Food is good but prices are super expensive.  ...</td>\n",
              "      <td>2</td>\n",
              "      <td>Food is good but prices are super expensive.  ...</td>\n",
              "    </tr>\n",
              "    <tr>\n",
              "      <th>4</th>\n",
              "      <td>Worse company to deal with they do horrible wo...</td>\n",
              "      <td>1</td>\n",
              "      <td>Worse company to deal with they do horrible wo...</td>\n",
              "    </tr>\n",
              "  </tbody>\n",
              "</table>\n",
              "</div>"
            ],
            "text/plain": [
              "                                                text  ...                                           new_text\n",
              "0  The new rule is - \\r\\nif you are waiting for a...  ...  The new rule is - \\r\\nif you are waiting for a...\n",
              "1  Flirted with giving this two stars, but that's...  ...  Flirted with giving this two stars, but that i...\n",
              "2  I was staying at planet Hollywood across the s...  ...  I was staying at planet Hollywood across the s...\n",
              "3  Food is good but prices are super expensive.  ...  ...  Food is good but prices are super expensive.  ...\n",
              "4  Worse company to deal with they do horrible wo...  ...  Worse company to deal with they do horrible wo...\n",
              "\n",
              "[5 rows x 3 columns]"
            ]
          },
          "metadata": {
            "tags": []
          },
          "execution_count": 5
        }
      ]
    },
    {
      "cell_type": "markdown",
      "metadata": {
        "id": "DpIt5-8dxOfL"
      },
      "source": [
        "## 2. Lower casing"
      ]
    },
    {
      "cell_type": "code",
      "metadata": {
        "id": "ihlegaupxN1W",
        "outputId": "231e17cc-2e53-4344-e96d-bf071698d357",
        "colab": {
          "base_uri": "https://localhost:8080/",
          "height": 195
        }
      },
      "source": [
        "label_data['new_text'] = label_data['new_text'].str.lower()\n",
        "label_data.head()"
      ],
      "execution_count": null,
      "outputs": [
        {
          "output_type": "execute_result",
          "data": {
            "text/html": [
              "<div>\n",
              "<style scoped>\n",
              "    .dataframe tbody tr th:only-of-type {\n",
              "        vertical-align: middle;\n",
              "    }\n",
              "\n",
              "    .dataframe tbody tr th {\n",
              "        vertical-align: top;\n",
              "    }\n",
              "\n",
              "    .dataframe thead th {\n",
              "        text-align: right;\n",
              "    }\n",
              "</style>\n",
              "<table border=\"1\" class=\"dataframe\">\n",
              "  <thead>\n",
              "    <tr style=\"text-align: right;\">\n",
              "      <th></th>\n",
              "      <th>text</th>\n",
              "      <th>label</th>\n",
              "      <th>new_text</th>\n",
              "    </tr>\n",
              "  </thead>\n",
              "  <tbody>\n",
              "    <tr>\n",
              "      <th>0</th>\n",
              "      <td>The new rule is - \\r\\nif you are waiting for a...</td>\n",
              "      <td>4</td>\n",
              "      <td>the new rule is - \\r\\nif you are waiting for a...</td>\n",
              "    </tr>\n",
              "    <tr>\n",
              "      <th>1</th>\n",
              "      <td>Flirted with giving this two stars, but that's...</td>\n",
              "      <td>3</td>\n",
              "      <td>flirted with giving this two stars, but that i...</td>\n",
              "    </tr>\n",
              "    <tr>\n",
              "      <th>2</th>\n",
              "      <td>I was staying at planet Hollywood across the s...</td>\n",
              "      <td>5</td>\n",
              "      <td>i was staying at planet hollywood across the s...</td>\n",
              "    </tr>\n",
              "    <tr>\n",
              "      <th>3</th>\n",
              "      <td>Food is good but prices are super expensive.  ...</td>\n",
              "      <td>2</td>\n",
              "      <td>food is good but prices are super expensive.  ...</td>\n",
              "    </tr>\n",
              "    <tr>\n",
              "      <th>4</th>\n",
              "      <td>Worse company to deal with they do horrible wo...</td>\n",
              "      <td>1</td>\n",
              "      <td>worse company to deal with they do horrible wo...</td>\n",
              "    </tr>\n",
              "  </tbody>\n",
              "</table>\n",
              "</div>"
            ],
            "text/plain": [
              "                                                text  ...                                           new_text\n",
              "0  The new rule is - \\r\\nif you are waiting for a...  ...  the new rule is - \\r\\nif you are waiting for a...\n",
              "1  Flirted with giving this two stars, but that's...  ...  flirted with giving this two stars, but that i...\n",
              "2  I was staying at planet Hollywood across the s...  ...  i was staying at planet hollywood across the s...\n",
              "3  Food is good but prices are super expensive.  ...  ...  food is good but prices are super expensive.  ...\n",
              "4  Worse company to deal with they do horrible wo...  ...  worse company to deal with they do horrible wo...\n",
              "\n",
              "[5 rows x 3 columns]"
            ]
          },
          "metadata": {
            "tags": []
          },
          "execution_count": 6
        }
      ]
    },
    {
      "cell_type": "markdown",
      "metadata": {
        "id": "MvWcKOZIxgNm"
      },
      "source": [
        "## 3. Tokenization"
      ]
    },
    {
      "cell_type": "code",
      "metadata": {
        "id": "0HKA8oQpxoiu",
        "outputId": "bb596f4e-4d90-4f89-f3d4-08675cafac13",
        "colab": {
          "base_uri": "https://localhost:8080/",
          "height": 67
        }
      },
      "source": [
        "nltk.download('punkt')"
      ],
      "execution_count": null,
      "outputs": [
        {
          "output_type": "stream",
          "text": [
            "[nltk_data] Downloading package punkt to /root/nltk_data...\n",
            "[nltk_data]   Unzipping tokenizers/punkt.zip.\n"
          ],
          "name": "stdout"
        },
        {
          "output_type": "execute_result",
          "data": {
            "text/plain": [
              "True"
            ]
          },
          "metadata": {
            "tags": []
          },
          "execution_count": 7
        }
      ]
    },
    {
      "cell_type": "code",
      "metadata": {
        "id": "Q06YEi1lySwz"
      },
      "source": [
        "# tokenization\n",
        "token = []\n",
        "\n",
        "for idx, row in label_data.iterrows():\n",
        "  token.append(nltk.word_tokenize(row['new_text']))\n",
        "  \n",
        "# remove non alpha numeric tokens\n",
        "for i in range(len(token)):\n",
        "  token[i] = [t for t in token[i] if t.isalnum()]\n",
        "\n",
        "label_data['token'] = token"
      ],
      "execution_count": null,
      "outputs": []
    },
    {
      "cell_type": "code",
      "metadata": {
        "id": "9U1-yqiFzvEf",
        "outputId": "62362788-5c1d-49e3-db8e-b6915b5d6540",
        "colab": {
          "base_uri": "https://localhost:8080/",
          "height": 195
        }
      },
      "source": [
        "label_data.head()"
      ],
      "execution_count": null,
      "outputs": [
        {
          "output_type": "execute_result",
          "data": {
            "text/html": [
              "<div>\n",
              "<style scoped>\n",
              "    .dataframe tbody tr th:only-of-type {\n",
              "        vertical-align: middle;\n",
              "    }\n",
              "\n",
              "    .dataframe tbody tr th {\n",
              "        vertical-align: top;\n",
              "    }\n",
              "\n",
              "    .dataframe thead th {\n",
              "        text-align: right;\n",
              "    }\n",
              "</style>\n",
              "<table border=\"1\" class=\"dataframe\">\n",
              "  <thead>\n",
              "    <tr style=\"text-align: right;\">\n",
              "      <th></th>\n",
              "      <th>text</th>\n",
              "      <th>label</th>\n",
              "      <th>new_text</th>\n",
              "      <th>token</th>\n",
              "    </tr>\n",
              "  </thead>\n",
              "  <tbody>\n",
              "    <tr>\n",
              "      <th>0</th>\n",
              "      <td>The new rule is - \\r\\nif you are waiting for a...</td>\n",
              "      <td>4</td>\n",
              "      <td>the new rule is - \\r\\nif you are waiting for a...</td>\n",
              "      <td>[the, new, rule, is, if, you, are, waiting, fo...</td>\n",
              "    </tr>\n",
              "    <tr>\n",
              "      <th>1</th>\n",
              "      <td>Flirted with giving this two stars, but that's...</td>\n",
              "      <td>3</td>\n",
              "      <td>flirted with giving this two stars, but that i...</td>\n",
              "      <td>[flirted, with, giving, this, two, stars, but,...</td>\n",
              "    </tr>\n",
              "    <tr>\n",
              "      <th>2</th>\n",
              "      <td>I was staying at planet Hollywood across the s...</td>\n",
              "      <td>5</td>\n",
              "      <td>i was staying at planet hollywood across the s...</td>\n",
              "      <td>[i, was, staying, at, planet, hollywood, acros...</td>\n",
              "    </tr>\n",
              "    <tr>\n",
              "      <th>3</th>\n",
              "      <td>Food is good but prices are super expensive.  ...</td>\n",
              "      <td>2</td>\n",
              "      <td>food is good but prices are super expensive.  ...</td>\n",
              "      <td>[food, is, good, but, prices, are, super, expe...</td>\n",
              "    </tr>\n",
              "    <tr>\n",
              "      <th>4</th>\n",
              "      <td>Worse company to deal with they do horrible wo...</td>\n",
              "      <td>1</td>\n",
              "      <td>worse company to deal with they do horrible wo...</td>\n",
              "      <td>[worse, company, to, deal, with, they, do, hor...</td>\n",
              "    </tr>\n",
              "  </tbody>\n",
              "</table>\n",
              "</div>"
            ],
            "text/plain": [
              "                                                text  ...                                              token\n",
              "0  The new rule is - \\r\\nif you are waiting for a...  ...  [the, new, rule, is, if, you, are, waiting, fo...\n",
              "1  Flirted with giving this two stars, but that's...  ...  [flirted, with, giving, this, two, stars, but,...\n",
              "2  I was staying at planet Hollywood across the s...  ...  [i, was, staying, at, planet, hollywood, acros...\n",
              "3  Food is good but prices are super expensive.  ...  ...  [food, is, good, but, prices, are, super, expe...\n",
              "4  Worse company to deal with they do horrible wo...  ...  [worse, company, to, deal, with, they, do, hor...\n",
              "\n",
              "[5 rows x 4 columns]"
            ]
          },
          "metadata": {
            "tags": []
          },
          "execution_count": 10
        }
      ]
    },
    {
      "cell_type": "markdown",
      "metadata": {
        "id": "l2hRO0d08lpD"
      },
      "source": [
        "## 4. Exploratory data analysis\n",
        "### Class distribution"
      ]
    },
    {
      "cell_type": "code",
      "metadata": {
        "id": "cVnBYNwRwg5D",
        "outputId": "3d008252-5598-42bb-99eb-562071eb635d",
        "colab": {
          "base_uri": "https://localhost:8080/",
          "height": 286
        }
      },
      "source": [
        "# distribution of label\n",
        "label_data['label'].hist()"
      ],
      "execution_count": null,
      "outputs": [
        {
          "output_type": "execute_result",
          "data": {
            "text/plain": [
              "<matplotlib.axes._subplots.AxesSubplot at 0x7f01775191d0>"
            ]
          },
          "metadata": {
            "tags": []
          },
          "execution_count": 12
        },
        {
          "output_type": "display_data",
          "data": {
            "image/png": "[encoded data removed]",
            "text/plain": [
              "<Figure size 432x288 with 1 Axes>"
            ]
          },
          "metadata": {
            "tags": []
          }
        }
      ]
    },
    {
      "cell_type": "markdown",
      "metadata": {
        "id": "vOMSosLK835A"
      },
      "source": [
        "There are 50,000 documents and the classes are balanced."
      ]
    },
    {
      "cell_type": "markdown",
      "metadata": {
        "id": "HAieKlnKCMz2"
      },
      "source": [
        "### Number of tokens for each class"
      ]
    },
    {
      "cell_type": "code",
      "metadata": {
        "id": "C_fYKCS38njk"
      },
      "source": [
        "len_list = []\n",
        "\n",
        "for idx, row in label_data.iterrows():\n",
        "  len_list.append(len(row['token']))\n",
        "\n",
        "label_data['token_length'] = len_list"
      ],
      "execution_count": null,
      "outputs": []
    },
    {
      "cell_type": "code",
      "metadata": {
        "id": "yhZVlq8qEvNn",
        "outputId": "0a43dfff-a732-4767-b4da-0ca20eae6dcb",
        "colab": {
          "base_uri": "https://localhost:8080/",
          "height": 195
        }
      },
      "source": [
        "label_data.head()"
      ],
      "execution_count": null,
      "outputs": [
        {
          "output_type": "execute_result",
          "data": {
            "text/html": [
              "<div>\n",
              "<style scoped>\n",
              "    .dataframe tbody tr th:only-of-type {\n",
              "        vertical-align: middle;\n",
              "    }\n",
              "\n",
              "    .dataframe tbody tr th {\n",
              "        vertical-align: top;\n",
              "    }\n",
              "\n",
              "    .dataframe thead th {\n",
              "        text-align: right;\n",
              "    }\n",
              "</style>\n",
              "<table border=\"1\" class=\"dataframe\">\n",
              "  <thead>\n",
              "    <tr style=\"text-align: right;\">\n",
              "      <th></th>\n",
              "      <th>text</th>\n",
              "      <th>label</th>\n",
              "      <th>new_text</th>\n",
              "      <th>token</th>\n",
              "      <th>token_length</th>\n",
              "    </tr>\n",
              "  </thead>\n",
              "  <tbody>\n",
              "    <tr>\n",
              "      <th>0</th>\n",
              "      <td>The new rule is - \\r\\nif you are waiting for a...</td>\n",
              "      <td>4</td>\n",
              "      <td>the new rule is - \\r\\nif you are waiting for a...</td>\n",
              "      <td>[the, new, rule, is, if, you, are, waiting, fo...</td>\n",
              "      <td>108</td>\n",
              "    </tr>\n",
              "    <tr>\n",
              "      <th>1</th>\n",
              "      <td>Flirted with giving this two stars, but that's...</td>\n",
              "      <td>3</td>\n",
              "      <td>flirted with giving this two stars, but that i...</td>\n",
              "      <td>[flirted, with, giving, this, two, stars, but,...</td>\n",
              "      <td>205</td>\n",
              "    </tr>\n",
              "    <tr>\n",
              "      <th>2</th>\n",
              "      <td>I was staying at planet Hollywood across the s...</td>\n",
              "      <td>5</td>\n",
              "      <td>i was staying at planet hollywood across the s...</td>\n",
              "      <td>[i, was, staying, at, planet, hollywood, acros...</td>\n",
              "      <td>110</td>\n",
              "    </tr>\n",
              "    <tr>\n",
              "      <th>3</th>\n",
              "      <td>Food is good but prices are super expensive.  ...</td>\n",
              "      <td>2</td>\n",
              "      <td>food is good but prices are super expensive.  ...</td>\n",
              "      <td>[food, is, good, but, prices, are, super, expe...</td>\n",
              "      <td>138</td>\n",
              "    </tr>\n",
              "    <tr>\n",
              "      <th>4</th>\n",
              "      <td>Worse company to deal with they do horrible wo...</td>\n",
              "      <td>1</td>\n",
              "      <td>worse company to deal with they do horrible wo...</td>\n",
              "      <td>[worse, company, to, deal, with, they, do, hor...</td>\n",
              "      <td>129</td>\n",
              "    </tr>\n",
              "  </tbody>\n",
              "</table>\n",
              "</div>"
            ],
            "text/plain": [
              "                                                text  ...  token_length\n",
              "0  The new rule is - \\r\\nif you are waiting for a...  ...           108\n",
              "1  Flirted with giving this two stars, but that's...  ...           205\n",
              "2  I was staying at planet Hollywood across the s...  ...           110\n",
              "3  Food is good but prices are super expensive.  ...  ...           138\n",
              "4  Worse company to deal with they do horrible wo...  ...           129\n",
              "\n",
              "[5 rows x 5 columns]"
            ]
          },
          "metadata": {
            "tags": []
          },
          "execution_count": 14
        }
      ]
    },
    {
      "cell_type": "code",
      "metadata": {
        "id": "MgxIpzQOfKh6",
        "outputId": "3530fc5b-e5e0-4596-bb2a-b0de34bb48bb",
        "colab": {
          "base_uri": "https://localhost:8080/",
          "height": 124
        }
      },
      "source": [
        "# entry with most tokens\n",
        "label_data[label_data['token_length'] == max(label_data['token_length'])].values"
      ],
      "execution_count": null,
      "outputs": [
        {
          "output_type": "execute_result",
          "data": {
            "text/plain": [
              "array([['I\\'m 16 weeks along and I\\'ve been seen at this location : 8285 W Arby Ave, Ste 280, Las Vegas, NV 89113 since the beginning of my OB treatment for my 2nd pregnancy. For those who are or were military it runs the same. You see a different Doctor each visit which I\\'m not a fan of because every visit it seems like I have to repeat my self and I always get the \"oh I didn\\'t see it in your chart\". I was told I had to do a Pap smear when I told the Dr I already did one during my 2nd visit. I also wanted to know the results of the Down syndrome test but the Dr or any of the staff failed to inform me it was a 2 part test. Meaning I did the 1st blood draw but I wasn\\'t told I had to do a 2nd. \\r\\n\\r\\nIt was the Dr who I saw today when I asked her about the results said \"oh, no one told you it\\'s a two part test?\" She said you can have that done today. It\\'s fine I was there for my appointment today anyways so I went to the lady who you set appointments with because that\\'s who the dr directed me to which is a girl who looks about 18 or 19 years old who sits behind the desk either on her phone which you can see her  trying to hide under her desk or trying to eat which you can see her hiding it under her desk. She sits behind the counter on your right before you head back into the lobby area. I told her the Dr told me to come to you to let you know I need to get my 2nd blood work done for Down syndrome today. She gets in the computer completely ignores what I say and goes straight into \"what time in 4 weeks do you want to come in for your next appointment?\" In my mind I\\'m still thinking of my appointment today. What about the blood work? She goes on saying let me take care of this first. It seems like everyone but the front receptionist and the doctors are rude. So I finish telling the young girl 10:30 am is fine. She gives me a card with the date and time for my next appointment. So I stand there waiting to tell me something about my blood draw for today since the doctor directed me to her. So about 5 minutes standing there looking like an idiot she finally says please wait outside in the lobby the lab technician will call you when it\\'s your turn. The office wasn\\'t even busy. 2 people got called by the lab tech who did my blood draw the 1st time. I\\'m patiently waiting thinking yes I\\'m next since we\\'re the only one left in the lobby.. Almost about an hour goes by still no one comes to call my name. There\\'s no receptionist behind the desk. I literally felt like it was an empty office. I get up to check by the front desk and there was a receptionist but it was a guy hiding to the far left behind the wall so its hard to see him from the waiting area. He was just sitting in the chair just there staring at the wall. It wasn\\'t the normal nice lady that sits right by the computer where you can see her from the lobby. As I look to my  right I see the girl who told me to have a seat and a lab technician will give me a call still sitting in her chair on her phone eating a banana. The guy gets up and says how can I help you. I told him I been waiting on a lab technician. He replies \"let me check on what\\'s going on\" he doesn\\'t come back out but I hear him talking to the \"lab technician who did my blood draw the first time. He told her he didn\\'t want tell me what she said. The lab technician is the one to come back out and says so rudely \"I\\'m about to leave for lunch and the others are on their lunch break.\" Just stands there. I\\'m the only patient left who\\'s been waiting in the lobby area. A patient who waited an hour even though I had an appointment at 10:30 am but I wasn\\'t told until 12:30 pm by the lab technician oh I\\'m sorry mam but I\\'m about to leave for lunch and everyone else is on their lunch. \\r\\n\\r\\n1. I\\'m a paying customer. I just paid my monthly premium of $193.00 today before I was even seen by the Dr. Which normally you pay after any Dr. visit. \\r\\n2. Before any sort of business have their employee go out for lunch I think they should make sure there\\'s no one in the lobby area and if there is announce that anyone who\\'s waiting for a lab tech support we will be on lunch break so please come back or wait patiently. I could of left to feed my daughter too. Because my daughter was hungry and so was I. That would of been the descent thing to do. Again we were the only people in the lobby for a good hour waiting. What were they doing for that hour? How about don\\'t schedule people around your lunch hour. \\r\\n3. My friend is a week behind me and she goes to another OBGYN facility. She says her appointments only take 45 minutes the most and that\\'s with the dr and everything that needs to be done. Lol mine supposedly was scheduled at 10:30 am I didn\\'t get seen until 11:15 am and it was only a 2 minute weight and blood pressure then a 5 minute chat with the Dr. Who kept talking but didn\\'t give me a chance to ask any questions of my own. She checked the heart beat then that was it. Didn\\'t even comment if it was a good heart beat. Took 3 hours total.',\n",
              "        2,\n",
              "        'i am 16 weeks along and i have been seen at this location : 8285 w arby ave, ste 280, las vegas, nv 89113 since the beginning of my ob treatment for my 2nd pregnancy. for those who are or were military it runs the same. you see a different doctor each visit which i am not a fan of because every visit it seems like i have to repeat my self and i always get the \"oh i did not see it in your chart\". i was told i had to do a pap smear when i told the dr i already did one during my 2nd visit. i also wanted to know the results of the down syndrome test but the dr or any of the staff failed to inform me it was a 2 part test. meaning i did the 1st blood draw but i was not told i had to do a 2nd. \\r\\n\\r\\nit was the dr who i saw today when i asked her about the results said \"oh, no one told you it is a two part test?\" she said you can have that done today. it is fine i was there for my appointment today anyways so i went to the lady who you set appointments with because that is who the dr directed me to which is a girl who looks about 18 or 19 years old who sits behind the desk either on her phone which you can see her  trying to hide under her desk or trying to eat which you can see her hiding it under her desk. she sits behind the counter on your right before you head back into the lobby area. i told her the dr told me to come to you to let you know i need to get my 2nd blood work done for down syndrome today. she gets in the computer completely ignores what i say and goes straight into \"what time in 4 weeks do you want to come in for your next appointment?\" in my mind i am still thinking of my appointment today. what about the blood work? she goes on saying let me take care of this first. it seems like everyone but the front receptionist and the doctors are rude. so i finish telling the young girl 10:30 am is fine. she gives me a card with the date and time for my next appointment. so i stand there waiting to tell me something about my blood draw for today since the doctor directed me to her. so about 5 minutes standing there looking like an idiot she finally says please wait outside in the lobby the lab technician will call you when it is your turn. the office was not even busy. 2 people got called by the lab tech who did my blood draw the 1st time. i am patiently waiting thinking yes i am next since we are the only one left in the lobby.. almost about an hour goes by still no one comes to call my name. there is no receptionist behind the desk. i literally felt like it was an empty office. i get up to check by the front desk and there was a receptionist but it was a guy hiding to the far left behind the wall so its hard to see him from the waiting area. he was just sitting in the chair just there staring at the wall. it was not the normal nice lady that sits right by the computer where you can see her from the lobby. as i look to my  right i see the girl who told me to have a seat and a lab technician will give me a call still sitting in her chair on her phone eating a banana. the guy gets up and says how can i help you. i told him i been waiting on a lab technician. he replies \"let me check on what is going on\" he does not come back out but i hear him talking to the \"lab technician who did my blood draw the first time. he told her he did not want tell me what she said. the lab technician is the one to come back out and says so rudely \"i am about to leave for lunch and the others are on their lunch break.\" just stands there. i am the only patient left who is been waiting in the lobby area. a patient who waited an hour even though i had an appointment at 10:30 am but i was not told until 12:30 pm by the lab technician oh i am sorry mam but i am about to leave for lunch and everyone else is on their lunch. \\r\\n\\r\\n1. i am a paying customer. i just paid my monthly premium of $193.00 today before i was even seen by the dr. which normally you pay after any dr. visit. \\r\\n2. before any sort of business have their employee go out for lunch i think they should make sure there is no one in the lobby area and if there is announce that anyone who is waiting for a lab tech support we will be on lunch break so please come back or wait patiently. i could of left to feed my daughter too. because my daughter was hungry and so was i. that would of been the descent thing to do. again we were the only people in the lobby for a good hour waiting. what were they doing for that hour? how about do not schedule people around your lunch hour. \\r\\n3. my friend is a week behind me and she goes to another obgyn facility. she says her appointments only take 45 minutes the most and that is with the dr and everything that needs to be done. lol mine supposedly was scheduled at 10:30 am i did not get seen until 11:15 am and it was only a 2 minute weight and blood pressure then a 5 minute chat with the dr. who kept talking but did not give me a chance to ask any questions of my own. she checked the heart beat then that was it. did not even comment if it was a good heart beat. took 3 hours total.',\n",
              "        list(['i', 'am', '16', 'weeks', 'along', 'and', 'i', 'have', 'been', 'seen', 'at', 'this', 'location', '8285', 'w', 'arby', 'ave', 'ste', '280', 'las', 'vegas', 'nv', '89113', 'since', 'the', 'beginning', 'of', 'my', 'ob', 'treatment', 'for', 'my', '2nd', 'pregnancy', 'for', 'those', 'who', 'are', 'or', 'were', 'military', 'it', 'runs', 'the', 'same', 'you', 'see', 'a', 'different', 'doctor', 'each', 'visit', 'which', 'i', 'am', 'not', 'a', 'fan', 'of', 'because', 'every', 'visit', 'it', 'seems', 'like', 'i', 'have', 'to', 'repeat', 'my', 'self', 'and', 'i', 'always', 'get', 'the', 'oh', 'i', 'did', 'not', 'see', 'it', 'in', 'your', 'chart', 'i', 'was', 'told', 'i', 'had', 'to', 'do', 'a', 'pap', 'smear', 'when', 'i', 'told', 'the', 'dr', 'i', 'already', 'did', 'one', 'during', 'my', '2nd', 'visit', 'i', 'also', 'wanted', 'to', 'know', 'the', 'results', 'of', 'the', 'down', 'syndrome', 'test', 'but', 'the', 'dr', 'or', 'any', 'of', 'the', 'staff', 'failed', 'to', 'inform', 'me', 'it', 'was', 'a', '2', 'part', 'test', 'meaning', 'i', 'did', 'the', '1st', 'blood', 'draw', 'but', 'i', 'was', 'not', 'told', 'i', 'had', 'to', 'do', 'a', '2nd', 'it', 'was', 'the', 'dr', 'who', 'i', 'saw', 'today', 'when', 'i', 'asked', 'her', 'about', 'the', 'results', 'said', 'oh', 'no', 'one', 'told', 'you', 'it', 'is', 'a', 'two', 'part', 'test', 'she', 'said', 'you', 'can', 'have', 'that', 'done', 'today', 'it', 'is', 'fine', 'i', 'was', 'there', 'for', 'my', 'appointment', 'today', 'anyways', 'so', 'i', 'went', 'to', 'the', 'lady', 'who', 'you', 'set', 'appointments', 'with', 'because', 'that', 'is', 'who', 'the', 'dr', 'directed', 'me', 'to', 'which', 'is', 'a', 'girl', 'who', 'looks', 'about', '18', 'or', '19', 'years', 'old', 'who', 'sits', 'behind', 'the', 'desk', 'either', 'on', 'her', 'phone', 'which', 'you', 'can', 'see', 'her', 'trying', 'to', 'hide', 'under', 'her', 'desk', 'or', 'trying', 'to', 'eat', 'which', 'you', 'can', 'see', 'her', 'hiding', 'it', 'under', 'her', 'desk', 'she', 'sits', 'behind', 'the', 'counter', 'on', 'your', 'right', 'before', 'you', 'head', 'back', 'into', 'the', 'lobby', 'area', 'i', 'told', 'her', 'the', 'dr', 'told', 'me', 'to', 'come', 'to', 'you', 'to', 'let', 'you', 'know', 'i', 'need', 'to', 'get', 'my', '2nd', 'blood', 'work', 'done', 'for', 'down', 'syndrome', 'today', 'she', 'gets', 'in', 'the', 'computer', 'completely', 'ignores', 'what', 'i', 'say', 'and', 'goes', 'straight', 'into', 'what', 'time', 'in', '4', 'weeks', 'do', 'you', 'want', 'to', 'come', 'in', 'for', 'your', 'next', 'appointment', 'in', 'my', 'mind', 'i', 'am', 'still', 'thinking', 'of', 'my', 'appointment', 'today', 'what', 'about', 'the', 'blood', 'work', 'she', 'goes', 'on', 'saying', 'let', 'me', 'take', 'care', 'of', 'this', 'first', 'it', 'seems', 'like', 'everyone', 'but', 'the', 'front', 'receptionist', 'and', 'the', 'doctors', 'are', 'rude', 'so', 'i', 'finish', 'telling', 'the', 'young', 'girl', 'am', 'is', 'fine', 'she', 'gives', 'me', 'a', 'card', 'with', 'the', 'date', 'and', 'time', 'for', 'my', 'next', 'appointment', 'so', 'i', 'stand', 'there', 'waiting', 'to', 'tell', 'me', 'something', 'about', 'my', 'blood', 'draw', 'for', 'today', 'since', 'the', 'doctor', 'directed', 'me', 'to', 'her', 'so', 'about', '5', 'minutes', 'standing', 'there', 'looking', 'like', 'an', 'idiot', 'she', 'finally', 'says', 'please', 'wait', 'outside', 'in', 'the', 'lobby', 'the', 'lab', 'technician', 'will', 'call', 'you', 'when', 'it', 'is', 'your', 'turn', 'the', 'office', 'was', 'not', 'even', 'busy', '2', 'people', 'got', 'called', 'by', 'the', 'lab', 'tech', 'who', 'did', 'my', 'blood', 'draw', 'the', '1st', 'time', 'i', 'am', 'patiently', 'waiting', 'thinking', 'yes', 'i', 'am', 'next', 'since', 'we', 'are', 'the', 'only', 'one', 'left', 'in', 'the', 'almost', 'about', 'an', 'hour', 'goes', 'by', 'still', 'no', 'one', 'comes', 'to', 'call', 'my', 'name', 'there', 'is', 'no', 'receptionist', 'behind', 'the', 'desk', 'i', 'literally', 'felt', 'like', 'it', 'was', 'an', 'empty', 'office', 'i', 'get', 'up', 'to', 'check', 'by', 'the', 'front', 'desk', 'and', 'there', 'was', 'a', 'receptionist', 'but', 'it', 'was', 'a', 'guy', 'hiding', 'to', 'the', 'far', 'left', 'behind', 'the', 'wall', 'so', 'its', 'hard', 'to', 'see', 'him', 'from', 'the', 'waiting', 'area', 'he', 'was', 'just', 'sitting', 'in', 'the', 'chair', 'just', 'there', 'staring', 'at', 'the', 'wall', 'it', 'was', 'not', 'the', 'normal', 'nice', 'lady', 'that', 'sits', 'right', 'by', 'the', 'computer', 'where', 'you', 'can', 'see', 'her', 'from', 'the', 'lobby', 'as', 'i', 'look', 'to', 'my', 'right', 'i', 'see', 'the', 'girl', 'who', 'told', 'me', 'to', 'have', 'a', 'seat', 'and', 'a', 'lab', 'technician', 'will', 'give', 'me', 'a', 'call', 'still', 'sitting', 'in', 'her', 'chair', 'on', 'her', 'phone', 'eating', 'a', 'banana', 'the', 'guy', 'gets', 'up', 'and', 'says', 'how', 'can', 'i', 'help', 'you', 'i', 'told', 'him', 'i', 'been', 'waiting', 'on', 'a', 'lab', 'technician', 'he', 'replies', 'let', 'me', 'check', 'on', 'what', 'is', 'going', 'on', 'he', 'does', 'not', 'come', 'back', 'out', 'but', 'i', 'hear', 'him', 'talking', 'to', 'the', 'lab', 'technician', 'who', 'did', 'my', 'blood', 'draw', 'the', 'first', 'time', 'he', 'told', 'her', 'he', 'did', 'not', 'want', 'tell', 'me', 'what', 'she', 'said', 'the', 'lab', 'technician', 'is', 'the', 'one', 'to', 'come', 'back', 'out', 'and', 'says', 'so', 'rudely', 'i', 'am', 'about', 'to', 'leave', 'for', 'lunch', 'and', 'the', 'others', 'are', 'on', 'their', 'lunch', 'break', 'just', 'stands', 'there', 'i', 'am', 'the', 'only', 'patient', 'left', 'who', 'is', 'been', 'waiting', 'in', 'the', 'lobby', 'area', 'a', 'patient', 'who', 'waited', 'an', 'hour', 'even', 'though', 'i', 'had', 'an', 'appointment', 'at', 'am', 'but', 'i', 'was', 'not', 'told', 'until', 'pm', 'by', 'the', 'lab', 'technician', 'oh', 'i', 'am', 'sorry', 'mam', 'but', 'i', 'am', 'about', 'to', 'leave', 'for', 'lunch', 'and', 'everyone', 'else', 'is', 'on', 'their', 'lunch', 'i', 'am', 'a', 'paying', 'customer', 'i', 'just', 'paid', 'my', 'monthly', 'premium', 'of', 'today', 'before', 'i', 'was', 'even', 'seen', 'by', 'the', 'which', 'normally', 'you', 'pay', 'after', 'any', 'visit', 'before', 'any', 'sort', 'of', 'business', 'have', 'their', 'employee', 'go', 'out', 'for', 'lunch', 'i', 'think', 'they', 'should', 'make', 'sure', 'there', 'is', 'no', 'one', 'in', 'the', 'lobby', 'area', 'and', 'if', 'there', 'is', 'announce', 'that', 'anyone', 'who', 'is', 'waiting', 'for', 'a', 'lab', 'tech', 'support', 'we', 'will', 'be', 'on', 'lunch', 'break', 'so', 'please', 'come', 'back', 'or', 'wait', 'patiently', 'i', 'could', 'of', 'left', 'to', 'feed', 'my', 'daughter', 'too', 'because', 'my', 'daughter', 'was', 'hungry', 'and', 'so', 'was', 'that', 'would', 'of', 'been', 'the', 'descent', 'thing', 'to', 'do', 'again', 'we', 'were', 'the', 'only', 'people', 'in', 'the', 'lobby', 'for', 'a', 'good', 'hour', 'waiting', 'what', 'were', 'they', 'doing', 'for', 'that', 'hour', 'how', 'about', 'do', 'not', 'schedule', 'people', 'around', 'your', 'lunch', 'hour', 'my', 'friend', 'is', 'a', 'week', 'behind', 'me', 'and', 'she', 'goes', 'to', 'another', 'obgyn', 'facility', 'she', 'says', 'her', 'appointments', 'only', 'take', '45', 'minutes', 'the', 'most', 'and', 'that', 'is', 'with', 'the', 'dr', 'and', 'everything', 'that', 'needs', 'to', 'be', 'done', 'lol', 'mine', 'supposedly', 'was', 'scheduled', 'at', 'am', 'i', 'did', 'not', 'get', 'seen', 'until', 'am', 'and', 'it', 'was', 'only', 'a', '2', 'minute', 'weight', 'and', 'blood', 'pressure', 'then', 'a', '5', 'minute', 'chat', 'with', 'the', 'who', 'kept', 'talking', 'but', 'did', 'not', 'give', 'me', 'a', 'chance', 'to', 'ask', 'any', 'questions', 'of', 'my', 'own', 'she', 'checked', 'the', 'heart', 'beat', 'then', 'that', 'was', 'it', 'did', 'not', 'even', 'comment', 'if', 'it', 'was', 'a', 'good', 'heart', 'beat', 'took', '3', 'hours', 'total']),\n",
              "        1040]], dtype=object)"
            ]
          },
          "metadata": {
            "tags": []
          },
          "execution_count": 15
        }
      ]
    },
    {
      "cell_type": "code",
      "metadata": {
        "id": "RZ-M9KHVft9U",
        "outputId": "8988391b-2a36-4103-b922-d0d8b0659d01",
        "colab": {
          "base_uri": "https://localhost:8080/",
          "height": 712
        }
      },
      "source": [
        "# entry with little tokens\n",
        "for idx, row in label_data.iterrows():\n",
        "  if row['token_length'] <3:\n",
        "    print(idx, row['text'], row['label'])\n"
      ],
      "execution_count": null,
      "outputs": [
        {
          "output_type": "stream",
          "text": [
            "1491 ...... 1\n",
            "4323 ï¼ãæåãã¾ããï¼å¤§å¥½ãã§ãã\n",
            "ï¼ãç¾å³ããï¼æ²¢å±±ã®äººã«ç´¹ä»ãããï¼\n",
            "ï¼ãã¢ãã¬ã¼ã¸ï¼\n",
            "ï¼ãç§ã®å¥½ã¿ã§ã¯ããã¾ããã§ãããã§ãã¾ããã¤ããã£ã¬ã³ã¸ãã¦ãããããªããã\n",
            "ï¼ãããäºåº¦ã¨ä¼ºããã¨ã¯ããã¾ããã\n",
            "\n",
            "ãã¼ã«ã®ç¨®é¡ãè±å¯ï¼\n",
            "ä½ãããããªã®ãããã¼ã«ã°ã©ã¹ããã¤ãç¶ºéºã«æ´æµããã¦ãããã¨ï¼\n",
            "\n",
            "ãã­ã³ãã§ã¯ãããã§ãã¼ã«ãé£²ãã®ã1çªå¥½ãããã 3\n",
            "12644 éè »å¥½åçï¼åªæ¯é¸è¾£æ¹¯åºæå¯ä»¥å¤ä¸é»ãå°é¾æ¹¯åå¾åçªé¦éï¼å¾æåµæãå°é¾æ¹¯åçªé¦éçåºç¤éæï¼1çååå°å°çè¿èçè¶ï¼é¸è¾£æ¹¯é¸é¸è¾£è¾£çä¹æä¸é»é»çå¾å¥½åãåçåä¹å¾å¥½åï¼å¤ªæ£äºï¼ 4\n",
            "16884 #NAME? 1\n",
            "19821 #NAME? 2\n",
            "26397 ä¹ãã¶ãã«å£ã«åããªãï¼\n",
            "ã¹ã¢ã¼ã«ãã¼ã·ã§ã³ã®ã³ã¼ã¹ããªã¼ãã¼ãã¾ããã\n",
            "åãï¼\n",
            "ã¡ãã¥ã¼ã®ã»ã¨ãã©ã®ç¨®é¡ã®æçãåºã¦ãã¾ãã\n",
            "ããã¯ãå¾ã§ãï¼\n",
            "å¨é¨ã§20ç¨®é¡ãè¶ãããï¼\n",
            "ãã®å¨ã¦ãå£ã«åããªãã¨è¨ãå¿«æï¼\n",
            "ç´ æ´ãããï¼\n",
            "é¢ç½ãï¼\n",
            "è©±é¡ã¨ãã¦ã¯æé«ã«ãªãã¨æãï¼ 2\n",
            "28964 åå§ååççè¶é£²åºéå°ç¦»å£«åå ¡ãä½äºmidland and finchçééååãç¯å¢èµ°çç¾å°èµé£ï¼è±å¢ãLINE FRIENDSçBROWNå°çå¤§å¬ä»ï¼ç»å¯¹æ¯æç§ç­ç¹ãåºåæ¹é¢ï¼æ°´æè¶çè¶ä½æ·¡äºå°å°ï¼æ°´æåç§æè¥¿çãæ©ãç¾é¦æãå£«å¤å¤æ¢¨ãä»·é±ä¸­ä¸ï¼æ¬§åè¿æ²¡è¯ï¼å ä¸ºåç±»åºçæ¶é´æ¯å¤©é½ä¸åï¼æä»¥éæ©æç¹åä¸ 4\n",
            "29785 ;)) 2\n",
            "33834 #NAME? 3\n",
            "35716 Valu-Martç³»PCéå¢æä¸çè¶å¸ä¹ä¸ï¼ä¸ªäººè§å¾å¥½ä¼¼ä»ä¹äºloblawsåno frillsä¹é´çï¼ååºç¸å¯¹ç¦»è®²åç®å¤ãå¢é´ä½äºbayviewå¤¹cummerçä¸åè§ãç¯å¢æ´æ´ï¼äººä¹åå¤ï¼åç§oké½å¨ï¼ä½åäººé£åç±»å°±åå¤ªå¤ãå¦ææ¯PC Clubä¼åçè¯ç¦»ä¹°èè´­ç©å°±å¯ä»¥åºç¤ºä¼åå¡å¨ç§¯å 3\n",
            "35906 å¨ææ6çdinnerï¼ä¸è¥¿å¾å¤ï¼éå¸¸çå¤éæ©ï¼è¿æç¾èï¼å¤ªå«äººæå¤äºï¼èä¸è·¨äºå¾å¤çèç³»ï¼\n",
            "\n",
            "è¿éçè¹è¿æ¯æå¨lvåè¿ä¸­æå¥½çï¼è¥èçèï¼è¶çº§æ æå¥½åï¼No.1ï¼å¤æ±ï¼å¾Qãpai thaiï¼ä¹å¾æå³éï¼\n",
            "\n",
            "sushi é£tnndå®å¨æ¯ä¸ä¸ªæ¸£ï¼ççé£çå­ï¼ä¸ä¸ä¸¤ç§é¢è²ï¼å¾ä¸å¹²åï¼èèµ·é£æ ·çæçéå¸¸å¼ºçä¸ä¸ä¸ï¼å¸åä»¬åsushiçææ¯ä¹æ¯éå¸¸çä¸çæ³ï¼é£é±¼åä»ä¹çï¼ç²ç²çï¼å£æä¸Qåï¼æ3ç§é±¼å­é±ï¼å¯æ¯é£ä¸ªå¥³çæåº¦æç¹é®é¢ï¼å¥½åéå¸¸çä¸ææ¿ï¼æ¿äºä¸æ¬¡å°±æ²¡æå»äºã\n",
            "\n",
            "æ°´ææ¯å«æéå¸¸çæ°çï¼æä»¥æç»äº2æãå¸åå¨è¡¥è´§çæ¶åæ²¡æå»æ¢çï¼é£çå­ççå°±æ¶å¿ï¼\n",
            "\n",
            "æ¾å¤¹å­çé£ä¸ªçå­ççéå¸¸ç ä¸èæ 2\n",
            "40698 No 1\n",
            "41578 Not 2\n",
            "47864 Tail spin.......... 1\n"
          ],
          "name": "stdout"
        }
      ]
    },
    {
      "cell_type": "markdown",
      "metadata": {
        "id": "-9mRdgY8zgIH"
      },
      "source": [
        "We might consider removing all of these entries except 40698, 41578, and 47864 since they have no meaning."
      ]
    },
    {
      "cell_type": "code",
      "metadata": {
        "id": "bvvctedGhH7v",
        "outputId": "c16e955e-747b-4168-8988-3112f3975e7f",
        "colab": {
          "base_uri": "https://localhost:8080/",
          "height": 225
        }
      },
      "source": [
        "label_data.groupby('label').mean()"
      ],
      "execution_count": null,
      "outputs": [
        {
          "output_type": "execute_result",
          "data": {
            "text/html": [
              "<div>\n",
              "<style scoped>\n",
              "    .dataframe tbody tr th:only-of-type {\n",
              "        vertical-align: middle;\n",
              "    }\n",
              "\n",
              "    .dataframe tbody tr th {\n",
              "        vertical-align: top;\n",
              "    }\n",
              "\n",
              "    .dataframe thead th {\n",
              "        text-align: right;\n",
              "    }\n",
              "</style>\n",
              "<table border=\"1\" class=\"dataframe\">\n",
              "  <thead>\n",
              "    <tr style=\"text-align: right;\">\n",
              "      <th></th>\n",
              "      <th>token_length</th>\n",
              "    </tr>\n",
              "    <tr>\n",
              "      <th>label</th>\n",
              "      <th></th>\n",
              "    </tr>\n",
              "  </thead>\n",
              "  <tbody>\n",
              "    <tr>\n",
              "      <th>1</th>\n",
              "      <td>142.838075</td>\n",
              "    </tr>\n",
              "    <tr>\n",
              "      <th>2</th>\n",
              "      <td>142.229363</td>\n",
              "    </tr>\n",
              "    <tr>\n",
              "      <th>3</th>\n",
              "      <td>130.506937</td>\n",
              "    </tr>\n",
              "    <tr>\n",
              "      <th>4</th>\n",
              "      <td>113.989956</td>\n",
              "    </tr>\n",
              "    <tr>\n",
              "      <th>5</th>\n",
              "      <td>87.035536</td>\n",
              "    </tr>\n",
              "  </tbody>\n",
              "</table>\n",
              "</div>"
            ],
            "text/plain": [
              "       token_length\n",
              "label              \n",
              "1        142.838075\n",
              "2        142.229363\n",
              "3        130.506937\n",
              "4        113.989956\n",
              "5         87.035536"
            ]
          },
          "metadata": {
            "tags": []
          },
          "execution_count": 17
        }
      ]
    },
    {
      "cell_type": "code",
      "metadata": {
        "id": "OhAsfTqskJu9",
        "outputId": "c58ea2c8-6881-41cd-be34-ea6d931358df",
        "colab": {
          "base_uri": "https://localhost:8080/",
          "height": 34
        }
      },
      "source": [
        "label_data['token_length'].mean()"
      ],
      "execution_count": null,
      "outputs": [
        {
          "output_type": "execute_result",
          "data": {
            "text/plain": [
              "123.3391"
            ]
          },
          "metadata": {
            "tags": []
          },
          "execution_count": 18
        }
      ]
    },
    {
      "cell_type": "markdown",
      "metadata": {
        "id": "POoGO7XRB0pf"
      },
      "source": [
        "One interesting thing to mentioned is the higher the rating, the less the number of tokens.\n",
        "\n",
        "The average number of tokens in a review is 123.35 for the labelled data."
      ]
    },
    {
      "cell_type": "markdown",
      "metadata": {
        "id": "vBwOll4xDLJE"
      },
      "source": [
        "### Size of vocabulary"
      ]
    },
    {
      "cell_type": "code",
      "metadata": {
        "id": "W71_0uX-B9Gi"
      },
      "source": [
        "vocab_all = set()\n",
        "\n",
        "for idx, row in label_data.iterrows():\n",
        "  for word in row['token']:\n",
        "    vocab_all.add(word)"
      ],
      "execution_count": null,
      "outputs": []
    },
    {
      "cell_type": "code",
      "metadata": {
        "id": "Mrb-TU2XixM0",
        "outputId": "832a2218-d1ca-4df3-f4b9-722ddd18363e",
        "colab": {
          "base_uri": "https://localhost:8080/",
          "height": 34
        }
      },
      "source": [
        "len(vocab_all)"
      ],
      "execution_count": null,
      "outputs": [
        {
          "output_type": "execute_result",
          "data": {
            "text/plain": [
              "55268"
            ]
          },
          "metadata": {
            "tags": []
          },
          "execution_count": 20
        }
      ]
    },
    {
      "cell_type": "markdown",
      "metadata": {
        "id": "Wpn1IpTqi9IP"
      },
      "source": [
        "The size of vocab is just 55268 which is quite small compare to the number of documents."
      ]
    },
    {
      "cell_type": "markdown",
      "metadata": {
        "id": "i_eGkSuokgsg"
      },
      "source": [
        "### Standard deviation of token size of product review"
      ]
    },
    {
      "cell_type": "code",
      "metadata": {
        "id": "7BjoAzN9kgSU",
        "outputId": "d31981cb-9496-4522-bf75-c7472384e656",
        "colab": {
          "base_uri": "https://localhost:8080/",
          "height": 284
        }
      },
      "source": [
        "label_data.describe()"
      ],
      "execution_count": null,
      "outputs": [
        {
          "output_type": "execute_result",
          "data": {
            "text/html": [
              "<div>\n",
              "<style scoped>\n",
              "    .dataframe tbody tr th:only-of-type {\n",
              "        vertical-align: middle;\n",
              "    }\n",
              "\n",
              "    .dataframe tbody tr th {\n",
              "        vertical-align: top;\n",
              "    }\n",
              "\n",
              "    .dataframe thead th {\n",
              "        text-align: right;\n",
              "    }\n",
              "</style>\n",
              "<table border=\"1\" class=\"dataframe\">\n",
              "  <thead>\n",
              "    <tr style=\"text-align: right;\">\n",
              "      <th></th>\n",
              "      <th>label</th>\n",
              "      <th>token_length</th>\n",
              "    </tr>\n",
              "  </thead>\n",
              "  <tbody>\n",
              "    <tr>\n",
              "      <th>count</th>\n",
              "      <td>50000.000000</td>\n",
              "      <td>50000.000000</td>\n",
              "    </tr>\n",
              "    <tr>\n",
              "      <th>mean</th>\n",
              "      <td>2.995800</td>\n",
              "      <td>123.339100</td>\n",
              "    </tr>\n",
              "    <tr>\n",
              "      <th>std</th>\n",
              "      <td>1.417569</td>\n",
              "      <td>112.942713</td>\n",
              "    </tr>\n",
              "    <tr>\n",
              "      <th>min</th>\n",
              "      <td>1.000000</td>\n",
              "      <td>0.000000</td>\n",
              "    </tr>\n",
              "    <tr>\n",
              "      <th>25%</th>\n",
              "      <td>2.000000</td>\n",
              "      <td>49.000000</td>\n",
              "    </tr>\n",
              "    <tr>\n",
              "      <th>50%</th>\n",
              "      <td>3.000000</td>\n",
              "      <td>89.000000</td>\n",
              "    </tr>\n",
              "    <tr>\n",
              "      <th>75%</th>\n",
              "      <td>4.000000</td>\n",
              "      <td>159.000000</td>\n",
              "    </tr>\n",
              "    <tr>\n",
              "      <th>max</th>\n",
              "      <td>5.000000</td>\n",
              "      <td>1040.000000</td>\n",
              "    </tr>\n",
              "  </tbody>\n",
              "</table>\n",
              "</div>"
            ],
            "text/plain": [
              "              label  token_length\n",
              "count  50000.000000  50000.000000\n",
              "mean       2.995800    123.339100\n",
              "std        1.417569    112.942713\n",
              "min        1.000000      0.000000\n",
              "25%        2.000000     49.000000\n",
              "50%        3.000000     89.000000\n",
              "75%        4.000000    159.000000\n",
              "max        5.000000   1040.000000"
            ]
          },
          "metadata": {
            "tags": []
          },
          "execution_count": 21
        }
      ]
    },
    {
      "cell_type": "markdown",
      "metadata": {
        "id": "yPlV90B37j_z"
      },
      "source": [
        "### Common unigram and bigram"
      ]
    },
    {
      "cell_type": "code",
      "metadata": {
        "id": "dRy5eVYU7fkt"
      },
      "source": [
        "from collections import Counter\n",
        "\n",
        "# bigram\n",
        "counts_bi = Counter()\n",
        "\n",
        "for text in label_data['text']:\n",
        "  words = nltk.word_tokenize(text)\n",
        "  counts_bi.update(nltk.bigrams(words))"
      ],
      "execution_count": null,
      "outputs": []
    },
    {
      "cell_type": "code",
      "metadata": {
        "id": "7VwcJaNZ8PzA",
        "outputId": "43c2d782-2baf-4847-d8b0-e3f0ad76815c",
        "colab": {
          "base_uri": "https://localhost:8080/",
          "height": 353
        }
      },
      "source": [
        "counts_bi.most_common(20)"
      ],
      "execution_count": null,
      "outputs": [
        {
          "output_type": "execute_result",
          "data": {
            "text/plain": [
              "[(('.', 'I'), 54926),\n",
              " (('.', 'The'), 42708),\n",
              " ((',', 'and'), 22253),\n",
              " ((',', 'but'), 20378),\n",
              " (('of', 'the'), 18949),\n",
              " (('in', 'the'), 15873),\n",
              " (('it', 'was'), 15802),\n",
              " ((',', 'I'), 15761),\n",
              " (('and', 'the'), 15286),\n",
              " (('I', 'was'), 15167),\n",
              " (('!', '!'), 14878),\n",
              " (('.', 'It'), 14783),\n",
              " (('.', 'We'), 14032),\n",
              " (('on', 'the'), 12510),\n",
              " (('and', 'I'), 11893),\n",
              " (('.', 'They'), 11294),\n",
              " (('to', 'the'), 11129),\n",
              " ((',', 'the'), 10796),\n",
              " (('for', 'the'), 10514),\n",
              " (('for', 'a'), 10330)]"
            ]
          },
          "metadata": {
            "tags": []
          },
          "execution_count": 24
        }
      ]
    },
    {
      "cell_type": "code",
      "metadata": {
        "id": "Q1B2UY6e8dMT"
      },
      "source": [
        "# unigram\n",
        "counts_uni = Counter()\n",
        "\n",
        "for text in label_data['text']:\n",
        "  words = nltk.word_tokenize(text)\n",
        "  counts_uni.update(words)"
      ],
      "execution_count": null,
      "outputs": []
    },
    {
      "cell_type": "code",
      "metadata": {
        "id": "wf5h9h7T8PBA",
        "outputId": "c1fb5191-f305-4dd5-ef5b-a3624681bec7",
        "colab": {
          "base_uri": "https://localhost:8080/",
          "height": 353
        }
      },
      "source": [
        "counts_uni.most_common(20)"
      ],
      "execution_count": null,
      "outputs": [
        {
          "output_type": "execute_result",
          "data": {
            "text/plain": [
              "[('.', 368938),\n",
              " ('the', 253694),\n",
              " (',', 204980),\n",
              " ('and', 194792),\n",
              " ('I', 185203),\n",
              " ('to', 153613),\n",
              " ('a', 148885),\n",
              " ('was', 119392),\n",
              " ('of', 86345),\n",
              " ('it', 77173),\n",
              " ('for', 71310),\n",
              " ('is', 68796),\n",
              " ('in', 64581),\n",
              " ('!', 59717),\n",
              " ('that', 55835),\n",
              " ('The', 52194),\n",
              " ('my', 48026),\n",
              " ('with', 47211),\n",
              " (\"n't\", 45843),\n",
              " ('but', 44677)]"
            ]
          },
          "metadata": {
            "tags": []
          },
          "execution_count": 26
        }
      ]
    },
    {
      "cell_type": "markdown",
      "metadata": {
        "id": "k_2wux4S9w0p"
      },
      "source": [
        "all of them are stop words, therefore we will remove the stop words and run the above process again"
      ]
    },
    {
      "cell_type": "markdown",
      "metadata": {
        "id": "kZ1QuwcvB0Eb"
      },
      "source": [
        "## 5.Remove stop words"
      ]
    },
    {
      "cell_type": "code",
      "metadata": {
        "id": "AQwJjZ8q98IZ",
        "outputId": "3c50121b-45ce-4e02-88b5-eeb66b76174e",
        "colab": {
          "base_uri": "https://localhost:8080/",
          "height": 195
        }
      },
      "source": [
        "label_data.head()"
      ],
      "execution_count": null,
      "outputs": [
        {
          "output_type": "execute_result",
          "data": {
            "text/html": [
              "<div>\n",
              "<style scoped>\n",
              "    .dataframe tbody tr th:only-of-type {\n",
              "        vertical-align: middle;\n",
              "    }\n",
              "\n",
              "    .dataframe tbody tr th {\n",
              "        vertical-align: top;\n",
              "    }\n",
              "\n",
              "    .dataframe thead th {\n",
              "        text-align: right;\n",
              "    }\n",
              "</style>\n",
              "<table border=\"1\" class=\"dataframe\">\n",
              "  <thead>\n",
              "    <tr style=\"text-align: right;\">\n",
              "      <th></th>\n",
              "      <th>text</th>\n",
              "      <th>label</th>\n",
              "      <th>new_text</th>\n",
              "      <th>token</th>\n",
              "      <th>token_length</th>\n",
              "    </tr>\n",
              "  </thead>\n",
              "  <tbody>\n",
              "    <tr>\n",
              "      <th>0</th>\n",
              "      <td>The new rule is - \\r\\nif you are waiting for a...</td>\n",
              "      <td>4</td>\n",
              "      <td>the new rule is - \\r\\nif you are waiting for a...</td>\n",
              "      <td>[the, new, rule, is, if, you, are, waiting, fo...</td>\n",
              "      <td>108</td>\n",
              "    </tr>\n",
              "    <tr>\n",
              "      <th>1</th>\n",
              "      <td>Flirted with giving this two stars, but that's...</td>\n",
              "      <td>3</td>\n",
              "      <td>flirted with giving this two stars, but that i...</td>\n",
              "      <td>[flirted, with, giving, this, two, stars, but,...</td>\n",
              "      <td>205</td>\n",
              "    </tr>\n",
              "    <tr>\n",
              "      <th>2</th>\n",
              "      <td>I was staying at planet Hollywood across the s...</td>\n",
              "      <td>5</td>\n",
              "      <td>i was staying at planet hollywood across the s...</td>\n",
              "      <td>[i, was, staying, at, planet, hollywood, acros...</td>\n",
              "      <td>110</td>\n",
              "    </tr>\n",
              "    <tr>\n",
              "      <th>3</th>\n",
              "      <td>Food is good but prices are super expensive.  ...</td>\n",
              "      <td>2</td>\n",
              "      <td>food is good but prices are super expensive.  ...</td>\n",
              "      <td>[food, is, good, but, prices, are, super, expe...</td>\n",
              "      <td>138</td>\n",
              "    </tr>\n",
              "    <tr>\n",
              "      <th>4</th>\n",
              "      <td>Worse company to deal with they do horrible wo...</td>\n",
              "      <td>1</td>\n",
              "      <td>worse company to deal with they do horrible wo...</td>\n",
              "      <td>[worse, company, to, deal, with, they, do, hor...</td>\n",
              "      <td>129</td>\n",
              "    </tr>\n",
              "  </tbody>\n",
              "</table>\n",
              "</div>"
            ],
            "text/plain": [
              "                                                text  ...  token_length\n",
              "0  The new rule is - \\r\\nif you are waiting for a...  ...           108\n",
              "1  Flirted with giving this two stars, but that's...  ...           205\n",
              "2  I was staying at planet Hollywood across the s...  ...           110\n",
              "3  Food is good but prices are super expensive.  ...  ...           138\n",
              "4  Worse company to deal with they do horrible wo...  ...           129\n",
              "\n",
              "[5 rows x 5 columns]"
            ]
          },
          "metadata": {
            "tags": []
          },
          "execution_count": 27
        }
      ]
    },
    {
      "cell_type": "code",
      "metadata": {
        "id": "jeG2l61VUIcJ",
        "outputId": "df689cb8-c3b3-4b39-c061-bd360fe41eac",
        "colab": {
          "base_uri": "https://localhost:8080/",
          "height": 67
        }
      },
      "source": [
        "from nltk.corpus import stopwords\n",
        "nltk.download('stopwords')"
      ],
      "execution_count": null,
      "outputs": [
        {
          "output_type": "stream",
          "text": [
            "[nltk_data] Downloading package stopwords to /root/nltk_data...\n",
            "[nltk_data]   Unzipping corpora/stopwords.zip.\n"
          ],
          "name": "stdout"
        },
        {
          "output_type": "execute_result",
          "data": {
            "text/plain": [
              "True"
            ]
          },
          "metadata": {
            "tags": []
          },
          "execution_count": 28
        }
      ]
    },
    {
      "cell_type": "code",
      "metadata": {
        "id": "rghkxnRSCxSI"
      },
      "source": [
        "STOPWORDS = stopwords.words('english')\n",
        "# remove negation words from stopwords\n",
        "STOPWORDS = [w for w in STOPWORDS if w not in ('no','not','nor')]"
      ],
      "execution_count": null,
      "outputs": []
    },
    {
      "cell_type": "code",
      "metadata": {
        "id": "zRCtlRMT-Rqp",
        "outputId": "5ecf8bcc-4d8d-4015-c585-6ec78e7e46f8",
        "colab": {
          "base_uri": "https://localhost:8080/",
          "height": 279
        }
      },
      "source": [
        "token_wo_stop = []\n",
        "\n",
        "# remove stopwords from review\n",
        "for idx, row in label_data.iterrows():\n",
        "  temp = [i for i in row['token'] if i not in STOPWORDS]\n",
        "  token_wo_stop.append(temp)\n",
        "\n",
        "label_data['token_wo_stop'] = token_wo_stop\n",
        "label_data.head()\n"
      ],
      "execution_count": null,
      "outputs": [
        {
          "output_type": "execute_result",
          "data": {
            "text/html": [
              "<div>\n",
              "<style scoped>\n",
              "    .dataframe tbody tr th:only-of-type {\n",
              "        vertical-align: middle;\n",
              "    }\n",
              "\n",
              "    .dataframe tbody tr th {\n",
              "        vertical-align: top;\n",
              "    }\n",
              "\n",
              "    .dataframe thead th {\n",
              "        text-align: right;\n",
              "    }\n",
              "</style>\n",
              "<table border=\"1\" class=\"dataframe\">\n",
              "  <thead>\n",
              "    <tr style=\"text-align: right;\">\n",
              "      <th></th>\n",
              "      <th>text</th>\n",
              "      <th>label</th>\n",
              "      <th>new_text</th>\n",
              "      <th>token</th>\n",
              "      <th>token_length</th>\n",
              "      <th>token_wo_stop</th>\n",
              "    </tr>\n",
              "  </thead>\n",
              "  <tbody>\n",
              "    <tr>\n",
              "      <th>0</th>\n",
              "      <td>The new rule is - \\r\\nif you are waiting for a...</td>\n",
              "      <td>4</td>\n",
              "      <td>the new rule is - \\r\\nif you are waiting for a...</td>\n",
              "      <td>[the, new, rule, is, if, you, are, waiting, fo...</td>\n",
              "      <td>108</td>\n",
              "      <td>[new, rule, waiting, table, almost, always, no...</td>\n",
              "    </tr>\n",
              "    <tr>\n",
              "      <th>1</th>\n",
              "      <td>Flirted with giving this two stars, but that's...</td>\n",
              "      <td>3</td>\n",
              "      <td>flirted with giving this two stars, but that i...</td>\n",
              "      <td>[flirted, with, giving, this, two, stars, but,...</td>\n",
              "      <td>205</td>\n",
              "      <td>[flirted, giving, two, stars, pretty, damning,...</td>\n",
              "    </tr>\n",
              "    <tr>\n",
              "      <th>2</th>\n",
              "      <td>I was staying at planet Hollywood across the s...</td>\n",
              "      <td>5</td>\n",
              "      <td>i was staying at planet hollywood across the s...</td>\n",
              "      <td>[i, was, staying, at, planet, hollywood, acros...</td>\n",
              "      <td>110</td>\n",
              "      <td>[staying, planet, hollywood, across, street, s...</td>\n",
              "    </tr>\n",
              "    <tr>\n",
              "      <th>3</th>\n",
              "      <td>Food is good but prices are super expensive.  ...</td>\n",
              "      <td>2</td>\n",
              "      <td>food is good but prices are super expensive.  ...</td>\n",
              "      <td>[food, is, good, but, prices, are, super, expe...</td>\n",
              "      <td>138</td>\n",
              "      <td>[food, good, prices, super, expensive, 8, buck...</td>\n",
              "    </tr>\n",
              "    <tr>\n",
              "      <th>4</th>\n",
              "      <td>Worse company to deal with they do horrible wo...</td>\n",
              "      <td>1</td>\n",
              "      <td>worse company to deal with they do horrible wo...</td>\n",
              "      <td>[worse, company, to, deal, with, they, do, hor...</td>\n",
              "      <td>129</td>\n",
              "      <td>[worse, company, deal, horrible, work, bring, ...</td>\n",
              "    </tr>\n",
              "  </tbody>\n",
              "</table>\n",
              "</div>"
            ],
            "text/plain": [
              "                                                text  ...                                      token_wo_stop\n",
              "0  The new rule is - \\r\\nif you are waiting for a...  ...  [new, rule, waiting, table, almost, always, no...\n",
              "1  Flirted with giving this two stars, but that's...  ...  [flirted, giving, two, stars, pretty, damning,...\n",
              "2  I was staying at planet Hollywood across the s...  ...  [staying, planet, hollywood, across, street, s...\n",
              "3  Food is good but prices are super expensive.  ...  ...  [food, good, prices, super, expensive, 8, buck...\n",
              "4  Worse company to deal with they do horrible wo...  ...  [worse, company, deal, horrible, work, bring, ...\n",
              "\n",
              "[5 rows x 6 columns]"
            ]
          },
          "metadata": {
            "tags": []
          },
          "execution_count": 30
        }
      ]
    },
    {
      "cell_type": "code",
      "metadata": {
        "id": "wRELcI8z-341"
      },
      "source": [
        "# bigram\n",
        "counts_bi = Counter()\n",
        "\n",
        "for l in label_data['token_wo_stop']:\n",
        "  counts_bi.update(nltk.bigrams(l))"
      ],
      "execution_count": null,
      "outputs": []
    },
    {
      "cell_type": "code",
      "metadata": {
        "id": "bmkYFqAl_Gyo",
        "outputId": "6318bea3-8896-49e3-d658-0a1dd1be961f",
        "colab": {
          "base_uri": "https://localhost:8080/",
          "height": 353
        }
      },
      "source": [
        "counts_bi.most_common(20)"
      ],
      "execution_count": null,
      "outputs": [
        {
          "output_type": "execute_result",
          "data": {
            "text/plain": [
              "[(('would', 'not'), 3483),\n",
              " (('could', 'not'), 3211),\n",
              " (('customer', 'service'), 3131),\n",
              " (('not', 'even'), 3108),\n",
              " (('go', 'back'), 2461),\n",
              " (('first', 'time'), 2237),\n",
              " (('not', 'know'), 2083),\n",
              " (('not', 'get'), 2018),\n",
              " (('come', 'back'), 1975),\n",
              " (('not', 'good'), 1753),\n",
              " (('not', 'sure'), 1637),\n",
              " (('pretty', 'good'), 1632),\n",
              " (('not', 'go'), 1554),\n",
              " (('really', 'good'), 1473),\n",
              " (('food', 'not'), 1468),\n",
              " (('not', 'bad'), 1468),\n",
              " (('not', 'want'), 1460),\n",
              " (('food', 'good'), 1420),\n",
              " (('ice', 'cream'), 1346),\n",
              " (('even', 'though'), 1332)]"
            ]
          },
          "metadata": {
            "tags": []
          },
          "execution_count": 32
        }
      ]
    },
    {
      "cell_type": "code",
      "metadata": {
        "id": "AQlgZxKn_5k4"
      },
      "source": [
        "# trigram\n",
        "counts_tri = Counter()\n",
        "\n",
        "for l in label_data['token_wo_stop']:\n",
        "  counts_tri.update(nltk.trigrams(l))"
      ],
      "execution_count": null,
      "outputs": []
    },
    {
      "cell_type": "code",
      "metadata": {
        "id": "2mBAgzW0AETS",
        "outputId": "b62d06da-0876-4b77-e8dc-131c1dffde23",
        "colab": {
          "base_uri": "https://localhost:8080/",
          "height": 353
        }
      },
      "source": [
        "counts_tri.most_common(20)"
      ],
      "execution_count": null,
      "outputs": [
        {
          "output_type": "execute_result",
          "data": {
            "text/plain": [
              "[(('would', 'not', 'recommend'), 500),\n",
              " (('not', 'go', 'back'), 391),\n",
              " (('would', 'go', 'back'), 341),\n",
              " (('not', 'going', 'back'), 304),\n",
              " (('would', 'not', 'go'), 282),\n",
              " (('would', 'come', 'back'), 271),\n",
              " (('could', 'not', 'even'), 261),\n",
              " (('could', 'not', 'get'), 242),\n",
              " (('would', 'highly', 'recommend'), 238),\n",
              " (('never', 'go', 'back'), 238),\n",
              " (('not', 'come', 'back'), 217),\n",
              " (('not', 'coming', 'back'), 215),\n",
              " (('great', 'customer', 'service'), 203),\n",
              " (('sweet', 'potato', 'fries'), 179),\n",
              " (('would', 'definitely', 'recommend'), 179),\n",
              " (('go', 'somewhere', 'else'), 179),\n",
              " (('not', 'waste', 'time'), 178),\n",
              " (('not', 'recommend', 'place'), 178),\n",
              " (('definitely', 'come', 'back'), 176),\n",
              " (('mac', 'n', 'cheese'), 175)]"
            ]
          },
          "metadata": {
            "tags": []
          },
          "execution_count": 35
        }
      ]
    },
    {
      "cell_type": "code",
      "metadata": {
        "id": "0J83YHtB_XlZ",
        "outputId": "75bb340b-9c59-48d1-a8cc-de4cb4138528",
        "colab": {
          "base_uri": "https://localhost:8080/",
          "height": 353
        }
      },
      "source": [
        "# unigram\n",
        "counts_uni = Counter()\n",
        "\n",
        "for l in label_data['token_wo_stop']:\n",
        "  counts_uni.update(l)\n",
        "\n",
        "counts_uni.most_common(20)"
      ],
      "execution_count": null,
      "outputs": [
        {
          "output_type": "execute_result",
          "data": {
            "text/plain": [
              "[('not', 92408),\n",
              " ('food', 28792),\n",
              " ('good', 26646),\n",
              " ('would', 24843),\n",
              " ('place', 24787),\n",
              " ('like', 20586),\n",
              " ('service', 19485),\n",
              " ('get', 19093),\n",
              " ('time', 18692),\n",
              " ('one', 18410),\n",
              " ('great', 17534),\n",
              " ('back', 16543),\n",
              " ('no', 15431),\n",
              " ('go', 14693),\n",
              " ('really', 13750),\n",
              " ('us', 12557),\n",
              " ('got', 11611),\n",
              " ('even', 11075),\n",
              " ('could', 10900),\n",
              " ('also', 10877)]"
            ]
          },
          "metadata": {
            "tags": []
          },
          "execution_count": 33
        }
      ]
    },
    {
      "cell_type": "markdown",
      "metadata": {
        "id": "7MVabYbk8kP1"
      },
      "source": [
        "The frequency for the most common bigram and trigram token is quite low, which means the features are unlikely to generalized well. Using unigram tokens is more appropriate in this case."
      ]
    },
    {
      "cell_type": "markdown",
      "metadata": {
        "id": "zPd7V6HsBwPO"
      },
      "source": [
        "**Recalculate token count**"
      ]
    },
    {
      "cell_type": "code",
      "metadata": {
        "id": "DzBFi7RSBL6Y"
      },
      "source": [
        "token_len_wo_stop=[]\n",
        "\n",
        "for idx, row in label_data.iterrows():\n",
        "  temp = len(row['token_wo_stop'])\n",
        "  token_len_wo_stop.append(temp)"
      ],
      "execution_count": null,
      "outputs": []
    },
    {
      "cell_type": "code",
      "metadata": {
        "id": "i4rUozZiBhHp",
        "outputId": "8fe3f52b-d4f3-43eb-c199-f2f3819ad84e",
        "colab": {
          "base_uri": "https://localhost:8080/",
          "height": 279
        }
      },
      "source": [
        "label_data['token_len_wo_stop'] = token_len_wo_stop\n",
        "label_data.head()"
      ],
      "execution_count": null,
      "outputs": [
        {
          "output_type": "execute_result",
          "data": {
            "text/html": [
              "<div>\n",
              "<style scoped>\n",
              "    .dataframe tbody tr th:only-of-type {\n",
              "        vertical-align: middle;\n",
              "    }\n",
              "\n",
              "    .dataframe tbody tr th {\n",
              "        vertical-align: top;\n",
              "    }\n",
              "\n",
              "    .dataframe thead th {\n",
              "        text-align: right;\n",
              "    }\n",
              "</style>\n",
              "<table border=\"1\" class=\"dataframe\">\n",
              "  <thead>\n",
              "    <tr style=\"text-align: right;\">\n",
              "      <th></th>\n",
              "      <th>text</th>\n",
              "      <th>label</th>\n",
              "      <th>new_text</th>\n",
              "      <th>token</th>\n",
              "      <th>token_length</th>\n",
              "      <th>token_wo_stop</th>\n",
              "      <th>token_len_wo_stop</th>\n",
              "    </tr>\n",
              "  </thead>\n",
              "  <tbody>\n",
              "    <tr>\n",
              "      <th>0</th>\n",
              "      <td>The new rule is - \\r\\nif you are waiting for a...</td>\n",
              "      <td>4</td>\n",
              "      <td>the new rule is - \\r\\nif you are waiting for a...</td>\n",
              "      <td>[the, new, rule, is, if, you, are, waiting, fo...</td>\n",
              "      <td>108</td>\n",
              "      <td>[new, rule, waiting, table, almost, always, no...</td>\n",
              "      <td>50</td>\n",
              "    </tr>\n",
              "    <tr>\n",
              "      <th>1</th>\n",
              "      <td>Flirted with giving this two stars, but that's...</td>\n",
              "      <td>3</td>\n",
              "      <td>flirted with giving this two stars, but that i...</td>\n",
              "      <td>[flirted, with, giving, this, two, stars, but,...</td>\n",
              "      <td>205</td>\n",
              "      <td>[flirted, giving, two, stars, pretty, damning,...</td>\n",
              "      <td>103</td>\n",
              "    </tr>\n",
              "    <tr>\n",
              "      <th>2</th>\n",
              "      <td>I was staying at planet Hollywood across the s...</td>\n",
              "      <td>5</td>\n",
              "      <td>i was staying at planet hollywood across the s...</td>\n",
              "      <td>[i, was, staying, at, planet, hollywood, acros...</td>\n",
              "      <td>110</td>\n",
              "      <td>[staying, planet, hollywood, across, street, s...</td>\n",
              "      <td>56</td>\n",
              "    </tr>\n",
              "    <tr>\n",
              "      <th>3</th>\n",
              "      <td>Food is good but prices are super expensive.  ...</td>\n",
              "      <td>2</td>\n",
              "      <td>food is good but prices are super expensive.  ...</td>\n",
              "      <td>[food, is, good, but, prices, are, super, expe...</td>\n",
              "      <td>138</td>\n",
              "      <td>[food, good, prices, super, expensive, 8, buck...</td>\n",
              "      <td>71</td>\n",
              "    </tr>\n",
              "    <tr>\n",
              "      <th>4</th>\n",
              "      <td>Worse company to deal with they do horrible wo...</td>\n",
              "      <td>1</td>\n",
              "      <td>worse company to deal with they do horrible wo...</td>\n",
              "      <td>[worse, company, to, deal, with, they, do, hor...</td>\n",
              "      <td>129</td>\n",
              "      <td>[worse, company, deal, horrible, work, bring, ...</td>\n",
              "      <td>61</td>\n",
              "    </tr>\n",
              "  </tbody>\n",
              "</table>\n",
              "</div>"
            ],
            "text/plain": [
              "                                                text  ...  token_len_wo_stop\n",
              "0  The new rule is - \\r\\nif you are waiting for a...  ...                 50\n",
              "1  Flirted with giving this two stars, but that's...  ...                103\n",
              "2  I was staying at planet Hollywood across the s...  ...                 56\n",
              "3  Food is good but prices are super expensive.  ...  ...                 71\n",
              "4  Worse company to deal with they do horrible wo...  ...                 61\n",
              "\n",
              "[5 rows x 7 columns]"
            ]
          },
          "metadata": {
            "tags": []
          },
          "execution_count": 37
        }
      ]
    },
    {
      "cell_type": "markdown",
      "metadata": {
        "id": "qHZ466CnE8cH"
      },
      "source": [
        "## 6. Stemming"
      ]
    },
    {
      "cell_type": "code",
      "metadata": {
        "id": "XqWCAqbRE8ES"
      },
      "source": [
        "stemmer = LancasterStemmer()\n",
        "\n",
        "stem = []\n",
        "\n",
        "for idx, row in label_data.iterrows():\n",
        "  temp = [stemmer.stem(w) for w in row['token_wo_stop']]\n",
        "  stem.append(temp)\n",
        "\n",
        "label_data['stem'] = stem"
      ],
      "execution_count": null,
      "outputs": []
    },
    {
      "cell_type": "code",
      "metadata": {
        "id": "-lxmZQ8mF0G9",
        "outputId": "0972b93e-9e8b-402f-bd46-1349366abacb",
        "colab": {
          "base_uri": "https://localhost:8080/",
          "height": 346
        }
      },
      "source": [
        "label_data.head()"
      ],
      "execution_count": null,
      "outputs": [
        {
          "output_type": "execute_result",
          "data": {
            "text/html": [
              "<div>\n",
              "<style scoped>\n",
              "    .dataframe tbody tr th:only-of-type {\n",
              "        vertical-align: middle;\n",
              "    }\n",
              "\n",
              "    .dataframe tbody tr th {\n",
              "        vertical-align: top;\n",
              "    }\n",
              "\n",
              "    .dataframe thead th {\n",
              "        text-align: right;\n",
              "    }\n",
              "</style>\n",
              "<table border=\"1\" class=\"dataframe\">\n",
              "  <thead>\n",
              "    <tr style=\"text-align: right;\">\n",
              "      <th></th>\n",
              "      <th>text</th>\n",
              "      <th>label</th>\n",
              "      <th>new_text</th>\n",
              "      <th>token</th>\n",
              "      <th>token_length</th>\n",
              "      <th>token_wo_stop</th>\n",
              "      <th>token_len_wo_stop</th>\n",
              "      <th>stem</th>\n",
              "    </tr>\n",
              "  </thead>\n",
              "  <tbody>\n",
              "    <tr>\n",
              "      <th>0</th>\n",
              "      <td>The new rule is - \\r\\nif you are waiting for a...</td>\n",
              "      <td>4</td>\n",
              "      <td>the new rule is - \\r\\nif you are waiting for a...</td>\n",
              "      <td>[the, new, rule, is, if, you, are, waiting, fo...</td>\n",
              "      <td>108</td>\n",
              "      <td>[new, rule, waiting, table, almost, always, no...</td>\n",
              "      <td>50</td>\n",
              "      <td>[new, rul, wait, tabl, almost, alway, not, wai...</td>\n",
              "    </tr>\n",
              "    <tr>\n",
              "      <th>1</th>\n",
              "      <td>Flirted with giving this two stars, but that's...</td>\n",
              "      <td>3</td>\n",
              "      <td>flirted with giving this two stars, but that i...</td>\n",
              "      <td>[flirted, with, giving, this, two, stars, but,...</td>\n",
              "      <td>205</td>\n",
              "      <td>[flirted, giving, two, stars, pretty, damning,...</td>\n",
              "      <td>103</td>\n",
              "      <td>[flirt, giv, two, star, pretty, damn, rat, mig...</td>\n",
              "    </tr>\n",
              "    <tr>\n",
              "      <th>2</th>\n",
              "      <td>I was staying at planet Hollywood across the s...</td>\n",
              "      <td>5</td>\n",
              "      <td>i was staying at planet hollywood across the s...</td>\n",
              "      <td>[i, was, staying, at, planet, hollywood, acros...</td>\n",
              "      <td>110</td>\n",
              "      <td>[staying, planet, hollywood, across, street, s...</td>\n",
              "      <td>56</td>\n",
              "      <td>[stay, planet, hollywood, across, street, saw,...</td>\n",
              "    </tr>\n",
              "    <tr>\n",
              "      <th>3</th>\n",
              "      <td>Food is good but prices are super expensive.  ...</td>\n",
              "      <td>2</td>\n",
              "      <td>food is good but prices are super expensive.  ...</td>\n",
              "      <td>[food, is, good, but, prices, are, super, expe...</td>\n",
              "      <td>138</td>\n",
              "      <td>[food, good, prices, super, expensive, 8, buck...</td>\n",
              "      <td>71</td>\n",
              "      <td>[food, good, pric, sup, expend, 8, buck, extr,...</td>\n",
              "    </tr>\n",
              "    <tr>\n",
              "      <th>4</th>\n",
              "      <td>Worse company to deal with they do horrible wo...</td>\n",
              "      <td>1</td>\n",
              "      <td>worse company to deal with they do horrible wo...</td>\n",
              "      <td>[worse, company, to, deal, with, they, do, hor...</td>\n",
              "      <td>129</td>\n",
              "      <td>[worse, company, deal, horrible, work, bring, ...</td>\n",
              "      <td>61</td>\n",
              "      <td>[wors, company, deal, horr, work, bring, truck...</td>\n",
              "    </tr>\n",
              "  </tbody>\n",
              "</table>\n",
              "</div>"
            ],
            "text/plain": [
              "                                                text  ...                                               stem\n",
              "0  The new rule is - \\r\\nif you are waiting for a...  ...  [new, rul, wait, tabl, almost, alway, not, wai...\n",
              "1  Flirted with giving this two stars, but that's...  ...  [flirt, giv, two, star, pretty, damn, rat, mig...\n",
              "2  I was staying at planet Hollywood across the s...  ...  [stay, planet, hollywood, across, street, saw,...\n",
              "3  Food is good but prices are super expensive.  ...  ...  [food, good, pric, sup, expend, 8, buck, extr,...\n",
              "4  Worse company to deal with they do horrible wo...  ...  [wors, company, deal, horr, work, bring, truck...\n",
              "\n",
              "[5 rows x 8 columns]"
            ]
          },
          "metadata": {
            "tags": []
          },
          "execution_count": 39
        }
      ]
    },
    {
      "cell_type": "markdown",
      "metadata": {
        "id": "t1P01VHCGJcZ"
      },
      "source": [
        "## 7. Remove least frequent word"
      ]
    },
    {
      "cell_type": "code",
      "metadata": {
        "id": "Htknl5nKGI87"
      },
      "source": [
        "cnt = Counter()\n",
        "\n",
        "for l in label_data[\"stem\"].values:\n",
        "    for word in set(l):\n",
        "        cnt[word] += 1"
      ],
      "execution_count": null,
      "outputs": []
    },
    {
      "cell_type": "code",
      "metadata": {
        "id": "eTMURNYJGYN2",
        "outputId": "9fe786a6-e181-4f2b-885a-7fef19573033",
        "colab": {
          "base_uri": "https://localhost:8080/",
          "height": 283
        }
      },
      "source": [
        "# plot frequency of frequency\n",
        "from pylab import *\n",
        "\n",
        "y = [0]*14\n",
        "for k, v in cnt.items():\n",
        "     if v <= 10:\n",
        "        y[v-1] += 1\n",
        "     elif v >10 and v <= 50:\n",
        "        y[10] += 1\n",
        "     elif v >50 and v <= 100:\n",
        "        y[11] += 1\n",
        "     elif v > 100 and v <= 500:\n",
        "        y[12] += 1\n",
        "     else:\n",
        "        y[13] += 1\n",
        "x = range(1, 15) # generate integer from 1 to 14\n",
        "ytks =list(map(str, range(1, 11))) # covert a integer list to a string list\n",
        "ytks.append('10-50')\n",
        "ytks.append('51-100')\n",
        "ytks.append('101-500')\n",
        "ytks.append('>500')\n",
        "barh(x,y, align='center')\n",
        "yticks(x, ytks)\n",
        "xlabel('Frequency of Frequency')\n",
        "ylabel('Word Frequency')\n",
        "grid(True)"
      ],
      "execution_count": null,
      "outputs": [
        {
          "output_type": "display_data",
          "data": {
            "image/png": "[encoded data removed]",
            "text/plain": [
              "<Figure size 432x288 with 1 Axes>"
            ]
          },
          "metadata": {
            "tags": []
          }
        }
      ]
    },
    {
      "cell_type": "code",
      "metadata": {
        "id": "A5rQ116zHEyQ"
      },
      "source": [
        "# find rare words\n",
        "RAREWORDS = [w for (w, wc) in cnt.most_common() if wc < 2]\n",
        "\n",
        "## remove rare toke\n",
        "rare=[]\n",
        "\n",
        "for idx, row in label_data.iterrows():\n",
        "  temp = [i for i in row['stem'] if i not in RAREWORDS]\n",
        "  rare.append(temp)\n",
        "\n",
        "label_data['no_rare'] = rare"
      ],
      "execution_count": null,
      "outputs": []
    },
    {
      "cell_type": "code",
      "metadata": {
        "id": "lrXO3vmFOZ7X",
        "outputId": "2416d111-38af-4a51-8d91-17ce8a2910c5",
        "colab": {
          "base_uri": "https://localhost:8080/",
          "height": 278
        }
      },
      "source": [
        "label_data.head()"
      ],
      "execution_count": null,
      "outputs": [
        {
          "output_type": "execute_result",
          "data": {
            "text/html": [
              "<div>\n",
              "<style scoped>\n",
              "    .dataframe tbody tr th:only-of-type {\n",
              "        vertical-align: middle;\n",
              "    }\n",
              "\n",
              "    .dataframe tbody tr th {\n",
              "        vertical-align: top;\n",
              "    }\n",
              "\n",
              "    .dataframe thead th {\n",
              "        text-align: right;\n",
              "    }\n",
              "</style>\n",
              "<table border=\"1\" class=\"dataframe\">\n",
              "  <thead>\n",
              "    <tr style=\"text-align: right;\">\n",
              "      <th></th>\n",
              "      <th>text</th>\n",
              "      <th>label</th>\n",
              "      <th>new_text</th>\n",
              "      <th>token</th>\n",
              "      <th>token_length</th>\n",
              "      <th>token_wo_stop</th>\n",
              "      <th>token_len_wo_stop</th>\n",
              "      <th>stem</th>\n",
              "      <th>no_rare</th>\n",
              "    </tr>\n",
              "  </thead>\n",
              "  <tbody>\n",
              "    <tr>\n",
              "      <th>0</th>\n",
              "      <td>The new rule is - \\r\\nif you are waiting for a...</td>\n",
              "      <td>4</td>\n",
              "      <td>the new rule is - \\r\\nif you are waiting for a...</td>\n",
              "      <td>[the, new, rule, is, if, you, are, waiting, fo...</td>\n",
              "      <td>108</td>\n",
              "      <td>[new, rule, waiting, table, almost, always, no...</td>\n",
              "      <td>50</td>\n",
              "      <td>[new, rul, wait, tabl, almost, alway, not, wai...</td>\n",
              "      <td>[new, rul, wait, tabl, almost, alway, not, wai...</td>\n",
              "    </tr>\n",
              "    <tr>\n",
              "      <th>1</th>\n",
              "      <td>Flirted with giving this two stars, but that's...</td>\n",
              "      <td>3</td>\n",
              "      <td>flirted with giving this two stars, but that i...</td>\n",
              "      <td>[flirted, with, giving, this, two, stars, but,...</td>\n",
              "      <td>205</td>\n",
              "      <td>[flirted, giving, two, stars, pretty, damning,...</td>\n",
              "      <td>103</td>\n",
              "      <td>[flirt, giv, two, star, pretty, damn, rat, mig...</td>\n",
              "      <td>[flirt, giv, two, star, pretty, damn, rat, mig...</td>\n",
              "    </tr>\n",
              "    <tr>\n",
              "      <th>2</th>\n",
              "      <td>I was staying at planet Hollywood across the s...</td>\n",
              "      <td>5</td>\n",
              "      <td>i was staying at planet hollywood across the s...</td>\n",
              "      <td>[i, was, staying, at, planet, hollywood, acros...</td>\n",
              "      <td>110</td>\n",
              "      <td>[staying, planet, hollywood, across, street, s...</td>\n",
              "      <td>56</td>\n",
              "      <td>[stay, planet, hollywood, across, street, saw,...</td>\n",
              "      <td>[stay, planet, hollywood, across, street, saw,...</td>\n",
              "    </tr>\n",
              "    <tr>\n",
              "      <th>3</th>\n",
              "      <td>Food is good but prices are super expensive.  ...</td>\n",
              "      <td>2</td>\n",
              "      <td>food is good but prices are super expensive.  ...</td>\n",
              "      <td>[food, is, good, but, prices, are, super, expe...</td>\n",
              "      <td>138</td>\n",
              "      <td>[food, good, prices, super, expensive, 8, buck...</td>\n",
              "      <td>71</td>\n",
              "      <td>[food, good, pric, sup, expend, 8, buck, extr,...</td>\n",
              "      <td>[food, good, pric, sup, expend, 8, buck, extr,...</td>\n",
              "    </tr>\n",
              "    <tr>\n",
              "      <th>4</th>\n",
              "      <td>Worse company to deal with they do horrible wo...</td>\n",
              "      <td>1</td>\n",
              "      <td>worse company to deal with they do horrible wo...</td>\n",
              "      <td>[worse, company, to, deal, with, they, do, hor...</td>\n",
              "      <td>129</td>\n",
              "      <td>[worse, company, deal, horrible, work, bring, ...</td>\n",
              "      <td>61</td>\n",
              "      <td>[wors, company, deal, horr, work, bring, truck...</td>\n",
              "      <td>[wors, company, deal, horr, work, bring, truck...</td>\n",
              "    </tr>\n",
              "  </tbody>\n",
              "</table>\n",
              "</div>"
            ],
            "text/plain": [
              "                                                text  ...                                            no_rare\n",
              "0  The new rule is - \\r\\nif you are waiting for a...  ...  [new, rul, wait, tabl, almost, alway, not, wai...\n",
              "1  Flirted with giving this two stars, but that's...  ...  [flirt, giv, two, star, pretty, damn, rat, mig...\n",
              "2  I was staying at planet Hollywood across the s...  ...  [stay, planet, hollywood, across, street, saw,...\n",
              "3  Food is good but prices are super expensive.  ...  ...  [food, good, pric, sup, expend, 8, buck, extr,...\n",
              "4  Worse company to deal with they do horrible wo...  ...  [wors, company, deal, horr, work, bring, truck...\n",
              "\n",
              "[5 rows x 9 columns]"
            ]
          },
          "metadata": {
            "tags": []
          },
          "execution_count": 44
        }
      ]
    },
    {
      "cell_type": "code",
      "metadata": {
        "id": "QgJIrbWZO8Fd",
        "outputId": "162fdf83-e46e-4841-dfaf-2ff7b9185245",
        "colab": {
          "base_uri": "https://localhost:8080/",
          "height": 329
        }
      },
      "source": [
        "# recalculate token size\n",
        "no_rare_len =[]\n",
        "\n",
        "for idx, row in label_data.iterrows():\n",
        "  temp = len(row['no_rare'])\n",
        "  no_rare_len.append(temp)\n",
        "\n",
        "label_data['no_rare_len'] = no_rare_len\n",
        "\n",
        "label_data.head()"
      ],
      "execution_count": null,
      "outputs": [
        {
          "output_type": "execute_result",
          "data": {
            "text/html": [
              "<div>\n",
              "<style scoped>\n",
              "    .dataframe tbody tr th:only-of-type {\n",
              "        vertical-align: middle;\n",
              "    }\n",
              "\n",
              "    .dataframe tbody tr th {\n",
              "        vertical-align: top;\n",
              "    }\n",
              "\n",
              "    .dataframe thead th {\n",
              "        text-align: right;\n",
              "    }\n",
              "</style>\n",
              "<table border=\"1\" class=\"dataframe\">\n",
              "  <thead>\n",
              "    <tr style=\"text-align: right;\">\n",
              "      <th></th>\n",
              "      <th>text</th>\n",
              "      <th>label</th>\n",
              "      <th>new_text</th>\n",
              "      <th>token</th>\n",
              "      <th>token_length</th>\n",
              "      <th>token_wo_stop</th>\n",
              "      <th>token_len_wo_stop</th>\n",
              "      <th>stem</th>\n",
              "      <th>no_rare</th>\n",
              "      <th>no_rare_len</th>\n",
              "    </tr>\n",
              "  </thead>\n",
              "  <tbody>\n",
              "    <tr>\n",
              "      <th>0</th>\n",
              "      <td>The new rule is - \\r\\nif you are waiting for a...</td>\n",
              "      <td>4</td>\n",
              "      <td>the new rule is - \\r\\nif you are waiting for a...</td>\n",
              "      <td>[the, new, rule, is, if, you, are, waiting, fo...</td>\n",
              "      <td>108</td>\n",
              "      <td>[new, rule, waiting, table, almost, always, no...</td>\n",
              "      <td>50</td>\n",
              "      <td>[new, rul, wait, tabl, almost, alway, not, wai...</td>\n",
              "      <td>[new, rul, wait, tabl, almost, alway, not, wai...</td>\n",
              "      <td>50</td>\n",
              "    </tr>\n",
              "    <tr>\n",
              "      <th>1</th>\n",
              "      <td>Flirted with giving this two stars, but that's...</td>\n",
              "      <td>3</td>\n",
              "      <td>flirted with giving this two stars, but that i...</td>\n",
              "      <td>[flirted, with, giving, this, two, stars, but,...</td>\n",
              "      <td>205</td>\n",
              "      <td>[flirted, giving, two, stars, pretty, damning,...</td>\n",
              "      <td>103</td>\n",
              "      <td>[flirt, giv, two, star, pretty, damn, rat, mig...</td>\n",
              "      <td>[flirt, giv, two, star, pretty, damn, rat, mig...</td>\n",
              "      <td>102</td>\n",
              "    </tr>\n",
              "    <tr>\n",
              "      <th>2</th>\n",
              "      <td>I was staying at planet Hollywood across the s...</td>\n",
              "      <td>5</td>\n",
              "      <td>i was staying at planet hollywood across the s...</td>\n",
              "      <td>[i, was, staying, at, planet, hollywood, acros...</td>\n",
              "      <td>110</td>\n",
              "      <td>[staying, planet, hollywood, across, street, s...</td>\n",
              "      <td>56</td>\n",
              "      <td>[stay, planet, hollywood, across, street, saw,...</td>\n",
              "      <td>[stay, planet, hollywood, across, street, saw,...</td>\n",
              "      <td>56</td>\n",
              "    </tr>\n",
              "    <tr>\n",
              "      <th>3</th>\n",
              "      <td>Food is good but prices are super expensive.  ...</td>\n",
              "      <td>2</td>\n",
              "      <td>food is good but prices are super expensive.  ...</td>\n",
              "      <td>[food, is, good, but, prices, are, super, expe...</td>\n",
              "      <td>138</td>\n",
              "      <td>[food, good, prices, super, expensive, 8, buck...</td>\n",
              "      <td>71</td>\n",
              "      <td>[food, good, pric, sup, expend, 8, buck, extr,...</td>\n",
              "      <td>[food, good, pric, sup, expend, 8, buck, extr,...</td>\n",
              "      <td>71</td>\n",
              "    </tr>\n",
              "    <tr>\n",
              "      <th>4</th>\n",
              "      <td>Worse company to deal with they do horrible wo...</td>\n",
              "      <td>1</td>\n",
              "      <td>worse company to deal with they do horrible wo...</td>\n",
              "      <td>[worse, company, to, deal, with, they, do, hor...</td>\n",
              "      <td>129</td>\n",
              "      <td>[worse, company, deal, horrible, work, bring, ...</td>\n",
              "      <td>61</td>\n",
              "      <td>[wors, company, deal, horr, work, bring, truck...</td>\n",
              "      <td>[wors, company, deal, horr, work, bring, truck...</td>\n",
              "      <td>61</td>\n",
              "    </tr>\n",
              "  </tbody>\n",
              "</table>\n",
              "</div>"
            ],
            "text/plain": [
              "                                                text  ...  no_rare_len\n",
              "0  The new rule is - \\r\\nif you are waiting for a...  ...           50\n",
              "1  Flirted with giving this two stars, but that's...  ...          102\n",
              "2  I was staying at planet Hollywood across the s...  ...           56\n",
              "3  Food is good but prices are super expensive.  ...  ...           71\n",
              "4  Worse company to deal with they do horrible wo...  ...           61\n",
              "\n",
              "[5 rows x 10 columns]"
            ]
          },
          "metadata": {
            "tags": []
          },
          "execution_count": 45
        }
      ]
    },
    {
      "cell_type": "markdown",
      "metadata": {
        "id": "6yMqnpGa86n4"
      },
      "source": [
        "## 8.Remove rows with wierd characters"
      ]
    },
    {
      "cell_type": "code",
      "metadata": {
        "id": "J2qWDmMCQeC_"
      },
      "source": [
        "# Remove rows with wierd characters\n",
        "df_dropped = label_data.drop([1491,4323,12644,16884,19821,26397,28964,29785,33834,35716,35906])\n"
      ],
      "execution_count": null,
      "outputs": []
    },
    {
      "cell_type": "markdown",
      "metadata": {
        "id": "fyldyVceWMMP"
      },
      "source": [
        "## 9. Re-join the tokens"
      ]
    },
    {
      "cell_type": "code",
      "metadata": {
        "id": "krPxI7t-P1ie"
      },
      "source": [
        "string = []\n",
        "\n",
        "for idx, row in df_dropped.iterrows():\n",
        "  temp = ' '.join(row['no_rare'])\n",
        "  string.append(temp)\n",
        "\n",
        "df_dropped['string'] = string"
      ],
      "execution_count": null,
      "outputs": []
    },
    {
      "cell_type": "code",
      "metadata": {
        "id": "kVo3xu2LWLen",
        "outputId": "13eed2cd-f2ed-455e-c2db-4e184b31214a",
        "colab": {
          "base_uri": "https://localhost:8080/",
          "height": 447
        }
      },
      "source": [
        "df_dropped.head()"
      ],
      "execution_count": null,
      "outputs": [
        {
          "output_type": "execute_result",
          "data": {
            "text/html": [
              "<div>\n",
              "<style scoped>\n",
              "    .dataframe tbody tr th:only-of-type {\n",
              "        vertical-align: middle;\n",
              "    }\n",
              "\n",
              "    .dataframe tbody tr th {\n",
              "        vertical-align: top;\n",
              "    }\n",
              "\n",
              "    .dataframe thead th {\n",
              "        text-align: right;\n",
              "    }\n",
              "</style>\n",
              "<table border=\"1\" class=\"dataframe\">\n",
              "  <thead>\n",
              "    <tr style=\"text-align: right;\">\n",
              "      <th></th>\n",
              "      <th>text</th>\n",
              "      <th>label</th>\n",
              "      <th>new_text</th>\n",
              "      <th>token</th>\n",
              "      <th>token_length</th>\n",
              "      <th>token_wo_stop</th>\n",
              "      <th>token_len_wo_stop</th>\n",
              "      <th>stem</th>\n",
              "      <th>no_rare</th>\n",
              "      <th>no_rare_len</th>\n",
              "      <th>string</th>\n",
              "    </tr>\n",
              "  </thead>\n",
              "  <tbody>\n",
              "    <tr>\n",
              "      <th>0</th>\n",
              "      <td>The new rule is - \\r\\nif you are waiting for a...</td>\n",
              "      <td>4</td>\n",
              "      <td>the new rule is - \\r\\nif you are waiting for a...</td>\n",
              "      <td>[the, new, rule, is, if, you, are, waiting, fo...</td>\n",
              "      <td>108</td>\n",
              "      <td>[new, rule, waiting, table, almost, always, no...</td>\n",
              "      <td>50</td>\n",
              "      <td>[new, rul, wait, tabl, almost, alway, not, wai...</td>\n",
              "      <td>[new, rul, wait, tabl, almost, alway, not, wai...</td>\n",
              "      <td>50</td>\n",
              "      <td>new rul wait tabl almost alway not wait insid ...</td>\n",
              "    </tr>\n",
              "    <tr>\n",
              "      <th>1</th>\n",
              "      <td>Flirted with giving this two stars, but that's...</td>\n",
              "      <td>3</td>\n",
              "      <td>flirted with giving this two stars, but that i...</td>\n",
              "      <td>[flirted, with, giving, this, two, stars, but,...</td>\n",
              "      <td>205</td>\n",
              "      <td>[flirted, giving, two, stars, pretty, damning,...</td>\n",
              "      <td>103</td>\n",
              "      <td>[flirt, giv, two, star, pretty, damn, rat, mig...</td>\n",
              "      <td>[flirt, giv, two, star, pretty, damn, rat, mig...</td>\n",
              "      <td>102</td>\n",
              "      <td>flirt giv two star pretty damn rat might night...</td>\n",
              "    </tr>\n",
              "    <tr>\n",
              "      <th>2</th>\n",
              "      <td>I was staying at planet Hollywood across the s...</td>\n",
              "      <td>5</td>\n",
              "      <td>i was staying at planet hollywood across the s...</td>\n",
              "      <td>[i, was, staying, at, planet, hollywood, acros...</td>\n",
              "      <td>110</td>\n",
              "      <td>[staying, planet, hollywood, across, street, s...</td>\n",
              "      <td>56</td>\n",
              "      <td>[stay, planet, hollywood, across, street, saw,...</td>\n",
              "      <td>[stay, planet, hollywood, across, street, saw,...</td>\n",
              "      <td>56</td>\n",
              "      <td>stay planet hollywood across street saw good r...</td>\n",
              "    </tr>\n",
              "    <tr>\n",
              "      <th>3</th>\n",
              "      <td>Food is good but prices are super expensive.  ...</td>\n",
              "      <td>2</td>\n",
              "      <td>food is good but prices are super expensive.  ...</td>\n",
              "      <td>[food, is, good, but, prices, are, super, expe...</td>\n",
              "      <td>138</td>\n",
              "      <td>[food, good, prices, super, expensive, 8, buck...</td>\n",
              "      <td>71</td>\n",
              "      <td>[food, good, pric, sup, expend, 8, buck, extr,...</td>\n",
              "      <td>[food, good, pric, sup, expend, 8, buck, extr,...</td>\n",
              "      <td>71</td>\n",
              "      <td>food good pric sup expend 8 buck extr larg car...</td>\n",
              "    </tr>\n",
              "    <tr>\n",
              "      <th>4</th>\n",
              "      <td>Worse company to deal with they do horrible wo...</td>\n",
              "      <td>1</td>\n",
              "      <td>worse company to deal with they do horrible wo...</td>\n",
              "      <td>[worse, company, to, deal, with, they, do, hor...</td>\n",
              "      <td>129</td>\n",
              "      <td>[worse, company, deal, horrible, work, bring, ...</td>\n",
              "      <td>61</td>\n",
              "      <td>[wors, company, deal, horr, work, bring, truck...</td>\n",
              "      <td>[wors, company, deal, horr, work, bring, truck...</td>\n",
              "      <td>61</td>\n",
              "      <td>wors company deal horr work bring truck back d...</td>\n",
              "    </tr>\n",
              "  </tbody>\n",
              "</table>\n",
              "</div>"
            ],
            "text/plain": [
              "                                                text  ...                                             string\n",
              "0  The new rule is - \\r\\nif you are waiting for a...  ...  new rul wait tabl almost alway not wait insid ...\n",
              "1  Flirted with giving this two stars, but that's...  ...  flirt giv two star pretty damn rat might night...\n",
              "2  I was staying at planet Hollywood across the s...  ...  stay planet hollywood across street saw good r...\n",
              "3  Food is good but prices are super expensive.  ...  ...  food good pric sup expend 8 buck extr larg car...\n",
              "4  Worse company to deal with they do horrible wo...  ...  wors company deal horr work bring truck back d...\n",
              "\n",
              "[5 rows x 11 columns]"
            ]
          },
          "metadata": {
            "tags": []
          },
          "execution_count": 49
        }
      ]
    },
    {
      "cell_type": "code",
      "metadata": {
        "id": "k5-Gyh_ae2EW"
      },
      "source": [
        "# save the result for later work\n",
        "df_dropped.to_csv('EDA1.csv')"
      ],
      "execution_count": null,
      "outputs": []
    },
    {
      "cell_type": "markdown",
      "metadata": {
        "id": "uQziKSf69LND"
      },
      "source": [
        "# II. Features set charateristics"
      ]
    },
    {
      "cell_type": "code",
      "metadata": {
        "id": "1LxBsaeC9Ph4",
        "outputId": "a0f0c35b-68b7-4ef8-eb19-9e8a471d6647",
        "colab": {
          "base_uri": "https://localhost:8080/",
          "height": 388
        }
      },
      "source": [
        "df_label = pd.read_csv('gdrive/Shared drives/FIT5149 A2/Joe/EDA1.csv')\n",
        "df_label.head()"
      ],
      "execution_count": null,
      "outputs": [
        {
          "output_type": "execute_result",
          "data": {
            "text/html": [
              "<div>\n",
              "<style scoped>\n",
              "    .dataframe tbody tr th:only-of-type {\n",
              "        vertical-align: middle;\n",
              "    }\n",
              "\n",
              "    .dataframe tbody tr th {\n",
              "        vertical-align: top;\n",
              "    }\n",
              "\n",
              "    .dataframe thead th {\n",
              "        text-align: right;\n",
              "    }\n",
              "</style>\n",
              "<table border=\"1\" class=\"dataframe\">\n",
              "  <thead>\n",
              "    <tr style=\"text-align: right;\">\n",
              "      <th></th>\n",
              "      <th>Unnamed: 0</th>\n",
              "      <th>text</th>\n",
              "      <th>label</th>\n",
              "      <th>new_text</th>\n",
              "      <th>token</th>\n",
              "      <th>token_wo_stop</th>\n",
              "      <th>token_len_wo_stop</th>\n",
              "      <th>stem</th>\n",
              "      <th>no_rare</th>\n",
              "      <th>no_rare_len</th>\n",
              "      <th>string</th>\n",
              "    </tr>\n",
              "  </thead>\n",
              "  <tbody>\n",
              "    <tr>\n",
              "      <th>0</th>\n",
              "      <td>0</td>\n",
              "      <td>The new rule is - \\r\\nif you are waiting for a...</td>\n",
              "      <td>4</td>\n",
              "      <td>the new rule is - \\r\\nif you are waiting for a...</td>\n",
              "      <td>['the', 'new', 'rule', 'is', 'if', 'you', 'are...</td>\n",
              "      <td>['new', 'rule', 'waiting', 'table', 'almost', ...</td>\n",
              "      <td>50</td>\n",
              "      <td>['new', 'rul', 'wait', 'tabl', 'almost', 'alwa...</td>\n",
              "      <td>['new', 'rul', 'wait', 'tabl', 'almost', 'alwa...</td>\n",
              "      <td>50</td>\n",
              "      <td>new rul wait tabl almost alway not wait insid ...</td>\n",
              "    </tr>\n",
              "    <tr>\n",
              "      <th>1</th>\n",
              "      <td>1</td>\n",
              "      <td>Flirted with giving this two stars, but that's...</td>\n",
              "      <td>3</td>\n",
              "      <td>flirted with giving this two stars, but that i...</td>\n",
              "      <td>['flirted', 'with', 'giving', 'this', 'two', '...</td>\n",
              "      <td>['flirted', 'giving', 'two', 'stars', 'pretty'...</td>\n",
              "      <td>103</td>\n",
              "      <td>['flirt', 'giv', 'two', 'star', 'pretty', 'dam...</td>\n",
              "      <td>['flirt', 'giv', 'two', 'star', 'pretty', 'dam...</td>\n",
              "      <td>102</td>\n",
              "      <td>flirt giv two star pretty damn rat might night...</td>\n",
              "    </tr>\n",
              "    <tr>\n",
              "      <th>2</th>\n",
              "      <td>2</td>\n",
              "      <td>I was staying at planet Hollywood across the s...</td>\n",
              "      <td>5</td>\n",
              "      <td>i was staying at planet hollywood across the s...</td>\n",
              "      <td>['i', 'was', 'staying', 'at', 'planet', 'holly...</td>\n",
              "      <td>['staying', 'planet', 'hollywood', 'across', '...</td>\n",
              "      <td>56</td>\n",
              "      <td>['stay', 'planet', 'hollywood', 'across', 'str...</td>\n",
              "      <td>['stay', 'planet', 'hollywood', 'across', 'str...</td>\n",
              "      <td>56</td>\n",
              "      <td>stay planet hollywood across street saw good r...</td>\n",
              "    </tr>\n",
              "    <tr>\n",
              "      <th>3</th>\n",
              "      <td>3</td>\n",
              "      <td>Food is good but prices are super expensive.  ...</td>\n",
              "      <td>2</td>\n",
              "      <td>food is good but prices are super expensive.  ...</td>\n",
              "      <td>['food', 'is', 'good', 'but', 'prices', 'are',...</td>\n",
              "      <td>['food', 'good', 'prices', 'super', 'expensive...</td>\n",
              "      <td>71</td>\n",
              "      <td>['food', 'good', 'pric', 'sup', 'expend', '8',...</td>\n",
              "      <td>['food', 'good', 'pric', 'sup', 'expend', '8',...</td>\n",
              "      <td>71</td>\n",
              "      <td>food good pric sup expend 8 buck extr larg car...</td>\n",
              "    </tr>\n",
              "    <tr>\n",
              "      <th>4</th>\n",
              "      <td>4</td>\n",
              "      <td>Worse company to deal with they do horrible wo...</td>\n",
              "      <td>1</td>\n",
              "      <td>worse company to deal with they do horrible wo...</td>\n",
              "      <td>['worse', 'company', 'to', 'deal', 'with', 'th...</td>\n",
              "      <td>['worse', 'company', 'deal', 'horrible', 'work...</td>\n",
              "      <td>61</td>\n",
              "      <td>['wors', 'company', 'deal', 'horr', 'work', 'b...</td>\n",
              "      <td>['wors', 'company', 'deal', 'horr', 'work', 'b...</td>\n",
              "      <td>61</td>\n",
              "      <td>wors company deal horr work bring truck back d...</td>\n",
              "    </tr>\n",
              "  </tbody>\n",
              "</table>\n",
              "</div>"
            ],
            "text/plain": [
              "   Unnamed: 0  ...                                             string\n",
              "0           0  ...  new rul wait tabl almost alway not wait insid ...\n",
              "1           1  ...  flirt giv two star pretty damn rat might night...\n",
              "2           2  ...  stay planet hollywood across street saw good r...\n",
              "3           3  ...  food good pric sup expend 8 buck extr larg car...\n",
              "4           4  ...  wors company deal horr work bring truck back d...\n",
              "\n",
              "[5 rows x 11 columns]"
            ]
          },
          "metadata": {
            "tags": []
          },
          "execution_count": 7
        }
      ]
    },
    {
      "cell_type": "markdown",
      "metadata": {
        "id": "GjJ545h5aiPv"
      },
      "source": [
        "**The same preprocessing steps are applied to the unlabel data, since all the codes are redundant, they are not included in the submission.**"
      ]
    },
    {
      "cell_type": "code",
      "metadata": {
        "id": "DAvOuigFUOgv",
        "outputId": "67eaf025-70b0-4df1-b75d-0abbb72c9d54",
        "colab": {
          "base_uri": "https://localhost:8080/",
          "height": 198
        }
      },
      "source": [
        "#unlabel data\n",
        "df_unlabel = pd.read_csv('gdrive/Shared drives/FIT5149 A2/Joe/unlabel_clean.csv')\n",
        "df_unlabel.head()"
      ],
      "execution_count": null,
      "outputs": [
        {
          "output_type": "execute_result",
          "data": {
            "text/html": [
              "<div>\n",
              "<style scoped>\n",
              "    .dataframe tbody tr th:only-of-type {\n",
              "        vertical-align: middle;\n",
              "    }\n",
              "\n",
              "    .dataframe tbody tr th {\n",
              "        vertical-align: top;\n",
              "    }\n",
              "\n",
              "    .dataframe thead th {\n",
              "        text-align: right;\n",
              "    }\n",
              "</style>\n",
              "<table border=\"1\" class=\"dataframe\">\n",
              "  <thead>\n",
              "    <tr style=\"text-align: right;\">\n",
              "      <th></th>\n",
              "      <th>Unnamed: 0</th>\n",
              "      <th>Unnamed: 0.1</th>\n",
              "      <th>no_rare</th>\n",
              "      <th>string</th>\n",
              "      <th>length</th>\n",
              "    </tr>\n",
              "  </thead>\n",
              "  <tbody>\n",
              "    <tr>\n",
              "      <th>0</th>\n",
              "      <td>0</td>\n",
              "      <td>0</td>\n",
              "      <td>['good', 'expery', 'wif', 'sat', 'bar', 'gre',...</td>\n",
              "      <td>good expery wif sat bar gre pizz wing howev tr...</td>\n",
              "      <td>52</td>\n",
              "    </tr>\n",
              "    <tr>\n",
              "      <th>1</th>\n",
              "      <td>1</td>\n",
              "      <td>1</td>\n",
              "      <td>['first', 'mont', 'gf', 'cam', 'eat', 'nic', '...</td>\n",
              "      <td>first mont gf cam eat nic mid day lunch walk a...</td>\n",
              "      <td>144</td>\n",
              "    </tr>\n",
              "    <tr>\n",
              "      <th>2</th>\n",
              "      <td>2</td>\n",
              "      <td>2</td>\n",
              "      <td>['on', 'favorit', 'plac', 'go', 'cold', 'rainy...</td>\n",
              "      <td>on favorit plac go cold rainy comfort food try...</td>\n",
              "      <td>13</td>\n",
              "    </tr>\n",
              "    <tr>\n",
              "      <th>3</th>\n",
              "      <td>3</td>\n",
              "      <td>3</td>\n",
              "      <td>['doct', 'nic', 'got', 'good', 'amount', 'tim'...</td>\n",
              "      <td>doct nic got good amount tim feel lik visit ac...</td>\n",
              "      <td>74</td>\n",
              "    </tr>\n",
              "    <tr>\n",
              "      <th>4</th>\n",
              "      <td>4</td>\n",
              "      <td>4</td>\n",
              "      <td>['nook', 'immedy', 'phoenix', 'stapl', 'cam', ...</td>\n",
              "      <td>nook immedy phoenix stapl cam met fam not real...</td>\n",
              "      <td>93</td>\n",
              "    </tr>\n",
              "  </tbody>\n",
              "</table>\n",
              "</div>"
            ],
            "text/plain": [
              "   Unnamed: 0  ...  length\n",
              "0           0  ...      52\n",
              "1           1  ...     144\n",
              "2           2  ...      13\n",
              "3           3  ...      74\n",
              "4           4  ...      93\n",
              "\n",
              "[5 rows x 5 columns]"
            ]
          },
          "metadata": {
            "tags": []
          },
          "execution_count": 3
        }
      ]
    },
    {
      "cell_type": "code",
      "metadata": {
        "id": "XyTo-s2jVGXT",
        "outputId": "9fa382dd-ca60-4883-b983-15be111ef123",
        "colab": {
          "base_uri": "https://localhost:8080/",
          "height": 198
        }
      },
      "source": [
        "df_combine = pd.DataFrame({'text': pd.concat([df_label['string'],df_unlabel['string']])})\n",
        "df_combine = df_combine.astype(str)\n",
        "df_combine.head()"
      ],
      "execution_count": null,
      "outputs": [
        {
          "output_type": "execute_result",
          "data": {
            "text/html": [
              "<div>\n",
              "<style scoped>\n",
              "    .dataframe tbody tr th:only-of-type {\n",
              "        vertical-align: middle;\n",
              "    }\n",
              "\n",
              "    .dataframe tbody tr th {\n",
              "        vertical-align: top;\n",
              "    }\n",
              "\n",
              "    .dataframe thead th {\n",
              "        text-align: right;\n",
              "    }\n",
              "</style>\n",
              "<table border=\"1\" class=\"dataframe\">\n",
              "  <thead>\n",
              "    <tr style=\"text-align: right;\">\n",
              "      <th></th>\n",
              "      <th>text</th>\n",
              "    </tr>\n",
              "  </thead>\n",
              "  <tbody>\n",
              "    <tr>\n",
              "      <th>0</th>\n",
              "      <td>new rul wait tabl almost alway not wait insid ...</td>\n",
              "    </tr>\n",
              "    <tr>\n",
              "      <th>1</th>\n",
              "      <td>flirt giv two star pretty damn rat might night...</td>\n",
              "    </tr>\n",
              "    <tr>\n",
              "      <th>2</th>\n",
              "      <td>stay planet hollywood across street saw good r...</td>\n",
              "    </tr>\n",
              "    <tr>\n",
              "      <th>3</th>\n",
              "      <td>food good pric sup expend 8 buck extr larg car...</td>\n",
              "    </tr>\n",
              "    <tr>\n",
              "      <th>4</th>\n",
              "      <td>wors company deal horr work bring truck back d...</td>\n",
              "    </tr>\n",
              "  </tbody>\n",
              "</table>\n",
              "</div>"
            ],
            "text/plain": [
              "                                                text\n",
              "0  new rul wait tabl almost alway not wait insid ...\n",
              "1  flirt giv two star pretty damn rat might night...\n",
              "2  stay planet hollywood across street saw good r...\n",
              "3  food good pric sup expend 8 buck extr larg car...\n",
              "4  wors company deal horr work bring truck back d..."
            ]
          },
          "metadata": {
            "tags": []
          },
          "execution_count": 35
        }
      ]
    },
    {
      "cell_type": "markdown",
      "metadata": {
        "id": "D_QBhWWD-mot"
      },
      "source": [
        "#### Total number of documents"
      ]
    },
    {
      "cell_type": "code",
      "metadata": {
        "id": "tdJZsqDS9q2E",
        "outputId": "f07caac8-2de8-437f-c12d-e335dd132e61",
        "colab": {
          "base_uri": "https://localhost:8080/",
          "height": 35
        }
      },
      "source": [
        "len(df_combine)"
      ],
      "execution_count": null,
      "outputs": [
        {
          "output_type": "execute_result",
          "data": {
            "text/plain": [
              "649745"
            ]
          },
          "metadata": {
            "tags": []
          },
          "execution_count": 37
        }
      ]
    },
    {
      "cell_type": "markdown",
      "metadata": {
        "id": "9BmQfuVTAKb4"
      },
      "source": [
        "#### Size of vocabulary"
      ]
    },
    {
      "cell_type": "code",
      "metadata": {
        "id": "Bbg6btR4-sbu",
        "outputId": "1f0a78f1-fcec-431e-bb57-a23edc5e1a36",
        "colab": {
          "base_uri": "https://localhost:8080/",
          "height": 35
        }
      },
      "source": [
        "cnt = Counter()\n",
        "\n",
        "for i in range(len(df_combine)):\n",
        "   l = df_combine['text'].values[i].split()\n",
        "   for word in set(l):\n",
        "     cnt[word] += 1\n",
        "\n",
        "len(cnt)"
      ],
      "execution_count": null,
      "outputs": [
        {
          "output_type": "execute_result",
          "data": {
            "text/plain": [
              "53391"
            ]
          },
          "metadata": {
            "tags": []
          },
          "execution_count": 44
        }
      ]
    },
    {
      "cell_type": "markdown",
      "metadata": {
        "id": "XlQiP1NWAOLu"
      },
      "source": [
        "#### Average number of tokens"
      ]
    },
    {
      "cell_type": "code",
      "metadata": {
        "id": "dcz5Pz0ZAfL0"
      },
      "source": [
        "token_len =[len(_text.split()) for _text in df_combine.text]"
      ],
      "execution_count": null,
      "outputs": []
    },
    {
      "cell_type": "code",
      "metadata": {
        "id": "M2w6Sf-qZJps",
        "outputId": "81d266e6-6414-469f-fea7-c0f90065c5ba",
        "colab": {
          "base_uri": "https://localhost:8080/",
          "height": 35
        }
      },
      "source": [
        "np.mean(token_len)"
      ],
      "execution_count": null,
      "outputs": [
        {
          "output_type": "execute_result",
          "data": {
            "text/plain": [
              "62.26846378194522"
            ]
          },
          "metadata": {
            "tags": []
          },
          "execution_count": 46
        }
      ]
    },
    {
      "cell_type": "markdown",
      "metadata": {
        "id": "51GXcVSGAbBb"
      },
      "source": [
        "#### Minimum and Maximum number of product review"
      ]
    },
    {
      "cell_type": "code",
      "metadata": {
        "id": "5qo2gJv-Ajn5",
        "outputId": "edd4b534-282a-4e5b-89bb-17103f65c54b",
        "colab": {
          "base_uri": "https://localhost:8080/",
          "height": 35
        }
      },
      "source": [
        "min(token_len)"
      ],
      "execution_count": null,
      "outputs": [
        {
          "output_type": "execute_result",
          "data": {
            "text/plain": [
              "1"
            ]
          },
          "metadata": {
            "tags": []
          },
          "execution_count": 25
        }
      ]
    },
    {
      "cell_type": "code",
      "metadata": {
        "id": "REUQ1CTLWvCu",
        "outputId": "0f68a00b-ce1c-4e74-e2bf-67e93dac9e67",
        "colab": {
          "base_uri": "https://localhost:8080/",
          "height": 35
        }
      },
      "source": [
        "max(token_len)"
      ],
      "execution_count": null,
      "outputs": [
        {
          "output_type": "execute_result",
          "data": {
            "text/plain": [
              "833"
            ]
          },
          "metadata": {
            "tags": []
          },
          "execution_count": 26
        }
      ]
    },
    {
      "cell_type": "markdown",
      "metadata": {
        "id": "NkvAEtrFApQ9"
      },
      "source": [
        "#### Standard deviation of the size of product review"
      ]
    },
    {
      "cell_type": "code",
      "metadata": {
        "id": "59XXsQl1Av1K",
        "outputId": "0358931f-ca60-4048-dfdc-97dc84cfd35f",
        "colab": {
          "base_uri": "https://localhost:8080/",
          "height": 35
        }
      },
      "source": [
        "np.std(token_len)"
      ],
      "execution_count": null,
      "outputs": [
        {
          "output_type": "execute_result",
          "data": {
            "text/plain": [
              "55.58611964697333"
            ]
          },
          "metadata": {
            "tags": []
          },
          "execution_count": 47
        }
      ]
    },
    {
      "cell_type": "markdown",
      "metadata": {
        "id": "43Oo8CIITZZN"
      },
      "source": [
        "# 3. Training word embedding"
      ]
    },
    {
      "cell_type": "code",
      "metadata": {
        "id": "Xr9nOuyoZlot",
        "outputId": "08f37b1d-f82c-48f6-ddd7-813ae4458cfd",
        "colab": {
          "base_uri": "https://localhost:8080/",
          "height": 35
        }
      },
      "source": [
        "# Scikit-learn\n",
        "from sklearn.model_selection import train_test_split\n",
        "\n",
        "# Keras\n",
        "from keras.preprocessing.text import Tokenizer\n",
        "from keras.preprocessing.sequence import pad_sequences\n",
        "from keras.models import Sequential\n",
        "from keras.layers import Activation, Dense, Dropout, Embedding, Flatten, Conv1D, MaxPooling1D, LSTM\n",
        "from keras import utils\n",
        "from keras.callbacks import ReduceLROnPlateau, EarlyStopping\n",
        "\n",
        "# Word2vec\n",
        "import gensim\n",
        "from gensim.models import Word2Vec\n",
        "\n",
        "# Utility\n",
        "import re\n",
        "import numpy as np\n",
        "import os\n",
        "from collections import Counter\n",
        "import logging\n",
        "import time\n",
        "import pickle\n",
        "import itertools"
      ],
      "execution_count": null,
      "outputs": [
        {
          "output_type": "stream",
          "text": [
            "Using TensorFlow backend.\n"
          ],
          "name": "stderr"
        }
      ]
    },
    {
      "cell_type": "code",
      "metadata": {
        "id": "pQc7XZcfdQvw"
      },
      "source": [
        "# combine documents from label and unlabel data\n",
        "documents = [_text.split() for _text in df_label.string] + [_text.split() for _text in df_unlabel.string]"
      ],
      "execution_count": null,
      "outputs": []
    },
    {
      "cell_type": "code",
      "metadata": {
        "id": "Y9cDi8fieEOG"
      },
      "source": [
        "# WORD2VEC \n",
        "W2V_SIZE = 150\n",
        "W2V_WINDOW = 7\n",
        "W2V_EPOCH = 32\n",
        "W2V_MIN_COUNT = 10\n",
        "\n",
        "# KERAS\n",
        "SEQUENCE_LENGTH = 500\n",
        "EPOCHS = 50\n",
        "BATCH_SIZE = 100"
      ],
      "execution_count": null,
      "outputs": []
    },
    {
      "cell_type": "code",
      "metadata": {
        "id": "JGN5oP90eYCT"
      },
      "source": [
        "# initialize word2vec model\n",
        "w2v_model = gensim.models.word2vec.Word2Vec(size=W2V_SIZE, \n",
        "                                            window=W2V_WINDOW, \n",
        "                                            min_count=W2V_MIN_COUNT, \n",
        "                                            workers=8)\n",
        "w2v_model.build_vocab(documents)"
      ],
      "execution_count": null,
      "outputs": []
    },
    {
      "cell_type": "code",
      "metadata": {
        "id": "tQAaSMmPeiqk",
        "outputId": "e388d201-3a2a-4439-91e0-84f62db97ff2",
        "colab": {
          "base_uri": "https://localhost:8080/",
          "height": 35
        }
      },
      "source": [
        "# train word embedding\n",
        "w2v_model.train(documents, total_examples=len(documents), epochs=W2V_EPOCH)"
      ],
      "execution_count": null,
      "outputs": [
        {
          "output_type": "execute_result",
          "data": {
            "text/plain": [
              "(1170181036, 1294683296)"
            ]
          },
          "metadata": {
            "tags": []
          },
          "execution_count": 40
        }
      ]
    },
    {
      "cell_type": "code",
      "metadata": {
        "id": "eSXPwfX-eo32",
        "outputId": "3ba889c0-1168-4ecf-b6cc-abc40c249b77",
        "colab": {
          "base_uri": "https://localhost:8080/",
          "height": 74
        }
      },
      "source": [
        "# save model\n",
        "w2v_model.save(\"word2vec_all.model\")\n",
        "!cp word2vec_all.model \"/content/gdrive/Shared drives/FIT5149 A2/Joe/\""
      ],
      "execution_count": null,
      "outputs": [
        {
          "output_type": "stream",
          "text": [
            "/usr/local/lib/python3.6/dist-packages/smart_open/smart_open_lib.py:398: UserWarning: This function is deprecated, use smart_open.open instead. See the migration notes for details: https://github.com/RaRe-Technologies/smart_open/blob/master/README.rst#migrating-to-the-new-open-function\n",
            "  'See the migration notes for details: %s' % _MIGRATION_NOTES_URL\n"
          ],
          "name": "stderr"
        }
      ]
    },
    {
      "cell_type": "code",
      "metadata": {
        "id": "P2bqYN_JkCE4"
      },
      "source": [
        "# tokenization\n",
        "tokenizer = Tokenizer()\n",
        "tokenizer.fit_on_texts(df_combine.text)\n",
        "\n",
        "vocab_size = len(tokenizer.word_index) + 1"
      ],
      "execution_count": null,
      "outputs": []
    },
    {
      "cell_type": "code",
      "metadata": {
        "id": "Zi_4HqmumIKJ"
      },
      "source": [
        "# save tokenizer\n",
        "with open('tokenizer.pickle', 'wb') as handle:\n",
        "    pickle.dump(tokenizer, handle, protocol=pickle.HIGHEST_PROTOCOL)\n",
        "    \n",
        "!cp tokenizer.pickle \"/content/gdrive/Shared drives/FIT5149 A2/Joe/\""
      ],
      "execution_count": null,
      "outputs": []
    },
    {
      "cell_type": "markdown",
      "metadata": {
        "id": "xk7wzz3saTAz"
      },
      "source": [
        "# END"
      ]
    },
    {
      "cell_type": "code",
      "metadata": {
        "id": "0pth2WmsaErH"
      },
      "source": [
        ""
      ],
      "execution_count": null,
      "outputs": []
    },
    {
      "cell_type": "code",
      "metadata": {
        "id": "dSP4wOX8xDrj"
      },
      "source": [
        "from sklearn.model_selection import train_test_split\n",
        "\n",
        "# stratified sampling to make sure we have balance class for the validation set\n",
        "X_train, X_test, Y_train, Y_test = train_test_split(df_label['string'], df_label['label'], test_size=0.2, random_state=42, stratify=df_label['label'])"
      ],
      "execution_count": null,
      "outputs": []
    },
    {
      "cell_type": "code",
      "metadata": {
        "id": "bJNNXXgjdbIB"
      },
      "source": [
        ""
      ],
      "execution_count": null,
      "outputs": []
    },
    {
      "cell_type": "code",
      "metadata": {
        "id": "l2YqRh3qxLcs"
      },
      "source": [
        "x_train = pad_sequences(tokenizer.texts_to_sequences(X_train), maxlen=SEQUENCE_LENGTH)\n",
        "x_test = pad_sequences(tokenizer.texts_to_sequences(X_test), maxlen=SEQUENCE_LENGTH)"
      ],
      "execution_count": null,
      "outputs": []
    },
    {
      "cell_type": "code",
      "metadata": {
        "id": "921M40ovxQt2",
        "outputId": "ab2f38d2-6c9d-4134-af7b-34d92719b19f",
        "colab": {
          "base_uri": "https://localhost:8080/",
          "height": 54
        }
      },
      "source": [
        "y_train = pd.get_dummies(Y_train).values\n",
        "y_test = pd.get_dummies(Y_test).values\n",
        "print(\"y_train\",y_train.shape)\n",
        "print(\"y_test\",y_test.shape)"
      ],
      "execution_count": null,
      "outputs": [
        {
          "output_type": "stream",
          "text": [
            "y_train (39991, 5)\n",
            "y_test (9998, 5)\n"
          ],
          "name": "stdout"
        }
      ]
    },
    {
      "cell_type": "code",
      "metadata": {
        "id": "kmSI1jVO7s8-",
        "outputId": "805784da-84e9-4bd1-d686-d0db13f8fefd",
        "colab": {
          "base_uri": "https://localhost:8080/",
          "height": 74
        }
      },
      "source": [
        "w2v_model = Word2Vec.load(\"gdrive/Shared drives/FIT5149 A2/Joe/word2vec_all.model\")"
      ],
      "execution_count": null,
      "outputs": [
        {
          "output_type": "stream",
          "text": [
            "/usr/local/lib/python3.6/dist-packages/smart_open/smart_open_lib.py:398: UserWarning: This function is deprecated, use smart_open.open instead. See the migration notes for details: https://github.com/RaRe-Technologies/smart_open/blob/master/README.rst#migrating-to-the-new-open-function\n",
            "  'See the migration notes for details: %s' % _MIGRATION_NOTES_URL\n"
          ],
          "name": "stderr"
        }
      ]
    },
    {
      "cell_type": "code",
      "metadata": {
        "id": "eYnmox_exVQT",
        "outputId": "7160599b-0f96-491d-eb98-e7dcc82dd5e6",
        "colab": {
          "base_uri": "https://localhost:8080/",
          "height": 35
        }
      },
      "source": [
        "embedding_matrix = np.zeros((vocab_size, W2V_SIZE))\n",
        "for word, i in tokenizer.word_index.items():\n",
        "  if word in w2v_model.wv:\n",
        "    embedding_matrix[i] = w2v_model.wv[word]\n",
        "print(embedding_matrix.shape)"
      ],
      "execution_count": null,
      "outputs": [
        {
          "output_type": "stream",
          "text": [
            "(53392, 150)\n"
          ],
          "name": "stdout"
        }
      ]
    },
    {
      "cell_type": "code",
      "metadata": {
        "id": "DXjBqIHjxbgY"
      },
      "source": [
        "embedding_layer = Embedding(vocab_size, W2V_SIZE, weights=[embedding_matrix], input_length=SEQUENCE_LENGTH, trainable=False)"
      ],
      "execution_count": null,
      "outputs": []
    },
    {
      "cell_type": "code",
      "metadata": {
        "id": "75xozhLGxfzT"
      },
      "source": [
        "model = Sequential()\n",
        "model.add(embedding_layer)\n",
        "model.add(Dropout(0.2))\n",
        "model.add(LSTM(100, dropout=0.2, recurrent_dropout=0.2, return_sequences = True))\n",
        "model.add(Dropout(0.2))\n",
        "model.add(LSTM(100, dropout=0.2, recurrent_dropout=0.2))\n",
        "model.add(Dense(5, activation='softmax'))\n",
        "\n",
        "model.compile(loss='categorical_crossentropy',\n",
        "              optimizer=\"adam\",\n",
        "              metrics=['accuracy'])\n",
        "\n",
        "callbacks = [ ReduceLROnPlateau(monitor='val_loss', patience=5, cooldown=0),\n",
        "              EarlyStopping(monitor='val_loss', min_delta=1e-4, patience=3)]"
      ],
      "execution_count": null,
      "outputs": []
    },
    {
      "cell_type": "code",
      "metadata": {
        "id": "3KyOIebWxn7O",
        "outputId": "df8d2bab-65d0-4a4a-e475-c0ef75c6a3b8",
        "colab": {
          "base_uri": "https://localhost:8080/",
          "height": 890
        }
      },
      "source": [
        "model.fit(x_train, y_train,\n",
        "                    batch_size=1000,\n",
        "                    epochs=EPOCHS,\n",
        "                    validation_data = (x_test, y_test),\n",
        "                    verbose=1,\n",
        "                    callbacks=callbacks)"
      ],
      "execution_count": null,
      "outputs": [
        {
          "output_type": "stream",
          "text": [
            "Train on 39991 samples, validate on 9998 samples\n",
            "Epoch 1/50\n",
            "39991/39991 [==============================] - 49s 1ms/step - loss: 1.3021 - acc: 0.4262 - val_loss: 1.0720 - val_acc: 0.5357\n",
            "Epoch 2/50\n",
            "39991/39991 [==============================] - 46s 1ms/step - loss: 1.0890 - acc: 0.5280 - val_loss: 0.9986 - val_acc: 0.5776\n",
            "Epoch 3/50\n",
            "39991/39991 [==============================] - 46s 1ms/step - loss: 1.0418 - acc: 0.5482 - val_loss: 0.9827 - val_acc: 0.5802\n",
            "Epoch 4/50\n",
            "39991/39991 [==============================] - 46s 1ms/step - loss: 1.0082 - acc: 0.5643 - val_loss: 0.9602 - val_acc: 0.5949\n",
            "Epoch 5/50\n",
            "39991/39991 [==============================] - 46s 1ms/step - loss: 0.9903 - acc: 0.5735 - val_loss: 0.9472 - val_acc: 0.5954\n",
            "Epoch 6/50\n",
            "39991/39991 [==============================] - 46s 1ms/step - loss: 0.9747 - acc: 0.5798 - val_loss: 0.9381 - val_acc: 0.6018\n",
            "Epoch 7/50\n",
            "39991/39991 [==============================] - 46s 1ms/step - loss: 0.9589 - acc: 0.5878 - val_loss: 0.9383 - val_acc: 0.5989\n",
            "Epoch 8/50\n",
            "39991/39991 [==============================] - 46s 1ms/step - loss: 0.9466 - acc: 0.5915 - val_loss: 0.9268 - val_acc: 0.6017\n",
            "Epoch 9/50\n",
            "39991/39991 [==============================] - 46s 1ms/step - loss: 0.9323 - acc: 0.5983 - val_loss: 0.9159 - val_acc: 0.6058\n",
            "Epoch 10/50\n",
            "39991/39991 [==============================] - 46s 1ms/step - loss: 0.9243 - acc: 0.6021 - val_loss: 0.9113 - val_acc: 0.6094\n",
            "Epoch 11/50\n",
            "39991/39991 [==============================] - 46s 1ms/step - loss: 0.9157 - acc: 0.6047 - val_loss: 0.9088 - val_acc: 0.6087\n",
            "Epoch 12/50\n",
            "39991/39991 [==============================] - 46s 1ms/step - loss: 0.9092 - acc: 0.6061 - val_loss: 0.9059 - val_acc: 0.6128\n",
            "Epoch 13/50\n",
            "39991/39991 [==============================] - 46s 1ms/step - loss: 0.9024 - acc: 0.6091 - val_loss: 0.9040 - val_acc: 0.6114\n",
            "Epoch 14/50\n",
            "39991/39991 [==============================] - 46s 1ms/step - loss: 0.8923 - acc: 0.6140 - val_loss: 0.8976 - val_acc: 0.6151\n",
            "Epoch 15/50\n",
            "39991/39991 [==============================] - 46s 1ms/step - loss: 0.8850 - acc: 0.6179 - val_loss: 0.8933 - val_acc: 0.6142\n",
            "Epoch 16/50\n",
            "39991/39991 [==============================] - 46s 1ms/step - loss: 0.8783 - acc: 0.6198 - val_loss: 0.8924 - val_acc: 0.6153\n",
            "Epoch 17/50\n",
            "39991/39991 [==============================] - 46s 1ms/step - loss: 0.8715 - acc: 0.6234 - val_loss: 0.8873 - val_acc: 0.6157\n",
            "Epoch 18/50\n",
            "39991/39991 [==============================] - 46s 1ms/step - loss: 0.8684 - acc: 0.6252 - val_loss: 0.8924 - val_acc: 0.6159\n",
            "Epoch 19/50\n",
            "39991/39991 [==============================] - 46s 1ms/step - loss: 0.8635 - acc: 0.6267 - val_loss: 0.8905 - val_acc: 0.6183\n",
            "Epoch 20/50\n",
            "39991/39991 [==============================] - 46s 1ms/step - loss: 0.8588 - acc: 0.6285 - val_loss: 0.8833 - val_acc: 0.6174\n",
            "Epoch 21/50\n",
            "39991/39991 [==============================] - 46s 1ms/step - loss: 0.8533 - acc: 0.6332 - val_loss: 0.8842 - val_acc: 0.6190\n",
            "Epoch 22/50\n",
            "39991/39991 [==============================] - 46s 1ms/step - loss: 0.8461 - acc: 0.6341 - val_loss: 0.8849 - val_acc: 0.6216\n",
            "Epoch 23/50\n",
            "39991/39991 [==============================] - 46s 1ms/step - loss: 0.8430 - acc: 0.6387 - val_loss: 0.8858 - val_acc: 0.6166\n"
          ],
          "name": "stdout"
        },
        {
          "output_type": "execute_result",
          "data": {
            "text/plain": [
              "<keras.callbacks.History at 0x7fa328aedeb8>"
            ]
          },
          "metadata": {
            "tags": []
          },
          "execution_count": 51
        }
      ]
    },
    {
      "cell_type": "code",
      "metadata": {
        "id": "zGfgjzshHDg1"
      },
      "source": [
        "model.save('LSTM_2_v1.h5')\n",
        "!cp LSTM_2_v1.h5 \"/content/gdrive/Shared drives/FIT5149 A2/Joe/\""
      ],
      "execution_count": null,
      "outputs": []
    },
    {
      "cell_type": "markdown",
      "metadata": {
        "id": "SPPsJO6XJBfO"
      },
      "source": [
        "## Self training: iteration 1"
      ]
    },
    {
      "cell_type": "code",
      "metadata": {
        "id": "SE5lZNNckbTH",
        "outputId": "149dc8e5-d5ff-4baf-d4e0-d0cc279656f2",
        "colab": {
          "base_uri": "https://localhost:8080/",
          "height": 198
        }
      },
      "source": [
        "df_train = pd.DataFrame({'text': X_train, 'label':Y_train})\n",
        "df_train.head()"
      ],
      "execution_count": null,
      "outputs": [
        {
          "output_type": "execute_result",
          "data": {
            "text/html": [
              "<div>\n",
              "<style scoped>\n",
              "    .dataframe tbody tr th:only-of-type {\n",
              "        vertical-align: middle;\n",
              "    }\n",
              "\n",
              "    .dataframe tbody tr th {\n",
              "        vertical-align: top;\n",
              "    }\n",
              "\n",
              "    .dataframe thead th {\n",
              "        text-align: right;\n",
              "    }\n",
              "</style>\n",
              "<table border=\"1\" class=\"dataframe\">\n",
              "  <thead>\n",
              "    <tr style=\"text-align: right;\">\n",
              "      <th></th>\n",
              "      <th>text</th>\n",
              "      <th>label</th>\n",
              "    </tr>\n",
              "  </thead>\n",
              "  <tbody>\n",
              "    <tr>\n",
              "      <th>25226</th>\n",
              "      <td>lov cantin 1511 plain simpl margarita fantast ...</td>\n",
              "      <td>4</td>\n",
              "    </tr>\n",
              "    <tr>\n",
              "      <th>14451</th>\n",
              "      <td>ye duck wing good not enough mak want ev go ba...</td>\n",
              "      <td>2</td>\n",
              "    </tr>\n",
              "    <tr>\n",
              "      <th>14927</th>\n",
              "      <td>nic plac food pretty good on complaint pitch b...</td>\n",
              "      <td>2</td>\n",
              "    </tr>\n",
              "    <tr>\n",
              "      <th>43418</th>\n",
              "      <td>tak grandmoth problem breath congest vomit wen...</td>\n",
              "      <td>4</td>\n",
              "    </tr>\n",
              "    <tr>\n",
              "      <th>12551</th>\n",
              "      <td>last day vega tir typ buffet vega far yelp dis...</td>\n",
              "      <td>5</td>\n",
              "    </tr>\n",
              "  </tbody>\n",
              "</table>\n",
              "</div>"
            ],
            "text/plain": [
              "                                                    text  label\n",
              "25226  lov cantin 1511 plain simpl margarita fantast ...      4\n",
              "14451  ye duck wing good not enough mak want ev go ba...      2\n",
              "14927  nic plac food pretty good on complaint pitch b...      2\n",
              "43418  tak grandmoth problem breath congest vomit wen...      4\n",
              "12551  last day vega tir typ buffet vega far yelp dis...      5"
            ]
          },
          "metadata": {
            "tags": []
          },
          "execution_count": 54
        }
      ]
    },
    {
      "cell_type": "code",
      "metadata": {
        "id": "uyiSKU0fkzhq",
        "outputId": "269c5d44-573f-4955-afd0-2248be266040",
        "colab": {
          "base_uri": "https://localhost:8080/",
          "height": 198
        }
      },
      "source": [
        "df_validate = pd.DataFrame({'text': X_test, 'label':Y_test})\n",
        "df_validate.head()"
      ],
      "execution_count": null,
      "outputs": [
        {
          "output_type": "execute_result",
          "data": {
            "text/html": [
              "<div>\n",
              "<style scoped>\n",
              "    .dataframe tbody tr th:only-of-type {\n",
              "        vertical-align: middle;\n",
              "    }\n",
              "\n",
              "    .dataframe tbody tr th {\n",
              "        vertical-align: top;\n",
              "    }\n",
              "\n",
              "    .dataframe thead th {\n",
              "        text-align: right;\n",
              "    }\n",
              "</style>\n",
              "<table border=\"1\" class=\"dataframe\">\n",
              "  <thead>\n",
              "    <tr style=\"text-align: right;\">\n",
              "      <th></th>\n",
              "      <th>text</th>\n",
              "      <th>label</th>\n",
              "    </tr>\n",
              "  </thead>\n",
              "  <tbody>\n",
              "    <tr>\n",
              "      <th>28669</th>\n",
              "      <td>twic nev disappoint visit excel plac learn can...</td>\n",
              "      <td>5</td>\n",
              "    </tr>\n",
              "    <tr>\n",
              "      <th>16971</th>\n",
              "      <td>good review convint giv plac try went mass fir...</td>\n",
              "      <td>3</td>\n",
              "    </tr>\n",
              "    <tr>\n",
              "      <th>541</th>\n",
              "      <td>first trip vega buffet expect food tasty seem ...</td>\n",
              "      <td>2</td>\n",
              "    </tr>\n",
              "    <tr>\n",
              "      <th>11533</th>\n",
              "      <td>seen dr glen dr schmidt think provid excel ser...</td>\n",
              "      <td>5</td>\n",
              "    </tr>\n",
              "    <tr>\n",
              "      <th>22367</th>\n",
              "      <td>plac old school vega dec wis first tim went pl...</td>\n",
              "      <td>2</td>\n",
              "    </tr>\n",
              "  </tbody>\n",
              "</table>\n",
              "</div>"
            ],
            "text/plain": [
              "                                                    text  label\n",
              "28669  twic nev disappoint visit excel plac learn can...      5\n",
              "16971  good review convint giv plac try went mass fir...      3\n",
              "541    first trip vega buffet expect food tasty seem ...      2\n",
              "11533  seen dr glen dr schmidt think provid excel ser...      5\n",
              "22367  plac old school vega dec wis first tim went pl...      2"
            ]
          },
          "metadata": {
            "tags": []
          },
          "execution_count": 55
        }
      ]
    },
    {
      "cell_type": "code",
      "metadata": {
        "id": "rY91fk3nk_df",
        "outputId": "ac091314-e450-4b87-a33e-e32cdcfc97ff",
        "colab": {
          "base_uri": "https://localhost:8080/",
          "height": 198
        }
      },
      "source": [
        "df_not_trained = pd.DataFrame({'text': df_unlabel['string']})\n",
        "df_not_trained.head()"
      ],
      "execution_count": null,
      "outputs": [
        {
          "output_type": "execute_result",
          "data": {
            "text/html": [
              "<div>\n",
              "<style scoped>\n",
              "    .dataframe tbody tr th:only-of-type {\n",
              "        vertical-align: middle;\n",
              "    }\n",
              "\n",
              "    .dataframe tbody tr th {\n",
              "        vertical-align: top;\n",
              "    }\n",
              "\n",
              "    .dataframe thead th {\n",
              "        text-align: right;\n",
              "    }\n",
              "</style>\n",
              "<table border=\"1\" class=\"dataframe\">\n",
              "  <thead>\n",
              "    <tr style=\"text-align: right;\">\n",
              "      <th></th>\n",
              "      <th>text</th>\n",
              "    </tr>\n",
              "  </thead>\n",
              "  <tbody>\n",
              "    <tr>\n",
              "      <th>0</th>\n",
              "      <td>good expery wif sat bar gre pizz wing howev tr...</td>\n",
              "    </tr>\n",
              "    <tr>\n",
              "      <th>1</th>\n",
              "      <td>first mont gf cam eat nic mid day lunch walk a...</td>\n",
              "    </tr>\n",
              "    <tr>\n",
              "      <th>2</th>\n",
              "      <td>on favorit plac go cold rainy comfort food try...</td>\n",
              "    </tr>\n",
              "    <tr>\n",
              "      <th>3</th>\n",
              "      <td>doct nic got good amount tim feel lik visit ac...</td>\n",
              "    </tr>\n",
              "    <tr>\n",
              "      <th>4</th>\n",
              "      <td>nook immedy phoenix stapl cam met fam not real...</td>\n",
              "    </tr>\n",
              "  </tbody>\n",
              "</table>\n",
              "</div>"
            ],
            "text/plain": [
              "                                                text\n",
              "0  good expery wif sat bar gre pizz wing howev tr...\n",
              "1  first mont gf cam eat nic mid day lunch walk a...\n",
              "2  on favorit plac go cold rainy comfort food try...\n",
              "3  doct nic got good amount tim feel lik visit ac...\n",
              "4  nook immedy phoenix stapl cam met fam not real..."
            ]
          },
          "metadata": {
            "tags": []
          },
          "execution_count": 59
        }
      ]
    },
    {
      "cell_type": "code",
      "metadata": {
        "id": "xWo6spGZJFsb"
      },
      "source": [
        "# vectorize unlabelled review\n",
        "x_unlabel = pad_sequences(tokenizer.texts_to_sequences(df_not_trained.text), maxlen=SEQUENCE_LENGTH)"
      ],
      "execution_count": null,
      "outputs": []
    },
    {
      "cell_type": "code",
      "metadata": {
        "id": "89LonzKCJpOG"
      },
      "source": [
        "# calculate probability\n",
        "y_prob = model.predict(x_unlabel)"
      ],
      "execution_count": null,
      "outputs": []
    },
    {
      "cell_type": "code",
      "metadata": {
        "id": "OPPpqacrQS92"
      },
      "source": [
        ""
      ],
      "execution_count": null,
      "outputs": []
    },
    {
      "cell_type": "code",
      "metadata": {
        "id": "kZEPd7kYc6AP"
      },
      "source": [
        "prob = []\n",
        "for i in y_prob:\n",
        "  prob.append(list(i))\n",
        "\n",
        "df_not_trained['prob'] = prob"
      ],
      "execution_count": null,
      "outputs": []
    },
    {
      "cell_type": "code",
      "metadata": {
        "id": "TIhTQftrdeNh"
      },
      "source": [
        "# find the maximum probability\n",
        "max_prob = []\n",
        "for i in df_not_trained.prob.values:\n",
        "  max_prob.append(np.amax(i))\n",
        "\n",
        "df_not_trained['max_prob'] = max_prob"
      ],
      "execution_count": null,
      "outputs": []
    },
    {
      "cell_type": "code",
      "metadata": {
        "id": "vpm9qhvSeKN8"
      },
      "source": [
        "# pseudo label\n",
        "p_label =[]\n",
        "for i in df_not_trained.prob.values:\n",
        "  p_label.append(np.argmax(i)+1)\n",
        "\n",
        "df_not_trained['label'] = p_label"
      ],
      "execution_count": null,
      "outputs": []
    },
    {
      "cell_type": "code",
      "metadata": {
        "id": "npbQB5NZ7vsW",
        "outputId": "2758d2c4-98f2-4504-e67d-d5f1861d00b9",
        "colab": {
          "base_uri": "https://localhost:8080/",
          "height": 198
        }
      },
      "source": [
        "df_not_trained.head()"
      ],
      "execution_count": null,
      "outputs": [
        {
          "output_type": "execute_result",
          "data": {
            "text/html": [
              "<div>\n",
              "<style scoped>\n",
              "    .dataframe tbody tr th:only-of-type {\n",
              "        vertical-align: middle;\n",
              "    }\n",
              "\n",
              "    .dataframe tbody tr th {\n",
              "        vertical-align: top;\n",
              "    }\n",
              "\n",
              "    .dataframe thead th {\n",
              "        text-align: right;\n",
              "    }\n",
              "</style>\n",
              "<table border=\"1\" class=\"dataframe\">\n",
              "  <thead>\n",
              "    <tr style=\"text-align: right;\">\n",
              "      <th></th>\n",
              "      <th>text</th>\n",
              "      <th>prob</th>\n",
              "      <th>max_prob</th>\n",
              "      <th>label</th>\n",
              "    </tr>\n",
              "  </thead>\n",
              "  <tbody>\n",
              "    <tr>\n",
              "      <th>0</th>\n",
              "      <td>good expery wif sat bar gre pizz wing howev tr...</td>\n",
              "      <td>[0.017160337, 0.24904086, 0.5678177, 0.1560690...</td>\n",
              "      <td>0.567818</td>\n",
              "      <td>3</td>\n",
              "    </tr>\n",
              "    <tr>\n",
              "      <th>1</th>\n",
              "      <td>first mont gf cam eat nic mid day lunch walk a...</td>\n",
              "      <td>[0.003277353, 0.06923802, 0.75836444, 0.162310...</td>\n",
              "      <td>0.758364</td>\n",
              "      <td>3</td>\n",
              "    </tr>\n",
              "    <tr>\n",
              "      <th>2</th>\n",
              "      <td>on favorit plac go cold rainy comfort food try...</td>\n",
              "      <td>[0.00018476539, 0.0005400571, 0.009296929, 0.1...</td>\n",
              "      <td>0.802743</td>\n",
              "      <td>5</td>\n",
              "    </tr>\n",
              "    <tr>\n",
              "      <th>3</th>\n",
              "      <td>doct nic got good amount tim feel lik visit ac...</td>\n",
              "      <td>[0.40808424, 0.48296908, 0.06619225, 0.0327428...</td>\n",
              "      <td>0.482969</td>\n",
              "      <td>2</td>\n",
              "    </tr>\n",
              "    <tr>\n",
              "      <th>4</th>\n",
              "      <td>nook immedy phoenix stapl cam met fam not real...</td>\n",
              "      <td>[0.00048010855, 0.0005612547, 0.005233763, 0.0...</td>\n",
              "      <td>0.940353</td>\n",
              "      <td>5</td>\n",
              "    </tr>\n",
              "  </tbody>\n",
              "</table>\n",
              "</div>"
            ],
            "text/plain": [
              "                                                text  ... label\n",
              "0  good expery wif sat bar gre pizz wing howev tr...  ...     3\n",
              "1  first mont gf cam eat nic mid day lunch walk a...  ...     3\n",
              "2  on favorit plac go cold rainy comfort food try...  ...     5\n",
              "3  doct nic got good amount tim feel lik visit ac...  ...     2\n",
              "4  nook immedy phoenix stapl cam met fam not real...  ...     5\n",
              "\n",
              "[5 rows x 4 columns]"
            ]
          },
          "metadata": {
            "tags": []
          },
          "execution_count": 89
        }
      ]
    },
    {
      "cell_type": "code",
      "metadata": {
        "id": "IfEbHkbg6WzE",
        "outputId": "382473e7-1d9e-4a63-d716-4c5a2297a0ab",
        "colab": {
          "base_uri": "https://localhost:8080/",
          "height": 297
        }
      },
      "source": [
        "df_not_trained.head()"
      ],
      "execution_count": null,
      "outputs": [
        {
          "output_type": "execute_result",
          "data": {
            "text/html": [
              "<div>\n",
              "<style scoped>\n",
              "    .dataframe tbody tr th:only-of-type {\n",
              "        vertical-align: middle;\n",
              "    }\n",
              "\n",
              "    .dataframe tbody tr th {\n",
              "        vertical-align: top;\n",
              "    }\n",
              "\n",
              "    .dataframe thead th {\n",
              "        text-align: right;\n",
              "    }\n",
              "</style>\n",
              "<table border=\"1\" class=\"dataframe\">\n",
              "  <thead>\n",
              "    <tr style=\"text-align: right;\">\n",
              "      <th></th>\n",
              "      <th>Unnamed: 0</th>\n",
              "      <th>Unnamed: 0.1</th>\n",
              "      <th>no_rare</th>\n",
              "      <th>string</th>\n",
              "      <th>length</th>\n",
              "      <th>pseudo label</th>\n",
              "      <th>prob</th>\n",
              "      <th>max_prob</th>\n",
              "    </tr>\n",
              "  </thead>\n",
              "  <tbody>\n",
              "    <tr>\n",
              "      <th>0</th>\n",
              "      <td>0</td>\n",
              "      <td>0</td>\n",
              "      <td>['good', 'expery', 'wif', 'sat', 'bar', 'gre',...</td>\n",
              "      <td>good expery wif sat bar gre pizz wing howev tr...</td>\n",
              "      <td>52</td>\n",
              "      <td>3</td>\n",
              "      <td>[0.012843442, 0.14566085, 0.6510284, 0.1846819...</td>\n",
              "      <td>0.651028</td>\n",
              "    </tr>\n",
              "    <tr>\n",
              "      <th>1</th>\n",
              "      <td>1</td>\n",
              "      <td>1</td>\n",
              "      <td>['first', 'mont', 'gf', 'cam', 'eat', 'nic', '...</td>\n",
              "      <td>first mont gf cam eat nic mid day lunch walk a...</td>\n",
              "      <td>144</td>\n",
              "      <td>3</td>\n",
              "      <td>[0.0023160265, 0.06099458, 0.6071889, 0.312171...</td>\n",
              "      <td>0.607189</td>\n",
              "    </tr>\n",
              "    <tr>\n",
              "      <th>2</th>\n",
              "      <td>2</td>\n",
              "      <td>2</td>\n",
              "      <td>['on', 'favorit', 'plac', 'go', 'cold', 'rainy...</td>\n",
              "      <td>on favorit plac go cold rainy comfort food try...</td>\n",
              "      <td>13</td>\n",
              "      <td>5</td>\n",
              "      <td>[0.0001094638, 0.00023582455, 0.00479422, 0.17...</td>\n",
              "      <td>0.818201</td>\n",
              "    </tr>\n",
              "    <tr>\n",
              "      <th>3</th>\n",
              "      <td>3</td>\n",
              "      <td>3</td>\n",
              "      <td>['doct', 'nic', 'got', 'good', 'amount', 'tim'...</td>\n",
              "      <td>doct nic got good amount tim feel lik visit ac...</td>\n",
              "      <td>74</td>\n",
              "      <td>1</td>\n",
              "      <td>[0.5586182, 0.3498487, 0.052700475, 0.02306183...</td>\n",
              "      <td>0.558618</td>\n",
              "    </tr>\n",
              "    <tr>\n",
              "      <th>4</th>\n",
              "      <td>4</td>\n",
              "      <td>4</td>\n",
              "      <td>['nook', 'immedy', 'phoenix', 'stapl', 'cam', ...</td>\n",
              "      <td>nook immedy phoenix stapl cam met fam not real...</td>\n",
              "      <td>93</td>\n",
              "      <td>5</td>\n",
              "      <td>[6.412076e-05, 8.407993e-05, 0.0013290977, 0.0...</td>\n",
              "      <td>0.943756</td>\n",
              "    </tr>\n",
              "  </tbody>\n",
              "</table>\n",
              "</div>"
            ],
            "text/plain": [
              "   Unnamed: 0  ...  max_prob\n",
              "0           0  ...  0.651028\n",
              "1           1  ...  0.607189\n",
              "2           2  ...  0.818201\n",
              "3           3  ...  0.558618\n",
              "4           4  ...  0.943756\n",
              "\n",
              "[5 rows x 8 columns]"
            ]
          },
          "metadata": {
            "tags": []
          },
          "execution_count": 22
        }
      ]
    },
    {
      "cell_type": "code",
      "metadata": {
        "id": "6YBD7gDKlrzp"
      },
      "source": [
        "# find most confident 20000 predictions from each class\n",
        "index_1 = df_not_trained[df_not_trained['pseudo label']==1].sort_values(by=['max_prob'], ascending = False)[1:20001].index\n",
        "index_2 = df_not_trained[df_not_trained['pseudo label']==2].sort_values(by=['max_prob'], ascending = False)[1:20001].index\n",
        "index_3 = df_not_trained[df_not_trained['pseudo label']==3].sort_values(by=['max_prob'], ascending = False)[1:20001].index\n",
        "index_4 = df_not_trained[df_not_trained['pseudo label']==4].sort_values(by=['max_prob'], ascending = False)[1:20001].index\n",
        "index_5 = df_not_trained[df_not_trained['pseudo label']==5].sort_values(by=['max_prob'], ascending = False)[1:20001].index\n",
        "\n",
        "index = np.concatenate((index_1,index_2,index_3,index_4,index_5))"
      ],
      "execution_count": null,
      "outputs": []
    },
    {
      "cell_type": "code",
      "metadata": {
        "id": "pEXLSJNYoGYW",
        "outputId": "1a55a1f4-564e-43be-daf3-95c69ab7f401",
        "colab": {
          "base_uri": "https://localhost:8080/",
          "height": 198
        }
      },
      "source": [
        "# only get the necessary columns\n",
        "df_temp = df_not_trained.loc[index][['text', 'label']]\n",
        "df_temp.head()"
      ],
      "execution_count": null,
      "outputs": [
        {
          "output_type": "execute_result",
          "data": {
            "text/html": [
              "<div>\n",
              "<style scoped>\n",
              "    .dataframe tbody tr th:only-of-type {\n",
              "        vertical-align: middle;\n",
              "    }\n",
              "\n",
              "    .dataframe tbody tr th {\n",
              "        vertical-align: top;\n",
              "    }\n",
              "\n",
              "    .dataframe thead th {\n",
              "        text-align: right;\n",
              "    }\n",
              "</style>\n",
              "<table border=\"1\" class=\"dataframe\">\n",
              "  <thead>\n",
              "    <tr style=\"text-align: right;\">\n",
              "      <th></th>\n",
              "      <th>text</th>\n",
              "      <th>label</th>\n",
              "    </tr>\n",
              "  </thead>\n",
              "  <tbody>\n",
              "    <tr>\n",
              "      <th>127391</th>\n",
              "      <td>absolv worst exp lif complet incompet obnoxy a...</td>\n",
              "      <td>1</td>\n",
              "    </tr>\n",
              "    <tr>\n",
              "      <th>386359</th>\n",
              "      <td>could giv company neg star would rent southwes...</td>\n",
              "      <td>1</td>\n",
              "    </tr>\n",
              "    <tr>\n",
              "      <th>460876</th>\n",
              "      <td>worst plac ev dealt high recommend not going h...</td>\n",
              "      <td>1</td>\n",
              "    </tr>\n",
              "    <tr>\n",
              "      <th>162348</th>\n",
              "      <td>sav grief mov seattl scottsd deal pod nightm s...</td>\n",
              "      <td>1</td>\n",
              "    </tr>\n",
              "    <tr>\n",
              "      <th>574301</th>\n",
              "      <td>absolv worst custom serv ev seen cal 10 get re...</td>\n",
              "      <td>1</td>\n",
              "    </tr>\n",
              "  </tbody>\n",
              "</table>\n",
              "</div>"
            ],
            "text/plain": [
              "                                                     text  label\n",
              "127391  absolv worst exp lif complet incompet obnoxy a...      1\n",
              "386359  could giv company neg star would rent southwes...      1\n",
              "460876  worst plac ev dealt high recommend not going h...      1\n",
              "162348  sav grief mov seattl scottsd deal pod nightm s...      1\n",
              "574301  absolv worst custom serv ev seen cal 10 get re...      1"
            ]
          },
          "metadata": {
            "tags": []
          },
          "execution_count": 90
        }
      ]
    },
    {
      "cell_type": "code",
      "metadata": {
        "id": "PfL42gpF9gpx",
        "outputId": "3e1089a1-c4e9-42f9-ce93-5d03d0e6dcf3",
        "colab": {
          "base_uri": "https://localhost:8080/",
          "height": 198
        }
      },
      "source": [
        "df_train.head()"
      ],
      "execution_count": null,
      "outputs": [
        {
          "output_type": "execute_result",
          "data": {
            "text/html": [
              "<div>\n",
              "<style scoped>\n",
              "    .dataframe tbody tr th:only-of-type {\n",
              "        vertical-align: middle;\n",
              "    }\n",
              "\n",
              "    .dataframe tbody tr th {\n",
              "        vertical-align: top;\n",
              "    }\n",
              "\n",
              "    .dataframe thead th {\n",
              "        text-align: right;\n",
              "    }\n",
              "</style>\n",
              "<table border=\"1\" class=\"dataframe\">\n",
              "  <thead>\n",
              "    <tr style=\"text-align: right;\">\n",
              "      <th></th>\n",
              "      <th>text</th>\n",
              "      <th>label</th>\n",
              "    </tr>\n",
              "  </thead>\n",
              "  <tbody>\n",
              "    <tr>\n",
              "      <th>25226</th>\n",
              "      <td>lov cantin 1511 plain simpl margarita fantast ...</td>\n",
              "      <td>4</td>\n",
              "    </tr>\n",
              "    <tr>\n",
              "      <th>14451</th>\n",
              "      <td>ye duck wing good not enough mak want ev go ba...</td>\n",
              "      <td>2</td>\n",
              "    </tr>\n",
              "    <tr>\n",
              "      <th>14927</th>\n",
              "      <td>nic plac food pretty good on complaint pitch b...</td>\n",
              "      <td>2</td>\n",
              "    </tr>\n",
              "    <tr>\n",
              "      <th>43418</th>\n",
              "      <td>tak grandmoth problem breath congest vomit wen...</td>\n",
              "      <td>4</td>\n",
              "    </tr>\n",
              "    <tr>\n",
              "      <th>12551</th>\n",
              "      <td>last day vega tir typ buffet vega far yelp dis...</td>\n",
              "      <td>5</td>\n",
              "    </tr>\n",
              "  </tbody>\n",
              "</table>\n",
              "</div>"
            ],
            "text/plain": [
              "                                                    text  label\n",
              "25226  lov cantin 1511 plain simpl margarita fantast ...      4\n",
              "14451  ye duck wing good not enough mak want ev go ba...      2\n",
              "14927  nic plac food pretty good on complaint pitch b...      2\n",
              "43418  tak grandmoth problem breath congest vomit wen...      4\n",
              "12551  last day vega tir typ buffet vega far yelp dis...      5"
            ]
          },
          "metadata": {
            "tags": []
          },
          "execution_count": 85
        }
      ]
    },
    {
      "cell_type": "code",
      "metadata": {
        "id": "zi7KQC3P9z7O",
        "outputId": "079cf1c7-4765-495c-d9e2-6b8e6a901d84",
        "colab": {
          "base_uri": "https://localhost:8080/",
          "height": 198
        }
      },
      "source": [
        "# add high confidence prediction to training set\n",
        "df_train = df_train.append(df_temp)\n",
        "df_train.head()"
      ],
      "execution_count": null,
      "outputs": [
        {
          "output_type": "execute_result",
          "data": {
            "text/html": [
              "<div>\n",
              "<style scoped>\n",
              "    .dataframe tbody tr th:only-of-type {\n",
              "        vertical-align: middle;\n",
              "    }\n",
              "\n",
              "    .dataframe tbody tr th {\n",
              "        vertical-align: top;\n",
              "    }\n",
              "\n",
              "    .dataframe thead th {\n",
              "        text-align: right;\n",
              "    }\n",
              "</style>\n",
              "<table border=\"1\" class=\"dataframe\">\n",
              "  <thead>\n",
              "    <tr style=\"text-align: right;\">\n",
              "      <th></th>\n",
              "      <th>text</th>\n",
              "      <th>label</th>\n",
              "    </tr>\n",
              "  </thead>\n",
              "  <tbody>\n",
              "    <tr>\n",
              "      <th>25226</th>\n",
              "      <td>lov cantin 1511 plain simpl margarita fantast ...</td>\n",
              "      <td>4</td>\n",
              "    </tr>\n",
              "    <tr>\n",
              "      <th>14451</th>\n",
              "      <td>ye duck wing good not enough mak want ev go ba...</td>\n",
              "      <td>2</td>\n",
              "    </tr>\n",
              "    <tr>\n",
              "      <th>14927</th>\n",
              "      <td>nic plac food pretty good on complaint pitch b...</td>\n",
              "      <td>2</td>\n",
              "    </tr>\n",
              "    <tr>\n",
              "      <th>43418</th>\n",
              "      <td>tak grandmoth problem breath congest vomit wen...</td>\n",
              "      <td>4</td>\n",
              "    </tr>\n",
              "    <tr>\n",
              "      <th>12551</th>\n",
              "      <td>last day vega tir typ buffet vega far yelp dis...</td>\n",
              "      <td>5</td>\n",
              "    </tr>\n",
              "  </tbody>\n",
              "</table>\n",
              "</div>"
            ],
            "text/plain": [
              "                                                    text  label\n",
              "25226  lov cantin 1511 plain simpl margarita fantast ...      4\n",
              "14451  ye duck wing good not enough mak want ev go ba...      2\n",
              "14927  nic plac food pretty good on complaint pitch b...      2\n",
              "43418  tak grandmoth problem breath congest vomit wen...      4\n",
              "12551  last day vega tir typ buffet vega far yelp dis...      5"
            ]
          },
          "metadata": {
            "tags": []
          },
          "execution_count": 92
        }
      ]
    },
    {
      "cell_type": "code",
      "metadata": {
        "id": "qZN-epp0-oS5",
        "outputId": "337ed52f-5543-4dd6-e502-9363e6abd331",
        "colab": {
          "base_uri": "https://localhost:8080/",
          "height": 198
        }
      },
      "source": [
        "# remove high confidence prediction from unlabel data\n",
        "df_not_trained = df_not_trained.drop(index)\n",
        "df_not_trained.head()"
      ],
      "execution_count": null,
      "outputs": [
        {
          "output_type": "execute_result",
          "data": {
            "text/html": [
              "<div>\n",
              "<style scoped>\n",
              "    .dataframe tbody tr th:only-of-type {\n",
              "        vertical-align: middle;\n",
              "    }\n",
              "\n",
              "    .dataframe tbody tr th {\n",
              "        vertical-align: top;\n",
              "    }\n",
              "\n",
              "    .dataframe thead th {\n",
              "        text-align: right;\n",
              "    }\n",
              "</style>\n",
              "<table border=\"1\" class=\"dataframe\">\n",
              "  <thead>\n",
              "    <tr style=\"text-align: right;\">\n",
              "      <th></th>\n",
              "      <th>text</th>\n",
              "      <th>prob</th>\n",
              "      <th>max_prob</th>\n",
              "      <th>label</th>\n",
              "    </tr>\n",
              "  </thead>\n",
              "  <tbody>\n",
              "    <tr>\n",
              "      <th>0</th>\n",
              "      <td>good expery wif sat bar gre pizz wing howev tr...</td>\n",
              "      <td>[0.017160337, 0.24904086, 0.5678177, 0.1560690...</td>\n",
              "      <td>0.567818</td>\n",
              "      <td>3</td>\n",
              "    </tr>\n",
              "    <tr>\n",
              "      <th>2</th>\n",
              "      <td>on favorit plac go cold rainy comfort food try...</td>\n",
              "      <td>[0.00018476539, 0.0005400571, 0.009296929, 0.1...</td>\n",
              "      <td>0.802743</td>\n",
              "      <td>5</td>\n",
              "    </tr>\n",
              "    <tr>\n",
              "      <th>3</th>\n",
              "      <td>doct nic got good amount tim feel lik visit ac...</td>\n",
              "      <td>[0.40808424, 0.48296908, 0.06619225, 0.0327428...</td>\n",
              "      <td>0.482969</td>\n",
              "      <td>2</td>\n",
              "    </tr>\n",
              "    <tr>\n",
              "      <th>4</th>\n",
              "      <td>nook immedy phoenix stapl cam met fam not real...</td>\n",
              "      <td>[0.00048010855, 0.0005612547, 0.005233763, 0.0...</td>\n",
              "      <td>0.940353</td>\n",
              "      <td>5</td>\n",
              "    </tr>\n",
              "    <tr>\n",
              "      <th>5</th>\n",
              "      <td>serv step foot wait seat act not feel anyth no...</td>\n",
              "      <td>[0.27256015, 0.36989734, 0.27351755, 0.0469209...</td>\n",
              "      <td>0.369897</td>\n",
              "      <td>2</td>\n",
              "    </tr>\n",
              "  </tbody>\n",
              "</table>\n",
              "</div>"
            ],
            "text/plain": [
              "                                                text  ... label\n",
              "0  good expery wif sat bar gre pizz wing howev tr...  ...     3\n",
              "2  on favorit plac go cold rainy comfort food try...  ...     5\n",
              "3  doct nic got good amount tim feel lik visit ac...  ...     2\n",
              "4  nook immedy phoenix stapl cam met fam not real...  ...     5\n",
              "5  serv step foot wait seat act not feel anyth no...  ...     2\n",
              "\n",
              "[5 rows x 4 columns]"
            ]
          },
          "metadata": {
            "tags": []
          },
          "execution_count": 95
        }
      ]
    },
    {
      "cell_type": "code",
      "metadata": {
        "id": "PVvY4nNr-7RO",
        "outputId": "2a9d165c-2cbf-4da5-de80-d56aef3694c6",
        "colab": {
          "base_uri": "https://localhost:8080/",
          "height": 198
        }
      },
      "source": [
        "# drop the unnecessary rows\n",
        "df_not_trained = df_not_trained.drop(['prob', 'max_prob', 'label'], axis = 1)\n",
        "df_not_trained.head()"
      ],
      "execution_count": null,
      "outputs": [
        {
          "output_type": "execute_result",
          "data": {
            "text/html": [
              "<div>\n",
              "<style scoped>\n",
              "    .dataframe tbody tr th:only-of-type {\n",
              "        vertical-align: middle;\n",
              "    }\n",
              "\n",
              "    .dataframe tbody tr th {\n",
              "        vertical-align: top;\n",
              "    }\n",
              "\n",
              "    .dataframe thead th {\n",
              "        text-align: right;\n",
              "    }\n",
              "</style>\n",
              "<table border=\"1\" class=\"dataframe\">\n",
              "  <thead>\n",
              "    <tr style=\"text-align: right;\">\n",
              "      <th></th>\n",
              "      <th>text</th>\n",
              "    </tr>\n",
              "  </thead>\n",
              "  <tbody>\n",
              "    <tr>\n",
              "      <th>0</th>\n",
              "      <td>good expery wif sat bar gre pizz wing howev tr...</td>\n",
              "    </tr>\n",
              "    <tr>\n",
              "      <th>2</th>\n",
              "      <td>on favorit plac go cold rainy comfort food try...</td>\n",
              "    </tr>\n",
              "    <tr>\n",
              "      <th>3</th>\n",
              "      <td>doct nic got good amount tim feel lik visit ac...</td>\n",
              "    </tr>\n",
              "    <tr>\n",
              "      <th>4</th>\n",
              "      <td>nook immedy phoenix stapl cam met fam not real...</td>\n",
              "    </tr>\n",
              "    <tr>\n",
              "      <th>5</th>\n",
              "      <td>serv step foot wait seat act not feel anyth no...</td>\n",
              "    </tr>\n",
              "  </tbody>\n",
              "</table>\n",
              "</div>"
            ],
            "text/plain": [
              "                                                text\n",
              "0  good expery wif sat bar gre pizz wing howev tr...\n",
              "2  on favorit plac go cold rainy comfort food try...\n",
              "3  doct nic got good amount tim feel lik visit ac...\n",
              "4  nook immedy phoenix stapl cam met fam not real...\n",
              "5  serv step foot wait seat act not feel anyth no..."
            ]
          },
          "metadata": {
            "tags": []
          },
          "execution_count": 100
        }
      ]
    },
    {
      "cell_type": "code",
      "metadata": {
        "id": "b-_j9FlO_WIM"
      },
      "source": [
        "df_not_trained.to_csv('df_not_trained1.csv')\n",
        "!cp df_not_trained1.csv \"/content/gdrive/Shared drives/FIT5149 A2/Joe/\""
      ],
      "execution_count": null,
      "outputs": []
    },
    {
      "cell_type": "code",
      "metadata": {
        "id": "llD_MEEH_WPu"
      },
      "source": [
        "df_train.to_csv('df_train1.csv')\n",
        "!cp df_train1.csv \"/content/gdrive/Shared drives/FIT5149 A2/Joe/\""
      ],
      "execution_count": null,
      "outputs": []
    },
    {
      "cell_type": "markdown",
      "metadata": {
        "id": "6N-Px1ldNsuL"
      },
      "source": [
        "# import dataframe"
      ]
    },
    {
      "cell_type": "code",
      "metadata": {
        "id": "8wQz1o4IOBc2"
      },
      "source": [
        "import pandas as pd"
      ],
      "execution_count": null,
      "outputs": []
    },
    {
      "cell_type": "code",
      "metadata": {
        "id": "4p6_GoCUNqyC"
      },
      "source": [
        "df_train = pd.read_csv(\"gdrive/Shared drives/FIT5149 A2/Joe/df_train1.csv\")\n",
        "df_validate = pd.read_csv(\"gdrive/Shared drives/FIT5149 A2/Joe/df_validate.csv\")\n",
        "df_not_trained = pd.read_csv(\"gdrive/Shared drives/FIT5149 A2/Joe/df_not_trained1.csv\")"
      ],
      "execution_count": null,
      "outputs": []
    },
    {
      "cell_type": "code",
      "metadata": {
        "id": "WqvxeGj9Nq6p"
      },
      "source": [
        "import pickle\n",
        "with open('gdrive/Shared drives/FIT5149 A2/Joe/tokenizer.pickle', 'rb') as handle:\n",
        "    tokenizer = pickle.load(handle)\n",
        "\n",
        "vocab_size = len(tokenizer.word_index) + 1"
      ],
      "execution_count": null,
      "outputs": []
    },
    {
      "cell_type": "code",
      "metadata": {
        "id": "difIE6UNNrEH"
      },
      "source": [
        "from keras.models import load_model\n",
        "\n",
        "model1 = load_model('gdrive/Shared drives/FIT5149 A2/Joe/LSTM_2_v2.h5')"
      ],
      "execution_count": null,
      "outputs": []
    },
    {
      "cell_type": "code",
      "metadata": {
        "id": "pgP1QhUiPUuh",
        "outputId": "32760a74-ae42-44ff-bcaf-2c0ee84ef179",
        "colab": {
          "base_uri": "https://localhost:8080/",
          "height": 128
        }
      },
      "source": [
        "w2v_model = Word2Vec.load(\"gdrive/Shared drives/FIT5149 A2/Joe/word2vec_all.model\")\n",
        "\n",
        "embedding_matrix = np.zeros((vocab_size, W2V_SIZE))\n",
        "for word, i in tokenizer.word_index.items():\n",
        "  if word in w2v_model.wv:\n",
        "    embedding_matrix[i] = w2v_model.wv[word]\n",
        "print(embedding_matrix.shape)\n",
        "\n",
        "embedding_layer = Embedding(vocab_size, W2V_SIZE, weights=[embedding_matrix], input_length=SEQUENCE_LENGTH, trainable=False)"
      ],
      "execution_count": null,
      "outputs": [
        {
          "output_type": "stream",
          "text": [
            "/usr/local/lib/python3.6/dist-packages/smart_open/smart_open_lib.py:398: UserWarning: This function is deprecated, use smart_open.open instead. See the migration notes for details: https://github.com/RaRe-Technologies/smart_open/blob/master/README.rst#migrating-to-the-new-open-function\n",
            "  'See the migration notes for details: %s' % _MIGRATION_NOTES_URL\n"
          ],
          "name": "stderr"
        },
        {
          "output_type": "stream",
          "text": [
            "(53392, 150)\n",
            "WARNING:tensorflow:From /usr/local/lib/python3.6/dist-packages/keras/backend/tensorflow_backend.py:66: The name tf.get_default_graph is deprecated. Please use tf.compat.v1.get_default_graph instead.\n",
            "\n"
          ],
          "name": "stdout"
        }
      ]
    },
    {
      "cell_type": "code",
      "metadata": {
        "id": "w1t2XAOT_WZC"
      },
      "source": [
        "# shuffle train dataframe\n",
        "df_train = df_train.sample(frac=1)"
      ],
      "execution_count": null,
      "outputs": []
    },
    {
      "cell_type": "code",
      "metadata": {
        "id": "dVio4lbFPUrJ"
      },
      "source": [
        ""
      ],
      "execution_count": null,
      "outputs": []
    },
    {
      "cell_type": "code",
      "metadata": {
        "id": "TqaCtUBiPUni"
      },
      "source": [
        ""
      ],
      "execution_count": null,
      "outputs": []
    },
    {
      "cell_type": "code",
      "metadata": {
        "id": "ZMP4-QveosQc"
      },
      "source": [
        "X_train = df_train.text\n",
        "Y_train = df_train.label"
      ],
      "execution_count": null,
      "outputs": []
    },
    {
      "cell_type": "code",
      "metadata": {
        "id": "HgnupeUsoIsU"
      },
      "source": [
        "# vectorize X_train and Y_train\n",
        "x_train = pad_sequences(tokenizer.texts_to_sequences(X_train), maxlen=SEQUENCE_LENGTH)\n",
        "y_train = pd.get_dummies(Y_train).values"
      ],
      "execution_count": null,
      "outputs": []
    },
    {
      "cell_type": "code",
      "metadata": {
        "id": "76ak_fSAnqtZ"
      },
      "source": [
        "X_test = df_validate.text\n",
        "Y_test = df_validate.label"
      ],
      "execution_count": null,
      "outputs": []
    },
    {
      "cell_type": "code",
      "metadata": {
        "id": "rPFAp2fUn0Af"
      },
      "source": [
        "x_test = pad_sequences(tokenizer.texts_to_sequences(X_test), maxlen=SEQUENCE_LENGTH)\n",
        "y_test = pd.get_dummies(Y_test).values"
      ],
      "execution_count": null,
      "outputs": []
    },
    {
      "cell_type": "code",
      "metadata": {
        "id": "0dJMgNBGqpr_"
      },
      "source": [
        "model1 = Sequential()\n",
        "model1.add(embedding_layer)\n",
        "model1.add(Dropout(0.2))\n",
        "model1.add(LSTM(100, dropout=0.2, recurrent_dropout=0.2, return_sequences = True))\n",
        "model1.add(Dropout(0.2))\n",
        "model1.add(LSTM(100, dropout=0.2, recurrent_dropout=0.2))\n",
        "model1.add(Dense(5, activation='softmax'))\n",
        "\n",
        "model1.compile(loss='categorical_crossentropy',\n",
        "              optimizer=\"adam\",\n",
        "              metrics=['accuracy'])\n",
        "\n",
        "callbacks = [ ReduceLROnPlateau(monitor='val_loss', patience=5, cooldown=0),\n",
        "              EarlyStopping(monitor='val_acc', min_delta=1e-4, patience=5)]"
      ],
      "execution_count": null,
      "outputs": []
    },
    {
      "cell_type": "code",
      "metadata": {
        "id": "Ihx3QIkuqzkv",
        "outputId": "4fdc6d6a-1bff-44d3-f662-65becc87159c",
        "colab": {
          "base_uri": "https://localhost:8080/",
          "height": 1000
        }
      },
      "source": [
        "model1.fit(x_train, y_train,\n",
        "                    batch_size=1000,\n",
        "                    epochs=EPOCHS,\n",
        "                    validation_data = (x_test, y_test),\n",
        "                    verbose=1,\n",
        "                    callbacks=callbacks)"
      ],
      "execution_count": null,
      "outputs": [
        {
          "output_type": "stream",
          "text": [
            "Train on 139991 samples, validate on 9998 samples\n",
            "Epoch 1/50\n",
            "139991/139991 [==============================] - 154s 1ms/step - loss: 0.6763 - acc: 0.7479 - val_loss: 1.1565 - val_acc: 0.5817\n",
            "Epoch 2/50\n",
            "139991/139991 [==============================] - 153s 1ms/step - loss: 0.4510 - acc: 0.8443 - val_loss: 1.1057 - val_acc: 0.5979\n",
            "Epoch 3/50\n",
            "139991/139991 [==============================] - 152s 1ms/step - loss: 0.4023 - acc: 0.8614 - val_loss: 1.1030 - val_acc: 0.6019\n",
            "Epoch 4/50\n",
            "139991/139991 [==============================] - 153s 1ms/step - loss: 0.3794 - acc: 0.8703 - val_loss: 1.0807 - val_acc: 0.6086\n",
            "Epoch 5/50\n",
            "139991/139991 [==============================] - 153s 1ms/step - loss: 0.3651 - acc: 0.8741 - val_loss: 1.0890 - val_acc: 0.6052\n",
            "Epoch 6/50\n",
            "139991/139991 [==============================] - 152s 1ms/step - loss: 0.3538 - acc: 0.8778 - val_loss: 1.0779 - val_acc: 0.6079\n",
            "Epoch 7/50\n",
            "139991/139991 [==============================] - 151s 1ms/step - loss: 0.3443 - acc: 0.8815 - val_loss: 1.0637 - val_acc: 0.6134\n",
            "Epoch 8/50\n",
            "139991/139991 [==============================] - 152s 1ms/step - loss: 0.3392 - acc: 0.8822 - val_loss: 1.0687 - val_acc: 0.6149\n",
            "Epoch 9/50\n",
            "139991/139991 [==============================] - 151s 1ms/step - loss: 0.3321 - acc: 0.8847 - val_loss: 1.0473 - val_acc: 0.6125\n",
            "Epoch 10/50\n",
            "139991/139991 [==============================] - 152s 1ms/step - loss: 0.3291 - acc: 0.8860 - val_loss: 1.0601 - val_acc: 0.6154\n",
            "Epoch 11/50\n",
            "139991/139991 [==============================] - 152s 1ms/step - loss: 0.3239 - acc: 0.8872 - val_loss: 1.0467 - val_acc: 0.6197\n",
            "Epoch 12/50\n",
            "139991/139991 [==============================] - 152s 1ms/step - loss: 0.3196 - acc: 0.8894 - val_loss: 1.0489 - val_acc: 0.6200\n",
            "Epoch 13/50\n",
            "139991/139991 [==============================] - 151s 1ms/step - loss: 0.3176 - acc: 0.8898 - val_loss: 1.0568 - val_acc: 0.6167\n",
            "Epoch 14/50\n",
            "139991/139991 [==============================] - 153s 1ms/step - loss: 0.3149 - acc: 0.8899 - val_loss: 1.0313 - val_acc: 0.6190\n",
            "Epoch 15/50\n",
            "139991/139991 [==============================] - 152s 1ms/step - loss: 0.3120 - acc: 0.8916 - val_loss: 1.0495 - val_acc: 0.6211\n",
            "Epoch 16/50\n",
            "139991/139991 [==============================] - 152s 1ms/step - loss: 0.3088 - acc: 0.8918 - val_loss: 1.0550 - val_acc: 0.6203\n",
            "Epoch 17/50\n",
            "139991/139991 [==============================] - 152s 1ms/step - loss: 0.3070 - acc: 0.8922 - val_loss: 1.0359 - val_acc: 0.6198\n",
            "Epoch 18/50\n",
            "139991/139991 [==============================] - 151s 1ms/step - loss: 0.3048 - acc: 0.8931 - val_loss: 1.0373 - val_acc: 0.6217\n",
            "Epoch 19/50\n",
            "139991/139991 [==============================] - 152s 1ms/step - loss: 0.3027 - acc: 0.8935 - val_loss: 1.0597 - val_acc: 0.6193\n",
            "Epoch 20/50\n",
            "139991/139991 [==============================] - 152s 1ms/step - loss: 0.2969 - acc: 0.8957 - val_loss: 1.0513 - val_acc: 0.6211\n",
            "Epoch 21/50\n",
            "139991/139991 [==============================] - 152s 1ms/step - loss: 0.2943 - acc: 0.8966 - val_loss: 1.0510 - val_acc: 0.6221\n",
            "Epoch 22/50\n",
            "139991/139991 [==============================] - 152s 1ms/step - loss: 0.2939 - acc: 0.8966 - val_loss: 1.0515 - val_acc: 0.6223\n",
            "Epoch 23/50\n",
            "139991/139991 [==============================] - 153s 1ms/step - loss: 0.2934 - acc: 0.8966 - val_loss: 1.0506 - val_acc: 0.6219\n",
            "Epoch 24/50\n",
            "139991/139991 [==============================] - 152s 1ms/step - loss: 0.2923 - acc: 0.8971 - val_loss: 1.0500 - val_acc: 0.6207\n",
            "Epoch 25/50\n",
            "139991/139991 [==============================] - 152s 1ms/step - loss: 0.2921 - acc: 0.8975 - val_loss: 1.0499 - val_acc: 0.6200\n",
            "Epoch 26/50\n",
            "139991/139991 [==============================] - 151s 1ms/step - loss: 0.2914 - acc: 0.8968 - val_loss: 1.0501 - val_acc: 0.6208\n",
            "Epoch 27/50\n",
            "139991/139991 [==============================] - 152s 1ms/step - loss: 0.2916 - acc: 0.8977 - val_loss: 1.0514 - val_acc: 0.6210\n"
          ],
          "name": "stdout"
        },
        {
          "output_type": "execute_result",
          "data": {
            "text/plain": [
              "<keras.callbacks.History at 0x7fa28bece5f8>"
            ]
          },
          "metadata": {
            "tags": []
          },
          "execution_count": 111
        }
      ]
    },
    {
      "cell_type": "code",
      "metadata": {
        "id": "WeGIlR7JO7xQ"
      },
      "source": [
        "model1.save('LSTM_2_v2.h5')\n",
        "!cp LSTM_2_v2.h5 \"/content/gdrive/Shared drives/FIT5149 A2/Joe/\""
      ],
      "execution_count": null,
      "outputs": []
    },
    {
      "cell_type": "code",
      "metadata": {
        "id": "APfEvD0_P7og"
      },
      "source": [
        "# vectorize unlabelled review\n",
        "x_unlabel = pad_sequences(tokenizer.texts_to_sequences(df_not_trained.text), maxlen=SEQUENCE_LENGTH)\n"
      ],
      "execution_count": null,
      "outputs": []
    },
    {
      "cell_type": "code",
      "metadata": {
        "id": "h5WJ6XXjQUSJ"
      },
      "source": [
        "# calculate probability\n",
        "y_prob = model1.predict(x_unlabel)"
      ],
      "execution_count": null,
      "outputs": []
    },
    {
      "cell_type": "code",
      "metadata": {
        "id": "Df_EXWShCuZq"
      },
      "source": [
        ""
      ],
      "execution_count": null,
      "outputs": []
    },
    {
      "cell_type": "markdown",
      "metadata": {
        "id": "IlAgZpbNEntp"
      },
      "source": [
        "## Iteration 2"
      ]
    },
    {
      "cell_type": "code",
      "metadata": {
        "id": "ZH6BCrM3Qhs7"
      },
      "source": [
        "prob = []\n",
        "for i in y_prob:\n",
        "  prob.append(list(i))\n",
        "\n",
        "df_not_trained['prob'] = prob"
      ],
      "execution_count": null,
      "outputs": []
    },
    {
      "cell_type": "code",
      "metadata": {
        "id": "TqeD4NbKQihQ"
      },
      "source": [
        "# find the maximum probability\n",
        "max_prob = []\n",
        "for i in df_not_trained.prob.values:\n",
        "  max_prob.append(np.amax(i))\n",
        "\n",
        "df_not_trained['max_prob'] = max_prob"
      ],
      "execution_count": null,
      "outputs": []
    },
    {
      "cell_type": "code",
      "metadata": {
        "id": "-qnulas_QrvY"
      },
      "source": [
        "# pseudo label\n",
        "p_label =[]\n",
        "for i in df_not_trained.prob.values:\n",
        "  p_label.append(np.argmax(i)+1)\n",
        "\n",
        "df_not_trained['label'] = p_label"
      ],
      "execution_count": null,
      "outputs": []
    },
    {
      "cell_type": "code",
      "metadata": {
        "id": "CpP83j59QvaR",
        "outputId": "f9a04342-da0d-49d1-b099-cd240980f0c7",
        "colab": {
          "base_uri": "https://localhost:8080/",
          "height": 198
        }
      },
      "source": [
        "df_not_trained.head()"
      ],
      "execution_count": null,
      "outputs": [
        {
          "output_type": "execute_result",
          "data": {
            "text/html": [
              "<div>\n",
              "<style scoped>\n",
              "    .dataframe tbody tr th:only-of-type {\n",
              "        vertical-align: middle;\n",
              "    }\n",
              "\n",
              "    .dataframe tbody tr th {\n",
              "        vertical-align: top;\n",
              "    }\n",
              "\n",
              "    .dataframe thead th {\n",
              "        text-align: right;\n",
              "    }\n",
              "</style>\n",
              "<table border=\"1\" class=\"dataframe\">\n",
              "  <thead>\n",
              "    <tr style=\"text-align: right;\">\n",
              "      <th></th>\n",
              "      <th>Unnamed: 0</th>\n",
              "      <th>text</th>\n",
              "      <th>prob</th>\n",
              "      <th>max_prob</th>\n",
              "      <th>label</th>\n",
              "    </tr>\n",
              "  </thead>\n",
              "  <tbody>\n",
              "    <tr>\n",
              "      <th>0</th>\n",
              "      <td>0</td>\n",
              "      <td>good expery wif sat bar gre pizz wing howev tr...</td>\n",
              "      <td>[0.016187696, 0.18571185, 0.4610441, 0.2859761...</td>\n",
              "      <td>0.461044</td>\n",
              "      <td>3</td>\n",
              "    </tr>\n",
              "    <tr>\n",
              "      <th>1</th>\n",
              "      <td>2</td>\n",
              "      <td>on favorit plac go cold rainy comfort food try...</td>\n",
              "      <td>[0.0002965455, 0.00079869793, 0.008784605, 0.0...</td>\n",
              "      <td>0.901820</td>\n",
              "      <td>5</td>\n",
              "    </tr>\n",
              "    <tr>\n",
              "      <th>2</th>\n",
              "      <td>3</td>\n",
              "      <td>doct nic got good amount tim feel lik visit ac...</td>\n",
              "      <td>[0.38189396, 0.44616824, 0.10995308, 0.0442802...</td>\n",
              "      <td>0.446168</td>\n",
              "      <td>2</td>\n",
              "    </tr>\n",
              "    <tr>\n",
              "      <th>3</th>\n",
              "      <td>4</td>\n",
              "      <td>nook immedy phoenix stapl cam met fam not real...</td>\n",
              "      <td>[2.8067838e-05, 0.00016033936, 0.00101375, 0.0...</td>\n",
              "      <td>0.988137</td>\n",
              "      <td>5</td>\n",
              "    </tr>\n",
              "    <tr>\n",
              "      <th>4</th>\n",
              "      <td>5</td>\n",
              "      <td>serv step foot wait seat act not feel anyth no...</td>\n",
              "      <td>[0.22213276, 0.44995952, 0.20498538, 0.0893773...</td>\n",
              "      <td>0.449960</td>\n",
              "      <td>2</td>\n",
              "    </tr>\n",
              "  </tbody>\n",
              "</table>\n",
              "</div>"
            ],
            "text/plain": [
              "   Unnamed: 0  ... label\n",
              "0           0  ...     3\n",
              "1           2  ...     5\n",
              "2           3  ...     2\n",
              "3           4  ...     5\n",
              "4           5  ...     2\n",
              "\n",
              "[5 rows x 5 columns]"
            ]
          },
          "metadata": {
            "tags": []
          },
          "execution_count": 23
        }
      ]
    },
    {
      "cell_type": "code",
      "metadata": {
        "id": "2nk-g9ZtjY-5"
      },
      "source": [
        "# find most confident 20000 predictions from each class\n",
        "index_1 = df_not_trained[df_not_trained['label']==1].sort_values(by=['max_prob'], ascending = False)[1:20001].index\n",
        "index_2 = df_not_trained[df_not_trained['label']==2].sort_values(by=['max_prob'], ascending = False)[1:20001].index\n",
        "index_3 = df_not_trained[df_not_trained['label']==3].sort_values(by=['max_prob'], ascending = False)[1:20001].index\n",
        "index_4 = df_not_trained[df_not_trained['label']==4].sort_values(by=['max_prob'], ascending = False)[1:20001].index\n",
        "index_5 = df_not_trained[df_not_trained['label']==5].sort_values(by=['max_prob'], ascending = False)[1:20001].index\n",
        "\n",
        "index = np.concatenate((index_1,index_2,index_3,index_4,index_5))"
      ],
      "execution_count": null,
      "outputs": []
    },
    {
      "cell_type": "code",
      "metadata": {
        "id": "D5TyoHJ0kFvL",
        "outputId": "4c8b94ab-edd5-4608-d87d-4e6eb0c7ab2b",
        "colab": {
          "base_uri": "https://localhost:8080/",
          "height": 198
        }
      },
      "source": [
        "# only get the necessary columns\n",
        "df_temp = df_not_trained.loc[index][['text', 'label']]\n",
        "df_temp.head()"
      ],
      "execution_count": null,
      "outputs": [
        {
          "output_type": "execute_result",
          "data": {
            "text/html": [
              "<div>\n",
              "<style scoped>\n",
              "    .dataframe tbody tr th:only-of-type {\n",
              "        vertical-align: middle;\n",
              "    }\n",
              "\n",
              "    .dataframe tbody tr th {\n",
              "        vertical-align: top;\n",
              "    }\n",
              "\n",
              "    .dataframe thead th {\n",
              "        text-align: right;\n",
              "    }\n",
              "</style>\n",
              "<table border=\"1\" class=\"dataframe\">\n",
              "  <thead>\n",
              "    <tr style=\"text-align: right;\">\n",
              "      <th></th>\n",
              "      <th>text</th>\n",
              "      <th>label</th>\n",
              "    </tr>\n",
              "  </thead>\n",
              "  <tbody>\n",
              "    <tr>\n",
              "      <th>488425</th>\n",
              "      <td>could giv no star would flow shop tak adv peop...</td>\n",
              "      <td>1</td>\n",
              "    </tr>\n",
              "    <tr>\n",
              "      <th>19489</th>\n",
              "      <td>company serv apart complex reloc nee apart com...</td>\n",
              "      <td>1</td>\n",
              "    </tr>\n",
              "    <tr>\n",
              "      <th>109346</th>\n",
              "      <td>real cury company ev star extr star must com m...</td>\n",
              "      <td>1</td>\n",
              "    </tr>\n",
              "    <tr>\n",
              "      <th>357407</th>\n",
              "      <td>first nev post neg review hist today strongly ...</td>\n",
              "      <td>1</td>\n",
              "    </tr>\n",
              "    <tr>\n",
              "      <th>89714</th>\n",
              "      <td>would giv plac 0 star could mak long driv ind ...</td>\n",
              "      <td>1</td>\n",
              "    </tr>\n",
              "  </tbody>\n",
              "</table>\n",
              "</div>"
            ],
            "text/plain": [
              "                                                     text  label\n",
              "488425  could giv no star would flow shop tak adv peop...      1\n",
              "19489   company serv apart complex reloc nee apart com...      1\n",
              "109346  real cury company ev star extr star must com m...      1\n",
              "357407  first nev post neg review hist today strongly ...      1\n",
              "89714   would giv plac 0 star could mak long driv ind ...      1"
            ]
          },
          "metadata": {
            "tags": []
          },
          "execution_count": 32
        }
      ]
    },
    {
      "cell_type": "code",
      "metadata": {
        "id": "RJAzSVlmkT2s",
        "outputId": "0adce3ce-a2d3-49d9-fadc-eb53ea847bb6",
        "colab": {
          "base_uri": "https://localhost:8080/",
          "height": 344
        }
      },
      "source": [
        "# add high confidence prediction to training set\n",
        "df_train = df_train.append(df_temp)\n",
        "df_train.head()"
      ],
      "execution_count": null,
      "outputs": [
        {
          "output_type": "stream",
          "text": [
            "/usr/local/lib/python3.6/dist-packages/pandas/core/frame.py:6692: FutureWarning: Sorting because non-concatenation axis is not aligned. A future version\n",
            "of pandas will change to not sort by default.\n",
            "\n",
            "To accept the future behavior, pass 'sort=False'.\n",
            "\n",
            "To retain the current behavior and silence the warning, pass 'sort=True'.\n",
            "\n",
            "  sort=sort)\n"
          ],
          "name": "stderr"
        },
        {
          "output_type": "execute_result",
          "data": {
            "text/html": [
              "<div>\n",
              "<style scoped>\n",
              "    .dataframe tbody tr th:only-of-type {\n",
              "        vertical-align: middle;\n",
              "    }\n",
              "\n",
              "    .dataframe tbody tr th {\n",
              "        vertical-align: top;\n",
              "    }\n",
              "\n",
              "    .dataframe thead th {\n",
              "        text-align: right;\n",
              "    }\n",
              "</style>\n",
              "<table border=\"1\" class=\"dataframe\">\n",
              "  <thead>\n",
              "    <tr style=\"text-align: right;\">\n",
              "      <th></th>\n",
              "      <th>Unnamed: 0</th>\n",
              "      <th>label</th>\n",
              "      <th>text</th>\n",
              "    </tr>\n",
              "  </thead>\n",
              "  <tbody>\n",
              "    <tr>\n",
              "      <th>0</th>\n",
              "      <td>25226.0</td>\n",
              "      <td>4</td>\n",
              "      <td>lov cantin 1511 plain simpl margarita fantast ...</td>\n",
              "    </tr>\n",
              "    <tr>\n",
              "      <th>1</th>\n",
              "      <td>14451.0</td>\n",
              "      <td>2</td>\n",
              "      <td>ye duck wing good not enough mak want ev go ba...</td>\n",
              "    </tr>\n",
              "    <tr>\n",
              "      <th>2</th>\n",
              "      <td>14927.0</td>\n",
              "      <td>2</td>\n",
              "      <td>nic plac food pretty good on complaint pitch b...</td>\n",
              "    </tr>\n",
              "    <tr>\n",
              "      <th>3</th>\n",
              "      <td>43418.0</td>\n",
              "      <td>4</td>\n",
              "      <td>tak grandmoth problem breath congest vomit wen...</td>\n",
              "    </tr>\n",
              "    <tr>\n",
              "      <th>4</th>\n",
              "      <td>12551.0</td>\n",
              "      <td>5</td>\n",
              "      <td>last day vega tir typ buffet vega far yelp dis...</td>\n",
              "    </tr>\n",
              "  </tbody>\n",
              "</table>\n",
              "</div>"
            ],
            "text/plain": [
              "   Unnamed: 0  label                                               text\n",
              "0     25226.0      4  lov cantin 1511 plain simpl margarita fantast ...\n",
              "1     14451.0      2  ye duck wing good not enough mak want ev go ba...\n",
              "2     14927.0      2  nic plac food pretty good on complaint pitch b...\n",
              "3     43418.0      4  tak grandmoth problem breath congest vomit wen...\n",
              "4     12551.0      5  last day vega tir typ buffet vega far yelp dis..."
            ]
          },
          "metadata": {
            "tags": []
          },
          "execution_count": 34
        }
      ]
    },
    {
      "cell_type": "code",
      "metadata": {
        "id": "-6LHcIeKkwHt",
        "outputId": "941ece34-2dc8-41d7-8ed2-4279f8778970",
        "colab": {
          "base_uri": "https://localhost:8080/",
          "height": 198
        }
      },
      "source": [
        "# remove high confidence prediction from unlabel data\n",
        "df_not_trained = df_not_trained.drop(index)\n",
        "df_not_trained.head()"
      ],
      "execution_count": null,
      "outputs": [
        {
          "output_type": "execute_result",
          "data": {
            "text/html": [
              "<div>\n",
              "<style scoped>\n",
              "    .dataframe tbody tr th:only-of-type {\n",
              "        vertical-align: middle;\n",
              "    }\n",
              "\n",
              "    .dataframe tbody tr th {\n",
              "        vertical-align: top;\n",
              "    }\n",
              "\n",
              "    .dataframe thead th {\n",
              "        text-align: right;\n",
              "    }\n",
              "</style>\n",
              "<table border=\"1\" class=\"dataframe\">\n",
              "  <thead>\n",
              "    <tr style=\"text-align: right;\">\n",
              "      <th></th>\n",
              "      <th>Unnamed: 0</th>\n",
              "      <th>text</th>\n",
              "      <th>prob</th>\n",
              "      <th>max_prob</th>\n",
              "      <th>label</th>\n",
              "    </tr>\n",
              "  </thead>\n",
              "  <tbody>\n",
              "    <tr>\n",
              "      <th>0</th>\n",
              "      <td>0</td>\n",
              "      <td>good expery wif sat bar gre pizz wing howev tr...</td>\n",
              "      <td>[0.016187696, 0.18571185, 0.4610441, 0.2859761...</td>\n",
              "      <td>0.461044</td>\n",
              "      <td>3</td>\n",
              "    </tr>\n",
              "    <tr>\n",
              "      <th>1</th>\n",
              "      <td>2</td>\n",
              "      <td>on favorit plac go cold rainy comfort food try...</td>\n",
              "      <td>[0.0002965455, 0.00079869793, 0.008784605, 0.0...</td>\n",
              "      <td>0.901820</td>\n",
              "      <td>5</td>\n",
              "    </tr>\n",
              "    <tr>\n",
              "      <th>2</th>\n",
              "      <td>3</td>\n",
              "      <td>doct nic got good amount tim feel lik visit ac...</td>\n",
              "      <td>[0.38189396, 0.44616824, 0.10995308, 0.0442802...</td>\n",
              "      <td>0.446168</td>\n",
              "      <td>2</td>\n",
              "    </tr>\n",
              "    <tr>\n",
              "      <th>4</th>\n",
              "      <td>5</td>\n",
              "      <td>serv step foot wait seat act not feel anyth no...</td>\n",
              "      <td>[0.22213276, 0.44995952, 0.20498538, 0.0893773...</td>\n",
              "      <td>0.449960</td>\n",
              "      <td>2</td>\n",
              "    </tr>\n",
              "    <tr>\n",
              "      <th>5</th>\n",
              "      <td>6</td>\n",
              "      <td>plac seem lik scam gift groupon fre walk fil s...</td>\n",
              "      <td>[0.5064333, 0.33392906, 0.12632582, 0.02392954...</td>\n",
              "      <td>0.506433</td>\n",
              "      <td>1</td>\n",
              "    </tr>\n",
              "  </tbody>\n",
              "</table>\n",
              "</div>"
            ],
            "text/plain": [
              "   Unnamed: 0  ... label\n",
              "0           0  ...     3\n",
              "1           2  ...     5\n",
              "2           3  ...     2\n",
              "4           5  ...     2\n",
              "5           6  ...     1\n",
              "\n",
              "[5 rows x 5 columns]"
            ]
          },
          "metadata": {
            "tags": []
          },
          "execution_count": 36
        }
      ]
    },
    {
      "cell_type": "code",
      "metadata": {
        "id": "uTBsGHNZk2V-",
        "outputId": "d9898046-3af4-4f16-b417-6614e52b5d89",
        "colab": {
          "base_uri": "https://localhost:8080/",
          "height": 198
        }
      },
      "source": [
        "# drop the unnecessary rows\n",
        "df_not_trained = df_not_trained.drop(['prob', 'max_prob', 'label','Unnamed: 0'], axis = 1)\n",
        "df_not_trained.head()"
      ],
      "execution_count": null,
      "outputs": [
        {
          "output_type": "execute_result",
          "data": {
            "text/html": [
              "<div>\n",
              "<style scoped>\n",
              "    .dataframe tbody tr th:only-of-type {\n",
              "        vertical-align: middle;\n",
              "    }\n",
              "\n",
              "    .dataframe tbody tr th {\n",
              "        vertical-align: top;\n",
              "    }\n",
              "\n",
              "    .dataframe thead th {\n",
              "        text-align: right;\n",
              "    }\n",
              "</style>\n",
              "<table border=\"1\" class=\"dataframe\">\n",
              "  <thead>\n",
              "    <tr style=\"text-align: right;\">\n",
              "      <th></th>\n",
              "      <th>text</th>\n",
              "    </tr>\n",
              "  </thead>\n",
              "  <tbody>\n",
              "    <tr>\n",
              "      <th>0</th>\n",
              "      <td>good expery wif sat bar gre pizz wing howev tr...</td>\n",
              "    </tr>\n",
              "    <tr>\n",
              "      <th>1</th>\n",
              "      <td>on favorit plac go cold rainy comfort food try...</td>\n",
              "    </tr>\n",
              "    <tr>\n",
              "      <th>2</th>\n",
              "      <td>doct nic got good amount tim feel lik visit ac...</td>\n",
              "    </tr>\n",
              "    <tr>\n",
              "      <th>4</th>\n",
              "      <td>serv step foot wait seat act not feel anyth no...</td>\n",
              "    </tr>\n",
              "    <tr>\n",
              "      <th>5</th>\n",
              "      <td>plac seem lik scam gift groupon fre walk fil s...</td>\n",
              "    </tr>\n",
              "  </tbody>\n",
              "</table>\n",
              "</div>"
            ],
            "text/plain": [
              "                                                text\n",
              "0  good expery wif sat bar gre pizz wing howev tr...\n",
              "1  on favorit plac go cold rainy comfort food try...\n",
              "2  doct nic got good amount tim feel lik visit ac...\n",
              "4  serv step foot wait seat act not feel anyth no...\n",
              "5  plac seem lik scam gift groupon fre walk fil s..."
            ]
          },
          "metadata": {
            "tags": []
          },
          "execution_count": 37
        }
      ]
    },
    {
      "cell_type": "code",
      "metadata": {
        "id": "ZSZ3reI2lMQc",
        "outputId": "56b09c84-dfed-4b60-f4fb-89e6d05c77c7",
        "colab": {
          "base_uri": "https://localhost:8080/",
          "height": 198
        }
      },
      "source": [
        "df_train = df_train.drop(['Unnamed: 0'], axis =1)\n",
        "df_train.head()"
      ],
      "execution_count": null,
      "outputs": [
        {
          "output_type": "execute_result",
          "data": {
            "text/html": [
              "<div>\n",
              "<style scoped>\n",
              "    .dataframe tbody tr th:only-of-type {\n",
              "        vertical-align: middle;\n",
              "    }\n",
              "\n",
              "    .dataframe tbody tr th {\n",
              "        vertical-align: top;\n",
              "    }\n",
              "\n",
              "    .dataframe thead th {\n",
              "        text-align: right;\n",
              "    }\n",
              "</style>\n",
              "<table border=\"1\" class=\"dataframe\">\n",
              "  <thead>\n",
              "    <tr style=\"text-align: right;\">\n",
              "      <th></th>\n",
              "      <th>label</th>\n",
              "      <th>text</th>\n",
              "    </tr>\n",
              "  </thead>\n",
              "  <tbody>\n",
              "    <tr>\n",
              "      <th>0</th>\n",
              "      <td>4</td>\n",
              "      <td>lov cantin 1511 plain simpl margarita fantast ...</td>\n",
              "    </tr>\n",
              "    <tr>\n",
              "      <th>1</th>\n",
              "      <td>2</td>\n",
              "      <td>ye duck wing good not enough mak want ev go ba...</td>\n",
              "    </tr>\n",
              "    <tr>\n",
              "      <th>2</th>\n",
              "      <td>2</td>\n",
              "      <td>nic plac food pretty good on complaint pitch b...</td>\n",
              "    </tr>\n",
              "    <tr>\n",
              "      <th>3</th>\n",
              "      <td>4</td>\n",
              "      <td>tak grandmoth problem breath congest vomit wen...</td>\n",
              "    </tr>\n",
              "    <tr>\n",
              "      <th>4</th>\n",
              "      <td>5</td>\n",
              "      <td>last day vega tir typ buffet vega far yelp dis...</td>\n",
              "    </tr>\n",
              "  </tbody>\n",
              "</table>\n",
              "</div>"
            ],
            "text/plain": [
              "   label                                               text\n",
              "0      4  lov cantin 1511 plain simpl margarita fantast ...\n",
              "1      2  ye duck wing good not enough mak want ev go ba...\n",
              "2      2  nic plac food pretty good on complaint pitch b...\n",
              "3      4  tak grandmoth problem breath congest vomit wen...\n",
              "4      5  last day vega tir typ buffet vega far yelp dis..."
            ]
          },
          "metadata": {
            "tags": []
          },
          "execution_count": 45
        }
      ]
    },
    {
      "cell_type": "code",
      "metadata": {
        "id": "ueUttCr_mAWZ"
      },
      "source": [
        "# shuffle train dataframe\n",
        "df_train = df_train.sample(frac=1)"
      ],
      "execution_count": null,
      "outputs": []
    },
    {
      "cell_type": "code",
      "metadata": {
        "id": "bl2Jee8dmIYD"
      },
      "source": [
        "X_train = df_train.text\n",
        "Y_train = df_train.label"
      ],
      "execution_count": null,
      "outputs": []
    },
    {
      "cell_type": "code",
      "metadata": {
        "id": "15h4J44qmPQm"
      },
      "source": [
        "# vectorize X_train and Y_train\n",
        "x_train = pad_sequences(tokenizer.texts_to_sequences(X_train), maxlen=SEQUENCE_LENGTH)\n",
        "y_train = pd.get_dummies(Y_train).values"
      ],
      "execution_count": null,
      "outputs": []
    },
    {
      "cell_type": "code",
      "metadata": {
        "id": "TL9Gz9vumZws"
      },
      "source": [
        "model2 = Sequential()\n",
        "model2.add(embedding_layer)\n",
        "model2.add(Dropout(0.2))\n",
        "model2.add(LSTM(100, dropout=0.2, recurrent_dropout=0.2, return_sequences = True))\n",
        "model2.add(Dropout(0.2))\n",
        "model2.add(LSTM(100, dropout=0.2, recurrent_dropout=0.2))\n",
        "model2.add(Dense(5, activation='softmax'))\n",
        "\n",
        "model2.compile(loss='categorical_crossentropy',\n",
        "              optimizer=\"adam\",\n",
        "              metrics=['accuracy'])\n",
        "\n",
        "callbacks = [ ReduceLROnPlateau(monitor='val_loss', patience=5, cooldown=0),\n",
        "              EarlyStopping(monitor='val_acc', min_delta=1e-4, patience=5)]"
      ],
      "execution_count": null,
      "outputs": []
    },
    {
      "cell_type": "code",
      "metadata": {
        "id": "j_gInWVZnWqR",
        "outputId": "3cd9b49c-d1fd-42f8-df38-4a9047c4f78e",
        "colab": {
          "base_uri": "https://localhost:8080/",
          "height": 963
        }
      },
      "source": [
        "model2.fit(x_train, y_train,\n",
        "                    batch_size=1000,\n",
        "                    epochs=EPOCHS,\n",
        "                    validation_data = (x_test, y_test),\n",
        "                    verbose=1,\n",
        "                    callbacks=callbacks)"
      ],
      "execution_count": null,
      "outputs": [
        {
          "output_type": "stream",
          "text": [
            "Train on 239991 samples, validate on 9998 samples\n",
            "Epoch 1/50\n",
            "239991/239991 [==============================] - 263s 1ms/step - loss: 0.5536 - acc: 0.7949 - val_loss: 1.2359 - val_acc: 0.5949\n",
            "Epoch 2/50\n",
            "239991/239991 [==============================] - 261s 1ms/step - loss: 0.3470 - acc: 0.8847 - val_loss: 1.2160 - val_acc: 0.5981\n",
            "Epoch 3/50\n",
            "239991/239991 [==============================] - 260s 1ms/step - loss: 0.2964 - acc: 0.9039 - val_loss: 1.1936 - val_acc: 0.6081\n",
            "Epoch 4/50\n",
            "239991/239991 [==============================] - 260s 1ms/step - loss: 0.2738 - acc: 0.9129 - val_loss: 1.1867 - val_acc: 0.6111\n",
            "Epoch 5/50\n",
            "239991/239991 [==============================] - 260s 1ms/step - loss: 0.2611 - acc: 0.9174 - val_loss: 1.1884 - val_acc: 0.6122\n",
            "Epoch 6/50\n",
            "239991/239991 [==============================] - 260s 1ms/step - loss: 0.2512 - acc: 0.9206 - val_loss: 1.1754 - val_acc: 0.6137\n",
            "Epoch 7/50\n",
            "239991/239991 [==============================] - 260s 1ms/step - loss: 0.2440 - acc: 0.9229 - val_loss: 1.1859 - val_acc: 0.6172\n",
            "Epoch 8/50\n",
            "239991/239991 [==============================] - 261s 1ms/step - loss: 0.2389 - acc: 0.9246 - val_loss: 1.1762 - val_acc: 0.6167\n",
            "Epoch 9/50\n",
            "239991/239991 [==============================] - 261s 1ms/step - loss: 0.2349 - acc: 0.9266 - val_loss: 1.1673 - val_acc: 0.6205\n",
            "Epoch 10/50\n",
            "239991/239991 [==============================] - 261s 1ms/step - loss: 0.2311 - acc: 0.9271 - val_loss: 1.1618 - val_acc: 0.6201\n",
            "Epoch 11/50\n",
            "239991/239991 [==============================] - 261s 1ms/step - loss: 0.2272 - acc: 0.9284 - val_loss: 1.1694 - val_acc: 0.6187\n",
            "Epoch 12/50\n",
            "239991/239991 [==============================] - 261s 1ms/step - loss: 0.2242 - acc: 0.9291 - val_loss: 1.1922 - val_acc: 0.6217\n",
            "Epoch 13/50\n",
            "239991/239991 [==============================] - 261s 1ms/step - loss: 0.2230 - acc: 0.9298 - val_loss: 1.1840 - val_acc: 0.6163\n",
            "Epoch 14/50\n",
            "239991/239991 [==============================] - 261s 1ms/step - loss: 0.2197 - acc: 0.9302 - val_loss: 1.1619 - val_acc: 0.6210\n",
            "Epoch 15/50\n",
            "239991/239991 [==============================] - 261s 1ms/step - loss: 0.2167 - acc: 0.9316 - val_loss: 1.1930 - val_acc: 0.6220\n",
            "Epoch 16/50\n",
            "239991/239991 [==============================] - 261s 1ms/step - loss: 0.2125 - acc: 0.9330 - val_loss: 1.1685 - val_acc: 0.6248\n",
            "Epoch 17/50\n",
            "239991/239991 [==============================] - 261s 1ms/step - loss: 0.2113 - acc: 0.9338 - val_loss: 1.1674 - val_acc: 0.6261\n",
            "Epoch 18/50\n",
            "239991/239991 [==============================] - 261s 1ms/step - loss: 0.2101 - acc: 0.9339 - val_loss: 1.1659 - val_acc: 0.6258\n",
            "Epoch 19/50\n",
            "239991/239991 [==============================] - 261s 1ms/step - loss: 0.2099 - acc: 0.9337 - val_loss: 1.1617 - val_acc: 0.6251\n",
            "Epoch 20/50\n",
            "239991/239991 [==============================] - 261s 1ms/step - loss: 0.2090 - acc: 0.9342 - val_loss: 1.1606 - val_acc: 0.6269\n",
            "Epoch 21/50\n",
            "239991/239991 [==============================] - 261s 1ms/step - loss: 0.2081 - acc: 0.9341 - val_loss: 1.1650 - val_acc: 0.6260\n",
            "Epoch 22/50\n",
            "239991/239991 [==============================] - 261s 1ms/step - loss: 0.2078 - acc: 0.9343 - val_loss: 1.1670 - val_acc: 0.6260\n",
            "Epoch 23/50\n",
            "239991/239991 [==============================] - 262s 1ms/step - loss: 0.2073 - acc: 0.9348 - val_loss: 1.1641 - val_acc: 0.6251\n",
            "Epoch 24/50\n",
            "239991/239991 [==============================] - 262s 1ms/step - loss: 0.2076 - acc: 0.9344 - val_loss: 1.1655 - val_acc: 0.6257\n",
            "Epoch 25/50\n",
            "239991/239991 [==============================] - 260s 1ms/step - loss: 0.2068 - acc: 0.9345 - val_loss: 1.1691 - val_acc: 0.6249\n"
          ],
          "name": "stdout"
        },
        {
          "output_type": "execute_result",
          "data": {
            "text/plain": [
              "<keras.callbacks.History at 0x7f5407f51d30>"
            ]
          },
          "metadata": {
            "tags": []
          },
          "execution_count": 63
        }
      ]
    },
    {
      "cell_type": "code",
      "metadata": {
        "id": "Tyd1dSt_BHMP"
      },
      "source": [
        "model2.save('LSTM_2_v3.h5')\n",
        "!cp LSTM_2_v3.h5 \"/content/gdrive/Shared drives/FIT5149 A2/Joe/\""
      ],
      "execution_count": null,
      "outputs": []
    },
    {
      "cell_type": "code",
      "metadata": {
        "id": "Oow9dw1rBPgO"
      },
      "source": [
        "df_train.to_csv('df_train2.csv')\n",
        "!cp df_train2.csv \"/content/gdrive/Shared drives/FIT5149 A2/Joe/\""
      ],
      "execution_count": null,
      "outputs": []
    },
    {
      "cell_type": "code",
      "metadata": {
        "id": "tISTF7l3B-CR"
      },
      "source": [
        "df_not_trained.to_csv('df_not_trained2.csv')\n",
        "!cp df_not_trained2.csv \"/content/gdrive/Shared drives/FIT5149 A2/Joe/\""
      ],
      "execution_count": null,
      "outputs": []
    },
    {
      "cell_type": "code",
      "metadata": {
        "id": "IIG94HkABSUO",
        "outputId": "4e0fb38e-f2fc-4d19-bc9b-c6d685a51a90",
        "colab": {
          "base_uri": "https://localhost:8080/",
          "height": 35
        }
      },
      "source": [
        "df_not_trained.shape"
      ],
      "execution_count": null,
      "outputs": [
        {
          "output_type": "execute_result",
          "data": {
            "text/plain": [
              "(399756, 1)"
            ]
          },
          "metadata": {
            "tags": []
          },
          "execution_count": 66
        }
      ]
    },
    {
      "cell_type": "code",
      "metadata": {
        "id": "hy-Z5h9GBVUd",
        "outputId": "94170a6b-f237-4e25-8f5a-e8c855f3b07c",
        "colab": {
          "base_uri": "https://localhost:8080/",
          "height": 35
        }
      },
      "source": [
        "df_validate.shape"
      ],
      "execution_count": null,
      "outputs": [
        {
          "output_type": "execute_result",
          "data": {
            "text/plain": [
              "(9998, 3)"
            ]
          },
          "metadata": {
            "tags": []
          },
          "execution_count": 67
        }
      ]
    },
    {
      "cell_type": "markdown",
      "metadata": {
        "id": "RNfhjncTCaTd"
      },
      "source": [
        "## Iteration 3"
      ]
    },
    {
      "cell_type": "code",
      "metadata": {
        "id": "aFkoeLFZCcfs"
      },
      "source": [
        "# vectorize unlabelled review\n",
        "x_unlabel = pad_sequences(tokenizer.texts_to_sequences(df_not_trained.text), maxlen=SEQUENCE_LENGTH)"
      ],
      "execution_count": null,
      "outputs": []
    },
    {
      "cell_type": "code",
      "metadata": {
        "id": "Sr23pSyWCwIo"
      },
      "source": [
        "# calculate probability\n",
        "y_prob = model2.predict(x_unlabel)"
      ],
      "execution_count": null,
      "outputs": []
    },
    {
      "cell_type": "code",
      "metadata": {
        "id": "zSc5PvTySWVv"
      },
      "source": [
        "prob = []\n",
        "for i in y_prob:\n",
        "  prob.append(list(i))\n",
        "\n",
        "df_not_trained['prob'] = prob"
      ],
      "execution_count": null,
      "outputs": []
    },
    {
      "cell_type": "code",
      "metadata": {
        "id": "HIArv0ZkSc4S"
      },
      "source": [
        "# find the maximum probability\n",
        "max_prob = []\n",
        "for i in df_not_trained.prob.values:\n",
        "  max_prob.append(np.amax(i))\n",
        "\n",
        "df_not_trained['max_prob'] = max_prob"
      ],
      "execution_count": null,
      "outputs": []
    },
    {
      "cell_type": "code",
      "metadata": {
        "id": "g4FhkczFShNT"
      },
      "source": [
        "# pseudo label\n",
        "p_label =[]\n",
        "for i in df_not_trained.prob.values:\n",
        "  p_label.append(np.argmax(i)+1)\n",
        "\n",
        "df_not_trained['label'] = p_label"
      ],
      "execution_count": null,
      "outputs": []
    },
    {
      "cell_type": "code",
      "metadata": {
        "id": "VJ5WvydjSoWI",
        "outputId": "5f7fe3b1-6ea3-4cf6-c857-54fb71355ccc",
        "colab": {
          "base_uri": "https://localhost:8080/",
          "height": 198
        }
      },
      "source": [
        "df_not_trained.head()"
      ],
      "execution_count": null,
      "outputs": [
        {
          "output_type": "execute_result",
          "data": {
            "text/html": [
              "<div>\n",
              "<style scoped>\n",
              "    .dataframe tbody tr th:only-of-type {\n",
              "        vertical-align: middle;\n",
              "    }\n",
              "\n",
              "    .dataframe tbody tr th {\n",
              "        vertical-align: top;\n",
              "    }\n",
              "\n",
              "    .dataframe thead th {\n",
              "        text-align: right;\n",
              "    }\n",
              "</style>\n",
              "<table border=\"1\" class=\"dataframe\">\n",
              "  <thead>\n",
              "    <tr style=\"text-align: right;\">\n",
              "      <th></th>\n",
              "      <th>text</th>\n",
              "      <th>prob</th>\n",
              "      <th>max_prob</th>\n",
              "      <th>label</th>\n",
              "    </tr>\n",
              "  </thead>\n",
              "  <tbody>\n",
              "    <tr>\n",
              "      <th>0</th>\n",
              "      <td>good expery wif sat bar gre pizz wing howev tr...</td>\n",
              "      <td>[0.02544577, 0.15235698, 0.34801334, 0.4282425...</td>\n",
              "      <td>0.428243</td>\n",
              "      <td>4</td>\n",
              "    </tr>\n",
              "    <tr>\n",
              "      <th>1</th>\n",
              "      <td>on favorit plac go cold rainy comfort food try...</td>\n",
              "      <td>[0.000246434, 0.00042480443, 0.004720209, 0.06...</td>\n",
              "      <td>0.932355</td>\n",
              "      <td>5</td>\n",
              "    </tr>\n",
              "    <tr>\n",
              "      <th>2</th>\n",
              "      <td>doct nic got good amount tim feel lik visit ac...</td>\n",
              "      <td>[0.5174428, 0.31062946, 0.089226544, 0.0648350...</td>\n",
              "      <td>0.517443</td>\n",
              "      <td>1</td>\n",
              "    </tr>\n",
              "    <tr>\n",
              "      <th>4</th>\n",
              "      <td>serv step foot wait seat act not feel anyth no...</td>\n",
              "      <td>[0.39579096, 0.36854485, 0.17307523, 0.0377585...</td>\n",
              "      <td>0.395791</td>\n",
              "      <td>1</td>\n",
              "    </tr>\n",
              "    <tr>\n",
              "      <th>5</th>\n",
              "      <td>plac seem lik scam gift groupon fre walk fil s...</td>\n",
              "      <td>[0.88270473, 0.082945, 0.025559098, 0.00592044...</td>\n",
              "      <td>0.882705</td>\n",
              "      <td>1</td>\n",
              "    </tr>\n",
              "  </tbody>\n",
              "</table>\n",
              "</div>"
            ],
            "text/plain": [
              "                                                text  ... label\n",
              "0  good expery wif sat bar gre pizz wing howev tr...  ...     4\n",
              "1  on favorit plac go cold rainy comfort food try...  ...     5\n",
              "2  doct nic got good amount tim feel lik visit ac...  ...     1\n",
              "4  serv step foot wait seat act not feel anyth no...  ...     1\n",
              "5  plac seem lik scam gift groupon fre walk fil s...  ...     1\n",
              "\n",
              "[5 rows x 4 columns]"
            ]
          },
          "metadata": {
            "tags": []
          },
          "execution_count": 76
        }
      ]
    },
    {
      "cell_type": "code",
      "metadata": {
        "id": "2zCltbTJSyez"
      },
      "source": [
        "# find most confident 20000 predictions from each class\n",
        "index_1 = df_not_trained[df_not_trained['label']==1].sort_values(by=['max_prob'], ascending = False)[1:30001].index\n",
        "index_2 = df_not_trained[df_not_trained['label']==2].sort_values(by=['max_prob'], ascending = False)[1:30001].index\n",
        "index_3 = df_not_trained[df_not_trained['label']==3].sort_values(by=['max_prob'], ascending = False)[1:30001].index\n",
        "index_4 = df_not_trained[df_not_trained['label']==4].sort_values(by=['max_prob'], ascending = False)[1:30001].index\n",
        "index_5 = df_not_trained[df_not_trained['label']==5].sort_values(by=['max_prob'], ascending = False)[1:30001].index\n",
        "\n",
        "index = np.concatenate((index_1,index_2,index_3,index_4,index_5))"
      ],
      "execution_count": null,
      "outputs": []
    },
    {
      "cell_type": "code",
      "metadata": {
        "id": "isSPvh2kUVb3",
        "outputId": "39ee78c4-d8f4-4bb5-a693-e2c9ffd2eb5f",
        "colab": {
          "base_uri": "https://localhost:8080/",
          "height": 198
        }
      },
      "source": [
        "# only get the necessary columns\n",
        "df_temp = df_not_trained.loc[index][['text', 'label']]\n",
        "df_temp.head()"
      ],
      "execution_count": null,
      "outputs": [
        {
          "output_type": "execute_result",
          "data": {
            "text/html": [
              "<div>\n",
              "<style scoped>\n",
              "    .dataframe tbody tr th:only-of-type {\n",
              "        vertical-align: middle;\n",
              "    }\n",
              "\n",
              "    .dataframe tbody tr th {\n",
              "        vertical-align: top;\n",
              "    }\n",
              "\n",
              "    .dataframe thead th {\n",
              "        text-align: right;\n",
              "    }\n",
              "</style>\n",
              "<table border=\"1\" class=\"dataframe\">\n",
              "  <thead>\n",
              "    <tr style=\"text-align: right;\">\n",
              "      <th></th>\n",
              "      <th>text</th>\n",
              "      <th>label</th>\n",
              "    </tr>\n",
              "  </thead>\n",
              "  <tbody>\n",
              "    <tr>\n",
              "      <th>343183</th>\n",
              "      <td>gav on star noth low may worst hospit stat sat...</td>\n",
              "      <td>1</td>\n",
              "    </tr>\n",
              "    <tr>\n",
              "      <th>486918</th>\n",
              "      <td>nev return groggy lov div bar 1 blu moon drank...</td>\n",
              "      <td>1</td>\n",
              "    </tr>\n",
              "    <tr>\n",
              "      <th>161275</th>\n",
              "      <td>giv plac 1 star left plac 10 min nobody greet ...</td>\n",
              "      <td>1</td>\n",
              "    </tr>\n",
              "    <tr>\n",
              "      <th>255416</th>\n",
              "      <td>would giv review zero could play min golf boyf...</td>\n",
              "      <td>1</td>\n",
              "    </tr>\n",
              "    <tr>\n",
              "      <th>263295</th>\n",
              "      <td>wit sint last review believ worthy shout behal...</td>\n",
              "      <td>1</td>\n",
              "    </tr>\n",
              "  </tbody>\n",
              "</table>\n",
              "</div>"
            ],
            "text/plain": [
              "                                                     text  label\n",
              "343183  gav on star noth low may worst hospit stat sat...      1\n",
              "486918  nev return groggy lov div bar 1 blu moon drank...      1\n",
              "161275  giv plac 1 star left plac 10 min nobody greet ...      1\n",
              "255416  would giv review zero could play min golf boyf...      1\n",
              "263295  wit sint last review believ worthy shout behal...      1"
            ]
          },
          "metadata": {
            "tags": []
          },
          "execution_count": 88
        }
      ]
    },
    {
      "cell_type": "code",
      "metadata": {
        "id": "qPKpsqdsUaaL",
        "outputId": "06ebff27-4e5e-4215-a915-745811afc6cc",
        "colab": {
          "base_uri": "https://localhost:8080/",
          "height": 344
        }
      },
      "source": [
        "# add high confidence prediction to training set\n",
        "df_train = df_train.append(df_temp)\n",
        "df_train.head()"
      ],
      "execution_count": null,
      "outputs": [
        {
          "output_type": "stream",
          "text": [
            "/usr/local/lib/python3.6/dist-packages/pandas/core/frame.py:6692: FutureWarning: Sorting because non-concatenation axis is not aligned. A future version\n",
            "of pandas will change to not sort by default.\n",
            "\n",
            "To accept the future behavior, pass 'sort=False'.\n",
            "\n",
            "To retain the current behavior and silence the warning, pass 'sort=True'.\n",
            "\n",
            "  sort=sort)\n"
          ],
          "name": "stderr"
        },
        {
          "output_type": "execute_result",
          "data": {
            "text/html": [
              "<div>\n",
              "<style scoped>\n",
              "    .dataframe tbody tr th:only-of-type {\n",
              "        vertical-align: middle;\n",
              "    }\n",
              "\n",
              "    .dataframe tbody tr th {\n",
              "        vertical-align: top;\n",
              "    }\n",
              "\n",
              "    .dataframe thead th {\n",
              "        text-align: right;\n",
              "    }\n",
              "</style>\n",
              "<table border=\"1\" class=\"dataframe\">\n",
              "  <thead>\n",
              "    <tr style=\"text-align: right;\">\n",
              "      <th></th>\n",
              "      <th>label</th>\n",
              "      <th>text</th>\n",
              "    </tr>\n",
              "  </thead>\n",
              "  <tbody>\n",
              "    <tr>\n",
              "      <th>41140</th>\n",
              "      <td>1</td>\n",
              "      <td>absolv worst expery yesterday cam friend birth...</td>\n",
              "    </tr>\n",
              "    <tr>\n",
              "      <th>122583</th>\n",
              "      <td>5</td>\n",
              "      <td>impl don dent expery bond exceiv staff friend ...</td>\n",
              "    </tr>\n",
              "    <tr>\n",
              "      <th>26709</th>\n",
              "      <td>3</td>\n",
              "      <td>went on niec favorit resta would describ high ...</td>\n",
              "    </tr>\n",
              "    <tr>\n",
              "      <th>70754</th>\n",
              "      <td>2</td>\n",
              "      <td>definit say expery bet return trip ol gard res...</td>\n",
              "    </tr>\n",
              "    <tr>\n",
              "      <th>33860</th>\n",
              "      <td>4</td>\n",
              "      <td>pollo chick bowl real yummy fil would definit ...</td>\n",
              "    </tr>\n",
              "  </tbody>\n",
              "</table>\n",
              "</div>"
            ],
            "text/plain": [
              "        label                                               text\n",
              "41140       1  absolv worst expery yesterday cam friend birth...\n",
              "122583      5  impl don dent expery bond exceiv staff friend ...\n",
              "26709       3  went on niec favorit resta would describ high ...\n",
              "70754       2  definit say expery bet return trip ol gard res...\n",
              "33860       4  pollo chick bowl real yummy fil would definit ..."
            ]
          },
          "metadata": {
            "tags": []
          },
          "execution_count": 93
        }
      ]
    },
    {
      "cell_type": "code",
      "metadata": {
        "id": "nAP1SDEvU5nr",
        "outputId": "3ac70695-a13d-483c-e1bf-cdbbfd6ea4b2",
        "colab": {
          "base_uri": "https://localhost:8080/",
          "height": 198
        }
      },
      "source": [
        "# remove high confidence prediction from unlabel data\n",
        "df_not_trained = df_not_trained.drop(index)\n",
        "df_not_trained.head()"
      ],
      "execution_count": null,
      "outputs": [
        {
          "output_type": "execute_result",
          "data": {
            "text/html": [
              "<div>\n",
              "<style scoped>\n",
              "    .dataframe tbody tr th:only-of-type {\n",
              "        vertical-align: middle;\n",
              "    }\n",
              "\n",
              "    .dataframe tbody tr th {\n",
              "        vertical-align: top;\n",
              "    }\n",
              "\n",
              "    .dataframe thead th {\n",
              "        text-align: right;\n",
              "    }\n",
              "</style>\n",
              "<table border=\"1\" class=\"dataframe\">\n",
              "  <thead>\n",
              "    <tr style=\"text-align: right;\">\n",
              "      <th></th>\n",
              "      <th>text</th>\n",
              "      <th>prob</th>\n",
              "      <th>max_prob</th>\n",
              "      <th>label</th>\n",
              "    </tr>\n",
              "  </thead>\n",
              "  <tbody>\n",
              "    <tr>\n",
              "      <th>0</th>\n",
              "      <td>good expery wif sat bar gre pizz wing howev tr...</td>\n",
              "      <td>[0.02544577, 0.15235698, 0.34801334, 0.4282425...</td>\n",
              "      <td>0.428243</td>\n",
              "      <td>4</td>\n",
              "    </tr>\n",
              "    <tr>\n",
              "      <th>2</th>\n",
              "      <td>doct nic got good amount tim feel lik visit ac...</td>\n",
              "      <td>[0.5174428, 0.31062946, 0.089226544, 0.0648350...</td>\n",
              "      <td>0.517443</td>\n",
              "      <td>1</td>\n",
              "    </tr>\n",
              "    <tr>\n",
              "      <th>4</th>\n",
              "      <td>serv step foot wait seat act not feel anyth no...</td>\n",
              "      <td>[0.39579096, 0.36854485, 0.17307523, 0.0377585...</td>\n",
              "      <td>0.395791</td>\n",
              "      <td>1</td>\n",
              "    </tr>\n",
              "    <tr>\n",
              "      <th>5</th>\n",
              "      <td>plac seem lik scam gift groupon fre walk fil s...</td>\n",
              "      <td>[0.88270473, 0.082945, 0.025559098, 0.00592044...</td>\n",
              "      <td>0.882705</td>\n",
              "      <td>1</td>\n",
              "    </tr>\n",
              "    <tr>\n",
              "      <th>7</th>\n",
              "      <td>bar fantast plac get wel mad cocktail beer win...</td>\n",
              "      <td>[0.0002506247, 0.0009770013, 0.011290073, 0.72...</td>\n",
              "      <td>0.724479</td>\n",
              "      <td>4</td>\n",
              "    </tr>\n",
              "  </tbody>\n",
              "</table>\n",
              "</div>"
            ],
            "text/plain": [
              "                                                text  ... label\n",
              "0  good expery wif sat bar gre pizz wing howev tr...  ...     4\n",
              "2  doct nic got good amount tim feel lik visit ac...  ...     1\n",
              "4  serv step foot wait seat act not feel anyth no...  ...     1\n",
              "5  plac seem lik scam gift groupon fre walk fil s...  ...     1\n",
              "7  bar fantast plac get wel mad cocktail beer win...  ...     4\n",
              "\n",
              "[5 rows x 4 columns]"
            ]
          },
          "metadata": {
            "tags": []
          },
          "execution_count": 94
        }
      ]
    },
    {
      "cell_type": "code",
      "metadata": {
        "id": "C5DgZeTyVCMf",
        "outputId": "b7475579-0b82-40ef-bfa9-508feb6587f6",
        "colab": {
          "base_uri": "https://localhost:8080/",
          "height": 198
        }
      },
      "source": [
        "# drop the unnecessary columns\n",
        "df_not_trained = df_not_trained.drop(['prob', 'max_prob', 'label'], axis = 1)\n",
        "df_not_trained.head()"
      ],
      "execution_count": null,
      "outputs": [
        {
          "output_type": "execute_result",
          "data": {
            "text/html": [
              "<div>\n",
              "<style scoped>\n",
              "    .dataframe tbody tr th:only-of-type {\n",
              "        vertical-align: middle;\n",
              "    }\n",
              "\n",
              "    .dataframe tbody tr th {\n",
              "        vertical-align: top;\n",
              "    }\n",
              "\n",
              "    .dataframe thead th {\n",
              "        text-align: right;\n",
              "    }\n",
              "</style>\n",
              "<table border=\"1\" class=\"dataframe\">\n",
              "  <thead>\n",
              "    <tr style=\"text-align: right;\">\n",
              "      <th></th>\n",
              "      <th>text</th>\n",
              "    </tr>\n",
              "  </thead>\n",
              "  <tbody>\n",
              "    <tr>\n",
              "      <th>0</th>\n",
              "      <td>good expery wif sat bar gre pizz wing howev tr...</td>\n",
              "    </tr>\n",
              "    <tr>\n",
              "      <th>2</th>\n",
              "      <td>doct nic got good amount tim feel lik visit ac...</td>\n",
              "    </tr>\n",
              "    <tr>\n",
              "      <th>4</th>\n",
              "      <td>serv step foot wait seat act not feel anyth no...</td>\n",
              "    </tr>\n",
              "    <tr>\n",
              "      <th>5</th>\n",
              "      <td>plac seem lik scam gift groupon fre walk fil s...</td>\n",
              "    </tr>\n",
              "    <tr>\n",
              "      <th>7</th>\n",
              "      <td>bar fantast plac get wel mad cocktail beer win...</td>\n",
              "    </tr>\n",
              "  </tbody>\n",
              "</table>\n",
              "</div>"
            ],
            "text/plain": [
              "                                                text\n",
              "0  good expery wif sat bar gre pizz wing howev tr...\n",
              "2  doct nic got good amount tim feel lik visit ac...\n",
              "4  serv step foot wait seat act not feel anyth no...\n",
              "5  plac seem lik scam gift groupon fre walk fil s...\n",
              "7  bar fantast plac get wel mad cocktail beer win..."
            ]
          },
          "metadata": {
            "tags": []
          },
          "execution_count": 96
        }
      ]
    },
    {
      "cell_type": "code",
      "metadata": {
        "id": "8bSbzmmHVQA_"
      },
      "source": [
        "df_train.to_csv('df_train3.csv')\n",
        "!cp df_train3.csv \"/content/gdrive/Shared drives/FIT5149 A2/Joe/\""
      ],
      "execution_count": null,
      "outputs": []
    },
    {
      "cell_type": "code",
      "metadata": {
        "id": "iejLBZ0gVWh8"
      },
      "source": [
        "df_not_trained.to_csv('df_not_trained3.csv')\n",
        "!cp df_not_trained3.csv \"/content/gdrive/Shared drives/FIT5149 A2/Joe/\""
      ],
      "execution_count": null,
      "outputs": []
    },
    {
      "cell_type": "code",
      "metadata": {
        "id": "0ssqlm7kOoiX"
      },
      "source": [
        "import pandas as pd\n",
        "\n",
        "df_train = pd.read_csv('/content/gdrive/Shared drives/FIT5149 A2/Joe/df_train3.csv')\n",
        "df_not_trained = pd.read_csv('/content/gdrive/Shared drives/FIT5149 A2/Joe/df_not_trained3.csv')\n",
        "df_validate = pd.read_csv('/content/gdrive/Shared drives/FIT5149 A2/Joe/df_validate.csv')"
      ],
      "execution_count": null,
      "outputs": []
    },
    {
      "cell_type": "code",
      "metadata": {
        "id": "JtPBasaSQlaS"
      },
      "source": [
        "# shuffle train dataframe\n",
        "df_train = df_train.sample(frac=1)"
      ],
      "execution_count": null,
      "outputs": []
    },
    {
      "cell_type": "code",
      "metadata": {
        "id": "CUkGzGfzO_mp"
      },
      "source": [
        "X_train = df_train.text\n",
        "Y_train = df_train.label\n",
        "X_test = df_validate.text\n",
        "Y_test = df_validate.label"
      ],
      "execution_count": null,
      "outputs": []
    },
    {
      "cell_type": "code",
      "metadata": {
        "id": "gTNnCf0xPLvc"
      },
      "source": [
        "# vectorize X_train and Y_train\n",
        "x_train = pad_sequences(tokenizer.texts_to_sequences(X_train), maxlen=SEQUENCE_LENGTH)\n",
        "y_train = pd.get_dummies(Y_train).values"
      ],
      "execution_count": null,
      "outputs": []
    },
    {
      "cell_type": "code",
      "metadata": {
        "id": "_C7lc5b4P_-L"
      },
      "source": [
        "# vectorize X_train and Y_train\n",
        "x_test = pad_sequences(tokenizer.texts_to_sequences(X_test), maxlen=SEQUENCE_LENGTH)\n",
        "y_test = pd.get_dummies(Y_test).values"
      ],
      "execution_count": null,
      "outputs": []
    },
    {
      "cell_type": "code",
      "metadata": {
        "id": "z8EpAZzbPvGt"
      },
      "source": [
        "model3 = Sequential()\n",
        "model3.add(embedding_layer)\n",
        "model3.add(Dropout(0.2))\n",
        "model3.add(LSTM(100, dropout=0.2, recurrent_dropout=0.2, return_sequences = True))\n",
        "model3.add(Dropout(0.2))\n",
        "model3.add(LSTM(100, dropout=0.2, recurrent_dropout=0.2))\n",
        "model3.add(Dense(5, activation='softmax'))\n",
        "\n",
        "model3.compile(loss='categorical_crossentropy',\n",
        "              optimizer=\"adam\",\n",
        "              metrics=['accuracy'])\n",
        "\n",
        "callbacks = [ ReduceLROnPlateau(monitor='val_loss', patience=5, cooldown=0),\n",
        "              EarlyStopping(monitor='val_acc', min_delta=1e-4, patience=5)]"
      ],
      "execution_count": null,
      "outputs": []
    },
    {
      "cell_type": "code",
      "metadata": {
        "id": "o_PgigBUP3KY",
        "outputId": "e6165ebc-9932-4c20-e01d-00c5a89e376b",
        "colab": {
          "base_uri": "https://localhost:8080/",
          "height": 635
        }
      },
      "source": [
        "model3.fit(x_train, y_train,\n",
        "                    batch_size=1000,\n",
        "                    epochs=EPOCHS,\n",
        "                    validation_data = (x_test, y_test),\n",
        "                    verbose=1,\n",
        "                    callbacks=callbacks)"
      ],
      "execution_count": null,
      "outputs": [
        {
          "output_type": "stream",
          "text": [
            "Train on 389991 samples, validate on 9998 samples\n",
            "Epoch 1/50\n",
            "389991/389991 [==============================] - 421s 1ms/step - loss: 0.5069 - acc: 0.8086 - val_loss: 1.2786 - val_acc: 0.6062\n",
            "Epoch 2/50\n",
            "389991/389991 [==============================] - 422s 1ms/step - loss: 0.2956 - acc: 0.9012 - val_loss: 1.3366 - val_acc: 0.6103\n",
            "Epoch 3/50\n",
            "389991/389991 [==============================] - 422s 1ms/step - loss: 0.2542 - acc: 0.9182 - val_loss: 1.3185 - val_acc: 0.6106\n",
            "Epoch 4/50\n",
            "389991/389991 [==============================] - 420s 1ms/step - loss: 0.2354 - acc: 0.9266 - val_loss: 1.2978 - val_acc: 0.6170\n",
            "Epoch 5/50\n",
            "389991/389991 [==============================] - 420s 1ms/step - loss: 0.2234 - acc: 0.9309 - val_loss: 1.3174 - val_acc: 0.6189\n",
            "Epoch 6/50\n",
            "389991/389991 [==============================] - 419s 1ms/step - loss: 0.2163 - acc: 0.9339 - val_loss: 1.3366 - val_acc: 0.6176\n",
            "Epoch 7/50\n",
            "389991/389991 [==============================] - 419s 1ms/step - loss: 0.2075 - acc: 0.9373 - val_loss: 1.3277 - val_acc: 0.6198\n",
            "Epoch 8/50\n",
            "389991/389991 [==============================] - 420s 1ms/step - loss: 0.2047 - acc: 0.9387 - val_loss: 1.3301 - val_acc: 0.6217\n",
            "Epoch 9/50\n",
            "389991/389991 [==============================] - 423s 1ms/step - loss: 0.2039 - acc: 0.9390 - val_loss: 1.3273 - val_acc: 0.6221\n",
            "Epoch 10/50\n",
            "389991/389991 [==============================] - 424s 1ms/step - loss: 0.2030 - acc: 0.9391 - val_loss: 1.3218 - val_acc: 0.6213\n",
            "Epoch 11/50\n",
            "389991/389991 [==============================] - 424s 1ms/step - loss: 0.2025 - acc: 0.9394 - val_loss: 1.3196 - val_acc: 0.6223\n",
            "Epoch 12/50\n",
            "389991/389991 [==============================] - 423s 1ms/step - loss: 0.2021 - acc: 0.9397 - val_loss: 1.3235 - val_acc: 0.6218\n",
            "Epoch 13/50\n",
            "389991/389991 [==============================] - 424s 1ms/step - loss: 0.2010 - acc: 0.9399 - val_loss: 1.3254 - val_acc: 0.6217\n",
            "Epoch 14/50\n",
            "389991/389991 [==============================] - 426s 1ms/step - loss: 0.2006 - acc: 0.9401 - val_loss: 1.3264 - val_acc: 0.6205\n",
            "Epoch 15/50\n",
            "389991/389991 [==============================] - 421s 1ms/step - loss: 0.2006 - acc: 0.9403 - val_loss: 1.3257 - val_acc: 0.6213\n",
            "Epoch 16/50\n",
            "389991/389991 [==============================] - 421s 1ms/step - loss: 0.2000 - acc: 0.9405 - val_loss: 1.3277 - val_acc: 0.6209\n"
          ],
          "name": "stdout"
        },
        {
          "output_type": "execute_result",
          "data": {
            "text/plain": [
              "<keras.callbacks.History at 0x7fac821ef390>"
            ]
          },
          "metadata": {
            "tags": []
          },
          "execution_count": 24
        }
      ]
    },
    {
      "cell_type": "code",
      "metadata": {
        "id": "wufsFPzwr4NJ"
      },
      "source": [
        "model3.save('LSTM_2_v4.h5')\n",
        "!cp LSTM_2_v4.h5 \"/content/gdrive/Shared drives/FIT5149 A2/Joe/\""
      ],
      "execution_count": null,
      "outputs": []
    },
    {
      "cell_type": "code",
      "metadata": {
        "id": "4yHRNbmdrAMB"
      },
      "source": [
        "# vectorize unlabelled review\n",
        "x_unlabel = pad_sequences(tokenizer.texts_to_sequences(df_not_trained.text), maxlen=SEQUENCE_LENGTH)"
      ],
      "execution_count": null,
      "outputs": []
    },
    {
      "cell_type": "code",
      "metadata": {
        "id": "EtGgJ8JsrEdg"
      },
      "source": [
        "# calculate probability\n",
        "y_prob = model3.predict(x_unlabel)"
      ],
      "execution_count": null,
      "outputs": []
    },
    {
      "cell_type": "code",
      "metadata": {
        "id": "UJKXjaGqrJhl"
      },
      "source": [
        "prob = []\n",
        "for i in y_prob:\n",
        "  prob.append(list(i))\n",
        "\n",
        "df_not_trained['prob'] = prob"
      ],
      "execution_count": null,
      "outputs": []
    },
    {
      "cell_type": "code",
      "metadata": {
        "id": "modLrMamrMGw"
      },
      "source": [
        "# find the maximum probability\n",
        "max_prob = []\n",
        "for i in df_not_trained.prob.values:\n",
        "  max_prob.append(np.amax(i))\n",
        "\n",
        "df_not_trained['max_prob'] = max_prob"
      ],
      "execution_count": null,
      "outputs": []
    },
    {
      "cell_type": "code",
      "metadata": {
        "id": "BTOkUZHerPHT"
      },
      "source": [
        "# pseudo label\n",
        "p_label =[]\n",
        "for i in df_not_trained.prob.values:\n",
        "  p_label.append(np.argmax(i)+1)\n",
        "\n",
        "df_not_trained['label'] = p_label"
      ],
      "execution_count": null,
      "outputs": []
    },
    {
      "cell_type": "code",
      "metadata": {
        "id": "NHvxuhC7rTCn"
      },
      "source": [
        "# find most confident 20000 predictions from each class\n",
        "index_1 = df_not_trained[df_not_trained['label']==1].sort_values(by=['max_prob'], ascending = False)[1:20001].index\n",
        "index_2 = df_not_trained[df_not_trained['label']==2].sort_values(by=['max_prob'], ascending = False)[1:20001].index\n",
        "index_3 = df_not_trained[df_not_trained['label']==3].sort_values(by=['max_prob'], ascending = False)[1:20001].index\n",
        "index_4 = df_not_trained[df_not_trained['label']==4].sort_values(by=['max_prob'], ascending = False)[1:20001].index\n",
        "index_5 = df_not_trained[df_not_trained['label']==5].sort_values(by=['max_prob'], ascending = False)[1:20001].index\n",
        "\n",
        "index = np.concatenate((index_1,index_2,index_3,index_4,index_5))"
      ],
      "execution_count": null,
      "outputs": []
    },
    {
      "cell_type": "code",
      "metadata": {
        "id": "h-EkFhFq0pgp",
        "outputId": "850ff92e-d079-4186-b2aa-c65d5f45dc0f",
        "colab": {
          "base_uri": "https://localhost:8080/",
          "height": 198
        }
      },
      "source": [
        "# only get the necessary columns\n",
        "df_temp = df_not_trained.loc[index][['text', 'label']]\n",
        "df_temp.head()"
      ],
      "execution_count": null,
      "outputs": [
        {
          "output_type": "execute_result",
          "data": {
            "text/html": [
              "<div>\n",
              "<style scoped>\n",
              "    .dataframe tbody tr th:only-of-type {\n",
              "        vertical-align: middle;\n",
              "    }\n",
              "\n",
              "    .dataframe tbody tr th {\n",
              "        vertical-align: top;\n",
              "    }\n",
              "\n",
              "    .dataframe thead th {\n",
              "        text-align: right;\n",
              "    }\n",
              "</style>\n",
              "<table border=\"1\" class=\"dataframe\">\n",
              "  <thead>\n",
              "    <tr style=\"text-align: right;\">\n",
              "      <th></th>\n",
              "      <th>text</th>\n",
              "      <th>label</th>\n",
              "    </tr>\n",
              "  </thead>\n",
              "  <tbody>\n",
              "    <tr>\n",
              "      <th>214797</th>\n",
              "      <td>could leav com without star would su off numb ...</td>\n",
              "      <td>1</td>\n",
              "    </tr>\n",
              "    <tr>\n",
              "      <th>93480</th>\n",
              "      <td>peopl say anyth good plac shock hap worst tha ...</td>\n",
              "      <td>1</td>\n",
              "    </tr>\n",
              "    <tr>\n",
              "      <th>160143</th>\n",
              "      <td>nev step foot est 3rd tim serv yet improv cont...</td>\n",
              "      <td>1</td>\n",
              "    </tr>\n",
              "    <tr>\n",
              "      <th>194525</th>\n",
              "      <td>flabbergast tre monro first visit good prom co...</td>\n",
              "      <td>1</td>\n",
              "    </tr>\n",
              "    <tr>\n",
              "      <th>91947</th>\n",
              "      <td>vet avoid hom depot many hom depot valley giv ...</td>\n",
              "      <td>1</td>\n",
              "    </tr>\n",
              "  </tbody>\n",
              "</table>\n",
              "</div>"
            ],
            "text/plain": [
              "                                                     text  label\n",
              "214797  could leav com without star would su off numb ...      1\n",
              "93480   peopl say anyth good plac shock hap worst tha ...      1\n",
              "160143  nev step foot est 3rd tim serv yet improv cont...      1\n",
              "194525  flabbergast tre monro first visit good prom co...      1\n",
              "91947   vet avoid hom depot many hom depot valley giv ...      1"
            ]
          },
          "metadata": {
            "tags": []
          },
          "execution_count": 44
        }
      ]
    },
    {
      "cell_type": "code",
      "metadata": {
        "id": "Nh4lL5RF03B8",
        "outputId": "ce59a997-4b5c-4b56-8619-a28919675464",
        "colab": {
          "base_uri": "https://localhost:8080/",
          "height": 344
        }
      },
      "source": [
        "# add high confidence prediction to training set\n",
        "df_train = df_train.append(df_temp)\n",
        "df_train.head()"
      ],
      "execution_count": null,
      "outputs": [
        {
          "output_type": "stream",
          "text": [
            "/usr/local/lib/python3.6/dist-packages/pandas/core/frame.py:6692: FutureWarning: Sorting because non-concatenation axis is not aligned. A future version\n",
            "of pandas will change to not sort by default.\n",
            "\n",
            "To accept the future behavior, pass 'sort=False'.\n",
            "\n",
            "To retain the current behavior and silence the warning, pass 'sort=True'.\n",
            "\n",
            "  sort=sort)\n"
          ],
          "name": "stderr"
        },
        {
          "output_type": "execute_result",
          "data": {
            "text/html": [
              "<div>\n",
              "<style scoped>\n",
              "    .dataframe tbody tr th:only-of-type {\n",
              "        vertical-align: middle;\n",
              "    }\n",
              "\n",
              "    .dataframe tbody tr th {\n",
              "        vertical-align: top;\n",
              "    }\n",
              "\n",
              "    .dataframe thead th {\n",
              "        text-align: right;\n",
              "    }\n",
              "</style>\n",
              "<table border=\"1\" class=\"dataframe\">\n",
              "  <thead>\n",
              "    <tr style=\"text-align: right;\">\n",
              "      <th></th>\n",
              "      <th>Unnamed: 0</th>\n",
              "      <th>label</th>\n",
              "      <th>text</th>\n",
              "    </tr>\n",
              "  </thead>\n",
              "  <tbody>\n",
              "    <tr>\n",
              "      <th>138412</th>\n",
              "      <td>186859.0</td>\n",
              "      <td>3</td>\n",
              "      <td>cam town steel gam accost demand go prim went ...</td>\n",
              "    </tr>\n",
              "    <tr>\n",
              "      <th>288781</th>\n",
              "      <td>48535.0</td>\n",
              "      <td>2</td>\n",
              "      <td>dj suck not know mash song prop would good son...</td>\n",
              "    </tr>\n",
              "    <tr>\n",
              "      <th>317654</th>\n",
              "      <td>497798.0</td>\n",
              "      <td>3</td>\n",
              "      <td>overpr tre drink nonetheless not bad want sug ...</td>\n",
              "    </tr>\n",
              "    <tr>\n",
              "      <th>358401</th>\n",
              "      <td>71541.0</td>\n",
              "      <td>4</td>\n",
              "      <td>lov everyth tony flaw pizz ord slight greasy g...</td>\n",
              "    </tr>\n",
              "    <tr>\n",
              "      <th>287991</th>\n",
              "      <td>423218.0</td>\n",
              "      <td>2</td>\n",
              "      <td>prim rib phil chees dip good meat fatty au jus...</td>\n",
              "    </tr>\n",
              "  </tbody>\n",
              "</table>\n",
              "</div>"
            ],
            "text/plain": [
              "        Unnamed: 0  label                                               text\n",
              "138412    186859.0      3  cam town steel gam accost demand go prim went ...\n",
              "288781     48535.0      2  dj suck not know mash song prop would good son...\n",
              "317654    497798.0      3  overpr tre drink nonetheless not bad want sug ...\n",
              "358401     71541.0      4  lov everyth tony flaw pizz ord slight greasy g...\n",
              "287991    423218.0      2  prim rib phil chees dip good meat fatty au jus..."
            ]
          },
          "metadata": {
            "tags": []
          },
          "execution_count": 48
        }
      ]
    },
    {
      "cell_type": "code",
      "metadata": {
        "id": "TtIBGG5M07QZ",
        "outputId": "b66c594c-c7b1-41c3-8b5d-a1c534b93aaf",
        "colab": {
          "base_uri": "https://localhost:8080/",
          "height": 198
        }
      },
      "source": [
        "# remove high confidence prediction from unlabel data\n",
        "df_not_trained = df_not_trained.drop(index)\n",
        "df_not_trained.head()"
      ],
      "execution_count": null,
      "outputs": [
        {
          "output_type": "execute_result",
          "data": {
            "text/html": [
              "<div>\n",
              "<style scoped>\n",
              "    .dataframe tbody tr th:only-of-type {\n",
              "        vertical-align: middle;\n",
              "    }\n",
              "\n",
              "    .dataframe tbody tr th {\n",
              "        vertical-align: top;\n",
              "    }\n",
              "\n",
              "    .dataframe thead th {\n",
              "        text-align: right;\n",
              "    }\n",
              "</style>\n",
              "<table border=\"1\" class=\"dataframe\">\n",
              "  <thead>\n",
              "    <tr style=\"text-align: right;\">\n",
              "      <th></th>\n",
              "      <th>Unnamed: 0</th>\n",
              "      <th>text</th>\n",
              "      <th>prob</th>\n",
              "      <th>max_prob</th>\n",
              "      <th>label</th>\n",
              "    </tr>\n",
              "  </thead>\n",
              "  <tbody>\n",
              "    <tr>\n",
              "      <th>0</th>\n",
              "      <td>0</td>\n",
              "      <td>good expery wif sat bar gre pizz wing howev tr...</td>\n",
              "      <td>[0.016183272, 0.12804744, 0.30849513, 0.531518...</td>\n",
              "      <td>0.531518</td>\n",
              "      <td>4</td>\n",
              "    </tr>\n",
              "    <tr>\n",
              "      <th>1</th>\n",
              "      <td>2</td>\n",
              "      <td>doct nic got good amount tim feel lik visit ac...</td>\n",
              "      <td>[0.53315085, 0.38960576, 0.01862484, 0.0519185...</td>\n",
              "      <td>0.533151</td>\n",
              "      <td>1</td>\n",
              "    </tr>\n",
              "    <tr>\n",
              "      <th>2</th>\n",
              "      <td>4</td>\n",
              "      <td>serv step foot wait seat act not feel anyth no...</td>\n",
              "      <td>[0.2772878, 0.38265908, 0.23390044, 0.0680317,...</td>\n",
              "      <td>0.382659</td>\n",
              "      <td>2</td>\n",
              "    </tr>\n",
              "    <tr>\n",
              "      <th>3</th>\n",
              "      <td>5</td>\n",
              "      <td>plac seem lik scam gift groupon fre walk fil s...</td>\n",
              "      <td>[0.8362541, 0.1018191, 0.04964102, 0.008444764...</td>\n",
              "      <td>0.836254</td>\n",
              "      <td>1</td>\n",
              "    </tr>\n",
              "    <tr>\n",
              "      <th>5</th>\n",
              "      <td>10</td>\n",
              "      <td>ess tri shom bank pomegr darband would say sha...</td>\n",
              "      <td>[0.0014308995, 0.0046866764, 0.12906659, 0.578...</td>\n",
              "      <td>0.578971</td>\n",
              "      <td>4</td>\n",
              "    </tr>\n",
              "  </tbody>\n",
              "</table>\n",
              "</div>"
            ],
            "text/plain": [
              "   Unnamed: 0  ... label\n",
              "0           0  ...     4\n",
              "1           2  ...     1\n",
              "2           4  ...     2\n",
              "3           5  ...     1\n",
              "5          10  ...     4\n",
              "\n",
              "[5 rows x 5 columns]"
            ]
          },
          "metadata": {
            "tags": []
          },
          "execution_count": 49
        }
      ]
    },
    {
      "cell_type": "code",
      "metadata": {
        "id": "2YksX4Gf1AgQ",
        "outputId": "87f8a648-3840-470e-8663-877ebc3b0009",
        "colab": {
          "base_uri": "https://localhost:8080/",
          "height": 198
        }
      },
      "source": [
        "# drop the unnecessary columns\n",
        "df_not_trained = df_not_trained.drop(['prob', 'max_prob', 'label','Unnamed: 0'], axis = 1)\n",
        "df_not_trained.head()"
      ],
      "execution_count": null,
      "outputs": [
        {
          "output_type": "execute_result",
          "data": {
            "text/html": [
              "<div>\n",
              "<style scoped>\n",
              "    .dataframe tbody tr th:only-of-type {\n",
              "        vertical-align: middle;\n",
              "    }\n",
              "\n",
              "    .dataframe tbody tr th {\n",
              "        vertical-align: top;\n",
              "    }\n",
              "\n",
              "    .dataframe thead th {\n",
              "        text-align: right;\n",
              "    }\n",
              "</style>\n",
              "<table border=\"1\" class=\"dataframe\">\n",
              "  <thead>\n",
              "    <tr style=\"text-align: right;\">\n",
              "      <th></th>\n",
              "      <th>text</th>\n",
              "    </tr>\n",
              "  </thead>\n",
              "  <tbody>\n",
              "    <tr>\n",
              "      <th>0</th>\n",
              "      <td>good expery wif sat bar gre pizz wing howev tr...</td>\n",
              "    </tr>\n",
              "    <tr>\n",
              "      <th>1</th>\n",
              "      <td>doct nic got good amount tim feel lik visit ac...</td>\n",
              "    </tr>\n",
              "    <tr>\n",
              "      <th>2</th>\n",
              "      <td>serv step foot wait seat act not feel anyth no...</td>\n",
              "    </tr>\n",
              "    <tr>\n",
              "      <th>3</th>\n",
              "      <td>plac seem lik scam gift groupon fre walk fil s...</td>\n",
              "    </tr>\n",
              "    <tr>\n",
              "      <th>5</th>\n",
              "      <td>ess tri shom bank pomegr darband would say sha...</td>\n",
              "    </tr>\n",
              "  </tbody>\n",
              "</table>\n",
              "</div>"
            ],
            "text/plain": [
              "                                                text\n",
              "0  good expery wif sat bar gre pizz wing howev tr...\n",
              "1  doct nic got good amount tim feel lik visit ac...\n",
              "2  serv step foot wait seat act not feel anyth no...\n",
              "3  plac seem lik scam gift groupon fre walk fil s...\n",
              "5  ess tri shom bank pomegr darband would say sha..."
            ]
          },
          "metadata": {
            "tags": []
          },
          "execution_count": 50
        }
      ]
    },
    {
      "cell_type": "code",
      "metadata": {
        "id": "SVCBSsbv1RII"
      },
      "source": [
        "df_train.to_csv('df_train4.csv')\n",
        "!cp df_train4.csv \"/content/gdrive/Shared drives/FIT5149 A2/Joe/\"\n",
        "df_not_trained.to_csv('df_not_trained4.csv')\n",
        "!cp df_not_trained4.csv \"/content/gdrive/Shared drives/FIT5149 A2/Joe/\""
      ],
      "execution_count": null,
      "outputs": []
    },
    {
      "cell_type": "code",
      "metadata": {
        "id": "jy5WR0PK1YJc"
      },
      "source": [
        "# shuffle train dataframe\n",
        "df_train = df_train.sample(frac=1)"
      ],
      "execution_count": null,
      "outputs": []
    },
    {
      "cell_type": "code",
      "metadata": {
        "id": "wRAS8xf21bzq"
      },
      "source": [
        "X_train = df_train.text\n",
        "Y_train = df_train.label\n",
        "X_test = df_validate.text\n",
        "Y_test = df_validate.label"
      ],
      "execution_count": null,
      "outputs": []
    },
    {
      "cell_type": "code",
      "metadata": {
        "id": "q4nU0UdM1e7T"
      },
      "source": [
        "# vectorize X_train and Y_train\n",
        "x_train = pad_sequences(tokenizer.texts_to_sequences(X_train), maxlen=SEQUENCE_LENGTH)\n",
        "y_train = pd.get_dummies(Y_train).values"
      ],
      "execution_count": null,
      "outputs": []
    },
    {
      "cell_type": "code",
      "metadata": {
        "id": "M_zrzYAk1h8h"
      },
      "source": [
        "# vectorize X_train and Y_train\n",
        "x_test = pad_sequences(tokenizer.texts_to_sequences(X_test), maxlen=SEQUENCE_LENGTH)\n",
        "y_test = pd.get_dummies(Y_test).values"
      ],
      "execution_count": null,
      "outputs": []
    },
    {
      "cell_type": "code",
      "metadata": {
        "id": "ln3O4_sO1lUB"
      },
      "source": [
        "model4 = Sequential()\n",
        "model4.add(embedding_layer)\n",
        "model4.add(Dropout(0.2))\n",
        "model4.add(LSTM(100, dropout=0.2, recurrent_dropout=0.2, return_sequences = True))\n",
        "model4.add(Dropout(0.2))\n",
        "model4.add(LSTM(100, dropout=0.2, recurrent_dropout=0.2))\n",
        "model4.add(Dense(5, activation='softmax'))\n",
        "\n",
        "model4.compile(loss='categorical_crossentropy',\n",
        "              optimizer=\"adam\",\n",
        "              metrics=['accuracy'])\n",
        "\n",
        "callbacks = [ ReduceLROnPlateau(monitor='val_loss', patience=5, cooldown=0),\n",
        "              EarlyStopping(monitor='val_acc', min_delta=1e-4, patience=5)]"
      ],
      "execution_count": null,
      "outputs": []
    },
    {
      "cell_type": "code",
      "metadata": {
        "id": "n7mz_NQ91s9P",
        "outputId": "c83b65d0-1889-4ea1-9651-03ac647640b5",
        "colab": {
          "base_uri": "https://localhost:8080/",
          "height": 454
        }
      },
      "source": [
        "model4.fit(x_train, y_train,\n",
        "                    batch_size=1000,\n",
        "                    epochs=EPOCHS,\n",
        "                    validation_data = (x_test, y_test),\n",
        "                    verbose=1,\n",
        "                    callbacks=callbacks)"
      ],
      "execution_count": null,
      "outputs": [
        {
          "output_type": "stream",
          "text": [
            "Train on 489991 samples, validate on 9998 samples\n",
            "Epoch 1/50\n",
            "489991/489991 [==============================] - 532s 1ms/step - loss: 0.5074 - acc: 0.8055 - val_loss: 1.3451 - val_acc: 0.6045\n",
            "Epoch 2/50\n",
            "489991/489991 [==============================] - 528s 1ms/step - loss: 0.3009 - acc: 0.8962 - val_loss: 1.4060 - val_acc: 0.6105\n",
            "Epoch 3/50\n",
            "489991/489991 [==============================] - 533s 1ms/step - loss: 0.2612 - acc: 0.9144 - val_loss: 1.3910 - val_acc: 0.6183\n",
            "Epoch 4/50\n",
            "489991/489991 [==============================] - 529s 1ms/step - loss: 0.2422 - acc: 0.9221 - val_loss: 1.4006 - val_acc: 0.6186\n",
            "Epoch 5/50\n",
            "489991/489991 [==============================] - 528s 1ms/step - loss: 0.2320 - acc: 0.9266 - val_loss: 1.3952 - val_acc: 0.6205\n",
            "Epoch 6/50\n",
            "489991/489991 [==============================] - 531s 1ms/step - loss: 0.2241 - acc: 0.9301 - val_loss: 1.4068 - val_acc: 0.6241\n",
            "Epoch 7/50\n",
            "489991/489991 [==============================] - 528s 1ms/step - loss: 0.2149 - acc: 0.9339 - val_loss: 1.4096 - val_acc: 0.6233\n",
            "Epoch 8/50\n",
            "489991/489991 [==============================] - 527s 1ms/step - loss: 0.2123 - acc: 0.9347 - val_loss: 1.4198 - val_acc: 0.6221\n",
            "Epoch 9/50\n",
            "489991/489991 [==============================] - 528s 1ms/step - loss: 0.2110 - acc: 0.9355 - val_loss: 1.4194 - val_acc: 0.6231\n",
            "Epoch 10/50\n",
            "489991/489991 [==============================] - 527s 1ms/step - loss: 0.2085 - acc: 0.9365 - val_loss: 1.4184 - val_acc: 0.6234\n",
            "Epoch 11/50\n",
            "489991/489991 [==============================] - 539s 1ms/step - loss: 0.2093 - acc: 0.9363 - val_loss: 1.4167 - val_acc: 0.6222\n"
          ],
          "name": "stdout"
        },
        {
          "output_type": "execute_result",
          "data": {
            "text/plain": [
              "<keras.callbacks.History at 0x7fac7cb32518>"
            ]
          },
          "metadata": {
            "tags": []
          },
          "execution_count": 59
        }
      ]
    },
    {
      "cell_type": "code",
      "metadata": {
        "id": "xqbPFiiZOf4k"
      },
      "source": [
        "model4.save('LSTM_2_v5.h5')\n",
        "!cp LSTM_2_v5.h5 \"/content/gdrive/Shared drives/FIT5149 A2/Joe/\""
      ],
      "execution_count": null,
      "outputs": []
    },
    {
      "cell_type": "code",
      "metadata": {
        "id": "KYUiSvUYOw7i"
      },
      "source": [
        "# vectorize unlabelled review\n",
        "x_unlabel = pad_sequences(tokenizer.texts_to_sequences(df_not_trained.text), maxlen=SEQUENCE_LENGTH)"
      ],
      "execution_count": null,
      "outputs": []
    },
    {
      "cell_type": "code",
      "metadata": {
        "id": "uHA-csv9O3Jl"
      },
      "source": [
        "# calculate probability\n",
        "y_prob = model4.predict(x_unlabel)"
      ],
      "execution_count": null,
      "outputs": []
    },
    {
      "cell_type": "code",
      "metadata": {
        "id": "ld2D9V2OO7TN"
      },
      "source": [
        "prob = []\n",
        "for i in y_prob:\n",
        "  prob.append(list(i))\n",
        "\n",
        "df_not_trained['prob'] = prob"
      ],
      "execution_count": null,
      "outputs": []
    },
    {
      "cell_type": "code",
      "metadata": {
        "id": "vMzsQMdiO--m"
      },
      "source": [
        "# find the maximum probability\n",
        "max_prob = []\n",
        "for i in df_not_trained.prob.values:\n",
        "  max_prob.append(np.amax(i))\n",
        "\n",
        "df_not_trained['max_prob'] = max_prob"
      ],
      "execution_count": null,
      "outputs": []
    },
    {
      "cell_type": "code",
      "metadata": {
        "id": "3OtKIZmTPCHe"
      },
      "source": [
        "# pseudo label\n",
        "p_label =[]\n",
        "for i in df_not_trained.prob.values:\n",
        "  p_label.append(np.argmax(i)+1)\n",
        "\n",
        "df_not_trained['label'] = p_label"
      ],
      "execution_count": null,
      "outputs": []
    },
    {
      "cell_type": "code",
      "metadata": {
        "id": "uwiyqJtnPGPi"
      },
      "source": [
        "# find most confident 20000 predictions from each class\n",
        "index_1 = df_not_trained[df_not_trained['label']==1].sort_values(by=['max_prob'], ascending = False)[1:10001].index\n",
        "index_2 = df_not_trained[df_not_trained['label']==2].sort_values(by=['max_prob'], ascending = False)[1:10001].index\n",
        "index_3 = df_not_trained[df_not_trained['label']==3].sort_values(by=['max_prob'], ascending = False)[1:10001].index\n",
        "index_4 = df_not_trained[df_not_trained['label']==4].sort_values(by=['max_prob'], ascending = False)[1:10001].index\n",
        "index_5 = df_not_trained[df_not_trained['label']==5].sort_values(by=['max_prob'], ascending = False)[1:10001].index\n",
        "\n",
        "index = np.concatenate((index_1,index_2,index_3,index_4,index_5))"
      ],
      "execution_count": null,
      "outputs": []
    },
    {
      "cell_type": "code",
      "metadata": {
        "id": "BpNjFsKVWkxt",
        "outputId": "5749ecc7-43a6-4730-9301-9f6691830065",
        "colab": {
          "base_uri": "https://localhost:8080/",
          "height": 198
        }
      },
      "source": [
        "# only get the necessary columns\n",
        "df_temp = df_not_trained.loc[index][['text', 'label']]\n",
        "df_temp.head()"
      ],
      "execution_count": null,
      "outputs": [
        {
          "output_type": "execute_result",
          "data": {
            "text/html": [
              "<div>\n",
              "<style scoped>\n",
              "    .dataframe tbody tr th:only-of-type {\n",
              "        vertical-align: middle;\n",
              "    }\n",
              "\n",
              "    .dataframe tbody tr th {\n",
              "        vertical-align: top;\n",
              "    }\n",
              "\n",
              "    .dataframe thead th {\n",
              "        text-align: right;\n",
              "    }\n",
              "</style>\n",
              "<table border=\"1\" class=\"dataframe\">\n",
              "  <thead>\n",
              "    <tr style=\"text-align: right;\">\n",
              "      <th></th>\n",
              "      <th>text</th>\n",
              "      <th>label</th>\n",
              "    </tr>\n",
              "  </thead>\n",
              "  <tbody>\n",
              "    <tr>\n",
              "      <th>101176</th>\n",
              "      <td>start try mak brief without laundry list level...</td>\n",
              "      <td>1</td>\n",
              "    </tr>\n",
              "    <tr>\n",
              "      <th>131060</th>\n",
              "      <td>hat giv plac 1 star tri 2 gelato mango salt ca...</td>\n",
              "      <td>1</td>\n",
              "    </tr>\n",
              "    <tr>\n",
              "      <th>22521</th>\n",
              "      <td>thousand peopl immigr country hop childr build...</td>\n",
              "      <td>1</td>\n",
              "    </tr>\n",
              "    <tr>\n",
              "      <th>12706</th>\n",
              "      <td>giv 1 star going gym sint eo fit sint 2010 sti...</td>\n",
              "      <td>1</td>\n",
              "    </tr>\n",
              "    <tr>\n",
              "      <th>142593</th>\n",
              "      <td>sush samb gav us food poison unless glutton pu...</td>\n",
              "      <td>1</td>\n",
              "    </tr>\n",
              "  </tbody>\n",
              "</table>\n",
              "</div>"
            ],
            "text/plain": [
              "                                                     text  label\n",
              "101176  start try mak brief without laundry list level...      1\n",
              "131060  hat giv plac 1 star tri 2 gelato mango salt ca...      1\n",
              "22521   thousand peopl immigr country hop childr build...      1\n",
              "12706   giv 1 star going gym sint eo fit sint 2010 sti...      1\n",
              "142593  sush samb gav us food poison unless glutton pu...      1"
            ]
          },
          "metadata": {
            "tags": []
          },
          "execution_count": 79
        }
      ]
    },
    {
      "cell_type": "code",
      "metadata": {
        "id": "_ahOFfpqWugt",
        "outputId": "dee18ed8-2928-42b8-c52d-4bb1d157b234",
        "colab": {
          "base_uri": "https://localhost:8080/",
          "height": 344
        }
      },
      "source": [
        "# add high confidence prediction to training set\n",
        "df_train = df_train.append(df_temp)\n",
        "df_train.head()"
      ],
      "execution_count": null,
      "outputs": [
        {
          "output_type": "stream",
          "text": [
            "/usr/local/lib/python3.6/dist-packages/pandas/core/frame.py:6692: FutureWarning: Sorting because non-concatenation axis is not aligned. A future version\n",
            "of pandas will change to not sort by default.\n",
            "\n",
            "To accept the future behavior, pass 'sort=False'.\n",
            "\n",
            "To retain the current behavior and silence the warning, pass 'sort=True'.\n",
            "\n",
            "  sort=sort)\n"
          ],
          "name": "stderr"
        },
        {
          "output_type": "execute_result",
          "data": {
            "text/html": [
              "<div>\n",
              "<style scoped>\n",
              "    .dataframe tbody tr th:only-of-type {\n",
              "        vertical-align: middle;\n",
              "    }\n",
              "\n",
              "    .dataframe tbody tr th {\n",
              "        vertical-align: top;\n",
              "    }\n",
              "\n",
              "    .dataframe thead th {\n",
              "        text-align: right;\n",
              "    }\n",
              "</style>\n",
              "<table border=\"1\" class=\"dataframe\">\n",
              "  <thead>\n",
              "    <tr style=\"text-align: right;\">\n",
              "      <th></th>\n",
              "      <th>Unnamed: 0</th>\n",
              "      <th>label</th>\n",
              "      <th>text</th>\n",
              "    </tr>\n",
              "  </thead>\n",
              "  <tbody>\n",
              "    <tr>\n",
              "      <th>75964</th>\n",
              "      <td>22185.0</td>\n",
              "      <td>2</td>\n",
              "      <td>din joy bistro frust affair reserv confus firs...</td>\n",
              "    </tr>\n",
              "    <tr>\n",
              "      <th>374698</th>\n",
              "      <td>265807.0</td>\n",
              "      <td>5</td>\n",
              "      <td>cam consult samanth overal expery gre rat 4 5 ...</td>\n",
              "    </tr>\n",
              "    <tr>\n",
              "      <th>119628</th>\n",
              "      <td>11769.0</td>\n",
              "      <td>5</td>\n",
              "      <td>found plac poutin first trip littl risky wel p...</td>\n",
              "    </tr>\n",
              "    <tr>\n",
              "      <th>208860</th>\n",
              "      <td>NaN</td>\n",
              "      <td>5</td>\n",
              "      <td>gon twic happy serv street walk nev wait every...</td>\n",
              "    </tr>\n",
              "    <tr>\n",
              "      <th>66807</th>\n",
              "      <td>NaN</td>\n",
              "      <td>4</td>\n",
              "      <td>lov garl naan but chick best calg sur qual ing...</td>\n",
              "    </tr>\n",
              "  </tbody>\n",
              "</table>\n",
              "</div>"
            ],
            "text/plain": [
              "        Unnamed: 0  label                                               text\n",
              "75964      22185.0      2  din joy bistro frust affair reserv confus firs...\n",
              "374698    265807.0      5  cam consult samanth overal expery gre rat 4 5 ...\n",
              "119628     11769.0      5  found plac poutin first trip littl risky wel p...\n",
              "208860         NaN      5  gon twic happy serv street walk nev wait every...\n",
              "66807          NaN      4  lov garl naan but chick best calg sur qual ing..."
            ]
          },
          "metadata": {
            "tags": []
          },
          "execution_count": 80
        }
      ]
    },
    {
      "cell_type": "code",
      "metadata": {
        "id": "XoRJ31tHW2lB",
        "outputId": "406c260c-ea11-431a-91a8-2e8d8249c4d0",
        "colab": {
          "base_uri": "https://localhost:8080/",
          "height": 198
        }
      },
      "source": [
        "# remove high confidence prediction from unlabel data\n",
        "df_not_trained = df_not_trained.drop(index)\n",
        "df_not_trained.head()"
      ],
      "execution_count": null,
      "outputs": [
        {
          "output_type": "execute_result",
          "data": {
            "text/html": [
              "<div>\n",
              "<style scoped>\n",
              "    .dataframe tbody tr th:only-of-type {\n",
              "        vertical-align: middle;\n",
              "    }\n",
              "\n",
              "    .dataframe tbody tr th {\n",
              "        vertical-align: top;\n",
              "    }\n",
              "\n",
              "    .dataframe thead th {\n",
              "        text-align: right;\n",
              "    }\n",
              "</style>\n",
              "<table border=\"1\" class=\"dataframe\">\n",
              "  <thead>\n",
              "    <tr style=\"text-align: right;\">\n",
              "      <th></th>\n",
              "      <th>text</th>\n",
              "      <th>prob</th>\n",
              "      <th>max_prob</th>\n",
              "      <th>label</th>\n",
              "    </tr>\n",
              "  </thead>\n",
              "  <tbody>\n",
              "    <tr>\n",
              "      <th>0</th>\n",
              "      <td>good expery wif sat bar gre pizz wing howev tr...</td>\n",
              "      <td>[0.0029139067, 0.013440196, 0.16884007, 0.8078...</td>\n",
              "      <td>0.807876</td>\n",
              "      <td>4</td>\n",
              "    </tr>\n",
              "    <tr>\n",
              "      <th>1</th>\n",
              "      <td>doct nic got good amount tim feel lik visit ac...</td>\n",
              "      <td>[0.6145128, 0.35408098, 0.010609659, 0.0112288...</td>\n",
              "      <td>0.614513</td>\n",
              "      <td>1</td>\n",
              "    </tr>\n",
              "    <tr>\n",
              "      <th>2</th>\n",
              "      <td>serv step foot wait seat act not feel anyth no...</td>\n",
              "      <td>[0.3523515, 0.30541846, 0.28227812, 0.03018803...</td>\n",
              "      <td>0.352351</td>\n",
              "      <td>1</td>\n",
              "    </tr>\n",
              "    <tr>\n",
              "      <th>3</th>\n",
              "      <td>plac seem lik scam gift groupon fre walk fil s...</td>\n",
              "      <td>[0.8410251, 0.13556118, 0.016497383, 0.0040548...</td>\n",
              "      <td>0.841025</td>\n",
              "      <td>1</td>\n",
              "    </tr>\n",
              "    <tr>\n",
              "      <th>5</th>\n",
              "      <td>ess tri shom bank pomegr darband would say sha...</td>\n",
              "      <td>[0.0014076948, 0.0033631898, 0.13525964, 0.479...</td>\n",
              "      <td>0.479006</td>\n",
              "      <td>4</td>\n",
              "    </tr>\n",
              "  </tbody>\n",
              "</table>\n",
              "</div>"
            ],
            "text/plain": [
              "                                                text  ... label\n",
              "0  good expery wif sat bar gre pizz wing howev tr...  ...     4\n",
              "1  doct nic got good amount tim feel lik visit ac...  ...     1\n",
              "2  serv step foot wait seat act not feel anyth no...  ...     1\n",
              "3  plac seem lik scam gift groupon fre walk fil s...  ...     1\n",
              "5  ess tri shom bank pomegr darband would say sha...  ...     4\n",
              "\n",
              "[5 rows x 4 columns]"
            ]
          },
          "metadata": {
            "tags": []
          },
          "execution_count": 81
        }
      ]
    },
    {
      "cell_type": "code",
      "metadata": {
        "id": "8M-P4YKvW8Ve",
        "outputId": "6cacfed3-4fbf-4c4a-e36a-7375b4675b04",
        "colab": {
          "base_uri": "https://localhost:8080/",
          "height": 198
        }
      },
      "source": [
        "# drop the unnecessary columns\n",
        "df_not_trained = df_not_trained.drop(['prob', 'max_prob', 'label'], axis = 1)\n",
        "df_not_trained.head()"
      ],
      "execution_count": null,
      "outputs": [
        {
          "output_type": "execute_result",
          "data": {
            "text/html": [
              "<div>\n",
              "<style scoped>\n",
              "    .dataframe tbody tr th:only-of-type {\n",
              "        vertical-align: middle;\n",
              "    }\n",
              "\n",
              "    .dataframe tbody tr th {\n",
              "        vertical-align: top;\n",
              "    }\n",
              "\n",
              "    .dataframe thead th {\n",
              "        text-align: right;\n",
              "    }\n",
              "</style>\n",
              "<table border=\"1\" class=\"dataframe\">\n",
              "  <thead>\n",
              "    <tr style=\"text-align: right;\">\n",
              "      <th></th>\n",
              "      <th>text</th>\n",
              "    </tr>\n",
              "  </thead>\n",
              "  <tbody>\n",
              "    <tr>\n",
              "      <th>0</th>\n",
              "      <td>good expery wif sat bar gre pizz wing howev tr...</td>\n",
              "    </tr>\n",
              "    <tr>\n",
              "      <th>1</th>\n",
              "      <td>doct nic got good amount tim feel lik visit ac...</td>\n",
              "    </tr>\n",
              "    <tr>\n",
              "      <th>2</th>\n",
              "      <td>serv step foot wait seat act not feel anyth no...</td>\n",
              "    </tr>\n",
              "    <tr>\n",
              "      <th>3</th>\n",
              "      <td>plac seem lik scam gift groupon fre walk fil s...</td>\n",
              "    </tr>\n",
              "    <tr>\n",
              "      <th>5</th>\n",
              "      <td>ess tri shom bank pomegr darband would say sha...</td>\n",
              "    </tr>\n",
              "  </tbody>\n",
              "</table>\n",
              "</div>"
            ],
            "text/plain": [
              "                                                text\n",
              "0  good expery wif sat bar gre pizz wing howev tr...\n",
              "1  doct nic got good amount tim feel lik visit ac...\n",
              "2  serv step foot wait seat act not feel anyth no...\n",
              "3  plac seem lik scam gift groupon fre walk fil s...\n",
              "5  ess tri shom bank pomegr darband would say sha..."
            ]
          },
          "metadata": {
            "tags": []
          },
          "execution_count": 82
        }
      ]
    },
    {
      "cell_type": "code",
      "metadata": {
        "id": "EtrXk-RKXHcC"
      },
      "source": [
        "# shuffle train dataframe\n",
        "df_train = df_train.sample(frac=1)"
      ],
      "execution_count": null,
      "outputs": []
    },
    {
      "cell_type": "code",
      "metadata": {
        "id": "BsSTMgecXOlt"
      },
      "source": [
        "df_train.to_csv('df_train5.csv')\n",
        "!cp df_train5.csv \"/content/gdrive/Shared drives/FIT5149 A2/Joe/\"\n",
        "df_not_trained.to_csv('df_not_trained5.csv')\n",
        "!cp df_not_trained5.csv \"/content/gdrive/Shared drives/FIT5149 A2/Joe/\""
      ],
      "execution_count": null,
      "outputs": []
    },
    {
      "cell_type": "markdown",
      "metadata": {
        "id": "ou6baQfG3zLD"
      },
      "source": [
        "# Iteration"
      ]
    },
    {
      "cell_type": "code",
      "metadata": {
        "id": "aoBl6aWM3vRe"
      },
      "source": [
        "import pandas as pd\n",
        "\n",
        "df_train = pd.read_csv(\"gdrive/Shared drives/FIT5149 A2/Joe/df_train5.csv\")\n",
        "df_validate = pd.read_csv(\"gdrive/Shared drives/FIT5149 A2/Joe/df_validate.csv\")\n",
        "df_not_trained = pd.read_csv(\"gdrive/Shared drives/FIT5149 A2/Joe/df_not_trained5.csv\")"
      ],
      "execution_count": null,
      "outputs": []
    },
    {
      "cell_type": "code",
      "metadata": {
        "id": "4ksyPv1b4U7u",
        "outputId": "9eba3f90-8c92-484a-c432-756ac64ca6f5",
        "colab": {
          "base_uri": "https://localhost:8080/",
          "height": 33
        }
      },
      "source": [
        "# Scikit-learn\n",
        "from sklearn.model_selection import train_test_split\n",
        "\n",
        "# Keras\n",
        "from keras.preprocessing.text import Tokenizer\n",
        "from keras.preprocessing.sequence import pad_sequences\n",
        "from keras.models import Sequential\n",
        "from keras.layers import Activation, Dense, Dropout, Embedding, Flatten, Conv1D, MaxPooling1D, LSTM\n",
        "from keras import utils\n",
        "from keras.callbacks import ReduceLROnPlateau, EarlyStopping\n",
        "\n",
        "\n",
        "# Word2vec\n",
        "import gensim\n",
        "from gensim.models import Word2Vec\n",
        "\n",
        "# Utility\n",
        "import re\n",
        "import numpy as np\n",
        "import os\n",
        "from collections import Counter\n",
        "import logging\n",
        "import time\n",
        "import pickle\n",
        "import itertools"
      ],
      "execution_count": null,
      "outputs": [
        {
          "output_type": "stream",
          "text": [
            "Using TensorFlow backend.\n"
          ],
          "name": "stderr"
        }
      ]
    },
    {
      "cell_type": "code",
      "metadata": {
        "id": "Md7aRkA04XsS"
      },
      "source": [
        "# WORD2VEC \n",
        "W2V_SIZE = 150\n",
        "W2V_WINDOW = 7\n",
        "W2V_EPOCH = 32\n",
        "W2V_MIN_COUNT = 10\n",
        "\n",
        "# KERAS\n",
        "SEQUENCE_LENGTH = 200\n",
        "EPOCHS = 50\n",
        "BATCH_SIZE = 100"
      ],
      "execution_count": null,
      "outputs": []
    },
    {
      "cell_type": "code",
      "metadata": {
        "id": "QU60r1tn4Z4d"
      },
      "source": [
        "# import tokenizer\n",
        "with open('gdrive/Shared drives/FIT5149 A2/Joe/tokenizer.pickle', 'rb') as handle:\n",
        "    tokenizer = pickle.load(handle)\n",
        "\n",
        "vocab_size = len(tokenizer.word_index) + 1"
      ],
      "execution_count": null,
      "outputs": []
    },
    {
      "cell_type": "code",
      "metadata": {
        "id": "JkZB-kLE4b3a",
        "outputId": "bfda98f3-0cb3-460d-deb4-bdb5ce9db27c",
        "colab": {
          "base_uri": "https://localhost:8080/",
          "height": 120
        }
      },
      "source": [
        "# import word2Vec model\n",
        "w2v_model = Word2Vec.load(\"gdrive/Shared drives/FIT5149 A2/Joe/word2vec_all.model\")\n",
        "\n",
        "embedding_matrix = np.zeros((vocab_size, W2V_SIZE))\n",
        "for word, i in tokenizer.word_index.items():\n",
        "  if word in w2v_model.wv:\n",
        "    embedding_matrix[i] = w2v_model.wv[word]\n",
        "print(embedding_matrix.shape)\n",
        "\n",
        "embedding_layer = Embedding(vocab_size, W2V_SIZE, weights=[embedding_matrix], input_length=SEQUENCE_LENGTH, trainable=False)"
      ],
      "execution_count": null,
      "outputs": [
        {
          "output_type": "stream",
          "text": [
            "/usr/local/lib/python3.6/dist-packages/smart_open/smart_open_lib.py:398: UserWarning: This function is deprecated, use smart_open.open instead. See the migration notes for details: https://github.com/RaRe-Technologies/smart_open/blob/master/README.rst#migrating-to-the-new-open-function\n",
            "  'See the migration notes for details: %s' % _MIGRATION_NOTES_URL\n"
          ],
          "name": "stderr"
        },
        {
          "output_type": "stream",
          "text": [
            "(53392, 150)\n",
            "WARNING:tensorflow:From /usr/local/lib/python3.6/dist-packages/keras/backend/tensorflow_backend.py:66: The name tf.get_default_graph is deprecated. Please use tf.compat.v1.get_default_graph instead.\n",
            "\n"
          ],
          "name": "stdout"
        }
      ]
    },
    {
      "cell_type": "code",
      "metadata": {
        "id": "zyw8Z5Ry4eTx"
      },
      "source": [
        "# seperate data into training set and validation set\n",
        "X_train = df_train.text\n",
        "Y_train = df_train.label\n",
        "# vectorize X_train and Y_train\n",
        "x_train = pad_sequences(tokenizer.texts_to_sequences(X_train), maxlen=SEQUENCE_LENGTH)\n",
        "y_train = pd.get_dummies(Y_train).values\n",
        "\n",
        "X_test = df_validate.text\n",
        "Y_test = df_validate.label\n",
        "\n",
        "x_test = pad_sequences(tokenizer.texts_to_sequences(X_test), maxlen=SEQUENCE_LENGTH)\n",
        "y_test = pd.get_dummies(Y_test).values"
      ],
      "execution_count": null,
      "outputs": []
    },
    {
      "cell_type": "code",
      "metadata": {
        "id": "HhWv68aw4hyX"
      },
      "source": [
        "model5 = Sequential()\n",
        "model5.add(embedding_layer)\n",
        "model5.add(Dropout(0.2))\n",
        "model5.add(LSTM(100, dropout=0.2, recurrent_dropout=0.2, return_sequences = True))\n",
        "model5.add(Dropout(0.2))\n",
        "model5.add(LSTM(100, dropout=0.2, recurrent_dropout=0.2))\n",
        "model5.add(Dense(5, activation='softmax'))\n",
        "\n",
        "model5.compile(loss='categorical_crossentropy',\n",
        "              optimizer=\"adam\",\n",
        "              metrics=['accuracy'])\n",
        "\n",
        "callbacks = [ ReduceLROnPlateau(monitor='val_loss', patience=5, cooldown=0),\n",
        "              EarlyStopping(monitor='val_acc', min_delta=1e-4, patience=5)]"
      ],
      "execution_count": null,
      "outputs": []
    },
    {
      "cell_type": "code",
      "metadata": {
        "id": "sUUl473o4r-A",
        "outputId": "52056adf-23ce-446d-d3f2-863bff85419e",
        "colab": {
          "base_uri": "https://localhost:8080/",
          "height": 522
        }
      },
      "source": [
        "model5.fit(x_train, y_train,\n",
        "                    batch_size=1000,\n",
        "                    epochs=EPOCHS,\n",
        "                    validation_data = (x_test, y_test),\n",
        "                    verbose=1,\n",
        "                    callbacks=callbacks)"
      ],
      "execution_count": null,
      "outputs": [
        {
          "output_type": "stream",
          "text": [
            "WARNING:tensorflow:From /usr/local/lib/python3.6/dist-packages/tensorflow_core/python/ops/math_grad.py:1424: where (from tensorflow.python.ops.array_ops) is deprecated and will be removed in a future version.\n",
            "Instructions for updating:\n",
            "Use tf.where in 2.0, which has the same broadcast rule as np.where\n",
            "WARNING:tensorflow:From /usr/local/lib/python3.6/dist-packages/keras/backend/tensorflow_backend.py:1033: The name tf.assign_add is deprecated. Please use tf.compat.v1.assign_add instead.\n",
            "\n",
            "WARNING:tensorflow:From /usr/local/lib/python3.6/dist-packages/keras/backend/tensorflow_backend.py:1020: The name tf.assign is deprecated. Please use tf.compat.v1.assign instead.\n",
            "\n",
            "Train on 539991 samples, validate on 9998 samples\n",
            "Epoch 1/50\n",
            "539991/539991 [==============================] - 604s 1ms/step - loss: 0.5177 - acc: 0.7991 - val_loss: 1.3466 - val_acc: 0.6055\n",
            "Epoch 2/50\n",
            "539991/539991 [==============================] - 605s 1ms/step - loss: 0.3116 - acc: 0.8900 - val_loss: 1.4126 - val_acc: 0.6138\n",
            "Epoch 3/50\n",
            "539991/539991 [==============================] - 604s 1ms/step - loss: 0.2719 - acc: 0.9081 - val_loss: 1.4110 - val_acc: 0.6174\n",
            "Epoch 4/50\n",
            "539991/539991 [==============================] - 604s 1ms/step - loss: 0.2533 - acc: 0.9166 - val_loss: 1.4417 - val_acc: 0.6173\n",
            "Epoch 5/50\n",
            "539991/539991 [==============================] - 607s 1ms/step - loss: 0.2435 - acc: 0.9205 - val_loss: 1.4305 - val_acc: 0.6244\n",
            "Epoch 6/50\n",
            "539991/539991 [==============================] - 606s 1ms/step - loss: 0.2365 - acc: 0.9236 - val_loss: 1.4302 - val_acc: 0.6219\n",
            "Epoch 7/50\n",
            "539991/539991 [==============================] - 606s 1ms/step - loss: 0.2274 - acc: 0.9275 - val_loss: 1.4433 - val_acc: 0.6235\n",
            "Epoch 8/50\n",
            "539991/539991 [==============================] - 606s 1ms/step - loss: 0.2246 - acc: 0.9287 - val_loss: 1.4472 - val_acc: 0.6238\n",
            "Epoch 9/50\n",
            "539991/539991 [==============================] - 606s 1ms/step - loss: 0.2242 - acc: 0.9288 - val_loss: 1.4468 - val_acc: 0.6239\n",
            "Epoch 10/50\n",
            "539991/539991 [==============================] - 606s 1ms/step - loss: 0.2210 - acc: 0.9303 - val_loss: 1.4510 - val_acc: 0.6235\n"
          ],
          "name": "stdout"
        },
        {
          "output_type": "execute_result",
          "data": {
            "text/plain": [
              "<keras.callbacks.History at 0x7f4ecbfaff28>"
            ]
          },
          "metadata": {
            "tags": []
          },
          "execution_count": 10
        }
      ]
    },
    {
      "cell_type": "code",
      "metadata": {
        "id": "cc83_h1CQYor"
      },
      "source": [
        "model5.save('LSTM_2_v6.h5')\n",
        "!cp LSTM_2_v6.h5 \"/content/gdrive/Shared drives/FIT5149 A2/Joe/\""
      ],
      "execution_count": null,
      "outputs": []
    },
    {
      "cell_type": "code",
      "metadata": {
        "id": "Tb0pNjRGQg8u"
      },
      "source": [
        "# vectorize unlabelled review\n",
        "x_unlabel = pad_sequences(tokenizer.texts_to_sequences(df_not_trained.text), maxlen=SEQUENCE_LENGTH)"
      ],
      "execution_count": null,
      "outputs": []
    },
    {
      "cell_type": "code",
      "metadata": {
        "id": "dhI9WlQqQkae"
      },
      "source": [
        "# calculate probability\n",
        "y_prob = model5.predict(x_unlabel)"
      ],
      "execution_count": null,
      "outputs": []
    },
    {
      "cell_type": "code",
      "metadata": {
        "id": "ECAK9xrEQqWj"
      },
      "source": [
        "prob = []\n",
        "for i in y_prob:\n",
        "  prob.append(list(i))\n",
        "\n",
        "df_not_trained['prob'] = prob"
      ],
      "execution_count": null,
      "outputs": []
    },
    {
      "cell_type": "code",
      "metadata": {
        "id": "apoOTsR5Qt4A"
      },
      "source": [
        "# find the maximum probability\n",
        "max_prob = []\n",
        "for i in df_not_trained.prob.values:\n",
        "  max_prob.append(np.amax(i))\n",
        "\n",
        "df_not_trained['max_prob'] = max_prob"
      ],
      "execution_count": null,
      "outputs": []
    },
    {
      "cell_type": "code",
      "metadata": {
        "id": "IDaEtGwxQzUW"
      },
      "source": [
        "# pseudo label\n",
        "p_label =[]\n",
        "for i in df_not_trained.prob.values:\n",
        "  p_label.append(np.argmax(i)+1)\n",
        "\n",
        "df_not_trained['label'] = p_label"
      ],
      "execution_count": null,
      "outputs": []
    },
    {
      "cell_type": "code",
      "metadata": {
        "id": "FHhAB79DQ2wI"
      },
      "source": [
        "# find most confident 20000 predictions from each class\n",
        "index_1 = df_not_trained[df_not_trained['label']==1].sort_values(by=['max_prob'], ascending = False)[1:5001].index\n",
        "index_2 = df_not_trained[df_not_trained['label']==2].sort_values(by=['max_prob'], ascending = False)[1:5001].index\n",
        "index_3 = df_not_trained[df_not_trained['label']==3].sort_values(by=['max_prob'], ascending = False)[1:5001].index\n",
        "index_4 = df_not_trained[df_not_trained['label']==4].sort_values(by=['max_prob'], ascending = False)[1:5001].index\n",
        "index_5 = df_not_trained[df_not_trained['label']==5].sort_values(by=['max_prob'], ascending = False)[1:5001].index\n",
        "\n",
        "index = np.concatenate((index_1,index_2,index_3,index_4,index_5))"
      ],
      "execution_count": null,
      "outputs": []
    },
    {
      "cell_type": "code",
      "metadata": {
        "id": "VRvqH-EIQ6Gb",
        "outputId": "3e621306-4bf1-4fe7-d27b-719ea0e77fcd",
        "colab": {
          "base_uri": "https://localhost:8080/",
          "height": 196
        }
      },
      "source": [
        "# only get the necessary columns\n",
        "df_temp = df_not_trained.loc[index][['text', 'label']]\n",
        "df_temp.head()"
      ],
      "execution_count": null,
      "outputs": [
        {
          "output_type": "execute_result",
          "data": {
            "text/html": [
              "<div>\n",
              "<style scoped>\n",
              "    .dataframe tbody tr th:only-of-type {\n",
              "        vertical-align: middle;\n",
              "    }\n",
              "\n",
              "    .dataframe tbody tr th {\n",
              "        vertical-align: top;\n",
              "    }\n",
              "\n",
              "    .dataframe thead th {\n",
              "        text-align: right;\n",
              "    }\n",
              "</style>\n",
              "<table border=\"1\" class=\"dataframe\">\n",
              "  <thead>\n",
              "    <tr style=\"text-align: right;\">\n",
              "      <th></th>\n",
              "      <th>text</th>\n",
              "      <th>label</th>\n",
              "    </tr>\n",
              "  </thead>\n",
              "  <tbody>\n",
              "    <tr>\n",
              "      <th>73012</th>\n",
              "      <td>wors 1 star cak not gre lack profess tim respo...</td>\n",
              "      <td>1</td>\n",
              "    </tr>\n",
              "    <tr>\n",
              "      <th>39139</th>\n",
              "      <td>food neg star serv could heard gre thing plac ...</td>\n",
              "      <td>1</td>\n",
              "    </tr>\n",
              "    <tr>\n",
              "      <th>63205</th>\n",
              "      <td>known bet bas review learn mistak custom serv ...</td>\n",
              "      <td>1</td>\n",
              "    </tr>\n",
              "    <tr>\n",
              "      <th>85840</th>\n",
              "      <td>terr littl cag larg quant anim watch handl ani...</td>\n",
              "      <td>1</td>\n",
              "    </tr>\n",
              "    <tr>\n",
              "      <th>69409</th>\n",
              "      <td>went breakfast son friend everyth food cam bac...</td>\n",
              "      <td>1</td>\n",
              "    </tr>\n",
              "  </tbody>\n",
              "</table>\n",
              "</div>"
            ],
            "text/plain": [
              "                                                    text  label\n",
              "73012  wors 1 star cak not gre lack profess tim respo...      1\n",
              "39139  food neg star serv could heard gre thing plac ...      1\n",
              "63205  known bet bas review learn mistak custom serv ...      1\n",
              "85840  terr littl cag larg quant anim watch handl ani...      1\n",
              "69409  went breakfast son friend everyth food cam bac...      1"
            ]
          },
          "metadata": {
            "tags": []
          },
          "execution_count": 30
        }
      ]
    },
    {
      "cell_type": "code",
      "metadata": {
        "id": "YQXCh21GQ604",
        "outputId": "a6e8c307-c4e7-478c-e49e-b17402817df5",
        "colab": {
          "base_uri": "https://localhost:8080/",
          "height": 330
        }
      },
      "source": [
        "# add high confidence prediction to training set\n",
        "df_train = df_train.append(df_temp)\n",
        "df_train.head()"
      ],
      "execution_count": null,
      "outputs": [
        {
          "output_type": "stream",
          "text": [
            "/usr/local/lib/python3.6/dist-packages/pandas/core/frame.py:6692: FutureWarning: Sorting because non-concatenation axis is not aligned. A future version\n",
            "of pandas will change to not sort by default.\n",
            "\n",
            "To accept the future behavior, pass 'sort=False'.\n",
            "\n",
            "To retain the current behavior and silence the warning, pass 'sort=True'.\n",
            "\n",
            "  sort=sort)\n"
          ],
          "name": "stderr"
        },
        {
          "output_type": "execute_result",
          "data": {
            "text/html": [
              "<div>\n",
              "<style scoped>\n",
              "    .dataframe tbody tr th:only-of-type {\n",
              "        vertical-align: middle;\n",
              "    }\n",
              "\n",
              "    .dataframe tbody tr th {\n",
              "        vertical-align: top;\n",
              "    }\n",
              "\n",
              "    .dataframe thead th {\n",
              "        text-align: right;\n",
              "    }\n",
              "</style>\n",
              "<table border=\"1\" class=\"dataframe\">\n",
              "  <thead>\n",
              "    <tr style=\"text-align: right;\">\n",
              "      <th></th>\n",
              "      <th>Unnamed: 0</th>\n",
              "      <th>Unnamed: 0.1</th>\n",
              "      <th>label</th>\n",
              "      <th>text</th>\n",
              "    </tr>\n",
              "  </thead>\n",
              "  <tbody>\n",
              "    <tr>\n",
              "      <th>0</th>\n",
              "      <td>302206.0</td>\n",
              "      <td>75980.0</td>\n",
              "      <td>3</td>\n",
              "      <td>stil not convint veget resta parody veget rest...</td>\n",
              "    </tr>\n",
              "    <tr>\n",
              "      <th>1</th>\n",
              "      <td>98826.0</td>\n",
              "      <td>112926.0</td>\n",
              "      <td>4</td>\n",
              "      <td>serv overal feel resta warm comfort corn beef ...</td>\n",
              "    </tr>\n",
              "    <tr>\n",
              "      <th>2</th>\n",
              "      <td>72928.0</td>\n",
              "      <td>4183.0</td>\n",
              "      <td>3</td>\n",
              "      <td>fun liv atmosph seat second level tabl look ba...</td>\n",
              "    </tr>\n",
              "    <tr>\n",
              "      <th>3</th>\n",
              "      <td>318529.0</td>\n",
              "      <td>275268.0</td>\n",
              "      <td>3</td>\n",
              "      <td>okay act real lov exhibit real nic tim know wo...</td>\n",
              "    </tr>\n",
              "    <tr>\n",
              "      <th>4</th>\n",
              "      <td>357004.0</td>\n",
              "      <td>354921.0</td>\n",
              "      <td>4</td>\n",
              "      <td>pleas surpr excel cocktail vary menu enjoy veg...</td>\n",
              "    </tr>\n",
              "  </tbody>\n",
              "</table>\n",
              "</div>"
            ],
            "text/plain": [
              "   Unnamed: 0  ...                                               text\n",
              "0    302206.0  ...  stil not convint veget resta parody veget rest...\n",
              "1     98826.0  ...  serv overal feel resta warm comfort corn beef ...\n",
              "2     72928.0  ...  fun liv atmosph seat second level tabl look ba...\n",
              "3    318529.0  ...  okay act real lov exhibit real nic tim know wo...\n",
              "4    357004.0  ...  pleas surpr excel cocktail vary menu enjoy veg...\n",
              "\n",
              "[5 rows x 4 columns]"
            ]
          },
          "metadata": {
            "tags": []
          },
          "execution_count": 31
        }
      ]
    },
    {
      "cell_type": "code",
      "metadata": {
        "id": "GI2K-iItVQie",
        "outputId": "e63825f5-83bf-41d6-f9b1-0ea9d857680b",
        "colab": {
          "base_uri": "https://localhost:8080/",
          "height": 196
        }
      },
      "source": [
        "# remove high confidence prediction from unlabel data\n",
        "df_not_trained = df_not_trained.drop(index)\n",
        "df_not_trained.head()"
      ],
      "execution_count": null,
      "outputs": [
        {
          "output_type": "execute_result",
          "data": {
            "text/html": [
              "<div>\n",
              "<style scoped>\n",
              "    .dataframe tbody tr th:only-of-type {\n",
              "        vertical-align: middle;\n",
              "    }\n",
              "\n",
              "    .dataframe tbody tr th {\n",
              "        vertical-align: top;\n",
              "    }\n",
              "\n",
              "    .dataframe thead th {\n",
              "        text-align: right;\n",
              "    }\n",
              "</style>\n",
              "<table border=\"1\" class=\"dataframe\">\n",
              "  <thead>\n",
              "    <tr style=\"text-align: right;\">\n",
              "      <th></th>\n",
              "      <th>Unnamed: 0</th>\n",
              "      <th>text</th>\n",
              "      <th>prob</th>\n",
              "      <th>max_prob</th>\n",
              "      <th>label</th>\n",
              "    </tr>\n",
              "  </thead>\n",
              "  <tbody>\n",
              "    <tr>\n",
              "      <th>1</th>\n",
              "      <td>1</td>\n",
              "      <td>doct nic got good amount tim feel lik visit ac...</td>\n",
              "      <td>[0.54741675, 0.4176036, 0.006393117, 0.0178325...</td>\n",
              "      <td>0.547417</td>\n",
              "      <td>1</td>\n",
              "    </tr>\n",
              "    <tr>\n",
              "      <th>2</th>\n",
              "      <td>2</td>\n",
              "      <td>serv step foot wait seat act not feel anyth no...</td>\n",
              "      <td>[0.65381783, 0.24287088, 0.085523844, 0.008920...</td>\n",
              "      <td>0.653818</td>\n",
              "      <td>1</td>\n",
              "    </tr>\n",
              "    <tr>\n",
              "      <th>3</th>\n",
              "      <td>3</td>\n",
              "      <td>plac seem lik scam gift groupon fre walk fil s...</td>\n",
              "      <td>[0.7808863, 0.19481315, 0.014873494, 0.0043438...</td>\n",
              "      <td>0.780886</td>\n",
              "      <td>1</td>\n",
              "    </tr>\n",
              "    <tr>\n",
              "      <th>4</th>\n",
              "      <td>5</td>\n",
              "      <td>ess tri shom bank pomegr darband would say sha...</td>\n",
              "      <td>[0.0011352773, 0.006132652, 0.15857293, 0.2813...</td>\n",
              "      <td>0.552839</td>\n",
              "      <td>5</td>\n",
              "    </tr>\n",
              "    <tr>\n",
              "      <th>6</th>\n",
              "      <td>9</td>\n",
              "      <td>property us nic own company gree liv 11 month ...</td>\n",
              "      <td>[0.42807013, 0.015341366, 0.020368136, 0.07179...</td>\n",
              "      <td>0.464429</td>\n",
              "      <td>5</td>\n",
              "    </tr>\n",
              "  </tbody>\n",
              "</table>\n",
              "</div>"
            ],
            "text/plain": [
              "   Unnamed: 0  ... label\n",
              "1           1  ...     1\n",
              "2           2  ...     1\n",
              "3           3  ...     1\n",
              "4           5  ...     5\n",
              "6           9  ...     5\n",
              "\n",
              "[5 rows x 5 columns]"
            ]
          },
          "metadata": {
            "tags": []
          },
          "execution_count": 32
        }
      ]
    },
    {
      "cell_type": "code",
      "metadata": {
        "id": "qha56RfmVWsZ",
        "outputId": "57609469-58ce-41e1-a078-ee808e086081",
        "colab": {
          "base_uri": "https://localhost:8080/",
          "height": 196
        }
      },
      "source": [
        "# drop the unnecessary columns\n",
        "df_not_trained = df_not_trained.drop(['prob', 'max_prob', 'label','Unnamed: 0'], axis = 1)\n",
        "df_not_trained.head()"
      ],
      "execution_count": null,
      "outputs": [
        {
          "output_type": "execute_result",
          "data": {
            "text/html": [
              "<div>\n",
              "<style scoped>\n",
              "    .dataframe tbody tr th:only-of-type {\n",
              "        vertical-align: middle;\n",
              "    }\n",
              "\n",
              "    .dataframe tbody tr th {\n",
              "        vertical-align: top;\n",
              "    }\n",
              "\n",
              "    .dataframe thead th {\n",
              "        text-align: right;\n",
              "    }\n",
              "</style>\n",
              "<table border=\"1\" class=\"dataframe\">\n",
              "  <thead>\n",
              "    <tr style=\"text-align: right;\">\n",
              "      <th></th>\n",
              "      <th>text</th>\n",
              "    </tr>\n",
              "  </thead>\n",
              "  <tbody>\n",
              "    <tr>\n",
              "      <th>1</th>\n",
              "      <td>doct nic got good amount tim feel lik visit ac...</td>\n",
              "    </tr>\n",
              "    <tr>\n",
              "      <th>2</th>\n",
              "      <td>serv step foot wait seat act not feel anyth no...</td>\n",
              "    </tr>\n",
              "    <tr>\n",
              "      <th>3</th>\n",
              "      <td>plac seem lik scam gift groupon fre walk fil s...</td>\n",
              "    </tr>\n",
              "    <tr>\n",
              "      <th>4</th>\n",
              "      <td>ess tri shom bank pomegr darband would say sha...</td>\n",
              "    </tr>\n",
              "    <tr>\n",
              "      <th>6</th>\n",
              "      <td>property us nic own company gree liv 11 month ...</td>\n",
              "    </tr>\n",
              "  </tbody>\n",
              "</table>\n",
              "</div>"
            ],
            "text/plain": [
              "                                                text\n",
              "1  doct nic got good amount tim feel lik visit ac...\n",
              "2  serv step foot wait seat act not feel anyth no...\n",
              "3  plac seem lik scam gift groupon fre walk fil s...\n",
              "4  ess tri shom bank pomegr darband would say sha...\n",
              "6  property us nic own company gree liv 11 month ..."
            ]
          },
          "metadata": {
            "tags": []
          },
          "execution_count": 33
        }
      ]
    },
    {
      "cell_type": "code",
      "metadata": {
        "id": "RiqqlGdkVe6Y",
        "outputId": "11d5a118-5552-4162-a5a9-44d8c3ce6cf3",
        "colab": {
          "base_uri": "https://localhost:8080/",
          "height": 196
        }
      },
      "source": [
        "df_train = df_train.drop(['Unnamed: 0.1'], axis = 1)\n",
        "df_train.head()"
      ],
      "execution_count": null,
      "outputs": [
        {
          "output_type": "execute_result",
          "data": {
            "text/html": [
              "<div>\n",
              "<style scoped>\n",
              "    .dataframe tbody tr th:only-of-type {\n",
              "        vertical-align: middle;\n",
              "    }\n",
              "\n",
              "    .dataframe tbody tr th {\n",
              "        vertical-align: top;\n",
              "    }\n",
              "\n",
              "    .dataframe thead th {\n",
              "        text-align: right;\n",
              "    }\n",
              "</style>\n",
              "<table border=\"1\" class=\"dataframe\">\n",
              "  <thead>\n",
              "    <tr style=\"text-align: right;\">\n",
              "      <th></th>\n",
              "      <th>label</th>\n",
              "      <th>text</th>\n",
              "    </tr>\n",
              "  </thead>\n",
              "  <tbody>\n",
              "    <tr>\n",
              "      <th>0</th>\n",
              "      <td>3</td>\n",
              "      <td>stil not convint veget resta parody veget rest...</td>\n",
              "    </tr>\n",
              "    <tr>\n",
              "      <th>1</th>\n",
              "      <td>4</td>\n",
              "      <td>serv overal feel resta warm comfort corn beef ...</td>\n",
              "    </tr>\n",
              "    <tr>\n",
              "      <th>2</th>\n",
              "      <td>3</td>\n",
              "      <td>fun liv atmosph seat second level tabl look ba...</td>\n",
              "    </tr>\n",
              "    <tr>\n",
              "      <th>3</th>\n",
              "      <td>3</td>\n",
              "      <td>okay act real lov exhibit real nic tim know wo...</td>\n",
              "    </tr>\n",
              "    <tr>\n",
              "      <th>4</th>\n",
              "      <td>4</td>\n",
              "      <td>pleas surpr excel cocktail vary menu enjoy veg...</td>\n",
              "    </tr>\n",
              "  </tbody>\n",
              "</table>\n",
              "</div>"
            ],
            "text/plain": [
              "   label                                               text\n",
              "0      3  stil not convint veget resta parody veget rest...\n",
              "1      4  serv overal feel resta warm comfort corn beef ...\n",
              "2      3  fun liv atmosph seat second level tabl look ba...\n",
              "3      3  okay act real lov exhibit real nic tim know wo...\n",
              "4      4  pleas surpr excel cocktail vary menu enjoy veg..."
            ]
          },
          "metadata": {
            "tags": []
          },
          "execution_count": 36
        }
      ]
    },
    {
      "cell_type": "code",
      "metadata": {
        "id": "rxLmbQNwV1On"
      },
      "source": [
        "# shuffle train dataframe\n",
        "df_train = df_train.sample(frac=1)"
      ],
      "execution_count": null,
      "outputs": []
    },
    {
      "cell_type": "code",
      "metadata": {
        "id": "5GMtvCy8V6DN"
      },
      "source": [
        "df_train.to_csv('df_train6.csv')\n",
        "!cp df_train6.csv \"/content/gdrive/Shared drives/FIT5149 A2/Joe/\"\n",
        "df_not_trained.to_csv('df_not_trained6.csv')\n",
        "!cp df_not_trained6.csv \"/content/gdrive/Shared drives/FIT5149 A2/Joe/\""
      ],
      "execution_count": null,
      "outputs": []
    },
    {
      "cell_type": "markdown",
      "metadata": {
        "id": "ZUfBPfiIWSdD"
      },
      "source": [
        "# Iteration"
      ]
    },
    {
      "cell_type": "code",
      "metadata": {
        "id": "iwlyYr0zYuSM"
      },
      "source": [
        "import pandas as pd\n",
        "\n",
        "df_train = pd.read_csv(\"gdrive/Shared drives/FIT5149 A2/Joe/df_train6.csv\")\n",
        "df_validate = pd.read_csv(\"gdrive/Shared drives/FIT5149 A2/Joe/df_validate.csv\")\n",
        "df_not_trained = pd.read_csv(\"gdrive/Shared drives/FIT5149 A2/Joe/df_not_trained6.csv\")"
      ],
      "execution_count": null,
      "outputs": []
    },
    {
      "cell_type": "code",
      "metadata": {
        "id": "JmTMpOLTY0ny",
        "outputId": "8155cac9-499d-469a-d153-f69204d5237c",
        "colab": {
          "base_uri": "https://localhost:8080/",
          "height": 35
        }
      },
      "source": [
        "# Scikit-learn\n",
        "from sklearn.model_selection import train_test_split\n",
        "\n",
        "# Keras\n",
        "from keras.preprocessing.text import Tokenizer\n",
        "from keras.preprocessing.sequence import pad_sequences\n",
        "from keras.models import Sequential\n",
        "from keras.layers import Activation, Dense, Dropout, Embedding, Flatten, Conv1D, MaxPooling1D, LSTM\n",
        "from keras import utils\n",
        "from keras.callbacks import ReduceLROnPlateau, EarlyStopping\n",
        "\n",
        "\n",
        "# Word2vec\n",
        "import gensim\n",
        "from gensim.models import Word2Vec\n",
        "\n",
        "# Utility\n",
        "import re\n",
        "import numpy as np\n",
        "import os\n",
        "from collections import Counter\n",
        "import logging\n",
        "import time\n",
        "import pickle\n",
        "import itertools"
      ],
      "execution_count": null,
      "outputs": [
        {
          "output_type": "stream",
          "text": [
            "Using TensorFlow backend.\n"
          ],
          "name": "stderr"
        }
      ]
    },
    {
      "cell_type": "code",
      "metadata": {
        "id": "Uk9paR45Y4jN"
      },
      "source": [
        "# WORD2VEC \n",
        "W2V_SIZE = 150\n",
        "W2V_WINDOW = 7\n",
        "W2V_EPOCH = 32\n",
        "W2V_MIN_COUNT = 10\n",
        "\n",
        "# KERAS\n",
        "SEQUENCE_LENGTH = 200\n",
        "EPOCHS = 50\n",
        "BATCH_SIZE = 100"
      ],
      "execution_count": null,
      "outputs": []
    },
    {
      "cell_type": "code",
      "metadata": {
        "id": "MFoOUfxzY7_W"
      },
      "source": [
        "# import tokenizer\n",
        "with open('gdrive/Shared drives/FIT5149 A2/Joe/tokenizer.pickle', 'rb') as handle:\n",
        "    tokenizer = pickle.load(handle)\n",
        "\n",
        "vocab_size = len(tokenizer.word_index) + 1"
      ],
      "execution_count": null,
      "outputs": []
    },
    {
      "cell_type": "code",
      "metadata": {
        "id": "b6JztOJ-Y_f-",
        "outputId": "c2a631e5-e747-4cfd-fe63-fa239aca848b",
        "colab": {
          "base_uri": "https://localhost:8080/",
          "height": 128
        }
      },
      "source": [
        "# import word2Vec model\n",
        "w2v_model = Word2Vec.load(\"gdrive/Shared drives/FIT5149 A2/Joe/word2vec_all.model\")\n",
        "\n",
        "embedding_matrix = np.zeros((vocab_size, W2V_SIZE))\n",
        "for word, i in tokenizer.word_index.items():\n",
        "  if word in w2v_model.wv:\n",
        "    embedding_matrix[i] = w2v_model.wv[word]\n",
        "print(embedding_matrix.shape)\n",
        "\n",
        "embedding_layer = Embedding(vocab_size, W2V_SIZE, weights=[embedding_matrix], input_length=SEQUENCE_LENGTH, trainable=False)"
      ],
      "execution_count": null,
      "outputs": [
        {
          "output_type": "stream",
          "text": [
            "/usr/local/lib/python3.6/dist-packages/smart_open/smart_open_lib.py:398: UserWarning: This function is deprecated, use smart_open.open instead. See the migration notes for details: https://github.com/RaRe-Technologies/smart_open/blob/master/README.rst#migrating-to-the-new-open-function\n",
            "  'See the migration notes for details: %s' % _MIGRATION_NOTES_URL\n"
          ],
          "name": "stderr"
        },
        {
          "output_type": "stream",
          "text": [
            "(53392, 150)\n",
            "WARNING:tensorflow:From /usr/local/lib/python3.6/dist-packages/keras/backend/tensorflow_backend.py:66: The name tf.get_default_graph is deprecated. Please use tf.compat.v1.get_default_graph instead.\n",
            "\n"
          ],
          "name": "stdout"
        }
      ]
    },
    {
      "cell_type": "code",
      "metadata": {
        "id": "8f-kFSdpZDeG"
      },
      "source": [
        "# seperate data into training set and validation set\n",
        "X_train = df_train.text\n",
        "Y_train = df_train.label\n",
        "# vectorize X_train and Y_train\n",
        "x_train = pad_sequences(tokenizer.texts_to_sequences(X_train), maxlen=SEQUENCE_LENGTH)\n",
        "y_train = pd.get_dummies(Y_train).values\n",
        "\n",
        "X_test = df_validate.text\n",
        "Y_test = df_validate.label\n",
        "\n",
        "x_test = pad_sequences(tokenizer.texts_to_sequences(X_test), maxlen=SEQUENCE_LENGTH)\n",
        "y_test = pd.get_dummies(Y_test).values"
      ],
      "execution_count": null,
      "outputs": []
    },
    {
      "cell_type": "code",
      "metadata": {
        "id": "Ff27r_-TZHfJ",
        "outputId": "83520043-1163-4853-e086-cf428c3e6496",
        "colab": {
          "base_uri": "https://localhost:8080/",
          "height": 492
        }
      },
      "source": [
        "model6 = Sequential()\n",
        "model6.add(embedding_layer)\n",
        "model6.add(Dropout(0.2))\n",
        "model6.add(LSTM(100, dropout=0.2, recurrent_dropout=0.2, return_sequences = True))\n",
        "model6.add(Dropout(0.2))\n",
        "model6.add(LSTM(100, dropout=0.2, recurrent_dropout=0.2))\n",
        "model6.add(Dense(5, activation='softmax'))\n",
        "\n",
        "model6.compile(loss='categorical_crossentropy',\n",
        "              optimizer=\"adam\",\n",
        "              metrics=['accuracy'])\n",
        "\n",
        "callbacks = [ ReduceLROnPlateau(monitor='val_loss', patience=5, cooldown=0),\n",
        "              EarlyStopping(monitor='val_acc', min_delta=1e-4, patience=5)]"
      ],
      "execution_count": null,
      "outputs": [
        {
          "output_type": "stream",
          "text": [
            "WARNING:tensorflow:From /usr/local/lib/python3.6/dist-packages/keras/backend/tensorflow_backend.py:541: The name tf.placeholder is deprecated. Please use tf.compat.v1.placeholder instead.\n",
            "\n",
            "WARNING:tensorflow:From /usr/local/lib/python3.6/dist-packages/keras/backend/tensorflow_backend.py:4432: The name tf.random_uniform is deprecated. Please use tf.random.uniform instead.\n",
            "\n",
            "WARNING:tensorflow:From /usr/local/lib/python3.6/dist-packages/keras/backend/tensorflow_backend.py:190: The name tf.get_default_session is deprecated. Please use tf.compat.v1.get_default_session instead.\n",
            "\n",
            "WARNING:tensorflow:From /usr/local/lib/python3.6/dist-packages/keras/backend/tensorflow_backend.py:197: The name tf.ConfigProto is deprecated. Please use tf.compat.v1.ConfigProto instead.\n",
            "\n",
            "WARNING:tensorflow:From /usr/local/lib/python3.6/dist-packages/keras/backend/tensorflow_backend.py:203: The name tf.Session is deprecated. Please use tf.compat.v1.Session instead.\n",
            "\n",
            "WARNING:tensorflow:From /usr/local/lib/python3.6/dist-packages/keras/backend/tensorflow_backend.py:207: The name tf.global_variables is deprecated. Please use tf.compat.v1.global_variables instead.\n",
            "\n",
            "WARNING:tensorflow:From /usr/local/lib/python3.6/dist-packages/keras/backend/tensorflow_backend.py:216: The name tf.is_variable_initialized is deprecated. Please use tf.compat.v1.is_variable_initialized instead.\n",
            "\n",
            "WARNING:tensorflow:From /usr/local/lib/python3.6/dist-packages/keras/backend/tensorflow_backend.py:223: The name tf.variables_initializer is deprecated. Please use tf.compat.v1.variables_initializer instead.\n",
            "\n",
            "WARNING:tensorflow:From /usr/local/lib/python3.6/dist-packages/keras/backend/tensorflow_backend.py:148: The name tf.placeholder_with_default is deprecated. Please use tf.compat.v1.placeholder_with_default instead.\n",
            "\n",
            "WARNING:tensorflow:From /usr/local/lib/python3.6/dist-packages/keras/backend/tensorflow_backend.py:3733: calling dropout (from tensorflow.python.ops.nn_ops) with keep_prob is deprecated and will be removed in a future version.\n",
            "Instructions for updating:\n",
            "Please use `rate` instead of `keep_prob`. Rate should be set to `rate = 1 - keep_prob`.\n",
            "WARNING:tensorflow:From /usr/local/lib/python3.6/dist-packages/keras/optimizers.py:793: The name tf.train.Optimizer is deprecated. Please use tf.compat.v1.train.Optimizer instead.\n",
            "\n",
            "WARNING:tensorflow:From /usr/local/lib/python3.6/dist-packages/keras/backend/tensorflow_backend.py:3576: The name tf.log is deprecated. Please use tf.math.log instead.\n",
            "\n"
          ],
          "name": "stdout"
        }
      ]
    },
    {
      "cell_type": "code",
      "metadata": {
        "id": "zweUFc2MZOiy",
        "outputId": "659c2702-f7cf-48f5-f3b4-7afb8053b5b6",
        "colab": {
          "base_uri": "https://localhost:8080/",
          "height": 674
        }
      },
      "source": [
        "model6.fit(x_train, y_train,\n",
        "                    batch_size=1000,\n",
        "                    epochs=EPOCHS,\n",
        "                    validation_data = (x_test, y_test),\n",
        "                    verbose=1,\n",
        "                    callbacks=callbacks)"
      ],
      "execution_count": null,
      "outputs": [
        {
          "output_type": "stream",
          "text": [
            "WARNING:tensorflow:From /usr/local/lib/python3.6/dist-packages/tensorflow_core/python/ops/math_grad.py:1424: where (from tensorflow.python.ops.array_ops) is deprecated and will be removed in a future version.\n",
            "Instructions for updating:\n",
            "Use tf.where in 2.0, which has the same broadcast rule as np.where\n",
            "WARNING:tensorflow:From /usr/local/lib/python3.6/dist-packages/keras/backend/tensorflow_backend.py:1033: The name tf.assign_add is deprecated. Please use tf.compat.v1.assign_add instead.\n",
            "\n",
            "WARNING:tensorflow:From /usr/local/lib/python3.6/dist-packages/keras/backend/tensorflow_backend.py:1020: The name tf.assign is deprecated. Please use tf.compat.v1.assign instead.\n",
            "\n",
            "Train on 564991 samples, validate on 9998 samples\n",
            "Epoch 1/50\n",
            "564991/564991 [==============================] - 610s 1ms/step - loss: 0.5358 - acc: 0.7910 - val_loss: 1.3319 - val_acc: 0.6067\n",
            "Epoch 2/50\n",
            "564991/564991 [==============================] - 610s 1ms/step - loss: 0.3267 - acc: 0.8827 - val_loss: 1.4035 - val_acc: 0.6121\n",
            "Epoch 3/50\n",
            "564991/564991 [==============================] - 607s 1ms/step - loss: 0.2852 - acc: 0.9010 - val_loss: 1.4388 - val_acc: 0.6142\n",
            "Epoch 4/50\n",
            "564991/564991 [==============================] - 616s 1ms/step - loss: 0.2667 - acc: 0.9096 - val_loss: 1.4442 - val_acc: 0.6192\n",
            "Epoch 5/50\n",
            "564991/564991 [==============================] - 613s 1ms/step - loss: 0.2563 - acc: 0.9142 - val_loss: 1.4236 - val_acc: 0.6191\n",
            "Epoch 6/50\n",
            "564991/564991 [==============================] - 607s 1ms/step - loss: 0.2489 - acc: 0.9171 - val_loss: 1.4232 - val_acc: 0.6218\n",
            "Epoch 7/50\n",
            "564991/564991 [==============================] - 608s 1ms/step - loss: 0.2401 - acc: 0.9209 - val_loss: 1.4549 - val_acc: 0.6219\n",
            "Epoch 8/50\n",
            "564991/564991 [==============================] - 614s 1ms/step - loss: 0.2366 - acc: 0.9227 - val_loss: 1.4569 - val_acc: 0.6220\n",
            "Epoch 9/50\n",
            "564991/564991 [==============================] - 614s 1ms/step - loss: 0.2351 - acc: 0.9235 - val_loss: 1.4548 - val_acc: 0.6218\n",
            "Epoch 10/50\n",
            "564991/564991 [==============================] - 614s 1ms/step - loss: 0.2337 - acc: 0.9242 - val_loss: 1.4581 - val_acc: 0.6203\n",
            "Epoch 11/50\n",
            "564991/564991 [==============================] - 614s 1ms/step - loss: 0.2325 - acc: 0.9247 - val_loss: 1.4650 - val_acc: 0.6212\n",
            "Epoch 12/50\n",
            "564991/564991 [==============================] - 614s 1ms/step - loss: 0.2317 - acc: 0.9250 - val_loss: 1.4613 - val_acc: 0.6207\n",
            "Epoch 13/50\n",
            "564991/564991 [==============================] - 617s 1ms/step - loss: 0.2313 - acc: 0.9251 - val_loss: 1.4618 - val_acc: 0.6209\n"
          ],
          "name": "stdout"
        },
        {
          "output_type": "execute_result",
          "data": {
            "text/plain": [
              "<keras.callbacks.History at 0x7fe380294b38>"
            ]
          },
          "metadata": {
            "tags": []
          },
          "execution_count": 10
        }
      ]
    },
    {
      "cell_type": "code",
      "metadata": {
        "id": "ztvduU93ZdUY"
      },
      "source": [
        "model6.save('LSTM_2_v7.h5')\n",
        "!cp LSTM_2_v7.h5 \"/content/gdrive/Shared drives/FIT5149 A2/Joe/\""
      ],
      "execution_count": null,
      "outputs": []
    },
    {
      "cell_type": "code",
      "metadata": {
        "id": "pOM-U7MsAhpN"
      },
      "source": [
        "# vectorize unlabelled review\n",
        "x_unlabel = pad_sequences(tokenizer.texts_to_sequences(df_not_trained.text), maxlen=SEQUENCE_LENGTH)"
      ],
      "execution_count": null,
      "outputs": []
    },
    {
      "cell_type": "code",
      "metadata": {
        "id": "5SSNan7LAma4"
      },
      "source": [
        "# calculate probability\n",
        "y_prob = model6.predict(x_unlabel)"
      ],
      "execution_count": null,
      "outputs": []
    },
    {
      "cell_type": "code",
      "metadata": {
        "id": "ZQU7iYO-Ar6g"
      },
      "source": [
        "prob = []\n",
        "for i in y_prob:\n",
        "  prob.append(list(i))\n",
        "\n",
        "df_not_trained['prob'] = prob"
      ],
      "execution_count": null,
      "outputs": []
    },
    {
      "cell_type": "code",
      "metadata": {
        "id": "w_EwEJgoAvr2"
      },
      "source": [
        "# find the maximum probability\n",
        "max_prob = []\n",
        "for i in df_not_trained.prob.values:\n",
        "  max_prob.append(np.amax(i))\n",
        "\n",
        "df_not_trained['max_prob'] = max_prob"
      ],
      "execution_count": null,
      "outputs": []
    },
    {
      "cell_type": "code",
      "metadata": {
        "id": "q3jGuVU3Azsc"
      },
      "source": [
        "# pseudo label\n",
        "p_label =[]\n",
        "for i in df_not_trained.prob.values:\n",
        "  p_label.append(np.argmax(i)+1)\n",
        "\n",
        "df_not_trained['label'] = p_label"
      ],
      "execution_count": null,
      "outputs": []
    },
    {
      "cell_type": "code",
      "metadata": {
        "id": "--_8Em1cA329"
      },
      "source": [
        "# find most confident 20000 predictions from each class\n",
        "index_1 = df_not_trained[df_not_trained['label']==1].sort_values(by=['max_prob'], ascending = False)[1:5001].index\n",
        "index_2 = df_not_trained[df_not_trained['label']==2].sort_values(by=['max_prob'], ascending = False)[1:5001].index\n",
        "index_3 = df_not_trained[df_not_trained['label']==3].sort_values(by=['max_prob'], ascending = False)[1:5001].index\n",
        "index_4 = df_not_trained[df_not_trained['label']==4].sort_values(by=['max_prob'], ascending = False)[1:5001].index\n",
        "index_5 = df_not_trained[df_not_trained['label']==5].sort_values(by=['max_prob'], ascending = False)[1:5001].index\n",
        "\n",
        "index = np.concatenate((index_1,index_2,index_3,index_4,index_5))"
      ],
      "execution_count": null,
      "outputs": []
    },
    {
      "cell_type": "code",
      "metadata": {
        "id": "WYr611bsIUmo",
        "outputId": "965080ac-8cf7-4564-82fa-8d72779030fb",
        "colab": {
          "base_uri": "https://localhost:8080/",
          "height": 198
        }
      },
      "source": [
        "# only get the necessary columns\n",
        "df_temp = df_not_trained.loc[index][['text', 'label']]\n",
        "df_temp.head()"
      ],
      "execution_count": null,
      "outputs": [
        {
          "output_type": "execute_result",
          "data": {
            "text/html": [
              "<div>\n",
              "<style scoped>\n",
              "    .dataframe tbody tr th:only-of-type {\n",
              "        vertical-align: middle;\n",
              "    }\n",
              "\n",
              "    .dataframe tbody tr th {\n",
              "        vertical-align: top;\n",
              "    }\n",
              "\n",
              "    .dataframe thead th {\n",
              "        text-align: right;\n",
              "    }\n",
              "</style>\n",
              "<table border=\"1\" class=\"dataframe\">\n",
              "  <thead>\n",
              "    <tr style=\"text-align: right;\">\n",
              "      <th></th>\n",
              "      <th>text</th>\n",
              "      <th>label</th>\n",
              "    </tr>\n",
              "  </thead>\n",
              "  <tbody>\n",
              "    <tr>\n",
              "      <th>47422</th>\n",
              "      <td>review caf host rudest host smil welcom guest ...</td>\n",
              "      <td>1</td>\n",
              "    </tr>\n",
              "    <tr>\n",
              "      <th>25891</th>\n",
              "      <td>ear look ey hand crappiest macchiato ev poss n...</td>\n",
              "      <td>1</td>\n",
              "    </tr>\n",
              "    <tr>\n",
              "      <th>2412</th>\n",
              "      <td>nev shop rtr las vega recommend friend visit v...</td>\n",
              "      <td>1</td>\n",
              "    </tr>\n",
              "    <tr>\n",
              "      <th>35070</th>\n",
              "      <td>cashy ask found everyth ok said no look backgr...</td>\n",
              "      <td>1</td>\n",
              "    </tr>\n",
              "    <tr>\n",
              "      <th>19484</th>\n",
              "      <td>day wrot 1 star review cig stor fountain hil s...</td>\n",
              "      <td>1</td>\n",
              "    </tr>\n",
              "  </tbody>\n",
              "</table>\n",
              "</div>"
            ],
            "text/plain": [
              "                                                    text  label\n",
              "47422  review caf host rudest host smil welcom guest ...      1\n",
              "25891  ear look ey hand crappiest macchiato ev poss n...      1\n",
              "2412   nev shop rtr las vega recommend friend visit v...      1\n",
              "35070  cashy ask found everyth ok said no look backgr...      1\n",
              "19484  day wrot 1 star review cig stor fountain hil s...      1"
            ]
          },
          "metadata": {
            "tags": []
          },
          "execution_count": 32
        }
      ]
    },
    {
      "cell_type": "code",
      "metadata": {
        "id": "r7pCkXFsIcpq",
        "outputId": "be9acb81-21b3-4e9e-e6d6-2accb52dc59b",
        "colab": {
          "base_uri": "https://localhost:8080/",
          "height": 344
        }
      },
      "source": [
        "# add high confidence prediction to training set\n",
        "df_train = df_train.append(df_temp)\n",
        "df_train.head()"
      ],
      "execution_count": null,
      "outputs": [
        {
          "output_type": "stream",
          "text": [
            "/usr/local/lib/python3.6/dist-packages/pandas/core/frame.py:6692: FutureWarning: Sorting because non-concatenation axis is not aligned. A future version\n",
            "of pandas will change to not sort by default.\n",
            "\n",
            "To accept the future behavior, pass 'sort=False'.\n",
            "\n",
            "To retain the current behavior and silence the warning, pass 'sort=True'.\n",
            "\n",
            "  sort=sort)\n"
          ],
          "name": "stderr"
        },
        {
          "output_type": "execute_result",
          "data": {
            "text/html": [
              "<div>\n",
              "<style scoped>\n",
              "    .dataframe tbody tr th:only-of-type {\n",
              "        vertical-align: middle;\n",
              "    }\n",
              "\n",
              "    .dataframe tbody tr th {\n",
              "        vertical-align: top;\n",
              "    }\n",
              "\n",
              "    .dataframe thead th {\n",
              "        text-align: right;\n",
              "    }\n",
              "</style>\n",
              "<table border=\"1\" class=\"dataframe\">\n",
              "  <thead>\n",
              "    <tr style=\"text-align: right;\">\n",
              "      <th></th>\n",
              "      <th>Unnamed: 0</th>\n",
              "      <th>label</th>\n",
              "      <th>text</th>\n",
              "    </tr>\n",
              "  </thead>\n",
              "  <tbody>\n",
              "    <tr>\n",
              "      <th>0</th>\n",
              "      <td>32753.0</td>\n",
              "      <td>5</td>\n",
              "      <td>beauty must go see watch peopl strip stop act ...</td>\n",
              "    </tr>\n",
              "    <tr>\n",
              "      <th>1</th>\n",
              "      <td>411458.0</td>\n",
              "      <td>4</td>\n",
              "      <td>wait month com near plac init lin hour fin cha...</td>\n",
              "    </tr>\n",
              "    <tr>\n",
              "      <th>2</th>\n",
              "      <td>143473.0</td>\n",
              "      <td>4</td>\n",
              "      <td>awesom tast gre sush slow serv due busy</td>\n",
              "    </tr>\n",
              "    <tr>\n",
              "      <th>3</th>\n",
              "      <td>489466.0</td>\n",
              "      <td>4</td>\n",
              "      <td>stil lik food lov sauc problem last trip new c...</td>\n",
              "    </tr>\n",
              "    <tr>\n",
              "      <th>4</th>\n",
              "      <td>515310.0</td>\n",
              "      <td>3</td>\n",
              "      <td>cam busy lunch resta complet empty cho seat op...</td>\n",
              "    </tr>\n",
              "  </tbody>\n",
              "</table>\n",
              "</div>"
            ],
            "text/plain": [
              "   Unnamed: 0  label                                               text\n",
              "0     32753.0      5  beauty must go see watch peopl strip stop act ...\n",
              "1    411458.0      4  wait month com near plac init lin hour fin cha...\n",
              "2    143473.0      4            awesom tast gre sush slow serv due busy\n",
              "3    489466.0      4  stil lik food lov sauc problem last trip new c...\n",
              "4    515310.0      3  cam busy lunch resta complet empty cho seat op..."
            ]
          },
          "metadata": {
            "tags": []
          },
          "execution_count": 33
        }
      ]
    },
    {
      "cell_type": "code",
      "metadata": {
        "id": "0IybrfvtIiLy",
        "outputId": "02ecc2a4-fba9-40fa-d486-911dba747305",
        "colab": {
          "base_uri": "https://localhost:8080/",
          "height": 198
        }
      },
      "source": [
        "# remove high confidence prediction from unlabel data\n",
        "df_not_trained = df_not_trained.drop(index)\n",
        "df_not_trained.head()"
      ],
      "execution_count": null,
      "outputs": [
        {
          "output_type": "execute_result",
          "data": {
            "text/html": [
              "<div>\n",
              "<style scoped>\n",
              "    .dataframe tbody tr th:only-of-type {\n",
              "        vertical-align: middle;\n",
              "    }\n",
              "\n",
              "    .dataframe tbody tr th {\n",
              "        vertical-align: top;\n",
              "    }\n",
              "\n",
              "    .dataframe thead th {\n",
              "        text-align: right;\n",
              "    }\n",
              "</style>\n",
              "<table border=\"1\" class=\"dataframe\">\n",
              "  <thead>\n",
              "    <tr style=\"text-align: right;\">\n",
              "      <th></th>\n",
              "      <th>Unnamed: 0</th>\n",
              "      <th>text</th>\n",
              "      <th>prob</th>\n",
              "      <th>max_prob</th>\n",
              "      <th>label</th>\n",
              "    </tr>\n",
              "  </thead>\n",
              "  <tbody>\n",
              "    <tr>\n",
              "      <th>0</th>\n",
              "      <td>1</td>\n",
              "      <td>doct nic got good amount tim feel lik visit ac...</td>\n",
              "      <td>[0.30820367, 0.64617854, 0.0034466404, 0.03732...</td>\n",
              "      <td>0.646179</td>\n",
              "      <td>2</td>\n",
              "    </tr>\n",
              "    <tr>\n",
              "      <th>1</th>\n",
              "      <td>2</td>\n",
              "      <td>serv step foot wait seat act not feel anyth no...</td>\n",
              "      <td>[0.63157994, 0.16918421, 0.18063764, 0.0096634...</td>\n",
              "      <td>0.631580</td>\n",
              "      <td>1</td>\n",
              "    </tr>\n",
              "    <tr>\n",
              "      <th>4</th>\n",
              "      <td>6</td>\n",
              "      <td>property us nic own company gree liv 11 month ...</td>\n",
              "      <td>[0.7425592, 0.013781506, 0.007854919, 0.015184...</td>\n",
              "      <td>0.742559</td>\n",
              "      <td>1</td>\n",
              "    </tr>\n",
              "    <tr>\n",
              "      <th>5</th>\n",
              "      <td>7</td>\n",
              "      <td>no plan stop caught ey thought would try somet...</td>\n",
              "      <td>[8.154258e-05, 0.00026472157, 0.0037486097, 0....</td>\n",
              "      <td>0.522631</td>\n",
              "      <td>4</td>\n",
              "    </tr>\n",
              "    <tr>\n",
              "      <th>6</th>\n",
              "      <td>8</td>\n",
              "      <td>gre hong kong styl off quick meal reason pric ...</td>\n",
              "      <td>[0.00057073135, 0.006194793, 0.14016055, 0.647...</td>\n",
              "      <td>0.647784</td>\n",
              "      <td>4</td>\n",
              "    </tr>\n",
              "  </tbody>\n",
              "</table>\n",
              "</div>"
            ],
            "text/plain": [
              "   Unnamed: 0  ... label\n",
              "0           1  ...     2\n",
              "1           2  ...     1\n",
              "4           6  ...     1\n",
              "5           7  ...     4\n",
              "6           8  ...     4\n",
              "\n",
              "[5 rows x 5 columns]"
            ]
          },
          "metadata": {
            "tags": []
          },
          "execution_count": 34
        }
      ]
    },
    {
      "cell_type": "code",
      "metadata": {
        "id": "tvy8zqAMInZs",
        "outputId": "8addec83-4580-40c2-d1ad-b6a03580936e",
        "colab": {
          "base_uri": "https://localhost:8080/",
          "height": 198
        }
      },
      "source": [
        "# drop the unnecessary columns\n",
        "df_not_trained = df_not_trained.drop(['prob', 'max_prob', 'label','Unnamed: 0'], axis = 1)\n",
        "df_not_trained.head()"
      ],
      "execution_count": null,
      "outputs": [
        {
          "output_type": "execute_result",
          "data": {
            "text/html": [
              "<div>\n",
              "<style scoped>\n",
              "    .dataframe tbody tr th:only-of-type {\n",
              "        vertical-align: middle;\n",
              "    }\n",
              "\n",
              "    .dataframe tbody tr th {\n",
              "        vertical-align: top;\n",
              "    }\n",
              "\n",
              "    .dataframe thead th {\n",
              "        text-align: right;\n",
              "    }\n",
              "</style>\n",
              "<table border=\"1\" class=\"dataframe\">\n",
              "  <thead>\n",
              "    <tr style=\"text-align: right;\">\n",
              "      <th></th>\n",
              "      <th>text</th>\n",
              "    </tr>\n",
              "  </thead>\n",
              "  <tbody>\n",
              "    <tr>\n",
              "      <th>0</th>\n",
              "      <td>doct nic got good amount tim feel lik visit ac...</td>\n",
              "    </tr>\n",
              "    <tr>\n",
              "      <th>1</th>\n",
              "      <td>serv step foot wait seat act not feel anyth no...</td>\n",
              "    </tr>\n",
              "    <tr>\n",
              "      <th>4</th>\n",
              "      <td>property us nic own company gree liv 11 month ...</td>\n",
              "    </tr>\n",
              "    <tr>\n",
              "      <th>5</th>\n",
              "      <td>no plan stop caught ey thought would try somet...</td>\n",
              "    </tr>\n",
              "    <tr>\n",
              "      <th>6</th>\n",
              "      <td>gre hong kong styl off quick meal reason pric ...</td>\n",
              "    </tr>\n",
              "  </tbody>\n",
              "</table>\n",
              "</div>"
            ],
            "text/plain": [
              "                                                text\n",
              "0  doct nic got good amount tim feel lik visit ac...\n",
              "1  serv step foot wait seat act not feel anyth no...\n",
              "4  property us nic own company gree liv 11 month ...\n",
              "5  no plan stop caught ey thought would try somet...\n",
              "6  gre hong kong styl off quick meal reason pric ..."
            ]
          },
          "metadata": {
            "tags": []
          },
          "execution_count": 35
        }
      ]
    },
    {
      "cell_type": "code",
      "metadata": {
        "id": "A4lSWRT9IuFV"
      },
      "source": [
        "# shuffle train dataframe\n",
        "df_train = df_train.sample(frac=1)"
      ],
      "execution_count": null,
      "outputs": []
    },
    {
      "cell_type": "code",
      "metadata": {
        "id": "YIUDECZYIyd9"
      },
      "source": [
        "df_train.to_csv('df_train7.csv')\n",
        "!cp df_train7.csv \"/content/gdrive/Shared drives/FIT5149 A2/Joe/\"\n",
        "df_not_trained.to_csv('df_not_trained7.csv')\n",
        "!cp df_not_trained7.csv \"/content/gdrive/Shared drives/FIT5149 A2/Joe/\""
      ],
      "execution_count": null,
      "outputs": []
    },
    {
      "cell_type": "markdown",
      "metadata": {
        "id": "aGBRixSCI-YD"
      },
      "source": [
        "## Iteration"
      ]
    },
    {
      "cell_type": "code",
      "metadata": {
        "id": "-UvrBCRJJAM1"
      },
      "source": [
        "# seperate data into training set and validation set\n",
        "X_train = df_train.text\n",
        "Y_train = df_train.label\n",
        "# vectorize X_train and Y_train\n",
        "x_train = pad_sequences(tokenizer.texts_to_sequences(X_train), maxlen=SEQUENCE_LENGTH)\n",
        "y_train = pd.get_dummies(Y_train).values\n",
        "\n",
        "X_test = df_validate.text\n",
        "Y_test = df_validate.label\n",
        "\n",
        "x_test = pad_sequences(tokenizer.texts_to_sequences(X_test), maxlen=SEQUENCE_LENGTH)\n",
        "y_test = pd.get_dummies(Y_test).values"
      ],
      "execution_count": null,
      "outputs": []
    },
    {
      "cell_type": "code",
      "metadata": {
        "id": "RUt6KhsDJGR9"
      },
      "source": [
        "model7 = Sequential()\n",
        "model7.add(embedding_layer)\n",
        "model7.add(Dropout(0.2))\n",
        "model7.add(LSTM(100, dropout=0.2, recurrent_dropout=0.2, return_sequences = True))\n",
        "model7.add(Dropout(0.2))\n",
        "model7.add(LSTM(100, dropout=0.2, recurrent_dropout=0.2))\n",
        "model7.add(Dense(5, activation='softmax'))\n",
        "\n",
        "model7.compile(loss='categorical_crossentropy',\n",
        "              optimizer=\"adam\",\n",
        "              metrics=['accuracy'])\n",
        "\n",
        "callbacks = [ ReduceLROnPlateau(monitor='val_loss', patience=5, cooldown=0),\n",
        "              EarlyStopping(monitor='val_acc', min_delta=1e-4, patience=5)]"
      ],
      "execution_count": null,
      "outputs": []
    },
    {
      "cell_type": "code",
      "metadata": {
        "id": "QCOKO67AJOq-",
        "outputId": "8edaeedf-94de-4da2-dfad-81db31549fa9",
        "colab": {
          "base_uri": "https://localhost:8080/",
          "height": 454
        }
      },
      "source": [
        "model7.fit(x_train, y_train,\n",
        "                    batch_size=1000,\n",
        "                    epochs=EPOCHS,\n",
        "                    validation_data = (x_test, y_test),\n",
        "                    verbose=1,\n",
        "                    callbacks=callbacks)"
      ],
      "execution_count": null,
      "outputs": [
        {
          "output_type": "stream",
          "text": [
            "Train on 589991 samples, validate on 9998 samples\n",
            "Epoch 1/50\n",
            "589991/589991 [==============================] - 641s 1ms/step - loss: 0.5608 - acc: 0.7783 - val_loss: 1.3113 - val_acc: 0.6084\n",
            "Epoch 2/50\n",
            "589991/589991 [==============================] - 641s 1ms/step - loss: 0.3487 - acc: 0.8721 - val_loss: 1.3992 - val_acc: 0.6146\n",
            "Epoch 3/50\n",
            "589991/589991 [==============================] - 641s 1ms/step - loss: 0.3043 - acc: 0.8913 - val_loss: 1.4254 - val_acc: 0.6169\n",
            "Epoch 4/50\n",
            "589991/589991 [==============================] - 639s 1ms/step - loss: 0.2848 - acc: 0.9002 - val_loss: 1.4369 - val_acc: 0.6191\n",
            "Epoch 5/50\n",
            "589991/589991 [==============================] - 641s 1ms/step - loss: 0.2739 - acc: 0.9051 - val_loss: 1.4344 - val_acc: 0.6205\n",
            "Epoch 6/50\n",
            "589991/589991 [==============================] - 641s 1ms/step - loss: 0.2662 - acc: 0.9085 - val_loss: 1.4282 - val_acc: 0.6210\n",
            "Epoch 7/50\n",
            "589991/589991 [==============================] - 640s 1ms/step - loss: 0.2561 - acc: 0.9131 - val_loss: 1.4535 - val_acc: 0.6197\n",
            "Epoch 8/50\n",
            "589991/589991 [==============================] - 641s 1ms/step - loss: 0.2542 - acc: 0.9140 - val_loss: 1.4638 - val_acc: 0.6202\n",
            "Epoch 9/50\n",
            "589991/589991 [==============================] - 641s 1ms/step - loss: 0.2512 - acc: 0.9157 - val_loss: 1.4669 - val_acc: 0.6193\n",
            "Epoch 10/50\n",
            "589991/589991 [==============================] - 640s 1ms/step - loss: 0.2508 - acc: 0.9154 - val_loss: 1.4620 - val_acc: 0.6204\n",
            "Epoch 11/50\n",
            "589991/589991 [==============================] - 639s 1ms/step - loss: 0.2492 - acc: 0.9165 - val_loss: 1.4645 - val_acc: 0.6201\n"
          ],
          "name": "stdout"
        },
        {
          "output_type": "execute_result",
          "data": {
            "text/plain": [
              "<keras.callbacks.History at 0x7fe33cdbcf60>"
            ]
          },
          "metadata": {
            "tags": []
          },
          "execution_count": 41
        }
      ]
    },
    {
      "cell_type": "code",
      "metadata": {
        "id": "QfDhazwLofGL"
      },
      "source": [
        "model7.save('LSTM_2_v8.h5')\n",
        "!cp LSTM_2_v8.h5 \"/content/gdrive/Shared drives/FIT5149 A2/Joe/\""
      ],
      "execution_count": null,
      "outputs": []
    },
    {
      "cell_type": "code",
      "metadata": {
        "id": "VWSSHjopokrd"
      },
      "source": [
        "# vectorize unlabelled review\n",
        "x_unlabel = pad_sequences(tokenizer.texts_to_sequences(df_not_trained.text), maxlen=SEQUENCE_LENGTH)"
      ],
      "execution_count": null,
      "outputs": []
    },
    {
      "cell_type": "code",
      "metadata": {
        "id": "mCvISCESsexq"
      },
      "source": [
        "# calculate probability\n",
        "y_prob = model7.predict(x_unlabel)"
      ],
      "execution_count": null,
      "outputs": []
    },
    {
      "cell_type": "code",
      "metadata": {
        "id": "yh5gjPFfsjFp"
      },
      "source": [
        "prob = []\n",
        "for i in y_prob:\n",
        "  prob.append(list(i))\n",
        "\n",
        "df_not_trained['prob'] = prob"
      ],
      "execution_count": null,
      "outputs": []
    },
    {
      "cell_type": "code",
      "metadata": {
        "id": "3qVRFtQ4snnS"
      },
      "source": [
        "# find the maximum probability\n",
        "max_prob = []\n",
        "for i in df_not_trained.prob.values:\n",
        "  max_prob.append(np.amax(i))\n",
        "\n",
        "df_not_trained['max_prob'] = max_prob"
      ],
      "execution_count": null,
      "outputs": []
    },
    {
      "cell_type": "code",
      "metadata": {
        "id": "Tudp71v3sred"
      },
      "source": [
        "# pseudo label\n",
        "p_label =[]\n",
        "for i in df_not_trained.prob.values:\n",
        "  p_label.append(np.argmax(i)+1)\n",
        "\n",
        "df_not_trained['label'] = p_label"
      ],
      "execution_count": null,
      "outputs": []
    },
    {
      "cell_type": "code",
      "metadata": {
        "id": "rDPmJ1RDsumn"
      },
      "source": [
        "# find most confident 20000 predictions from each class\n",
        "index_1 = df_not_trained[df_not_trained['label']==1].sort_values(by=['max_prob'], ascending = False)[1:2001].index\n",
        "index_2 = df_not_trained[df_not_trained['label']==2].sort_values(by=['max_prob'], ascending = False)[1:2001].index\n",
        "index_3 = df_not_trained[df_not_trained['label']==3].sort_values(by=['max_prob'], ascending = False)[1:2001].index\n",
        "index_4 = df_not_trained[df_not_trained['label']==4].sort_values(by=['max_prob'], ascending = False)[1:2001].index\n",
        "index_5 = df_not_trained[df_not_trained['label']==5].sort_values(by=['max_prob'], ascending = False)[1:2001].index\n",
        "\n",
        "index = np.concatenate((index_1,index_2,index_3,index_4,index_5))"
      ],
      "execution_count": null,
      "outputs": []
    },
    {
      "cell_type": "code",
      "metadata": {
        "id": "NUALM337vQuS",
        "outputId": "8e31a546-238d-47eb-e25c-eb2297de6dca",
        "colab": {
          "base_uri": "https://localhost:8080/",
          "height": 1000
        }
      },
      "source": [
        "df_not_trained[df_not_trained['label']==5].sort_values(by=['max_prob'], ascending = False)[1:2001]"
      ],
      "execution_count": null,
      "outputs": [
        {
          "output_type": "execute_result",
          "data": {
            "text/html": [
              "<div>\n",
              "<style scoped>\n",
              "    .dataframe tbody tr th:only-of-type {\n",
              "        vertical-align: middle;\n",
              "    }\n",
              "\n",
              "    .dataframe tbody tr th {\n",
              "        vertical-align: top;\n",
              "    }\n",
              "\n",
              "    .dataframe thead th {\n",
              "        text-align: right;\n",
              "    }\n",
              "</style>\n",
              "<table border=\"1\" class=\"dataframe\">\n",
              "  <thead>\n",
              "    <tr style=\"text-align: right;\">\n",
              "      <th></th>\n",
              "      <th>text</th>\n",
              "      <th>prob</th>\n",
              "      <th>max_prob</th>\n",
              "      <th>label</th>\n",
              "    </tr>\n",
              "  </thead>\n",
              "  <tbody>\n",
              "    <tr>\n",
              "      <th>50879</th>\n",
              "      <td>peopl work pharm loc must stupid pretty much e...</td>\n",
              "      <td>[0.020449614, 0.00092265353, 0.0018157917, 0.0...</td>\n",
              "      <td>0.970735</td>\n",
              "      <td>5</td>\n",
              "    </tr>\n",
              "    <tr>\n",
              "      <th>5176</th>\n",
              "      <td>corn mov sick 3 tim lie favorit pharm perhap o...</td>\n",
              "      <td>[0.02015423, 0.005531163, 0.00084585237, 0.006...</td>\n",
              "      <td>0.967102</td>\n",
              "      <td>5</td>\n",
              "    </tr>\n",
              "    <tr>\n",
              "      <th>60463</th>\n",
              "      <td>num suggest attend show must say expect must b...</td>\n",
              "      <td>[0.01100803, 0.006598582, 0.007336045, 0.00969...</td>\n",
              "      <td>0.965365</td>\n",
              "      <td>5</td>\n",
              "    </tr>\n",
              "    <tr>\n",
              "      <th>15735</th>\n",
              "      <td>rar giv busy 5 star howev chic fav definit des...</td>\n",
              "      <td>[1.0964918e-05, 9.520841e-05, 0.00035634814, 0...</td>\n",
              "      <td>0.964164</td>\n",
              "      <td>5</td>\n",
              "    </tr>\n",
              "    <tr>\n",
              "      <th>18742</th>\n",
              "      <td>bought 2 bagel must say hardest driest bagel e...</td>\n",
              "      <td>[0.002028787, 0.0012437194, 0.003652036, 0.029...</td>\n",
              "      <td>0.963798</td>\n",
              "      <td>5</td>\n",
              "    </tr>\n",
              "    <tr>\n",
              "      <th>42625</th>\n",
              "      <td>bank own us win man lot op chad wel lot legend...</td>\n",
              "      <td>[0.0003513226, 0.0017409371, 0.003491604, 0.03...</td>\n",
              "      <td>0.959811</td>\n",
              "      <td>5</td>\n",
              "    </tr>\n",
              "    <tr>\n",
              "      <th>11098</th>\n",
              "      <td>nee replac doubl pan glass slid door shat cal ...</td>\n",
              "      <td>[0.030704206, 0.0026378967, 0.0006366953, 0.00...</td>\n",
              "      <td>0.958224</td>\n",
              "      <td>5</td>\n",
              "    </tr>\n",
              "    <tr>\n",
              "      <th>70329</th>\n",
              "      <td>first night vega lov sush plac clos hotel real...</td>\n",
              "      <td>[1.8569612e-05, 0.00010525188, 0.0004536531, 0...</td>\n",
              "      <td>0.956636</td>\n",
              "      <td>5</td>\n",
              "    </tr>\n",
              "    <tr>\n",
              "      <th>3133</th>\n",
              "      <td>best burg long tim not greasy cook perfect com...</td>\n",
              "      <td>[2.7682434e-05, 8.218391e-05, 0.0005168718, 0....</td>\n",
              "      <td>0.954132</td>\n",
              "      <td>5</td>\n",
              "    </tr>\n",
              "    <tr>\n",
              "      <th>50407</th>\n",
              "      <td>couch smel horr pet urin cal carpet monkey giv...</td>\n",
              "      <td>[0.008983924, 0.0010086101, 0.0030043025, 0.03...</td>\n",
              "      <td>0.952583</td>\n",
              "      <td>5</td>\n",
              "    </tr>\n",
              "    <tr>\n",
              "      <th>32341</th>\n",
              "      <td>hi ev husband went hair cut last good would al...</td>\n",
              "      <td>[0.0018977905, 0.0033775582, 0.012354942, 0.02...</td>\n",
              "      <td>0.952484</td>\n",
              "      <td>5</td>\n",
              "    </tr>\n",
              "    <tr>\n",
              "      <th>27794</th>\n",
              "      <td>big leagu dream awesom conceiv clear peopl pay...</td>\n",
              "      <td>[7.8760255e-05, 0.0013203603, 0.0025614486, 0....</td>\n",
              "      <td>0.951900</td>\n",
              "      <td>5</td>\n",
              "    </tr>\n",
              "    <tr>\n",
              "      <th>25253</th>\n",
              "      <td>shop twic today brought hom appl turnov husban...</td>\n",
              "      <td>[0.00025041043, 0.0014547749, 0.012189687, 0.0...</td>\n",
              "      <td>0.951814</td>\n",
              "      <td>5</td>\n",
              "    </tr>\n",
              "    <tr>\n",
              "      <th>11931</th>\n",
              "      <td>confus spot liv town 2012 rememb plac diff loc...</td>\n",
              "      <td>[8.071487e-05, 0.0004840942, 0.0029879578, 0.0...</td>\n",
              "      <td>0.950853</td>\n",
              "      <td>5</td>\n",
              "    </tr>\n",
              "    <tr>\n",
              "      <th>63941</th>\n",
              "      <td>cozy spot nic back issu select com week fix ex...</td>\n",
              "      <td>[2.1489972e-05, 0.00010387833, 0.00070286123, ...</td>\n",
              "      <td>0.949905</td>\n",
              "      <td>5</td>\n",
              "    </tr>\n",
              "    <tr>\n",
              "      <th>9955</th>\n",
              "      <td>1 piec menu fri cocoanut mango shrimp honest g...</td>\n",
              "      <td>[6.8767455e-05, 0.000325843, 0.0007042639, 0.0...</td>\n",
              "      <td>0.949012</td>\n",
              "      <td>5</td>\n",
              "    </tr>\n",
              "    <tr>\n",
              "      <th>73323</th>\n",
              "      <td>wow caught gam year also first tim com year be...</td>\n",
              "      <td>[0.0001320212, 0.00078151043, 0.0024466016, 0....</td>\n",
              "      <td>0.948878</td>\n",
              "      <td>5</td>\n",
              "    </tr>\n",
              "    <tr>\n",
              "      <th>29379</th>\n",
              "      <td>delicy taco flav sals plenty food opt combin w...</td>\n",
              "      <td>[1.7656457e-05, 6.167213e-05, 0.00029324924, 0...</td>\n",
              "      <td>0.948809</td>\n",
              "      <td>5</td>\n",
              "    </tr>\n",
              "    <tr>\n",
              "      <th>25523</th>\n",
              "      <td>el chorro parad valley landmark outdo patio go...</td>\n",
              "      <td>[2.428633e-05, 0.000119785946, 0.00058482634, ...</td>\n",
              "      <td>0.946012</td>\n",
              "      <td>5</td>\n",
              "    </tr>\n",
              "    <tr>\n",
              "      <th>57911</th>\n",
              "      <td>gre resta nic menu awesom grub amby un serv al...</td>\n",
              "      <td>[4.0022016e-05, 0.00024680365, 0.0010463622, 0...</td>\n",
              "      <td>0.945498</td>\n",
              "      <td>5</td>\n",
              "    </tr>\n",
              "    <tr>\n",
              "      <th>73348</th>\n",
              "      <td>want giv plac 5 dent assist certain deserv qua...</td>\n",
              "      <td>[0.04390426, 0.0068317065, 0.0018353992, 0.003...</td>\n",
              "      <td>0.943917</td>\n",
              "      <td>5</td>\n",
              "    </tr>\n",
              "    <tr>\n",
              "      <th>42561</th>\n",
              "      <td>coupl friend simply look perfect halloween cos...</td>\n",
              "      <td>[0.02544371, 0.010174589, 0.0055088615, 0.0151...</td>\n",
              "      <td>0.943720</td>\n",
              "      <td>5</td>\n",
              "    </tr>\n",
              "    <tr>\n",
              "      <th>8553</th>\n",
              "      <td>ye ye fin fin found plac legit green chil sauc...</td>\n",
              "      <td>[3.6190308e-05, 9.187816e-05, 0.00045084837, 0...</td>\n",
              "      <td>0.943003</td>\n",
              "      <td>5</td>\n",
              "    </tr>\n",
              "    <tr>\n",
              "      <th>60396</th>\n",
              "      <td>nobl tre serv prun big tre year pric competit ...</td>\n",
              "      <td>[0.045299884, 0.0043830653, 0.00410532, 0.0035...</td>\n",
              "      <td>0.942622</td>\n",
              "      <td>5</td>\n",
              "    </tr>\n",
              "    <tr>\n",
              "      <th>32372</th>\n",
              "      <td>want son mex food expery plac everyth menu goo...</td>\n",
              "      <td>[4.9898936e-05, 0.0001971519, 0.000970529, 0.0...</td>\n",
              "      <td>0.940793</td>\n",
              "      <td>5</td>\n",
              "    </tr>\n",
              "    <tr>\n",
              "      <th>38453</th>\n",
              "      <td>tot dissatisfy lash don first tim 2 week ago l...</td>\n",
              "      <td>[0.045030624, 0.009676602, 0.0005464059, 0.004...</td>\n",
              "      <td>0.940729</td>\n",
              "      <td>5</td>\n",
              "    </tr>\n",
              "    <tr>\n",
              "      <th>34995</th>\n",
              "      <td>famy new stat ord guav cak last minut not abl ...</td>\n",
              "      <td>[0.00014428036, 0.0004899723, 0.00221577, 0.05...</td>\n",
              "      <td>0.937582</td>\n",
              "      <td>5</td>\n",
              "    </tr>\n",
              "    <tr>\n",
              "      <th>723</th>\n",
              "      <td>delicy meal gre serv 1 oyst tue fre glass win ...</td>\n",
              "      <td>[4.3191045e-05, 0.00016168963, 0.0003907413, 0...</td>\n",
              "      <td>0.937378</td>\n",
              "      <td>5</td>\n",
              "    </tr>\n",
              "    <tr>\n",
              "      <th>13496</th>\n",
              "      <td>hid gem sel best pastry coff around airport re...</td>\n",
              "      <td>[2.2842285e-05, 7.311985e-05, 0.00032427697, 0...</td>\n",
              "      <td>0.935232</td>\n",
              "      <td>5</td>\n",
              "    </tr>\n",
              "    <tr>\n",
              "      <th>36794</th>\n",
              "      <td>gre food lik alway fast serv port hug go hungr...</td>\n",
              "      <td>[4.0810035e-05, 0.00024247673, 0.0004856632, 0...</td>\n",
              "      <td>0.934820</td>\n",
              "      <td>5</td>\n",
              "    </tr>\n",
              "    <tr>\n",
              "      <th>...</th>\n",
              "      <td>...</td>\n",
              "      <td>...</td>\n",
              "      <td>...</td>\n",
              "      <td>...</td>\n",
              "    </tr>\n",
              "    <tr>\n",
              "      <th>7742</th>\n",
              "      <td>vac want get quick tattoo commem trip pretty c...</td>\n",
              "      <td>[0.00014656501, 0.0003928415, 0.0016997519, 0....</td>\n",
              "      <td>0.740895</td>\n",
              "      <td>5</td>\n",
              "    </tr>\n",
              "    <tr>\n",
              "      <th>22457</th>\n",
              "      <td>pizz gre employ sup friend not tri greek food ...</td>\n",
              "      <td>[0.0026889327, 0.0155304745, 0.17588887, 0.065...</td>\n",
              "      <td>0.740858</td>\n",
              "      <td>5</td>\n",
              "    </tr>\n",
              "    <tr>\n",
              "      <th>22611</th>\n",
              "      <td>delicy food reason pric panko fri shrimp amaz ...</td>\n",
              "      <td>[2.5935342e-05, 0.0001473984, 0.00090926554, 0...</td>\n",
              "      <td>0.740808</td>\n",
              "      <td>5</td>\n",
              "    </tr>\n",
              "    <tr>\n",
              "      <th>5883</th>\n",
              "      <td>ord sev tim food alway ar quick alway ar hot t...</td>\n",
              "      <td>[0.0004292776, 0.0007650114, 0.01249465, 0.245...</td>\n",
              "      <td>0.740789</td>\n",
              "      <td>5</td>\n",
              "    </tr>\n",
              "    <tr>\n",
              "      <th>6541</th>\n",
              "      <td>plac alway pack wel wor wait us saturday brunc...</td>\n",
              "      <td>[4.4753408e-05, 0.00026700387, 0.0015606382, 0...</td>\n",
              "      <td>0.740676</td>\n",
              "      <td>5</td>\n",
              "    </tr>\n",
              "    <tr>\n",
              "      <th>45426</th>\n",
              "      <td>us chevron gas year motorcyc vehic know may co...</td>\n",
              "      <td>[0.22729662, 0.0050536105, 0.014773042, 0.0122...</td>\n",
              "      <td>0.740654</td>\n",
              "      <td>5</td>\n",
              "    </tr>\n",
              "    <tr>\n",
              "      <th>61348</th>\n",
              "      <td>eat lot respect waitress plac minut get back p...</td>\n",
              "      <td>[0.09299532, 0.018061947, 0.021268653, 0.12705...</td>\n",
              "      <td>0.740618</td>\n",
              "      <td>5</td>\n",
              "    </tr>\n",
              "    <tr>\n",
              "      <th>29837</th>\n",
              "      <td>every tim com think going par everyth els bell...</td>\n",
              "      <td>[0.021298207, 0.22475499, 0.011978191, 0.00138...</td>\n",
              "      <td>0.740581</td>\n",
              "      <td>5</td>\n",
              "    </tr>\n",
              "    <tr>\n",
              "      <th>21618</th>\n",
              "      <td>win list nic upd som real know stuff off best ...</td>\n",
              "      <td>[0.0017341882, 0.007218463, 0.21017608, 0.0403...</td>\n",
              "      <td>0.740524</td>\n",
              "      <td>5</td>\n",
              "    </tr>\n",
              "    <tr>\n",
              "      <th>56565</th>\n",
              "      <td>driv nc want bbq pul pork sandwich mac chees w...</td>\n",
              "      <td>[0.00033018753, 0.0006564803, 0.0025729418, 0....</td>\n",
              "      <td>0.740438</td>\n",
              "      <td>5</td>\n",
              "    </tr>\n",
              "    <tr>\n",
              "      <th>19677</th>\n",
              "      <td>airlin hid gem air travel seg best adv giv boo...</td>\n",
              "      <td>[0.010029815, 0.015595491, 0.19560401, 0.03843...</td>\n",
              "      <td>0.740335</td>\n",
              "      <td>5</td>\n",
              "    </tr>\n",
              "    <tr>\n",
              "      <th>59812</th>\n",
              "      <td>new man gramercy newport beach decid resid wal...</td>\n",
              "      <td>[0.2448302, 0.0043435995, 0.00795615, 0.002688...</td>\n",
              "      <td>0.740182</td>\n",
              "      <td>5</td>\n",
              "    </tr>\n",
              "    <tr>\n",
              "      <th>6610</th>\n",
              "      <td>switzerland not far away it bord know real piz...</td>\n",
              "      <td>[0.0077715497, 0.15682328, 0.039976772, 0.0552...</td>\n",
              "      <td>0.740161</td>\n",
              "      <td>5</td>\n",
              "    </tr>\n",
              "    <tr>\n",
              "      <th>21226</th>\n",
              "      <td>drop motorhom mount ford chass ev scheduled ap...</td>\n",
              "      <td>[0.23334551, 0.01656339, 0.0043204227, 0.00562...</td>\n",
              "      <td>0.740147</td>\n",
              "      <td>5</td>\n",
              "    </tr>\n",
              "    <tr>\n",
              "      <th>4890</th>\n",
              "      <td>rec stumbl upon stor going bar next door frien...</td>\n",
              "      <td>[0.0041993344, 0.015562363, 0.009311389, 0.230...</td>\n",
              "      <td>0.739958</td>\n",
              "      <td>5</td>\n",
              "    </tr>\n",
              "    <tr>\n",
              "      <th>57443</th>\n",
              "      <td>sush fresh delicy pric high end siz rol larg m...</td>\n",
              "      <td>[0.00020357517, 0.0007853629, 0.015580814, 0.2...</td>\n",
              "      <td>0.739946</td>\n",
              "      <td>5</td>\n",
              "    </tr>\n",
              "    <tr>\n",
              "      <th>250</th>\n",
              "      <td>food fresh staff amaz lin look real long took ...</td>\n",
              "      <td>[0.00015206599, 0.0006831497, 0.0010234608, 0....</td>\n",
              "      <td>0.739937</td>\n",
              "      <td>5</td>\n",
              "    </tr>\n",
              "    <tr>\n",
              "      <th>3840</th>\n",
              "      <td>loco wond taco tuesday go oft would suggest tw...</td>\n",
              "      <td>[0.00034469843, 0.0005735375, 0.0093930615, 0....</td>\n",
              "      <td>0.739932</td>\n",
              "      <td>5</td>\n",
              "    </tr>\n",
              "    <tr>\n",
              "      <th>67186</th>\n",
              "      <td>second year com loc smog check reg remain sup ...</td>\n",
              "      <td>[0.0010574384, 0.002105241, 0.0076537686, 0.24...</td>\n",
              "      <td>0.739932</td>\n",
              "      <td>5</td>\n",
              "    </tr>\n",
              "    <tr>\n",
              "      <th>46615</th>\n",
              "      <td>second tim on night roast chick crisp juicy ti...</td>\n",
              "      <td>[4.0369385e-05, 0.00013471562, 0.001141242, 0....</td>\n",
              "      <td>0.739887</td>\n",
              "      <td>5</td>\n",
              "    </tr>\n",
              "    <tr>\n",
              "      <th>46081</th>\n",
              "      <td>yummy brunch food omelet lat fun cas environ w...</td>\n",
              "      <td>[6.52859e-05, 0.00014841123, 0.0006236255, 0.2...</td>\n",
              "      <td>0.739669</td>\n",
              "      <td>5</td>\n",
              "    </tr>\n",
              "    <tr>\n",
              "      <th>5599</th>\n",
              "      <td>busy lat lunch awesom wond atmosph comfort din...</td>\n",
              "      <td>[7.080136e-05, 0.00027843105, 0.0017497246, 0....</td>\n",
              "      <td>0.739648</td>\n",
              "      <td>5</td>\n",
              "    </tr>\n",
              "    <tr>\n",
              "      <th>64784</th>\n",
              "      <td>rec drov thru roadtrip serv friend food ord</td>\n",
              "      <td>[0.12438564, 0.025693651, 0.066394925, 0.04388...</td>\n",
              "      <td>0.739640</td>\n",
              "      <td>5</td>\n",
              "    </tr>\n",
              "    <tr>\n",
              "      <th>42394</th>\n",
              "      <td>ord tak wait tim 10 minut went pick ad kid mea...</td>\n",
              "      <td>[0.00211078, 0.005267603, 0.0028280492, 0.2502...</td>\n",
              "      <td>0.739567</td>\n",
              "      <td>5</td>\n",
              "    </tr>\n",
              "    <tr>\n",
              "      <th>46270</th>\n",
              "      <td>food top notch try tha fish chick katsu crazy ...</td>\n",
              "      <td>[6.229998e-05, 0.00030944298, 0.0026644634, 0....</td>\n",
              "      <td>0.739375</td>\n",
              "      <td>5</td>\n",
              "    </tr>\n",
              "    <tr>\n",
              "      <th>7337</th>\n",
              "      <td>cam day din plac busy monday night seat immedy...</td>\n",
              "      <td>[0.00011658409, 0.0005315686, 0.0025031953, 0....</td>\n",
              "      <td>0.739135</td>\n",
              "      <td>5</td>\n",
              "    </tr>\n",
              "    <tr>\n",
              "      <th>51437</th>\n",
              "      <td>go every year lov cool see gam rest long ago y...</td>\n",
              "      <td>[0.10721051, 0.11782358, 0.009392185, 0.026688...</td>\n",
              "      <td>0.738885</td>\n",
              "      <td>5</td>\n",
              "    </tr>\n",
              "    <tr>\n",
              "      <th>50387</th>\n",
              "      <td>awesom short rib poutin sup tend meat qual che...</td>\n",
              "      <td>[5.7624406e-05, 0.00016311716, 0.00087320985, ...</td>\n",
              "      <td>0.738821</td>\n",
              "      <td>5</td>\n",
              "    </tr>\n",
              "    <tr>\n",
              "      <th>21229</th>\n",
              "      <td>wel start born rais nyc first tim try tru sout...</td>\n",
              "      <td>[0.11279714, 0.116504826, 0.030089471, 0.00182...</td>\n",
              "      <td>0.738780</td>\n",
              "      <td>5</td>\n",
              "    </tr>\n",
              "    <tr>\n",
              "      <th>65715</th>\n",
              "      <td>oh boy fin search las vega yummy chines resta ...</td>\n",
              "      <td>[4.2707066e-05, 0.00019809946, 0.002013519, 0....</td>\n",
              "      <td>0.738756</td>\n",
              "      <td>5</td>\n",
              "    </tr>\n",
              "  </tbody>\n",
              "</table>\n",
              "<p>2000 rows × 4 columns</p>\n",
              "</div>"
            ],
            "text/plain": [
              "                                                    text  ... label\n",
              "50879  peopl work pharm loc must stupid pretty much e...  ...     5\n",
              "5176   corn mov sick 3 tim lie favorit pharm perhap o...  ...     5\n",
              "60463  num suggest attend show must say expect must b...  ...     5\n",
              "15735  rar giv busy 5 star howev chic fav definit des...  ...     5\n",
              "18742  bought 2 bagel must say hardest driest bagel e...  ...     5\n",
              "42625  bank own us win man lot op chad wel lot legend...  ...     5\n",
              "11098  nee replac doubl pan glass slid door shat cal ...  ...     5\n",
              "70329  first night vega lov sush plac clos hotel real...  ...     5\n",
              "3133   best burg long tim not greasy cook perfect com...  ...     5\n",
              "50407  couch smel horr pet urin cal carpet monkey giv...  ...     5\n",
              "32341  hi ev husband went hair cut last good would al...  ...     5\n",
              "27794  big leagu dream awesom conceiv clear peopl pay...  ...     5\n",
              "25253  shop twic today brought hom appl turnov husban...  ...     5\n",
              "11931  confus spot liv town 2012 rememb plac diff loc...  ...     5\n",
              "63941  cozy spot nic back issu select com week fix ex...  ...     5\n",
              "9955   1 piec menu fri cocoanut mango shrimp honest g...  ...     5\n",
              "73323  wow caught gam year also first tim com year be...  ...     5\n",
              "29379  delicy taco flav sals plenty food opt combin w...  ...     5\n",
              "25523  el chorro parad valley landmark outdo patio go...  ...     5\n",
              "57911  gre resta nic menu awesom grub amby un serv al...  ...     5\n",
              "73348  want giv plac 5 dent assist certain deserv qua...  ...     5\n",
              "42561  coupl friend simply look perfect halloween cos...  ...     5\n",
              "8553   ye ye fin fin found plac legit green chil sauc...  ...     5\n",
              "60396  nobl tre serv prun big tre year pric competit ...  ...     5\n",
              "32372  want son mex food expery plac everyth menu goo...  ...     5\n",
              "38453  tot dissatisfy lash don first tim 2 week ago l...  ...     5\n",
              "34995  famy new stat ord guav cak last minut not abl ...  ...     5\n",
              "723    delicy meal gre serv 1 oyst tue fre glass win ...  ...     5\n",
              "13496  hid gem sel best pastry coff around airport re...  ...     5\n",
              "36794  gre food lik alway fast serv port hug go hungr...  ...     5\n",
              "...                                                  ...  ...   ...\n",
              "7742   vac want get quick tattoo commem trip pretty c...  ...     5\n",
              "22457  pizz gre employ sup friend not tri greek food ...  ...     5\n",
              "22611  delicy food reason pric panko fri shrimp amaz ...  ...     5\n",
              "5883   ord sev tim food alway ar quick alway ar hot t...  ...     5\n",
              "6541   plac alway pack wel wor wait us saturday brunc...  ...     5\n",
              "45426  us chevron gas year motorcyc vehic know may co...  ...     5\n",
              "61348  eat lot respect waitress plac minut get back p...  ...     5\n",
              "29837  every tim com think going par everyth els bell...  ...     5\n",
              "21618  win list nic upd som real know stuff off best ...  ...     5\n",
              "56565  driv nc want bbq pul pork sandwich mac chees w...  ...     5\n",
              "19677  airlin hid gem air travel seg best adv giv boo...  ...     5\n",
              "59812  new man gramercy newport beach decid resid wal...  ...     5\n",
              "6610   switzerland not far away it bord know real piz...  ...     5\n",
              "21226  drop motorhom mount ford chass ev scheduled ap...  ...     5\n",
              "4890   rec stumbl upon stor going bar next door frien...  ...     5\n",
              "57443  sush fresh delicy pric high end siz rol larg m...  ...     5\n",
              "250    food fresh staff amaz lin look real long took ...  ...     5\n",
              "3840   loco wond taco tuesday go oft would suggest tw...  ...     5\n",
              "67186  second year com loc smog check reg remain sup ...  ...     5\n",
              "46615  second tim on night roast chick crisp juicy ti...  ...     5\n",
              "46081  yummy brunch food omelet lat fun cas environ w...  ...     5\n",
              "5599   busy lat lunch awesom wond atmosph comfort din...  ...     5\n",
              "64784        rec drov thru roadtrip serv friend food ord  ...     5\n",
              "42394  ord tak wait tim 10 minut went pick ad kid mea...  ...     5\n",
              "46270  food top notch try tha fish chick katsu crazy ...  ...     5\n",
              "7337   cam day din plac busy monday night seat immedy...  ...     5\n",
              "51437  go every year lov cool see gam rest long ago y...  ...     5\n",
              "50387  awesom short rib poutin sup tend meat qual che...  ...     5\n",
              "21229  wel start born rais nyc first tim try tru sout...  ...     5\n",
              "65715  oh boy fin search las vega yummy chines resta ...  ...     5\n",
              "\n",
              "[2000 rows x 4 columns]"
            ]
          },
          "metadata": {
            "tags": []
          },
          "execution_count": 60
        }
      ]
    },
    {
      "cell_type": "code",
      "metadata": {
        "id": "P30Ff3vDwEVE",
        "outputId": "aeb96a30-93b4-4ff4-9a06-11a0b5401e96",
        "colab": {
          "base_uri": "https://localhost:8080/",
          "height": 198
        }
      },
      "source": [
        "# only get the necessary columns\n",
        "df_temp = df_not_trained.loc[index][['text', 'label']]\n",
        "df_temp.head()"
      ],
      "execution_count": null,
      "outputs": [
        {
          "output_type": "execute_result",
          "data": {
            "text/html": [
              "<div>\n",
              "<style scoped>\n",
              "    .dataframe tbody tr th:only-of-type {\n",
              "        vertical-align: middle;\n",
              "    }\n",
              "\n",
              "    .dataframe tbody tr th {\n",
              "        vertical-align: top;\n",
              "    }\n",
              "\n",
              "    .dataframe thead th {\n",
              "        text-align: right;\n",
              "    }\n",
              "</style>\n",
              "<table border=\"1\" class=\"dataframe\">\n",
              "  <thead>\n",
              "    <tr style=\"text-align: right;\">\n",
              "      <th></th>\n",
              "      <th>text</th>\n",
              "      <th>label</th>\n",
              "    </tr>\n",
              "  </thead>\n",
              "  <tbody>\n",
              "    <tr>\n",
              "      <th>1944</th>\n",
              "      <td>clos plac gav 1 star would not get star food n...</td>\n",
              "      <td>1</td>\n",
              "    </tr>\n",
              "    <tr>\n",
              "      <th>7066</th>\n",
              "      <td>gav plac 1 star mat stock pretty much anyth on...</td>\n",
              "      <td>1</td>\n",
              "    </tr>\n",
              "    <tr>\n",
              "      <th>68853</th>\n",
              "      <td>sãºper limpio el lug los trabajad muy am atent...</td>\n",
              "      <td>1</td>\n",
              "    </tr>\n",
              "    <tr>\n",
              "      <th>47991</th>\n",
              "      <td>drop peach see flo dog beat us immedy took dog...</td>\n",
              "      <td>1</td>\n",
              "    </tr>\n",
              "    <tr>\n",
              "      <th>40807</th>\n",
              "      <td>not return instruct ego big pract cal pract to...</td>\n",
              "      <td>1</td>\n",
              "    </tr>\n",
              "  </tbody>\n",
              "</table>\n",
              "</div>"
            ],
            "text/plain": [
              "                                                    text  label\n",
              "1944   clos plac gav 1 star would not get star food n...      1\n",
              "7066   gav plac 1 star mat stock pretty much anyth on...      1\n",
              "68853  sãºper limpio el lug los trabajad muy am atent...      1\n",
              "47991  drop peach see flo dog beat us immedy took dog...      1\n",
              "40807  not return instruct ego big pract cal pract to...      1"
            ]
          },
          "metadata": {
            "tags": []
          },
          "execution_count": 62
        }
      ]
    },
    {
      "cell_type": "code",
      "metadata": {
        "id": "i_PZN0C6wI5Y",
        "outputId": "329895ab-b334-497e-f6a6-61856cd6d878",
        "colab": {
          "base_uri": "https://localhost:8080/",
          "height": 344
        }
      },
      "source": [
        "# add high confidence prediction to training set\n",
        "df_train = df_train.append(df_temp)\n",
        "df_train.head()"
      ],
      "execution_count": null,
      "outputs": [
        {
          "output_type": "stream",
          "text": [
            "/usr/local/lib/python3.6/dist-packages/pandas/core/frame.py:6692: FutureWarning: Sorting because non-concatenation axis is not aligned. A future version\n",
            "of pandas will change to not sort by default.\n",
            "\n",
            "To accept the future behavior, pass 'sort=False'.\n",
            "\n",
            "To retain the current behavior and silence the warning, pass 'sort=True'.\n",
            "\n",
            "  sort=sort)\n"
          ],
          "name": "stderr"
        },
        {
          "output_type": "execute_result",
          "data": {
            "text/html": [
              "<div>\n",
              "<style scoped>\n",
              "    .dataframe tbody tr th:only-of-type {\n",
              "        vertical-align: middle;\n",
              "    }\n",
              "\n",
              "    .dataframe tbody tr th {\n",
              "        vertical-align: top;\n",
              "    }\n",
              "\n",
              "    .dataframe thead th {\n",
              "        text-align: right;\n",
              "    }\n",
              "</style>\n",
              "<table border=\"1\" class=\"dataframe\">\n",
              "  <thead>\n",
              "    <tr style=\"text-align: right;\">\n",
              "      <th></th>\n",
              "      <th>Unnamed: 0</th>\n",
              "      <th>label</th>\n",
              "      <th>text</th>\n",
              "    </tr>\n",
              "  </thead>\n",
              "  <tbody>\n",
              "    <tr>\n",
              "      <th>56152</th>\n",
              "      <td>NaN</td>\n",
              "      <td>2</td>\n",
              "      <td>wel say gre veal panin lady serv appear own no...</td>\n",
              "    </tr>\n",
              "    <tr>\n",
              "      <th>309170</th>\n",
              "      <td>133601.0</td>\n",
              "      <td>5</td>\n",
              "      <td>best uv tan spray booth alway cle afford quick...</td>\n",
              "    </tr>\n",
              "    <tr>\n",
              "      <th>44156</th>\n",
              "      <td>297338.0</td>\n",
              "      <td>1</td>\n",
              "      <td>first let say would giv dr 50 star could alway...</td>\n",
              "    </tr>\n",
              "    <tr>\n",
              "      <th>430202</th>\n",
              "      <td>330429.0</td>\n",
              "      <td>5</td>\n",
              "      <td>alway fantast plac go cheap qual food laid bac...</td>\n",
              "    </tr>\n",
              "    <tr>\n",
              "      <th>274634</th>\n",
              "      <td>358542.0</td>\n",
              "      <td>5</td>\n",
              "      <td>rouhan man skil dent far supery ev redefin mea...</td>\n",
              "    </tr>\n",
              "  </tbody>\n",
              "</table>\n",
              "</div>"
            ],
            "text/plain": [
              "        Unnamed: 0  label                                               text\n",
              "56152          NaN      2  wel say gre veal panin lady serv appear own no...\n",
              "309170    133601.0      5  best uv tan spray booth alway cle afford quick...\n",
              "44156     297338.0      1  first let say would giv dr 50 star could alway...\n",
              "430202    330429.0      5  alway fantast plac go cheap qual food laid bac...\n",
              "274634    358542.0      5  rouhan man skil dent far supery ev redefin mea..."
            ]
          },
          "metadata": {
            "tags": []
          },
          "execution_count": 63
        }
      ]
    },
    {
      "cell_type": "code",
      "metadata": {
        "id": "u-XPt8qPwRwi",
        "outputId": "28698264-04d9-4c01-cfea-c5368875ba0f",
        "colab": {
          "base_uri": "https://localhost:8080/",
          "height": 198
        }
      },
      "source": [
        "# remove high confidence prediction from unlabel data\n",
        "df_not_trained = df_not_trained.drop(index)\n",
        "df_not_trained.head()"
      ],
      "execution_count": null,
      "outputs": [
        {
          "output_type": "execute_result",
          "data": {
            "text/html": [
              "<div>\n",
              "<style scoped>\n",
              "    .dataframe tbody tr th:only-of-type {\n",
              "        vertical-align: middle;\n",
              "    }\n",
              "\n",
              "    .dataframe tbody tr th {\n",
              "        vertical-align: top;\n",
              "    }\n",
              "\n",
              "    .dataframe thead th {\n",
              "        text-align: right;\n",
              "    }\n",
              "</style>\n",
              "<table border=\"1\" class=\"dataframe\">\n",
              "  <thead>\n",
              "    <tr style=\"text-align: right;\">\n",
              "      <th></th>\n",
              "      <th>text</th>\n",
              "      <th>prob</th>\n",
              "      <th>max_prob</th>\n",
              "      <th>label</th>\n",
              "    </tr>\n",
              "  </thead>\n",
              "  <tbody>\n",
              "    <tr>\n",
              "      <th>0</th>\n",
              "      <td>doct nic got good amount tim feel lik visit ac...</td>\n",
              "      <td>[0.4627424, 0.51589435, 0.0033008088, 0.014111...</td>\n",
              "      <td>0.515894</td>\n",
              "      <td>2</td>\n",
              "    </tr>\n",
              "    <tr>\n",
              "      <th>1</th>\n",
              "      <td>serv step foot wait seat act not feel anyth no...</td>\n",
              "      <td>[0.69868, 0.18008478, 0.10859657, 0.005924075,...</td>\n",
              "      <td>0.698680</td>\n",
              "      <td>1</td>\n",
              "    </tr>\n",
              "    <tr>\n",
              "      <th>4</th>\n",
              "      <td>property us nic own company gree liv 11 month ...</td>\n",
              "      <td>[0.23001027, 0.012529731, 0.0078068837, 0.0276...</td>\n",
              "      <td>0.722014</td>\n",
              "      <td>5</td>\n",
              "    </tr>\n",
              "    <tr>\n",
              "      <th>6</th>\n",
              "      <td>gre hong kong styl off quick meal reason pric ...</td>\n",
              "      <td>[0.0014373701, 0.00816637, 0.29854792, 0.58400...</td>\n",
              "      <td>0.584009</td>\n",
              "      <td>4</td>\n",
              "    </tr>\n",
              "    <tr>\n",
              "      <th>8</th>\n",
              "      <td>mom want com birthday wait unbeliev long took ...</td>\n",
              "      <td>[0.0064362623, 0.07087287, 0.53952414, 0.37213...</td>\n",
              "      <td>0.539524</td>\n",
              "      <td>3</td>\n",
              "    </tr>\n",
              "  </tbody>\n",
              "</table>\n",
              "</div>"
            ],
            "text/plain": [
              "                                                text  ... label\n",
              "0  doct nic got good amount tim feel lik visit ac...  ...     2\n",
              "1  serv step foot wait seat act not feel anyth no...  ...     1\n",
              "4  property us nic own company gree liv 11 month ...  ...     5\n",
              "6  gre hong kong styl off quick meal reason pric ...  ...     4\n",
              "8  mom want com birthday wait unbeliev long took ...  ...     3\n",
              "\n",
              "[5 rows x 4 columns]"
            ]
          },
          "metadata": {
            "tags": []
          },
          "execution_count": 64
        }
      ]
    },
    {
      "cell_type": "code",
      "metadata": {
        "id": "i7w7d0ymwW01",
        "outputId": "b7f97f4c-e19f-45c4-8791-62c2227b055b",
        "colab": {
          "base_uri": "https://localhost:8080/",
          "height": 198
        }
      },
      "source": [
        "# drop the unnecessary columns\n",
        "df_not_trained = df_not_trained.drop(['prob', 'max_prob', 'label'], axis = 1)\n",
        "df_not_trained.head()"
      ],
      "execution_count": null,
      "outputs": [
        {
          "output_type": "execute_result",
          "data": {
            "text/html": [
              "<div>\n",
              "<style scoped>\n",
              "    .dataframe tbody tr th:only-of-type {\n",
              "        vertical-align: middle;\n",
              "    }\n",
              "\n",
              "    .dataframe tbody tr th {\n",
              "        vertical-align: top;\n",
              "    }\n",
              "\n",
              "    .dataframe thead th {\n",
              "        text-align: right;\n",
              "    }\n",
              "</style>\n",
              "<table border=\"1\" class=\"dataframe\">\n",
              "  <thead>\n",
              "    <tr style=\"text-align: right;\">\n",
              "      <th></th>\n",
              "      <th>text</th>\n",
              "    </tr>\n",
              "  </thead>\n",
              "  <tbody>\n",
              "    <tr>\n",
              "      <th>0</th>\n",
              "      <td>doct nic got good amount tim feel lik visit ac...</td>\n",
              "    </tr>\n",
              "    <tr>\n",
              "      <th>1</th>\n",
              "      <td>serv step foot wait seat act not feel anyth no...</td>\n",
              "    </tr>\n",
              "    <tr>\n",
              "      <th>4</th>\n",
              "      <td>property us nic own company gree liv 11 month ...</td>\n",
              "    </tr>\n",
              "    <tr>\n",
              "      <th>6</th>\n",
              "      <td>gre hong kong styl off quick meal reason pric ...</td>\n",
              "    </tr>\n",
              "    <tr>\n",
              "      <th>8</th>\n",
              "      <td>mom want com birthday wait unbeliev long took ...</td>\n",
              "    </tr>\n",
              "  </tbody>\n",
              "</table>\n",
              "</div>"
            ],
            "text/plain": [
              "                                                text\n",
              "0  doct nic got good amount tim feel lik visit ac...\n",
              "1  serv step foot wait seat act not feel anyth no...\n",
              "4  property us nic own company gree liv 11 month ...\n",
              "6  gre hong kong styl off quick meal reason pric ...\n",
              "8  mom want com birthday wait unbeliev long took ..."
            ]
          },
          "metadata": {
            "tags": []
          },
          "execution_count": 65
        }
      ]
    },
    {
      "cell_type": "code",
      "metadata": {
        "id": "QA0GcuoiwdJn"
      },
      "source": [
        "# shuffle train dataframe\n",
        "df_train = df_train.sample(frac=1)"
      ],
      "execution_count": null,
      "outputs": []
    },
    {
      "cell_type": "code",
      "metadata": {
        "id": "KqHA5VHAwhHL"
      },
      "source": [
        "df_train.to_csv('df_train8.csv')\n",
        "!cp df_train8.csv \"/content/gdrive/Shared drives/FIT5149 A2/Joe/\"\n",
        "df_not_trained.to_csv('df_not_trained8.csv')\n",
        "!cp df_not_trained8.csv \"/content/gdrive/Shared drives/FIT5149 A2/Joe/\""
      ],
      "execution_count": null,
      "outputs": []
    }
  ]
}